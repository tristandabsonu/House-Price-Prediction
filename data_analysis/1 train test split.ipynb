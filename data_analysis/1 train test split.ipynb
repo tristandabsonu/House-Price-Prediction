{
 "cells": [
  {
   "cell_type": "code",
   "execution_count": 1,
   "id": "c0a1f9f5",
   "metadata": {},
   "outputs": [],
   "source": [
    "import pandas as pd\n",
    "from sklearn.model_selection import train_test_split"
   ]
  },
  {
   "cell_type": "code",
   "execution_count": 2,
   "id": "511a3847",
   "metadata": {},
   "outputs": [
    {
     "name": "stderr",
     "output_type": "stream",
     "text": [
      "/var/folders/vr/skwvh_8x0gzcmpxx950wbv9c0000gn/T/ipykernel_22541/1861869158.py:2: DtypeWarning: Columns (21) have mixed types. Specify dtype option on import or set low_memory=False.\n",
      "  data = pd.read_csv(f'{path}wa_data.csv')\n"
     ]
    }
   ],
   "source": [
    "path = '/Users/tristangarcia/desktop/hp-pred/data/wa/'\n",
    "data = pd.read_csv(f'{path}wa_data.csv')"
   ]
  },
  {
   "cell_type": "code",
   "execution_count": 3,
   "id": "e0f7434d",
   "metadata": {
    "scrolled": true
   },
   "outputs": [
    {
     "data": {
      "text/plain": [
       "Index(['listingId', 'unitNumber', 'streetNumber', 'street', 'suburb', 'state',\n",
       "       'postcode', 'bathrooms', 'bedrooms', 'parking', 'landArea', 'latitude',\n",
       "       'longitude', 'features', 'agency', 'propertyTypes', 'promoLevel',\n",
       "       'soldMonth', 'soldYear', 'daysListed', 'inspectionsCount', 'isRural',\n",
       "       'hasDescription', 'hasFloorplan', 'hasDisplayPrice', 'hasPhoto',\n",
       "       'photoCount', 'suburb_medianPrice', 'suburb_medianRentPrice',\n",
       "       'suburb_entryLevelPrice', 'suburb_luxuryLevelPrice', 'primary',\n",
       "       'primaryDistance', 'primaryType', 'secondary', 'secondaryDistance',\n",
       "       'secondaryType', 'listingUrl', 'soldPrice'],\n",
       "      dtype='object')"
      ]
     },
     "execution_count": 3,
     "metadata": {},
     "output_type": "execute_result"
    }
   ],
   "source": [
    "data.columns"
   ]
  },
  {
   "cell_type": "code",
   "execution_count": 4,
   "id": "56ef39e0",
   "metadata": {},
   "outputs": [],
   "source": [
    "# Renaming propertyTypes\n",
    "data.rename(columns={'propertyTypes':'propertyType'}, inplace=True)"
   ]
  },
  {
   "cell_type": "code",
   "execution_count": 5,
   "id": "7534a53c",
   "metadata": {},
   "outputs": [],
   "source": [
    "# Removing irrelevant columns. Alot of these columns will be re-added by feature engineering. \n",
    "data.drop(columns=['listingId','unitNumber','state','agency','promoLevel','soldMonth','daysListed','inspectionsCount','isRural',\n",
    "                   'hasDescription','hasFloorplan','hasDisplayPrice','hasPhoto','photoCount','suburb_medianPrice','suburb_medianRentPrice',\n",
    "                   'suburb_entryLevelPrice','suburb_luxuryLevelPrice','primary','primaryDistance','primaryType',\n",
    "                   'secondary','secondaryDistance','secondaryType','listingUrl'], inplace=True)"
   ]
  },
  {
   "cell_type": "markdown",
   "id": "8f7ab15a",
   "metadata": {},
   "source": [
    "# SPLIT"
   ]
  },
  {
   "cell_type": "code",
   "execution_count": 6,
   "id": "e21f6c63",
   "metadata": {},
   "outputs": [],
   "source": [
    "# train test split\n",
    "train,test = train_test_split(data, test_size=0.3, random_state=222, shuffle=True)\n",
    "# validation split\n",
    "validation,test = train_test_split(test, test_size=0.5, random_state=222, shuffle=True)"
   ]
  },
  {
   "cell_type": "markdown",
   "id": "1e4bd86a",
   "metadata": {},
   "source": [
    "# Train"
   ]
  },
  {
   "cell_type": "code",
   "execution_count": 7,
   "id": "4195b3f5",
   "metadata": {},
   "outputs": [
    {
     "data": {
      "text/plain": [
       "(132522, 14)"
      ]
     },
     "execution_count": 7,
     "metadata": {},
     "output_type": "execute_result"
    }
   ],
   "source": [
    "train.shape"
   ]
  },
  {
   "cell_type": "code",
   "execution_count": 8,
   "id": "6c7bef91",
   "metadata": {
    "scrolled": true
   },
   "outputs": [
    {
     "data": {
      "text/html": [
       "<div>\n",
       "<style scoped>\n",
       "    .dataframe tbody tr th:only-of-type {\n",
       "        vertical-align: middle;\n",
       "    }\n",
       "\n",
       "    .dataframe tbody tr th {\n",
       "        vertical-align: top;\n",
       "    }\n",
       "\n",
       "    .dataframe thead th {\n",
       "        text-align: right;\n",
       "    }\n",
       "</style>\n",
       "<table border=\"1\" class=\"dataframe\">\n",
       "  <thead>\n",
       "    <tr style=\"text-align: right;\">\n",
       "      <th></th>\n",
       "      <th>streetNumber</th>\n",
       "      <th>street</th>\n",
       "      <th>suburb</th>\n",
       "      <th>postcode</th>\n",
       "      <th>bathrooms</th>\n",
       "      <th>bedrooms</th>\n",
       "      <th>parking</th>\n",
       "      <th>landArea</th>\n",
       "      <th>latitude</th>\n",
       "      <th>longitude</th>\n",
       "      <th>features</th>\n",
       "      <th>propertyType</th>\n",
       "      <th>soldYear</th>\n",
       "      <th>soldPrice</th>\n",
       "    </tr>\n",
       "  </thead>\n",
       "  <tbody>\n",
       "    <tr>\n",
       "      <th>132412</th>\n",
       "      <td>18</td>\n",
       "      <td>Townsend Road</td>\n",
       "      <td>Rockingham</td>\n",
       "      <td>6168.0</td>\n",
       "      <td>2</td>\n",
       "      <td>4</td>\n",
       "      <td>3</td>\n",
       "      <td>684.0</td>\n",
       "      <td>-32.287532</td>\n",
       "      <td>115.730129</td>\n",
       "      <td>NaN</td>\n",
       "      <td>House</td>\n",
       "      <td>2022.0</td>\n",
       "      <td>537500.0</td>\n",
       "    </tr>\n",
       "    <tr>\n",
       "      <th>80502</th>\n",
       "      <td>90</td>\n",
       "      <td>Oats Street</td>\n",
       "      <td>Carlisle</td>\n",
       "      <td>6101.0</td>\n",
       "      <td>1</td>\n",
       "      <td>3</td>\n",
       "      <td>2</td>\n",
       "      <td>328.0</td>\n",
       "      <td>-31.985069</td>\n",
       "      <td>115.919821</td>\n",
       "      <td>['Air Conditioning', 'Close to Schools', 'Clos...</td>\n",
       "      <td>House</td>\n",
       "      <td>2017.0</td>\n",
       "      <td>398000.0</td>\n",
       "    </tr>\n",
       "    <tr>\n",
       "      <th>103740</th>\n",
       "      <td>1</td>\n",
       "      <td>McKivett Crescent</td>\n",
       "      <td>Leeming</td>\n",
       "      <td>6149.0</td>\n",
       "      <td>2</td>\n",
       "      <td>4</td>\n",
       "      <td>2</td>\n",
       "      <td>NaN</td>\n",
       "      <td>-32.080012</td>\n",
       "      <td>115.852985</td>\n",
       "      <td>NaN</td>\n",
       "      <td>House</td>\n",
       "      <td>2019.0</td>\n",
       "      <td>635000.0</td>\n",
       "    </tr>\n",
       "    <tr>\n",
       "      <th>29035</th>\n",
       "      <td>72</td>\n",
       "      <td>Oceanside Promenade</td>\n",
       "      <td>Mullaloo</td>\n",
       "      <td>6027.0</td>\n",
       "      <td>2</td>\n",
       "      <td>6</td>\n",
       "      <td>2</td>\n",
       "      <td>719.0</td>\n",
       "      <td>-31.777956</td>\n",
       "      <td>115.733920</td>\n",
       "      <td>['Air conditioning', 'Balcony / Deck', 'Built ...</td>\n",
       "      <td>House</td>\n",
       "      <td>2023.0</td>\n",
       "      <td>2025000.0</td>\n",
       "    </tr>\n",
       "    <tr>\n",
       "      <th>58987</th>\n",
       "      <td>19</td>\n",
       "      <td>Raymond Street</td>\n",
       "      <td>Yokine</td>\n",
       "      <td>6060.0</td>\n",
       "      <td>1</td>\n",
       "      <td>2</td>\n",
       "      <td>1</td>\n",
       "      <td>62.0</td>\n",
       "      <td>-31.898329</td>\n",
       "      <td>115.842957</td>\n",
       "      <td>NaN</td>\n",
       "      <td>Apartment</td>\n",
       "      <td>2022.0</td>\n",
       "      <td>220000.0</td>\n",
       "    </tr>\n",
       "  </tbody>\n",
       "</table>\n",
       "</div>"
      ],
      "text/plain": [
       "       streetNumber               street      suburb  postcode  bathrooms  \\\n",
       "132412           18        Townsend Road  Rockingham    6168.0          2   \n",
       "80502            90          Oats Street    Carlisle    6101.0          1   \n",
       "103740            1    McKivett Crescent     Leeming    6149.0          2   \n",
       "29035            72  Oceanside Promenade    Mullaloo    6027.0          2   \n",
       "58987            19       Raymond Street      Yokine    6060.0          1   \n",
       "\n",
       "        bedrooms  parking  landArea   latitude   longitude  \\\n",
       "132412         4        3     684.0 -32.287532  115.730129   \n",
       "80502          3        2     328.0 -31.985069  115.919821   \n",
       "103740         4        2       NaN -32.080012  115.852985   \n",
       "29035          6        2     719.0 -31.777956  115.733920   \n",
       "58987          2        1      62.0 -31.898329  115.842957   \n",
       "\n",
       "                                                 features propertyType  \\\n",
       "132412                                                NaN        House   \n",
       "80502   ['Air Conditioning', 'Close to Schools', 'Clos...        House   \n",
       "103740                                                NaN        House   \n",
       "29035   ['Air conditioning', 'Balcony / Deck', 'Built ...        House   \n",
       "58987                                                 NaN    Apartment   \n",
       "\n",
       "        soldYear  soldPrice  \n",
       "132412    2022.0   537500.0  \n",
       "80502     2017.0   398000.0  \n",
       "103740    2019.0   635000.0  \n",
       "29035     2023.0  2025000.0  \n",
       "58987     2022.0   220000.0  "
      ]
     },
     "execution_count": 8,
     "metadata": {},
     "output_type": "execute_result"
    }
   ],
   "source": [
    "train.head()"
   ]
  },
  {
   "cell_type": "markdown",
   "id": "45991387",
   "metadata": {},
   "source": [
    "# Validation"
   ]
  },
  {
   "cell_type": "code",
   "execution_count": 9,
   "id": "85e25f39",
   "metadata": {},
   "outputs": [
    {
     "data": {
      "text/plain": [
       "(28398, 14)"
      ]
     },
     "execution_count": 9,
     "metadata": {},
     "output_type": "execute_result"
    }
   ],
   "source": [
    "validation.shape"
   ]
  },
  {
   "cell_type": "code",
   "execution_count": 10,
   "id": "ffc279c0",
   "metadata": {},
   "outputs": [
    {
     "data": {
      "text/html": [
       "<div>\n",
       "<style scoped>\n",
       "    .dataframe tbody tr th:only-of-type {\n",
       "        vertical-align: middle;\n",
       "    }\n",
       "\n",
       "    .dataframe tbody tr th {\n",
       "        vertical-align: top;\n",
       "    }\n",
       "\n",
       "    .dataframe thead th {\n",
       "        text-align: right;\n",
       "    }\n",
       "</style>\n",
       "<table border=\"1\" class=\"dataframe\">\n",
       "  <thead>\n",
       "    <tr style=\"text-align: right;\">\n",
       "      <th></th>\n",
       "      <th>streetNumber</th>\n",
       "      <th>street</th>\n",
       "      <th>suburb</th>\n",
       "      <th>postcode</th>\n",
       "      <th>bathrooms</th>\n",
       "      <th>bedrooms</th>\n",
       "      <th>parking</th>\n",
       "      <th>landArea</th>\n",
       "      <th>latitude</th>\n",
       "      <th>longitude</th>\n",
       "      <th>features</th>\n",
       "      <th>propertyType</th>\n",
       "      <th>soldYear</th>\n",
       "      <th>soldPrice</th>\n",
       "    </tr>\n",
       "  </thead>\n",
       "  <tbody>\n",
       "    <tr>\n",
       "      <th>185546</th>\n",
       "      <td>5</td>\n",
       "      <td>Butler Way</td>\n",
       "      <td>Port Hedland</td>\n",
       "      <td>6721.0</td>\n",
       "      <td>2</td>\n",
       "      <td>4</td>\n",
       "      <td>2</td>\n",
       "      <td>697.0</td>\n",
       "      <td>-20.318749</td>\n",
       "      <td>118.643571</td>\n",
       "      <td>['Additional Parking', 'Air conditioning', 'Bu...</td>\n",
       "      <td>House</td>\n",
       "      <td>2022.0</td>\n",
       "      <td>910000.0</td>\n",
       "    </tr>\n",
       "    <tr>\n",
       "      <th>153403</th>\n",
       "      <td>19</td>\n",
       "      <td>Boyalla Street</td>\n",
       "      <td>Carey Park</td>\n",
       "      <td>6230.0</td>\n",
       "      <td>1</td>\n",
       "      <td>3</td>\n",
       "      <td>1</td>\n",
       "      <td>416.0</td>\n",
       "      <td>-33.350097</td>\n",
       "      <td>115.657813</td>\n",
       "      <td>NaN</td>\n",
       "      <td>House</td>\n",
       "      <td>2021.0</td>\n",
       "      <td>192000.0</td>\n",
       "    </tr>\n",
       "    <tr>\n",
       "      <th>105763</th>\n",
       "      <td>91B</td>\n",
       "      <td>Thelma Street</td>\n",
       "      <td>Como</td>\n",
       "      <td>6152.0</td>\n",
       "      <td>2</td>\n",
       "      <td>4</td>\n",
       "      <td>3</td>\n",
       "      <td>712.0</td>\n",
       "      <td>-31.996666</td>\n",
       "      <td>115.869440</td>\n",
       "      <td>['Solar Panels', 'Built-In Robes', 'Dishwasher...</td>\n",
       "      <td>House</td>\n",
       "      <td>2024.0</td>\n",
       "      <td>1830000.0</td>\n",
       "    </tr>\n",
       "    <tr>\n",
       "      <th>107204</th>\n",
       "      <td>14C</td>\n",
       "      <td>Anthus Corner</td>\n",
       "      <td>Waterford</td>\n",
       "      <td>6152.0</td>\n",
       "      <td>3</td>\n",
       "      <td>4</td>\n",
       "      <td>2</td>\n",
       "      <td>NaN</td>\n",
       "      <td>-32.013882</td>\n",
       "      <td>115.898411</td>\n",
       "      <td>NaN</td>\n",
       "      <td>House</td>\n",
       "      <td>2022.0</td>\n",
       "      <td>755000.0</td>\n",
       "    </tr>\n",
       "    <tr>\n",
       "      <th>55640</th>\n",
       "      <td>23</td>\n",
       "      <td>Warda Crescent</td>\n",
       "      <td>Forrestfield</td>\n",
       "      <td>6058.0</td>\n",
       "      <td>2</td>\n",
       "      <td>4</td>\n",
       "      <td>3</td>\n",
       "      <td>657.0</td>\n",
       "      <td>-31.971957</td>\n",
       "      <td>116.006453</td>\n",
       "      <td>NaN</td>\n",
       "      <td>House</td>\n",
       "      <td>2022.0</td>\n",
       "      <td>700000.0</td>\n",
       "    </tr>\n",
       "  </tbody>\n",
       "</table>\n",
       "</div>"
      ],
      "text/plain": [
       "       streetNumber          street        suburb  postcode  bathrooms  \\\n",
       "185546            5      Butler Way  Port Hedland    6721.0          2   \n",
       "153403           19  Boyalla Street    Carey Park    6230.0          1   \n",
       "105763          91B   Thelma Street          Como    6152.0          2   \n",
       "107204          14C   Anthus Corner     Waterford    6152.0          3   \n",
       "55640            23  Warda Crescent  Forrestfield    6058.0          2   \n",
       "\n",
       "        bedrooms  parking  landArea   latitude   longitude  \\\n",
       "185546         4        2     697.0 -20.318749  118.643571   \n",
       "153403         3        1     416.0 -33.350097  115.657813   \n",
       "105763         4        3     712.0 -31.996666  115.869440   \n",
       "107204         4        2       NaN -32.013882  115.898411   \n",
       "55640          4        3     657.0 -31.971957  116.006453   \n",
       "\n",
       "                                                 features propertyType  \\\n",
       "185546  ['Additional Parking', 'Air conditioning', 'Bu...        House   \n",
       "153403                                                NaN        House   \n",
       "105763  ['Solar Panels', 'Built-In Robes', 'Dishwasher...        House   \n",
       "107204                                                NaN        House   \n",
       "55640                                                 NaN        House   \n",
       "\n",
       "        soldYear  soldPrice  \n",
       "185546    2022.0   910000.0  \n",
       "153403    2021.0   192000.0  \n",
       "105763    2024.0  1830000.0  \n",
       "107204    2022.0   755000.0  \n",
       "55640     2022.0   700000.0  "
      ]
     },
     "execution_count": 10,
     "metadata": {},
     "output_type": "execute_result"
    }
   ],
   "source": [
    "validation.head()"
   ]
  },
  {
   "cell_type": "markdown",
   "id": "2db25330",
   "metadata": {},
   "source": [
    "# Test"
   ]
  },
  {
   "cell_type": "code",
   "execution_count": 11,
   "id": "a1b2b14d",
   "metadata": {},
   "outputs": [
    {
     "data": {
      "text/plain": [
       "(28398, 14)"
      ]
     },
     "execution_count": 11,
     "metadata": {},
     "output_type": "execute_result"
    }
   ],
   "source": [
    "test.shape"
   ]
  },
  {
   "cell_type": "code",
   "execution_count": 12,
   "id": "191a8b2a",
   "metadata": {},
   "outputs": [
    {
     "data": {
      "text/html": [
       "<div>\n",
       "<style scoped>\n",
       "    .dataframe tbody tr th:only-of-type {\n",
       "        vertical-align: middle;\n",
       "    }\n",
       "\n",
       "    .dataframe tbody tr th {\n",
       "        vertical-align: top;\n",
       "    }\n",
       "\n",
       "    .dataframe thead th {\n",
       "        text-align: right;\n",
       "    }\n",
       "</style>\n",
       "<table border=\"1\" class=\"dataframe\">\n",
       "  <thead>\n",
       "    <tr style=\"text-align: right;\">\n",
       "      <th></th>\n",
       "      <th>streetNumber</th>\n",
       "      <th>street</th>\n",
       "      <th>suburb</th>\n",
       "      <th>postcode</th>\n",
       "      <th>bathrooms</th>\n",
       "      <th>bedrooms</th>\n",
       "      <th>parking</th>\n",
       "      <th>landArea</th>\n",
       "      <th>latitude</th>\n",
       "      <th>longitude</th>\n",
       "      <th>features</th>\n",
       "      <th>propertyType</th>\n",
       "      <th>soldYear</th>\n",
       "      <th>soldPrice</th>\n",
       "    </tr>\n",
       "  </thead>\n",
       "  <tbody>\n",
       "    <tr>\n",
       "      <th>134383</th>\n",
       "      <td>13</td>\n",
       "      <td>Porpoise Grove</td>\n",
       "      <td>Waikiki</td>\n",
       "      <td>6169.0</td>\n",
       "      <td>1</td>\n",
       "      <td>3</td>\n",
       "      <td>3</td>\n",
       "      <td>704.0</td>\n",
       "      <td>-32.312734</td>\n",
       "      <td>115.744737</td>\n",
       "      <td>['Close to Schools', 'Close to Shops', 'Close ...</td>\n",
       "      <td>House</td>\n",
       "      <td>2021.0</td>\n",
       "      <td>355000.0</td>\n",
       "    </tr>\n",
       "    <tr>\n",
       "      <th>128253</th>\n",
       "      <td>78B</td>\n",
       "      <td>Centennial Avenue</td>\n",
       "      <td>Bertram</td>\n",
       "      <td>6167.0</td>\n",
       "      <td>2</td>\n",
       "      <td>4</td>\n",
       "      <td>4</td>\n",
       "      <td>524.0</td>\n",
       "      <td>-32.252562</td>\n",
       "      <td>115.851044</td>\n",
       "      <td>NaN</td>\n",
       "      <td>House</td>\n",
       "      <td>2023.0</td>\n",
       "      <td>488000.0</td>\n",
       "    </tr>\n",
       "    <tr>\n",
       "      <th>25843</th>\n",
       "      <td>4</td>\n",
       "      <td>Neptune Gardens</td>\n",
       "      <td>Beldon</td>\n",
       "      <td>6027.0</td>\n",
       "      <td>1</td>\n",
       "      <td>3</td>\n",
       "      <td>1</td>\n",
       "      <td>701.0</td>\n",
       "      <td>-31.776680</td>\n",
       "      <td>115.761934</td>\n",
       "      <td>NaN</td>\n",
       "      <td>House</td>\n",
       "      <td>2021.0</td>\n",
       "      <td>515000.0</td>\n",
       "    </tr>\n",
       "    <tr>\n",
       "      <th>127319</th>\n",
       "      <td>317</td>\n",
       "      <td>Mandogalup Road</td>\n",
       "      <td>Hope Valley</td>\n",
       "      <td>6165.0</td>\n",
       "      <td>2</td>\n",
       "      <td>2</td>\n",
       "      <td>2</td>\n",
       "      <td>20200.0</td>\n",
       "      <td>-32.186643</td>\n",
       "      <td>115.825476</td>\n",
       "      <td>NaN</td>\n",
       "      <td>House</td>\n",
       "      <td>2024.0</td>\n",
       "      <td>1265000.0</td>\n",
       "    </tr>\n",
       "    <tr>\n",
       "      <th>151032</th>\n",
       "      <td>7</td>\n",
       "      <td>Kealy Street</td>\n",
       "      <td>Harvey</td>\n",
       "      <td>6220.0</td>\n",
       "      <td>1</td>\n",
       "      <td>3</td>\n",
       "      <td>1</td>\n",
       "      <td>702.0</td>\n",
       "      <td>-33.084058</td>\n",
       "      <td>115.889397</td>\n",
       "      <td>NaN</td>\n",
       "      <td>House</td>\n",
       "      <td>2023.0</td>\n",
       "      <td>332000.0</td>\n",
       "    </tr>\n",
       "  </tbody>\n",
       "</table>\n",
       "</div>"
      ],
      "text/plain": [
       "       streetNumber             street       suburb  postcode  bathrooms  \\\n",
       "134383           13     Porpoise Grove      Waikiki    6169.0          1   \n",
       "128253          78B  Centennial Avenue      Bertram    6167.0          2   \n",
       "25843             4    Neptune Gardens       Beldon    6027.0          1   \n",
       "127319          317    Mandogalup Road  Hope Valley    6165.0          2   \n",
       "151032            7       Kealy Street       Harvey    6220.0          1   \n",
       "\n",
       "        bedrooms  parking  landArea   latitude   longitude  \\\n",
       "134383         3        3     704.0 -32.312734  115.744737   \n",
       "128253         4        4     524.0 -32.252562  115.851044   \n",
       "25843          3        1     701.0 -31.776680  115.761934   \n",
       "127319         2        2   20200.0 -32.186643  115.825476   \n",
       "151032         3        1     702.0 -33.084058  115.889397   \n",
       "\n",
       "                                                 features propertyType  \\\n",
       "134383  ['Close to Schools', 'Close to Shops', 'Close ...        House   \n",
       "128253                                                NaN        House   \n",
       "25843                                                 NaN        House   \n",
       "127319                                                NaN        House   \n",
       "151032                                                NaN        House   \n",
       "\n",
       "        soldYear  soldPrice  \n",
       "134383    2021.0   355000.0  \n",
       "128253    2023.0   488000.0  \n",
       "25843     2021.0   515000.0  \n",
       "127319    2024.0  1265000.0  \n",
       "151032    2023.0   332000.0  "
      ]
     },
     "execution_count": 12,
     "metadata": {},
     "output_type": "execute_result"
    }
   ],
   "source": [
    "test.head()"
   ]
  },
  {
   "cell_type": "markdown",
   "id": "19511085",
   "metadata": {},
   "source": [
    "# Writing to csv"
   ]
  },
  {
   "cell_type": "code",
   "execution_count": 13,
   "id": "c13d098d",
   "metadata": {},
   "outputs": [],
   "source": [
    "train.to_csv(f'{path}wa_train.csv', index=False)\n",
    "validation.to_csv(f'{path}wa_validation.csv', index=False)\n",
    "test.to_csv(f'{path}wa_test.csv', index=False)"
   ]
  },
  {
   "cell_type": "code",
   "execution_count": 14,
   "id": "b04b8b84",
   "metadata": {},
   "outputs": [
    {
     "data": {
      "text/plain": [
       "Index(['streetNumber', 'street', 'suburb', 'postcode', 'bathrooms', 'bedrooms',\n",
       "       'parking', 'landArea', 'latitude', 'longitude', 'features',\n",
       "       'propertyType', 'soldYear', 'soldPrice'],\n",
       "      dtype='object')"
      ]
     },
     "execution_count": 14,
     "metadata": {},
     "output_type": "execute_result"
    }
   ],
   "source": [
    "train.columns"
   ]
  },
  {
   "cell_type": "code",
   "execution_count": null,
   "id": "561dbf17",
   "metadata": {},
   "outputs": [],
   "source": []
  }
 ],
 "metadata": {
  "kernelspec": {
   "display_name": "Python 3",
   "language": "python",
   "name": "python3"
  },
  "language_info": {
   "codemirror_mode": {
    "name": "ipython",
    "version": 3
   },
   "file_extension": ".py",
   "mimetype": "text/x-python",
   "name": "python",
   "nbconvert_exporter": "python",
   "pygments_lexer": "ipython3",
   "version": "3.11.2"
  }
 },
 "nbformat": 4,
 "nbformat_minor": 5
}
