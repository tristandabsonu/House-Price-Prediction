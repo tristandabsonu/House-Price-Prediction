{
 "cells": [
  {
   "cell_type": "code",
   "execution_count": 1,
   "id": "c0a1f9f5",
   "metadata": {},
   "outputs": [],
   "source": [
    "import pandas as pd\n",
    "from sklearn.model_selection import train_test_split"
   ]
  },
  {
   "cell_type": "code",
   "execution_count": 2,
   "id": "511a3847",
   "metadata": {},
   "outputs": [
    {
     "name": "stderr",
     "output_type": "stream",
     "text": [
      "/var/folders/vr/skwvh_8x0gzcmpxx950wbv9c0000gn/T/ipykernel_67748/3833328733.py:2: DtypeWarning: Columns (21) have mixed types. Specify dtype option on import or set low_memory=False.\n",
      "  data = pd.read_csv(f'{path}wa_data.csv')\n"
     ]
    }
   ],
   "source": [
    "path = '/Users/tristangarcia/desktop/hp-pred_data/data/wa_data/'\n",
    "data = pd.read_csv(f'{path}wa_data.csv')"
   ]
  },
  {
   "cell_type": "code",
   "execution_count": 3,
   "id": "e0f7434d",
   "metadata": {
    "scrolled": true
   },
   "outputs": [
    {
     "data": {
      "text/plain": [
       "Index(['listingId', 'unitNumber', 'streetNumber', 'street', 'suburb', 'state',\n",
       "       'postcode', 'bathrooms', 'bedrooms', 'parking', 'landArea', 'latitude',\n",
       "       'longitude', 'features', 'agency', 'propertyTypes', 'promoLevel',\n",
       "       'soldMonth', 'soldYear', 'daysListed', 'inspectionsCount', 'isRural',\n",
       "       'hasDescription', 'hasFloorplan', 'hasDisplayPrice', 'hasPhoto',\n",
       "       'photoCount', 'suburb_medianPrice', 'suburb_medianRentPrice',\n",
       "       'suburb_entryLevelPrice', 'suburb_luxuryLevelPrice', 'primary',\n",
       "       'primaryDistance', 'primaryType', 'secondary', 'secondaryDistance',\n",
       "       'secondaryType', 'listingUrl', 'soldPrice'],\n",
       "      dtype='object')"
      ]
     },
     "execution_count": 3,
     "metadata": {},
     "output_type": "execute_result"
    }
   ],
   "source": [
    "data.columns"
   ]
  },
  {
   "cell_type": "code",
   "execution_count": 4,
   "id": "56ef39e0",
   "metadata": {},
   "outputs": [],
   "source": [
    "# Renaming propertyTypes\n",
    "data.rename(columns={'propertyTypes':'propertyType'}, inplace=True)"
   ]
  },
  {
   "cell_type": "code",
   "execution_count": 5,
   "id": "7534a53c",
   "metadata": {},
   "outputs": [],
   "source": [
    "# Removing irrelevant columns. Alot of these columns will be re-added by feature engineering. \n",
    "data.drop(columns=['listingId','unitNumber','streetNumber','street','postcode','state','agency','promoLevel',\n",
    "                   'soldMonth','daysListed','inspectionsCount','isRural','hasDescription','hasFloorplan',\n",
    "                   'hasDisplayPrice','hasPhoto','photoCount','suburb_medianPrice','suburb_medianRentPrice',\n",
    "                   'suburb_entryLevelPrice','suburb_luxuryLevelPrice','primary','primaryDistance','primaryType',\n",
    "                   'secondary','secondaryDistance','secondaryType','listingUrl'], inplace=True)"
   ]
  },
  {
   "cell_type": "markdown",
   "id": "8f7ab15a",
   "metadata": {},
   "source": [
    "# SPLIT"
   ]
  },
  {
   "cell_type": "code",
   "execution_count": 6,
   "id": "e21f6c63",
   "metadata": {},
   "outputs": [],
   "source": [
    "# train test split\n",
    "train,test = train_test_split(data, test_size=0.3, random_state=222, shuffle=True)\n",
    "# validation split\n",
    "validation,test = train_test_split(test, test_size=0.5, random_state=222, shuffle=True)"
   ]
  },
  {
   "cell_type": "markdown",
   "id": "1e4bd86a",
   "metadata": {},
   "source": [
    "# Train"
   ]
  },
  {
   "cell_type": "code",
   "execution_count": 7,
   "id": "4195b3f5",
   "metadata": {},
   "outputs": [
    {
     "data": {
      "text/plain": [
       "(81106, 11)"
      ]
     },
     "execution_count": 7,
     "metadata": {},
     "output_type": "execute_result"
    }
   ],
   "source": [
    "train.shape"
   ]
  },
  {
   "cell_type": "code",
   "execution_count": 8,
   "id": "6c7bef91",
   "metadata": {
    "scrolled": true
   },
   "outputs": [
    {
     "data": {
      "text/html": [
       "<div>\n",
       "<style scoped>\n",
       "    .dataframe tbody tr th:only-of-type {\n",
       "        vertical-align: middle;\n",
       "    }\n",
       "\n",
       "    .dataframe tbody tr th {\n",
       "        vertical-align: top;\n",
       "    }\n",
       "\n",
       "    .dataframe thead th {\n",
       "        text-align: right;\n",
       "    }\n",
       "</style>\n",
       "<table border=\"1\" class=\"dataframe\">\n",
       "  <thead>\n",
       "    <tr style=\"text-align: right;\">\n",
       "      <th></th>\n",
       "      <th>suburb</th>\n",
       "      <th>bathrooms</th>\n",
       "      <th>bedrooms</th>\n",
       "      <th>parking</th>\n",
       "      <th>landArea</th>\n",
       "      <th>latitude</th>\n",
       "      <th>longitude</th>\n",
       "      <th>features</th>\n",
       "      <th>propertyType</th>\n",
       "      <th>soldYear</th>\n",
       "      <th>soldPrice</th>\n",
       "    </tr>\n",
       "  </thead>\n",
       "  <tbody>\n",
       "    <tr>\n",
       "      <th>101048</th>\n",
       "      <td>Porongurup</td>\n",
       "      <td>1</td>\n",
       "      <td>3</td>\n",
       "      <td>3</td>\n",
       "      <td>165700.0</td>\n",
       "      <td>NaN</td>\n",
       "      <td>NaN</td>\n",
       "      <td>NaN</td>\n",
       "      <td>House</td>\n",
       "      <td>2023.0</td>\n",
       "      <td>700000.0</td>\n",
       "    </tr>\n",
       "    <tr>\n",
       "      <th>44369</th>\n",
       "      <td>Ballajura</td>\n",
       "      <td>3</td>\n",
       "      <td>5</td>\n",
       "      <td>2</td>\n",
       "      <td>NaN</td>\n",
       "      <td>-31.827344</td>\n",
       "      <td>115.885659</td>\n",
       "      <td>['Air Conditioning', 'Built-In Wardrobes', 'Cl...</td>\n",
       "      <td>House</td>\n",
       "      <td>2017.0</td>\n",
       "      <td>415000.0</td>\n",
       "    </tr>\n",
       "    <tr>\n",
       "      <th>51125</th>\n",
       "      <td>Bentley</td>\n",
       "      <td>1</td>\n",
       "      <td>2</td>\n",
       "      <td>1</td>\n",
       "      <td>94.0</td>\n",
       "      <td>-32.010395</td>\n",
       "      <td>115.922793</td>\n",
       "      <td>NaN</td>\n",
       "      <td>Apartment</td>\n",
       "      <td>2021.0</td>\n",
       "      <td>315000.0</td>\n",
       "    </tr>\n",
       "    <tr>\n",
       "      <th>89695</th>\n",
       "      <td>Waroona</td>\n",
       "      <td>1</td>\n",
       "      <td>3</td>\n",
       "      <td>6</td>\n",
       "      <td>1663.0</td>\n",
       "      <td>-32.846762</td>\n",
       "      <td>115.921622</td>\n",
       "      <td>NaN</td>\n",
       "      <td>House</td>\n",
       "      <td>2023.0</td>\n",
       "      <td>280000.0</td>\n",
       "    </tr>\n",
       "    <tr>\n",
       "      <th>73439</th>\n",
       "      <td>Fremantle</td>\n",
       "      <td>1</td>\n",
       "      <td>1</td>\n",
       "      <td>1</td>\n",
       "      <td>NaN</td>\n",
       "      <td>-32.054933</td>\n",
       "      <td>115.743772</td>\n",
       "      <td>['Air Conditioning', 'Heating', 'Built-In Ward...</td>\n",
       "      <td>Apartment</td>\n",
       "      <td>2023.0</td>\n",
       "      <td>545000.0</td>\n",
       "    </tr>\n",
       "  </tbody>\n",
       "</table>\n",
       "</div>"
      ],
      "text/plain": [
       "            suburb  bathrooms  bedrooms  parking  landArea   latitude  \\\n",
       "101048  Porongurup          1         3        3  165700.0        NaN   \n",
       "44369    Ballajura          3         5        2       NaN -31.827344   \n",
       "51125      Bentley          1         2        1      94.0 -32.010395   \n",
       "89695      Waroona          1         3        6    1663.0 -32.846762   \n",
       "73439    Fremantle          1         1        1       NaN -32.054933   \n",
       "\n",
       "         longitude                                           features  \\\n",
       "101048         NaN                                                NaN   \n",
       "44369   115.885659  ['Air Conditioning', 'Built-In Wardrobes', 'Cl...   \n",
       "51125   115.922793                                                NaN   \n",
       "89695   115.921622                                                NaN   \n",
       "73439   115.743772  ['Air Conditioning', 'Heating', 'Built-In Ward...   \n",
       "\n",
       "       propertyType  soldYear  soldPrice  \n",
       "101048        House    2023.0   700000.0  \n",
       "44369         House    2017.0   415000.0  \n",
       "51125     Apartment    2021.0   315000.0  \n",
       "89695         House    2023.0   280000.0  \n",
       "73439     Apartment    2023.0   545000.0  "
      ]
     },
     "execution_count": 8,
     "metadata": {},
     "output_type": "execute_result"
    }
   ],
   "source": [
    "train.head()"
   ]
  },
  {
   "cell_type": "markdown",
   "id": "45991387",
   "metadata": {},
   "source": [
    "# Validation"
   ]
  },
  {
   "cell_type": "code",
   "execution_count": 9,
   "id": "85e25f39",
   "metadata": {},
   "outputs": [
    {
     "data": {
      "text/plain": [
       "(17380, 11)"
      ]
     },
     "execution_count": 9,
     "metadata": {},
     "output_type": "execute_result"
    }
   ],
   "source": [
    "validation.shape"
   ]
  },
  {
   "cell_type": "code",
   "execution_count": 10,
   "id": "ffc279c0",
   "metadata": {},
   "outputs": [
    {
     "data": {
      "text/html": [
       "<div>\n",
       "<style scoped>\n",
       "    .dataframe tbody tr th:only-of-type {\n",
       "        vertical-align: middle;\n",
       "    }\n",
       "\n",
       "    .dataframe tbody tr th {\n",
       "        vertical-align: top;\n",
       "    }\n",
       "\n",
       "    .dataframe thead th {\n",
       "        text-align: right;\n",
       "    }\n",
       "</style>\n",
       "<table border=\"1\" class=\"dataframe\">\n",
       "  <thead>\n",
       "    <tr style=\"text-align: right;\">\n",
       "      <th></th>\n",
       "      <th>suburb</th>\n",
       "      <th>bathrooms</th>\n",
       "      <th>bedrooms</th>\n",
       "      <th>parking</th>\n",
       "      <th>landArea</th>\n",
       "      <th>latitude</th>\n",
       "      <th>longitude</th>\n",
       "      <th>features</th>\n",
       "      <th>propertyType</th>\n",
       "      <th>soldYear</th>\n",
       "      <th>soldPrice</th>\n",
       "    </tr>\n",
       "  </thead>\n",
       "  <tbody>\n",
       "    <tr>\n",
       "      <th>13562</th>\n",
       "      <td>Carine</td>\n",
       "      <td>2</td>\n",
       "      <td>4</td>\n",
       "      <td>2</td>\n",
       "      <td>708.0</td>\n",
       "      <td>-31.849761</td>\n",
       "      <td>115.795404</td>\n",
       "      <td>NaN</td>\n",
       "      <td>House</td>\n",
       "      <td>2023.0</td>\n",
       "      <td>885000.0</td>\n",
       "    </tr>\n",
       "    <tr>\n",
       "      <th>83548</th>\n",
       "      <td>Port Kennedy</td>\n",
       "      <td>1</td>\n",
       "      <td>3</td>\n",
       "      <td>1</td>\n",
       "      <td>267.0</td>\n",
       "      <td>-32.351767</td>\n",
       "      <td>115.749453</td>\n",
       "      <td>['Air conditioning', 'Built in wardrobes', 'Se...</td>\n",
       "      <td>House</td>\n",
       "      <td>2021.0</td>\n",
       "      <td>335000.0</td>\n",
       "    </tr>\n",
       "    <tr>\n",
       "      <th>109067</th>\n",
       "      <td>Glenfield</td>\n",
       "      <td>2</td>\n",
       "      <td>4</td>\n",
       "      <td>2</td>\n",
       "      <td>580.0</td>\n",
       "      <td>-28.682568</td>\n",
       "      <td>114.614329</td>\n",
       "      <td>NaN</td>\n",
       "      <td>House</td>\n",
       "      <td>2021.0</td>\n",
       "      <td>407500.0</td>\n",
       "    </tr>\n",
       "    <tr>\n",
       "      <th>70087</th>\n",
       "      <td>Canning Vale</td>\n",
       "      <td>2</td>\n",
       "      <td>3</td>\n",
       "      <td>2</td>\n",
       "      <td>NaN</td>\n",
       "      <td>-32.080531</td>\n",
       "      <td>115.920491</td>\n",
       "      <td>['Secure Parking']</td>\n",
       "      <td>House</td>\n",
       "      <td>2022.0</td>\n",
       "      <td>500000.0</td>\n",
       "    </tr>\n",
       "    <tr>\n",
       "      <th>1789</th>\n",
       "      <td>East Perth</td>\n",
       "      <td>1</td>\n",
       "      <td>1</td>\n",
       "      <td>1</td>\n",
       "      <td>91.0</td>\n",
       "      <td>-31.960190</td>\n",
       "      <td>115.870788</td>\n",
       "      <td>['Balcony']</td>\n",
       "      <td>Apartment</td>\n",
       "      <td>2023.0</td>\n",
       "      <td>312000.0</td>\n",
       "    </tr>\n",
       "  </tbody>\n",
       "</table>\n",
       "</div>"
      ],
      "text/plain": [
       "              suburb  bathrooms  bedrooms  parking  landArea   latitude  \\\n",
       "13562         Carine          2         4        2     708.0 -31.849761   \n",
       "83548   Port Kennedy          1         3        1     267.0 -32.351767   \n",
       "109067     Glenfield          2         4        2     580.0 -28.682568   \n",
       "70087   Canning Vale          2         3        2       NaN -32.080531   \n",
       "1789      East Perth          1         1        1      91.0 -31.960190   \n",
       "\n",
       "         longitude                                           features  \\\n",
       "13562   115.795404                                                NaN   \n",
       "83548   115.749453  ['Air conditioning', 'Built in wardrobes', 'Se...   \n",
       "109067  114.614329                                                NaN   \n",
       "70087   115.920491                                 ['Secure Parking']   \n",
       "1789    115.870788                                        ['Balcony']   \n",
       "\n",
       "       propertyType  soldYear  soldPrice  \n",
       "13562         House    2023.0   885000.0  \n",
       "83548         House    2021.0   335000.0  \n",
       "109067        House    2021.0   407500.0  \n",
       "70087         House    2022.0   500000.0  \n",
       "1789      Apartment    2023.0   312000.0  "
      ]
     },
     "execution_count": 10,
     "metadata": {},
     "output_type": "execute_result"
    }
   ],
   "source": [
    "validation.head()"
   ]
  },
  {
   "cell_type": "markdown",
   "id": "2db25330",
   "metadata": {},
   "source": [
    "# Test"
   ]
  },
  {
   "cell_type": "code",
   "execution_count": 11,
   "id": "a1b2b14d",
   "metadata": {},
   "outputs": [
    {
     "data": {
      "text/plain": [
       "(17380, 11)"
      ]
     },
     "execution_count": 11,
     "metadata": {},
     "output_type": "execute_result"
    }
   ],
   "source": [
    "test.shape"
   ]
  },
  {
   "cell_type": "code",
   "execution_count": 12,
   "id": "191a8b2a",
   "metadata": {},
   "outputs": [
    {
     "data": {
      "text/html": [
       "<div>\n",
       "<style scoped>\n",
       "    .dataframe tbody tr th:only-of-type {\n",
       "        vertical-align: middle;\n",
       "    }\n",
       "\n",
       "    .dataframe tbody tr th {\n",
       "        vertical-align: top;\n",
       "    }\n",
       "\n",
       "    .dataframe thead th {\n",
       "        text-align: right;\n",
       "    }\n",
       "</style>\n",
       "<table border=\"1\" class=\"dataframe\">\n",
       "  <thead>\n",
       "    <tr style=\"text-align: right;\">\n",
       "      <th></th>\n",
       "      <th>suburb</th>\n",
       "      <th>bathrooms</th>\n",
       "      <th>bedrooms</th>\n",
       "      <th>parking</th>\n",
       "      <th>landArea</th>\n",
       "      <th>latitude</th>\n",
       "      <th>longitude</th>\n",
       "      <th>features</th>\n",
       "      <th>propertyType</th>\n",
       "      <th>soldYear</th>\n",
       "      <th>soldPrice</th>\n",
       "    </tr>\n",
       "  </thead>\n",
       "  <tbody>\n",
       "    <tr>\n",
       "      <th>51512</th>\n",
       "      <td>Rivervale</td>\n",
       "      <td>1</td>\n",
       "      <td>1</td>\n",
       "      <td>1</td>\n",
       "      <td>NaN</td>\n",
       "      <td>-31.953732</td>\n",
       "      <td>115.910840</td>\n",
       "      <td>NaN</td>\n",
       "      <td>Apartment</td>\n",
       "      <td>2024.0</td>\n",
       "      <td>260000.0</td>\n",
       "    </tr>\n",
       "    <tr>\n",
       "      <th>40213</th>\n",
       "      <td>Morley</td>\n",
       "      <td>1</td>\n",
       "      <td>3</td>\n",
       "      <td>4</td>\n",
       "      <td>373.0</td>\n",
       "      <td>-31.881354</td>\n",
       "      <td>115.915000</td>\n",
       "      <td>['Air Conditioning', 'Heating', 'Built-In Ward...</td>\n",
       "      <td>House</td>\n",
       "      <td>2023.0</td>\n",
       "      <td>596000.0</td>\n",
       "    </tr>\n",
       "    <tr>\n",
       "      <th>3749</th>\n",
       "      <td>North Perth</td>\n",
       "      <td>2</td>\n",
       "      <td>4</td>\n",
       "      <td>3</td>\n",
       "      <td>438.0</td>\n",
       "      <td>-31.929979</td>\n",
       "      <td>115.859760</td>\n",
       "      <td>NaN</td>\n",
       "      <td>House</td>\n",
       "      <td>2022.0</td>\n",
       "      <td>1070000.0</td>\n",
       "    </tr>\n",
       "    <tr>\n",
       "      <th>64516</th>\n",
       "      <td>Leeming</td>\n",
       "      <td>3</td>\n",
       "      <td>4</td>\n",
       "      <td>2</td>\n",
       "      <td>NaN</td>\n",
       "      <td>-32.078154</td>\n",
       "      <td>115.852870</td>\n",
       "      <td>NaN</td>\n",
       "      <td>House</td>\n",
       "      <td>2019.0</td>\n",
       "      <td>855000.0</td>\n",
       "    </tr>\n",
       "    <tr>\n",
       "      <th>70687</th>\n",
       "      <td>Attadale</td>\n",
       "      <td>1</td>\n",
       "      <td>3</td>\n",
       "      <td>2</td>\n",
       "      <td>948.0</td>\n",
       "      <td>-32.023708</td>\n",
       "      <td>115.796232</td>\n",
       "      <td>['Close to Transport', 'Close to Shops', 'Clos...</td>\n",
       "      <td>House</td>\n",
       "      <td>2023.0</td>\n",
       "      <td>1420000.0</td>\n",
       "    </tr>\n",
       "  </tbody>\n",
       "</table>\n",
       "</div>"
      ],
      "text/plain": [
       "            suburb  bathrooms  bedrooms  parking  landArea   latitude  \\\n",
       "51512    Rivervale          1         1        1       NaN -31.953732   \n",
       "40213       Morley          1         3        4     373.0 -31.881354   \n",
       "3749   North Perth          2         4        3     438.0 -31.929979   \n",
       "64516      Leeming          3         4        2       NaN -32.078154   \n",
       "70687     Attadale          1         3        2     948.0 -32.023708   \n",
       "\n",
       "        longitude                                           features  \\\n",
       "51512  115.910840                                                NaN   \n",
       "40213  115.915000  ['Air Conditioning', 'Heating', 'Built-In Ward...   \n",
       "3749   115.859760                                                NaN   \n",
       "64516  115.852870                                                NaN   \n",
       "70687  115.796232  ['Close to Transport', 'Close to Shops', 'Clos...   \n",
       "\n",
       "      propertyType  soldYear  soldPrice  \n",
       "51512    Apartment    2024.0   260000.0  \n",
       "40213        House    2023.0   596000.0  \n",
       "3749         House    2022.0  1070000.0  \n",
       "64516        House    2019.0   855000.0  \n",
       "70687        House    2023.0  1420000.0  "
      ]
     },
     "execution_count": 12,
     "metadata": {},
     "output_type": "execute_result"
    }
   ],
   "source": [
    "test.head()"
   ]
  },
  {
   "cell_type": "markdown",
   "id": "19511085",
   "metadata": {},
   "source": [
    "# Writing to csv"
   ]
  },
  {
   "cell_type": "code",
   "execution_count": 13,
   "id": "c13d098d",
   "metadata": {},
   "outputs": [],
   "source": [
    "train.to_csv(f'{path}wa_train.csv', index=False)\n",
    "validation.to_csv(f'{path}wa_validation.csv', index=False)\n",
    "test.to_csv(f'{path}wa_test.csv', index=False)"
   ]
  },
  {
   "cell_type": "code",
   "execution_count": 14,
   "id": "b04b8b84",
   "metadata": {},
   "outputs": [
    {
     "data": {
      "text/plain": [
       "Index(['suburb', 'bathrooms', 'bedrooms', 'parking', 'landArea', 'latitude',\n",
       "       'longitude', 'features', 'propertyType', 'soldYear', 'soldPrice'],\n",
       "      dtype='object')"
      ]
     },
     "execution_count": 14,
     "metadata": {},
     "output_type": "execute_result"
    }
   ],
   "source": [
    "train.columns"
   ]
  },
  {
   "cell_type": "code",
   "execution_count": null,
   "id": "561dbf17",
   "metadata": {},
   "outputs": [],
   "source": []
  }
 ],
 "metadata": {
  "kernelspec": {
   "display_name": "Python 3 (ipykernel)",
   "language": "python",
   "name": "python3"
  },
  "language_info": {
   "codemirror_mode": {
    "name": "ipython",
    "version": 3
   },
   "file_extension": ".py",
   "mimetype": "text/x-python",
   "name": "python",
   "nbconvert_exporter": "python",
   "pygments_lexer": "ipython3",
   "version": "3.11.2"
  }
 },
 "nbformat": 4,
 "nbformat_minor": 5
}
