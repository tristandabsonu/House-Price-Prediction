{
 "cells": [
  {
   "cell_type": "code",
   "execution_count": 1,
   "id": "0e55022f",
   "metadata": {},
   "outputs": [],
   "source": [
    "import pandas as pd\n",
    "pd.set_option(\"max_colwidth\", None)\n",
    "pd.set_option(\"max_seq_items\", None)\n",
    "\n",
    "import numpy as np"
   ]
  },
  {
   "cell_type": "code",
   "execution_count": 2,
   "id": "2f0b1882",
   "metadata": {},
   "outputs": [],
   "source": [
    "path = '/Users/tristangarcia/desktop/hp-pred_data/data/wa_data/'"
   ]
  },
  {
   "cell_type": "code",
   "execution_count": 3,
   "id": "6984e6c6",
   "metadata": {},
   "outputs": [],
   "source": [
    "train = pd.read_csv(f'{path}wa_train.csv')\n",
    "test = pd.read_csv(f'{path}wa_validation.csv')  # validation set"
   ]
  },
  {
   "cell_type": "code",
   "execution_count": 4,
   "id": "bf9ede96",
   "metadata": {},
   "outputs": [
    {
     "name": "stdout",
     "output_type": "stream",
     "text": [
      "(88041, 39)\n",
      "(18866, 39)\n"
     ]
    }
   ],
   "source": [
    "print(train.shape)\n",
    "print(test.shape)"
   ]
  },
  {
   "cell_type": "markdown",
   "id": "02d81edc",
   "metadata": {},
   "source": [
    "# Helper function"
   ]
  },
  {
   "cell_type": "code",
   "execution_count": 5,
   "id": "7aa9baa9",
   "metadata": {},
   "outputs": [],
   "source": [
    "def get_group_stat(row, stat_table, groupby_col, impute_col):\n",
    "    key = row[groupby_col]\n",
    "    if key in stat_table.index:\n",
    "        return stat_table.loc[key, impute_col]\n",
    "    return None\n",
    "\n",
    "\n",
    "def impute_by_group(train, test, groupby_col, impute_col, method):\n",
    "    if method == 'median':\n",
    "        # Compute median table\n",
    "        stat_table = train.groupby(groupby_col)[impute_col].median()\n",
    "    elif method == 'mode':\n",
    "        # Compute mode table\n",
    "        stat_table = train.groupby(groupby_col)[impute_col].agg(lambda x: x.mode()[0] if not x.mode().empty else None)\n",
    "    elif method == 'mean':\n",
    "        stat_table = train.groupby(groupby_col)[impute_col].mean()\n",
    "    # Setting index as the groupby column\n",
    "    stat_table = stat_table.reset_index().set_index(groupby_col)\n",
    "    \n",
    "    # Impute missing values in train\n",
    "    train[impute_col] = train.apply(\n",
    "        lambda x: x[impute_col] if pd.notnull(x[impute_col]) \n",
    "        else get_group_stat(x, stat_table, groupby_col, impute_col), axis=1\n",
    "    )\n",
    "    \n",
    "    # Impute missing values in test (using median/mode from the training set)\n",
    "    test[impute_col] = test.apply(\n",
    "        lambda x: x[impute_col] if pd.notnull(x[impute_col])\n",
    "        else get_group_stat(x, stat_table, groupby_col, impute_col), axis=1\n",
    "    )\n",
    "    \n",
    "    return train, test"
   ]
  },
  {
   "cell_type": "markdown",
   "id": "ed03bed5",
   "metadata": {},
   "source": [
    "# Reformatting "
   ]
  },
  {
   "cell_type": "markdown",
   "id": "4d3e24ba",
   "metadata": {},
   "source": [
    "### Property type"
   ]
  },
  {
   "cell_type": "code",
   "execution_count": 6,
   "id": "5a92fe88",
   "metadata": {},
   "outputs": [
    {
     "data": {
      "text/plain": [
       "propertyTypes\n",
       "House                                                             62024\n",
       "Apartment                                                         10589\n",
       "Land                                                               7909\n",
       "Townhouse/Villa                                                    4815\n",
       "Any                                                                1442\n",
       "Rural                                                               736\n",
       "House,Any                                                           160\n",
       "Any,Rural                                                            90\n",
       "New Developments,Apartment                                           57\n",
       "Any,House                                                            52\n",
       "New Developments                                                     22\n",
       "Townhouse/Villa,Townhouse/Villa                                      16\n",
       "House,Townhouse/Villa                                                13\n",
       "Any,Land                                                             12\n",
       "Apartment,House,Townhouse/Villa,Townhouse/Villa                      11\n",
       "Apartment,House,Townhouse/Villa                                      11\n",
       "Townhouse/Villa,New Developments                                     11\n",
       "House,House                                                          11\n",
       "Any,Any                                                              10\n",
       "House,Land                                                            6\n",
       "Apartment,House                                                       6\n",
       "Apartment,Townhouse/Villa                                             5\n",
       "Rural,Apartment                                                       4\n",
       "Townhouse/Villa,House                                                 4\n",
       "New Developments,Townhouse/Villa                                      3\n",
       "Rural,Land                                                            2\n",
       "Apartment,New Developments                                            2\n",
       "Apartment,Apartment                                                   2\n",
       "Apartment,Townhouse/Villa,Townhouse/Villa                             2\n",
       "House,Townhouse/Villa,Townhouse/Villa                                 1\n",
       "Apartment,House,Apartment,Townhouse/Villa,Townhouse/Villa             1\n",
       "Apartment,House,House,Townhouse/Villa                                 1\n",
       "Apartment,House,Apartment,Townhouse/Villa,Land,Townhouse/Villa        1\n",
       "Any,House,Land                                                        1\n",
       "Any,House,Any                                                         1\n",
       "Apartment,Apartment,House,House,Townhouse/Villa                       1\n",
       "Apartment,Apartment,House,Townhouse/Villa,Townhouse/Villa             1\n",
       "Any,Townhouse/Villa                                                   1\n",
       "Apartment,House,Any,Townhouse/Villa,Townhouse/Villa                   1\n",
       "Rural,Any,House                                                       1\n",
       "Apartment,House,Townhouse/Villa,Land,Townhouse/Villa                  1\n",
       "Any,Any,Any                                                           1\n",
       "Name: count, dtype: int64"
      ]
     },
     "execution_count": 6,
     "metadata": {},
     "output_type": "execute_result"
    }
   ],
   "source": [
    "train['propertyTypes'].value_counts()"
   ]
  },
  {
   "cell_type": "markdown",
   "id": "eb8e6a44",
   "metadata": {},
   "source": [
    "### Only possible entries:\n",
    "- House\n",
    "- Apartment\n",
    "- Land\n",
    "- Townhouse/Villa\n",
    "- Rural??\n",
    "- Any??"
   ]
  },
  {
   "cell_type": "code",
   "execution_count": 7,
   "id": "58e9b445",
   "metadata": {},
   "outputs": [],
   "source": [
    "train['propertyTypes'] = train['propertyTypes'].str.split(',')\n",
    "test['propertyTypes'] = test['propertyTypes'].str.split(',')\n",
    "\n",
    "def reformat_propertyTypes(row):\n",
    "    # Valid property types\n",
    "    types = ['House','Apartment','Land','Townhouse/Villa']\n",
    "    # This deals with NaN values\n",
    "    if not isinstance(row, list):\n",
    "        return 'Unknown'\n",
    "    # Go through all property types\n",
    "    for t in row:\n",
    "        if t in types:\n",
    "            # Return the first instance of a valid property type\n",
    "            return t\n",
    "    # Return 'Unkown' if no valid property types found\n",
    "    return 'Unknown'\n",
    "        \n",
    "# Applying the function\n",
    "train['propertyTypes'] = train['propertyTypes'].apply(reformat_propertyTypes)\n",
    "test['propertyTypes'] = test['propertyTypes'].apply(reformat_propertyTypes)"
   ]
  },
  {
   "cell_type": "code",
   "execution_count": 8,
   "id": "9b2f6dff",
   "metadata": {},
   "outputs": [],
   "source": [
    "# Changing the rural values from propertyTypes to House\n",
    "train['propertyTypes'] = train['propertyTypes'].apply(lambda x: 'Townhouse' if x=='Townhouse/Villa' else x)\n",
    "train.rename(columns={'propertyTypes':'propertyType'}, inplace=True)\n",
    "test.rename(columns={'propertyTypes':'propertyType'}, inplace=True)"
   ]
  },
  {
   "cell_type": "markdown",
   "id": "ebdeba82",
   "metadata": {},
   "source": [
    "### Features"
   ]
  },
  {
   "cell_type": "code",
   "execution_count": 9,
   "id": "85a79775",
   "metadata": {},
   "outputs": [
    {
     "data": {
      "text/plain": [
       "features\n",
       "['Ensuite']                                                                                                                                                                                                                                                                                                                                                                                                                                                                                                                                                                                                                                                                  6461\n",
       "['Air conditioning']                                                                                                                                                                                                                                                                                                                                                                                                                                                                                                                                                                                                                                                         1053\n",
       "['Secure Parking']                                                                                                                                                                                                                                                                                                                                                                                                                                                                                                                                                                                                                                                            676\n",
       "['Study']                                                                                                                                                                                                                                                                                                                                                                                                                                                                                                                                                                                                                                                                     508\n",
       "['Air conditioning', 'Built in wardrobes']                                                                                                                                                                                                                                                                                                                                                                                                                                                                                                                                                                                                                                    338\n",
       "                                                                                                                                                                                                                                                                                                                                                                                                                                                                                                                                                                                                                                                                             ... \n",
       "['Ensuite', 'Life Style', 'Value', 'Unique', 'Courtyard', 'Dishwasher', 'Split System AC', 'Fully Fenced', 'Builtin Robes', 'Secure Parking', 'Solar Panels', 'Grey Water System']                                                                                                                                                                                                                                                                                                                                                                                                                                                                                              1\n",
       "['Built in wardrobes', 'Balcony / Deck', 'Fireplace', 'Gas Hot Water Service', 'Water Views']                                                                                                                                                                                                                                                                                                                                                                                                                                                                                                                                                                                   1\n",
       "['Balcony / Deck', 'Built in wardrobes', 'Close to Schools', 'Close to Shops', 'Close to Transport', 'Dishwasher', 'Intercom', 'Air conditioning', 'Secure Parking']                                                                                                                                                                                                                                                                                                                                                                                                                                                                                                            1\n",
       "['Air Conditioning', 'Built-In Wardrobes', 'Garden', 'House', 'Garage', 'Living Area', 'Floorboards', 'Remote Garage', 'Secure Parking', 'Dishwasher', 'Evaporative Cooling', 'Gas Heating', 'Outdoor Entertainment', 'Shed', 'Fully Fenced']                                                                                                                                                                                                                                                                                                                                                                                                                                   1\n",
       "['Bath', 'Formal Lounge', 'Heating', 'Modern Bathroom', 'Modern Kitchen', 'Separate Dining Room', 'Entertainment Area', 'Garden', 'Level Lawn', 'Pet Friendly', 'Alarm System', 'Intercom', 'Security Lights', 'Security Windows', 'Close to Parklands', 'Quiet Location', 'Views', 'Golf Property', 'Nature Property', 'Prestige Property', 'Mortgagee Property', 'Air Conditioning', 'Built-ins', 'Ensuite', 'Gas Enabled', 'Internal Laundry', 'Newly Built Property', 'Remote Garage', 'Dishwasher', 'Solar Panels', 'Living Area', 'Rumpus Room', 'Deck', 'Fully Fenced', 'Close to Schools', 'Close to Shops', 'Close to Transport', 'Pay TV Enabled', 'Broadband']       1\n",
       "Name: count, Length: 19125, dtype: int64"
      ]
     },
     "execution_count": 9,
     "metadata": {},
     "output_type": "execute_result"
    }
   ],
   "source": [
    "train['features'].value_counts()"
   ]
  },
  {
   "cell_type": "code",
   "execution_count": 10,
   "id": "11a70e1e",
   "metadata": {},
   "outputs": [
    {
     "data": {
      "text/plain": [
       "'['"
      ]
     },
     "execution_count": 10,
     "metadata": {},
     "output_type": "execute_result"
    }
   ],
   "source": [
    "train['features'][0][0]"
   ]
  },
  {
   "cell_type": "markdown",
   "id": "fd420196",
   "metadata": {},
   "source": [
    "We can see that each instance of the variables 'features' looks like a list but is actually a string"
   ]
  },
  {
   "cell_type": "code",
   "execution_count": 11,
   "id": "e8c9edaa",
   "metadata": {},
   "outputs": [],
   "source": [
    "# Converting the 'string lists' into lists\n",
    "# https://stackoverflow.com/questions/1894269/how-to-convert-string-representation-of-list-to-a-list\n",
    "import ast\n",
    "\n",
    "train['features'] = train['features'].apply(lambda x: ast.literal_eval(x) if pd.notnull(x) else [])\n",
    "test['features'] = test['features'].apply(lambda x: ast.literal_eval(x) if pd.notnull(x) else [])"
   ]
  },
  {
   "cell_type": "markdown",
   "id": "838b4cb7",
   "metadata": {},
   "source": [
    "### Lowercasing categorical variables"
   ]
  },
  {
   "cell_type": "code",
   "execution_count": 12,
   "id": "45565701",
   "metadata": {},
   "outputs": [],
   "source": [
    "train = train.map(lambda x: x.lower() if isinstance(x, str) else x)\n",
    "test = test.map(lambda x: x.lower() if isinstance(x,str) else x)"
   ]
  },
  {
   "cell_type": "code",
   "execution_count": 13,
   "id": "539ba53c",
   "metadata": {},
   "outputs": [],
   "source": [
    "# Lowercasing features variable\n",
    "def lower_features(feature_list):\n",
    "    f = []\n",
    "    if len(feature_list) == 0:\n",
    "        return feature_list\n",
    "    else:\n",
    "        for feature in feature_list:\n",
    "            f.append(feature.lower())\n",
    "    return f\n",
    "\n",
    "train['features'] = train['features'].apply(lambda x: lower_features(x))\n",
    "test['features'] = test['features'].apply(lambda x: lower_features(x))"
   ]
  },
  {
   "cell_type": "markdown",
   "id": "e0985c42",
   "metadata": {},
   "source": [
    "# Missing values"
   ]
  },
  {
   "cell_type": "code",
   "execution_count": 16,
   "id": "73428bb4",
   "metadata": {},
   "outputs": [
    {
     "data": {
      "text/plain": [
       "suburb                        17\n",
       "bathrooms                      0\n",
       "bedrooms                       0\n",
       "parking                        0\n",
       "landArea                   16698\n",
       "latitude                     710\n",
       "longitude                    710\n",
       "features                       0\n",
       "propertyType                   0\n",
       "promoLevel                     0\n",
       "soldMonth                      2\n",
       "soldYear                       2\n",
       "daysListed                     0\n",
       "inspectionsCount               0\n",
       "isRural                        0\n",
       "hasDescription                 0\n",
       "hasFloorplan                   0\n",
       "hasDisplayPrice                0\n",
       "hasPhoto                       0\n",
       "photoCount                     0\n",
       "suburb_medianPrice            19\n",
       "suburb_medianRentPrice        19\n",
       "suburb_entryLevelPrice        19\n",
       "suburb_luxuryLevelPrice       19\n",
       "primary                     2989\n",
       "primaryDistance             2989\n",
       "primaryType                 2989\n",
       "secondary                   4394\n",
       "secondaryDistance           4394\n",
       "secondaryType               4394\n",
       "listingUrl                     0\n",
       "soldPrice                      2\n",
       "dtype: int64"
      ]
     },
     "execution_count": 16,
     "metadata": {},
     "output_type": "execute_result"
    }
   ],
   "source": [
    "train.isnull().sum()"
   ]
  },
  {
   "cell_type": "markdown",
   "id": "e15cfc5b",
   "metadata": {},
   "source": [
    "### Sold price"
   ]
  },
  {
   "cell_type": "code",
   "execution_count": 17,
   "id": "d5a6b4a4",
   "metadata": {},
   "outputs": [],
   "source": [
    "na_cols = ['suburb','soldPrice']\n",
    "# Removing missing rows for soldPrice\n",
    "for col in na_cols:\n",
    "    train.dropna(subset=[col], inplace=True)\n",
    "    test.dropna(subset=[col], inplace=True)"
   ]
  },
  {
   "cell_type": "markdown",
   "id": "66b83b74",
   "metadata": {},
   "source": [
    "### Suburb insight features"
   ]
  },
  {
   "cell_type": "code",
   "execution_count": 18,
   "id": "1ebbd02e",
   "metadata": {
    "scrolled": false
   },
   "outputs": [
    {
     "data": {
      "text/html": [
       "<div>\n",
       "<style scoped>\n",
       "    .dataframe tbody tr th:only-of-type {\n",
       "        vertical-align: middle;\n",
       "    }\n",
       "\n",
       "    .dataframe tbody tr th {\n",
       "        vertical-align: top;\n",
       "    }\n",
       "\n",
       "    .dataframe thead th {\n",
       "        text-align: right;\n",
       "    }\n",
       "</style>\n",
       "<table border=\"1\" class=\"dataframe\">\n",
       "  <thead>\n",
       "    <tr style=\"text-align: right;\">\n",
       "      <th></th>\n",
       "      <th>suburb</th>\n",
       "      <th>suburb_medianRentPrice</th>\n",
       "      <th>suburb_entryLevelPrice</th>\n",
       "      <th>suburb_luxuryLevelPrice</th>\n",
       "    </tr>\n",
       "  </thead>\n",
       "  <tbody>\n",
       "    <tr>\n",
       "      <th>5724</th>\n",
       "      <td>winthrop</td>\n",
       "      <td>NaN</td>\n",
       "      <td>NaN</td>\n",
       "      <td>NaN</td>\n",
       "    </tr>\n",
       "    <tr>\n",
       "      <th>5942</th>\n",
       "      <td>wagin</td>\n",
       "      <td>NaN</td>\n",
       "      <td>NaN</td>\n",
       "      <td>NaN</td>\n",
       "    </tr>\n",
       "    <tr>\n",
       "      <th>9342</th>\n",
       "      <td>ravensthorpe</td>\n",
       "      <td>NaN</td>\n",
       "      <td>NaN</td>\n",
       "      <td>NaN</td>\n",
       "    </tr>\n",
       "    <tr>\n",
       "      <th>14077</th>\n",
       "      <td>port hedland</td>\n",
       "      <td>NaN</td>\n",
       "      <td>NaN</td>\n",
       "      <td>NaN</td>\n",
       "    </tr>\n",
       "    <tr>\n",
       "      <th>23590</th>\n",
       "      <td>dowerin</td>\n",
       "      <td>NaN</td>\n",
       "      <td>NaN</td>\n",
       "      <td>NaN</td>\n",
       "    </tr>\n",
       "    <tr>\n",
       "      <th>33007</th>\n",
       "      <td>porongurup</td>\n",
       "      <td>NaN</td>\n",
       "      <td>NaN</td>\n",
       "      <td>NaN</td>\n",
       "    </tr>\n",
       "    <tr>\n",
       "      <th>34837</th>\n",
       "      <td>goode beach</td>\n",
       "      <td>NaN</td>\n",
       "      <td>NaN</td>\n",
       "      <td>NaN</td>\n",
       "    </tr>\n",
       "    <tr>\n",
       "      <th>37202</th>\n",
       "      <td>bremer bay</td>\n",
       "      <td>NaN</td>\n",
       "      <td>NaN</td>\n",
       "      <td>NaN</td>\n",
       "    </tr>\n",
       "    <tr>\n",
       "      <th>37569</th>\n",
       "      <td>parryville</td>\n",
       "      <td>NaN</td>\n",
       "      <td>NaN</td>\n",
       "      <td>NaN</td>\n",
       "    </tr>\n",
       "    <tr>\n",
       "      <th>49985</th>\n",
       "      <td>bindoon</td>\n",
       "      <td>NaN</td>\n",
       "      <td>NaN</td>\n",
       "      <td>NaN</td>\n",
       "    </tr>\n",
       "    <tr>\n",
       "      <th>50416</th>\n",
       "      <td>kambalda east</td>\n",
       "      <td>NaN</td>\n",
       "      <td>NaN</td>\n",
       "      <td>NaN</td>\n",
       "    </tr>\n",
       "    <tr>\n",
       "      <th>52691</th>\n",
       "      <td>denmark</td>\n",
       "      <td>NaN</td>\n",
       "      <td>NaN</td>\n",
       "      <td>NaN</td>\n",
       "    </tr>\n",
       "    <tr>\n",
       "      <th>54528</th>\n",
       "      <td>west beach</td>\n",
       "      <td>NaN</td>\n",
       "      <td>NaN</td>\n",
       "      <td>NaN</td>\n",
       "    </tr>\n",
       "    <tr>\n",
       "      <th>61067</th>\n",
       "      <td>martin</td>\n",
       "      <td>NaN</td>\n",
       "      <td>NaN</td>\n",
       "      <td>NaN</td>\n",
       "    </tr>\n",
       "    <tr>\n",
       "      <th>61100</th>\n",
       "      <td>merriwa</td>\n",
       "      <td>NaN</td>\n",
       "      <td>NaN</td>\n",
       "      <td>NaN</td>\n",
       "    </tr>\n",
       "    <tr>\n",
       "      <th>62822</th>\n",
       "      <td>daglish</td>\n",
       "      <td>NaN</td>\n",
       "      <td>NaN</td>\n",
       "      <td>NaN</td>\n",
       "    </tr>\n",
       "    <tr>\n",
       "      <th>73503</th>\n",
       "      <td>kenwick</td>\n",
       "      <td>NaN</td>\n",
       "      <td>NaN</td>\n",
       "      <td>NaN</td>\n",
       "    </tr>\n",
       "    <tr>\n",
       "      <th>73510</th>\n",
       "      <td>nornalup</td>\n",
       "      <td>NaN</td>\n",
       "      <td>NaN</td>\n",
       "      <td>NaN</td>\n",
       "    </tr>\n",
       "    <tr>\n",
       "      <th>85568</th>\n",
       "      <td>nickol</td>\n",
       "      <td>NaN</td>\n",
       "      <td>NaN</td>\n",
       "      <td>NaN</td>\n",
       "    </tr>\n",
       "  </tbody>\n",
       "</table>\n",
       "</div>"
      ],
      "text/plain": [
       "              suburb  suburb_medianRentPrice  suburb_entryLevelPrice  \\\n",
       "5724        winthrop                     NaN                     NaN   \n",
       "5942           wagin                     NaN                     NaN   \n",
       "9342    ravensthorpe                     NaN                     NaN   \n",
       "14077   port hedland                     NaN                     NaN   \n",
       "23590        dowerin                     NaN                     NaN   \n",
       "33007     porongurup                     NaN                     NaN   \n",
       "34837    goode beach                     NaN                     NaN   \n",
       "37202     bremer bay                     NaN                     NaN   \n",
       "37569     parryville                     NaN                     NaN   \n",
       "49985        bindoon                     NaN                     NaN   \n",
       "50416  kambalda east                     NaN                     NaN   \n",
       "52691        denmark                     NaN                     NaN   \n",
       "54528     west beach                     NaN                     NaN   \n",
       "61067         martin                     NaN                     NaN   \n",
       "61100        merriwa                     NaN                     NaN   \n",
       "62822        daglish                     NaN                     NaN   \n",
       "73503        kenwick                     NaN                     NaN   \n",
       "73510       nornalup                     NaN                     NaN   \n",
       "85568         nickol                     NaN                     NaN   \n",
       "\n",
       "       suburb_luxuryLevelPrice  \n",
       "5724                       NaN  \n",
       "5942                       NaN  \n",
       "9342                       NaN  \n",
       "14077                      NaN  \n",
       "23590                      NaN  \n",
       "33007                      NaN  \n",
       "34837                      NaN  \n",
       "37202                      NaN  \n",
       "37569                      NaN  \n",
       "49985                      NaN  \n",
       "50416                      NaN  \n",
       "52691                      NaN  \n",
       "54528                      NaN  \n",
       "61067                      NaN  \n",
       "61100                      NaN  \n",
       "62822                      NaN  \n",
       "73503                      NaN  \n",
       "73510                      NaN  \n",
       "85568                      NaN  "
      ]
     },
     "execution_count": 18,
     "metadata": {},
     "output_type": "execute_result"
    }
   ],
   "source": [
    "# All rows missing rows for suburb_medianPrice,suburb_medianRentPrice,suburb_entryLevelPrice,suburb_luxuryLevelPrice\n",
    "# are from the same row\n",
    "train.loc[train['suburb_medianPrice'].isnull(), ['suburb','suburb_medianRentPrice','suburb_entryLevelPrice',\n",
    "                                               'suburb_luxuryLevelPrice']]"
   ]
  },
  {
   "cell_type": "code",
   "execution_count": 19,
   "id": "015173e6",
   "metadata": {
    "scrolled": true
   },
   "outputs": [
    {
     "data": {
      "text/plain": [
       "suburb_medianPrice    1373000.0\n",
       "dtype: float64"
      ]
     },
     "execution_count": 19,
     "metadata": {},
     "output_type": "execute_result"
    }
   ],
   "source": [
    "# Input price for the first instance \n",
    "train.loc[train[\"suburb\"] == 'winthrop',['suburb_medianPrice']].median()"
   ]
  },
  {
   "cell_type": "markdown",
   "id": "97294947",
   "metadata": {},
   "source": [
    "The median house price for Winthrop in 2024 is 1,373,000\n",
    "We well check train.loc[(24563)] to ensure it has been imputed with the correct value"
   ]
  },
  {
   "cell_type": "code",
   "execution_count": 20,
   "id": "b6b2464b",
   "metadata": {},
   "outputs": [
    {
     "data": {
      "text/html": [
       "<div>\n",
       "<style scoped>\n",
       "    .dataframe tbody tr th:only-of-type {\n",
       "        vertical-align: middle;\n",
       "    }\n",
       "\n",
       "    .dataframe tbody tr th {\n",
       "        vertical-align: top;\n",
       "    }\n",
       "\n",
       "    .dataframe thead th {\n",
       "        text-align: right;\n",
       "    }\n",
       "</style>\n",
       "<table border=\"1\" class=\"dataframe\">\n",
       "  <thead>\n",
       "    <tr style=\"text-align: right;\">\n",
       "      <th></th>\n",
       "      <th>suburb</th>\n",
       "      <th>suburb_medianRentPrice</th>\n",
       "      <th>suburb_entryLevelPrice</th>\n",
       "      <th>suburb_luxuryLevelPrice</th>\n",
       "    </tr>\n",
       "  </thead>\n",
       "  <tbody>\n",
       "    <tr>\n",
       "      <th>2169</th>\n",
       "      <td>bremer bay</td>\n",
       "      <td>NaN</td>\n",
       "      <td>NaN</td>\n",
       "      <td>NaN</td>\n",
       "    </tr>\n",
       "    <tr>\n",
       "      <th>2308</th>\n",
       "      <td>balcatta</td>\n",
       "      <td>NaN</td>\n",
       "      <td>NaN</td>\n",
       "      <td>NaN</td>\n",
       "    </tr>\n",
       "    <tr>\n",
       "      <th>3031</th>\n",
       "      <td>centennial park</td>\n",
       "      <td>NaN</td>\n",
       "      <td>NaN</td>\n",
       "      <td>NaN</td>\n",
       "    </tr>\n",
       "    <tr>\n",
       "      <th>10549</th>\n",
       "      <td>salmon gums</td>\n",
       "      <td>NaN</td>\n",
       "      <td>NaN</td>\n",
       "      <td>NaN</td>\n",
       "    </tr>\n",
       "    <tr>\n",
       "      <th>10766</th>\n",
       "      <td>lake king</td>\n",
       "      <td>NaN</td>\n",
       "      <td>NaN</td>\n",
       "      <td>NaN</td>\n",
       "    </tr>\n",
       "  </tbody>\n",
       "</table>\n",
       "</div>"
      ],
      "text/plain": [
       "                suburb  suburb_medianRentPrice  suburb_entryLevelPrice  \\\n",
       "2169        bremer bay                     NaN                     NaN   \n",
       "2308          balcatta                     NaN                     NaN   \n",
       "3031   centennial park                     NaN                     NaN   \n",
       "10549      salmon gums                     NaN                     NaN   \n",
       "10766        lake king                     NaN                     NaN   \n",
       "\n",
       "       suburb_luxuryLevelPrice  \n",
       "2169                       NaN  \n",
       "2308                       NaN  \n",
       "3031                       NaN  \n",
       "10549                      NaN  \n",
       "10766                      NaN  "
      ]
     },
     "execution_count": 20,
     "metadata": {},
     "output_type": "execute_result"
    }
   ],
   "source": [
    "test.loc[test['suburb_medianPrice'].isnull(), ['suburb','suburb_medianRentPrice','suburb_entryLevelPrice',\n",
    "                                               'suburb_luxuryLevelPrice']]"
   ]
  },
  {
   "cell_type": "code",
   "execution_count": 21,
   "id": "a7c6d023",
   "metadata": {},
   "outputs": [
    {
     "data": {
      "text/plain": [
       "suburb_medianPrice    681000.0\n",
       "dtype: float64"
      ]
     },
     "execution_count": 21,
     "metadata": {},
     "output_type": "execute_result"
    }
   ],
   "source": [
    "# Input price for the first instance \n",
    "train.loc[train[\"suburb\"] == 'balcatta',['suburb_medianPrice']].median()"
   ]
  },
  {
   "cell_type": "markdown",
   "id": "a367239e",
   "metadata": {},
   "source": [
    "The median house price for balcatta in 2024 is 681000\n",
    "We well check test.loc[(11432)] to ensure it has been imputed with the correct value"
   ]
  },
  {
   "cell_type": "code",
   "execution_count": 22,
   "id": "138657f1",
   "metadata": {},
   "outputs": [],
   "source": [
    "########################################################\n",
    "#                                                      # \n",
    "#  Imputing missing values for the suburb features     #\n",
    "#  using the median value of the corresponding suburb  #\n",
    "#                                                      #\n",
    "########################################################\n",
    "\n",
    "groupby_col = 'suburb'\n",
    "# Features to impute\n",
    "suburb_features = ['suburb_medianPrice', 'suburb_medianRentPrice',\n",
    "                   'suburb_entryLevelPrice', 'suburb_luxuryLevelPrice']\n",
    "\n",
    "# Loop through each feature\n",
    "for impute_col in suburb_features:\n",
    "    train,test = impute_by_group(train, test, groupby_col, impute_col, method='median')"
   ]
  },
  {
   "cell_type": "code",
   "execution_count": 23,
   "id": "f8f43237",
   "metadata": {},
   "outputs": [
    {
     "data": {
      "text/plain": [
       "1373000.0"
      ]
     },
     "execution_count": 23,
     "metadata": {},
     "output_type": "execute_result"
    }
   ],
   "source": [
    "# Checking correct value has been imputed\n",
    "train.loc[(5724)]['suburb_medianPrice']"
   ]
  },
  {
   "cell_type": "code",
   "execution_count": 24,
   "id": "f5153c03",
   "metadata": {
    "scrolled": true
   },
   "outputs": [
    {
     "data": {
      "text/plain": [
       "681000.0"
      ]
     },
     "execution_count": 24,
     "metadata": {},
     "output_type": "execute_result"
    }
   ],
   "source": [
    "# Checking correct value has been imputed\n",
    "test.loc[(2308)]['suburb_medianPrice']"
   ]
  },
  {
   "cell_type": "markdown",
   "id": "ce2cbe1c",
   "metadata": {},
   "source": [
    "### Spatial features\n",
    "\n",
    "Using the same imputation strategy as above, we will be imputing the missing values for latitude and longitude on the train and test sets based on the suburb of the training set"
   ]
  },
  {
   "cell_type": "code",
   "execution_count": 25,
   "id": "a8f8a326",
   "metadata": {
    "scrolled": true
   },
   "outputs": [
    {
     "data": {
      "text/html": [
       "<div>\n",
       "<style scoped>\n",
       "    .dataframe tbody tr th:only-of-type {\n",
       "        vertical-align: middle;\n",
       "    }\n",
       "\n",
       "    .dataframe tbody tr th {\n",
       "        vertical-align: top;\n",
       "    }\n",
       "\n",
       "    .dataframe thead th {\n",
       "        text-align: right;\n",
       "    }\n",
       "</style>\n",
       "<table border=\"1\" class=\"dataframe\">\n",
       "  <thead>\n",
       "    <tr style=\"text-align: right;\">\n",
       "      <th></th>\n",
       "      <th>suburb</th>\n",
       "      <th>latitude</th>\n",
       "      <th>longitude</th>\n",
       "    </tr>\n",
       "  </thead>\n",
       "  <tbody>\n",
       "    <tr>\n",
       "      <th>271</th>\n",
       "      <td>lathlain</td>\n",
       "      <td>NaN</td>\n",
       "      <td>NaN</td>\n",
       "    </tr>\n",
       "    <tr>\n",
       "      <th>644</th>\n",
       "      <td>warwick</td>\n",
       "      <td>NaN</td>\n",
       "      <td>NaN</td>\n",
       "    </tr>\n",
       "    <tr>\n",
       "      <th>847</th>\n",
       "      <td>cunderdin</td>\n",
       "      <td>NaN</td>\n",
       "      <td>NaN</td>\n",
       "    </tr>\n",
       "    <tr>\n",
       "      <th>1133</th>\n",
       "      <td>hilbert</td>\n",
       "      <td>NaN</td>\n",
       "      <td>NaN</td>\n",
       "    </tr>\n",
       "    <tr>\n",
       "      <th>1837</th>\n",
       "      <td>beechboro</td>\n",
       "      <td>NaN</td>\n",
       "      <td>NaN</td>\n",
       "    </tr>\n",
       "    <tr>\n",
       "      <th>...</th>\n",
       "      <td>...</td>\n",
       "      <td>...</td>\n",
       "      <td>...</td>\n",
       "    </tr>\n",
       "    <tr>\n",
       "      <th>87384</th>\n",
       "      <td>munglinup</td>\n",
       "      <td>NaN</td>\n",
       "      <td>NaN</td>\n",
       "    </tr>\n",
       "    <tr>\n",
       "      <th>87634</th>\n",
       "      <td>midland</td>\n",
       "      <td>NaN</td>\n",
       "      <td>NaN</td>\n",
       "    </tr>\n",
       "    <tr>\n",
       "      <th>87683</th>\n",
       "      <td>broomehill</td>\n",
       "      <td>NaN</td>\n",
       "      <td>NaN</td>\n",
       "    </tr>\n",
       "    <tr>\n",
       "      <th>87905</th>\n",
       "      <td>harvey</td>\n",
       "      <td>NaN</td>\n",
       "      <td>NaN</td>\n",
       "    </tr>\n",
       "    <tr>\n",
       "      <th>87914</th>\n",
       "      <td>corrigin</td>\n",
       "      <td>NaN</td>\n",
       "      <td>NaN</td>\n",
       "    </tr>\n",
       "  </tbody>\n",
       "</table>\n",
       "<p>693 rows × 3 columns</p>\n",
       "</div>"
      ],
      "text/plain": [
       "           suburb  latitude  longitude\n",
       "271      lathlain       NaN        NaN\n",
       "644       warwick       NaN        NaN\n",
       "847     cunderdin       NaN        NaN\n",
       "1133      hilbert       NaN        NaN\n",
       "1837    beechboro       NaN        NaN\n",
       "...           ...       ...        ...\n",
       "87384   munglinup       NaN        NaN\n",
       "87634     midland       NaN        NaN\n",
       "87683  broomehill       NaN        NaN\n",
       "87905      harvey       NaN        NaN\n",
       "87914    corrigin       NaN        NaN\n",
       "\n",
       "[693 rows x 3 columns]"
      ]
     },
     "execution_count": 25,
     "metadata": {},
     "output_type": "execute_result"
    }
   ],
   "source": [
    "train.loc[train['latitude'].isnull(), ['suburb','latitude','longitude']]"
   ]
  },
  {
   "cell_type": "code",
   "execution_count": 26,
   "id": "a14564c7",
   "metadata": {},
   "outputs": [
    {
     "name": "stdout",
     "output_type": "stream",
     "text": [
      "-31.967482471287124\n",
      "115.90492729801983\n"
     ]
    }
   ],
   "source": [
    "print(train[train['suburb']=='lathlain']['latitude'].mean())\n",
    "print(train[train['suburb']=='lathlain']['longitude'].mean())"
   ]
  },
  {
   "cell_type": "code",
   "execution_count": 27,
   "id": "a00d22d7",
   "metadata": {
    "scrolled": true
   },
   "outputs": [
    {
     "data": {
      "text/html": [
       "<div>\n",
       "<style scoped>\n",
       "    .dataframe tbody tr th:only-of-type {\n",
       "        vertical-align: middle;\n",
       "    }\n",
       "\n",
       "    .dataframe tbody tr th {\n",
       "        vertical-align: top;\n",
       "    }\n",
       "\n",
       "    .dataframe thead th {\n",
       "        text-align: right;\n",
       "    }\n",
       "</style>\n",
       "<table border=\"1\" class=\"dataframe\">\n",
       "  <thead>\n",
       "    <tr style=\"text-align: right;\">\n",
       "      <th></th>\n",
       "      <th>suburb</th>\n",
       "      <th>latitude</th>\n",
       "      <th>longitude</th>\n",
       "    </tr>\n",
       "  </thead>\n",
       "  <tbody>\n",
       "    <tr>\n",
       "      <th>121</th>\n",
       "      <td>hyden</td>\n",
       "      <td>NaN</td>\n",
       "      <td>NaN</td>\n",
       "    </tr>\n",
       "    <tr>\n",
       "      <th>760</th>\n",
       "      <td>north fremantle</td>\n",
       "      <td>NaN</td>\n",
       "      <td>NaN</td>\n",
       "    </tr>\n",
       "    <tr>\n",
       "      <th>914</th>\n",
       "      <td>wyalkatchem</td>\n",
       "      <td>NaN</td>\n",
       "      <td>NaN</td>\n",
       "    </tr>\n",
       "    <tr>\n",
       "      <th>969</th>\n",
       "      <td>mundaring</td>\n",
       "      <td>NaN</td>\n",
       "      <td>NaN</td>\n",
       "    </tr>\n",
       "    <tr>\n",
       "      <th>1025</th>\n",
       "      <td>bull creek</td>\n",
       "      <td>NaN</td>\n",
       "      <td>NaN</td>\n",
       "    </tr>\n",
       "    <tr>\n",
       "      <th>...</th>\n",
       "      <td>...</td>\n",
       "      <td>...</td>\n",
       "      <td>...</td>\n",
       "    </tr>\n",
       "    <tr>\n",
       "      <th>18454</th>\n",
       "      <td>port kennedy</td>\n",
       "      <td>NaN</td>\n",
       "      <td>NaN</td>\n",
       "    </tr>\n",
       "    <tr>\n",
       "      <th>18543</th>\n",
       "      <td>baldivis</td>\n",
       "      <td>NaN</td>\n",
       "      <td>NaN</td>\n",
       "    </tr>\n",
       "    <tr>\n",
       "      <th>18576</th>\n",
       "      <td>muntadgin</td>\n",
       "      <td>NaN</td>\n",
       "      <td>NaN</td>\n",
       "    </tr>\n",
       "    <tr>\n",
       "      <th>18603</th>\n",
       "      <td>dalkeith</td>\n",
       "      <td>NaN</td>\n",
       "      <td>NaN</td>\n",
       "    </tr>\n",
       "    <tr>\n",
       "      <th>18649</th>\n",
       "      <td>denmark</td>\n",
       "      <td>NaN</td>\n",
       "      <td>NaN</td>\n",
       "    </tr>\n",
       "  </tbody>\n",
       "</table>\n",
       "<p>155 rows × 3 columns</p>\n",
       "</div>"
      ],
      "text/plain": [
       "                suburb  latitude  longitude\n",
       "121              hyden       NaN        NaN\n",
       "760    north fremantle       NaN        NaN\n",
       "914        wyalkatchem       NaN        NaN\n",
       "969          mundaring       NaN        NaN\n",
       "1025        bull creek       NaN        NaN\n",
       "...                ...       ...        ...\n",
       "18454     port kennedy       NaN        NaN\n",
       "18543         baldivis       NaN        NaN\n",
       "18576        muntadgin       NaN        NaN\n",
       "18603         dalkeith       NaN        NaN\n",
       "18649          denmark       NaN        NaN\n",
       "\n",
       "[155 rows x 3 columns]"
      ]
     },
     "execution_count": 27,
     "metadata": {},
     "output_type": "execute_result"
    }
   ],
   "source": [
    "test.loc[test['latitude'].isnull(), ['suburb','latitude','longitude']]"
   ]
  },
  {
   "cell_type": "code",
   "execution_count": 28,
   "id": "41a65deb",
   "metadata": {},
   "outputs": [
    {
     "name": "stdout",
     "output_type": "stream",
     "text": [
      "-32.409388324999995\n",
      "118.94274615\n"
     ]
    }
   ],
   "source": [
    "print(train[train['suburb']=='hyden']['latitude'].mean())\n",
    "print(train[train['suburb']=='hyden']['longitude'].mean())"
   ]
  },
  {
   "cell_type": "code",
   "execution_count": 29,
   "id": "401f2a8f",
   "metadata": {},
   "outputs": [],
   "source": [
    "########################################################\n",
    "#                                                      # \n",
    "#  Imputing missing values for the spatial features    #\n",
    "#  using the median value of the corresponding suburb  #\n",
    "#                                                      #\n",
    "########################################################\n",
    "\n",
    "groupby_col = 'suburb'\n",
    "# Features to impute\n",
    "spatial_features = ['latitude','longitude']\n",
    "\n",
    "# Loop through each feature\n",
    "for impute_col in spatial_features:\n",
    "    train,test = impute_by_group(train, test, groupby_col, impute_col, method='mean')"
   ]
  },
  {
   "cell_type": "code",
   "execution_count": 30,
   "id": "0de68dba",
   "metadata": {},
   "outputs": [
    {
     "name": "stdout",
     "output_type": "stream",
     "text": [
      "-31.96748247128713\n",
      "115.9049272980198\n"
     ]
    }
   ],
   "source": [
    "print(train.loc[(271)]['latitude'])\n",
    "print(train.loc[(271)]['longitude'])"
   ]
  },
  {
   "cell_type": "code",
   "execution_count": 31,
   "id": "bc24831c",
   "metadata": {},
   "outputs": [
    {
     "name": "stdout",
     "output_type": "stream",
     "text": [
      "-32.409388325\n",
      "118.94274615\n"
     ]
    }
   ],
   "source": [
    "print(test.loc[(121)]['latitude'])\n",
    "print(test.loc[(121)]['longitude'])"
   ]
  },
  {
   "cell_type": "markdown",
   "id": "b10b4223",
   "metadata": {},
   "source": [
    "# KNN Imputation"
   ]
  },
  {
   "cell_type": "code",
   "execution_count": 32,
   "id": "7ca4f652",
   "metadata": {},
   "outputs": [],
   "source": [
    "from sklearn.neighbors import KNeighborsRegressor\n",
    "from sklearn.neighbors import NearestNeighbors\n",
    "from geopy.distance import geodesic"
   ]
  },
  {
   "cell_type": "markdown",
   "id": "622fb451",
   "metadata": {},
   "source": [
    "### Land area\n",
    "We will be using latitude and longitude to impute on landArea. We suspect that there is a difference in landArea for rural and non-rural areas. There also seems to be less recorded neighbours for rural areas. To account for this, the data will be split into rural and non-rural areas before imputation. "
   ]
  },
  {
   "cell_type": "code",
   "execution_count": 33,
   "id": "ec7cf596",
   "metadata": {},
   "outputs": [],
   "source": [
    "# Dropping the rows with missing latitude and longitude as these columns are needed for imputation\n",
    "train = train.dropna(subset=['latitude','longitude'])\n",
    "test = test.dropna(subset=['latitude','longitude'])\n",
    "train.reset_index(drop=True,inplace=True)\n",
    "test.reset_index(drop=True,inplace=True)\n",
    "# Seperating null and non-null \n",
    "x = train.loc[train['landArea'].notnull(), ['latitude','longitude','landArea','isRural']]\n",
    "y = train.loc[train['landArea'].isnull(), ['latitude','longitude','landArea','isRural']]\n",
    "y_test = test.loc[test['landArea'].isnull(), ['latitude','longitude','landArea','isRural']]"
   ]
  },
  {
   "cell_type": "code",
   "execution_count": 34,
   "id": "a9826a96",
   "metadata": {},
   "outputs": [
    {
     "name": "stdout",
     "output_type": "stream",
     "text": [
      "(71314, 4)\n",
      "(16693, 4)\n"
     ]
    }
   ],
   "source": [
    "print(x.shape)\n",
    "print(y.shape)"
   ]
  },
  {
   "cell_type": "markdown",
   "id": "63592042",
   "metadata": {},
   "source": [
    "- x has the non-null values\n",
    "- y has the null values"
   ]
  },
  {
   "cell_type": "code",
   "execution_count": 35,
   "id": "ea077fee",
   "metadata": {},
   "outputs": [],
   "source": [
    "# Rural instances\n",
    "x_rural = x.loc[x['isRural']==True, ['latitude','longitude','landArea']]\n",
    "y_rural = y.loc[y['isRural']==True, ['latitude','longitude']]\n",
    "y_test_rural = y_test.loc[y_test['isRural']==True, ['latitude','longitude']]\n",
    "# Non-rural instances\n",
    "x_nonrural = x.loc[x['isRural']==False, ['latitude','longitude','landArea']]\n",
    "y_nonrural = y.loc[y['isRural']==False, ['latitude','longitude']]\n",
    "y_test_nonrural = y_test.loc[y_test['isRural']==False, ['latitude','longitude']]"
   ]
  },
  {
   "cell_type": "code",
   "execution_count": 36,
   "id": "381e4bb9",
   "metadata": {
    "scrolled": true
   },
   "outputs": [
    {
     "name": "stdout",
     "output_type": "stream",
     "text": [
      "(4306, 3)\n",
      "(42, 2)\n",
      "(6, 2)\n",
      "\n",
      "(67008, 3)\n",
      "(16651, 2)\n",
      "(3594, 2)\n"
     ]
    }
   ],
   "source": [
    "print(x_rural.shape)\n",
    "print(y_rural.shape)\n",
    "print(y_test_rural.shape)\n",
    "print()\n",
    "print(x_nonrural.shape)\n",
    "print(y_nonrural.shape)\n",
    "print(y_test_nonrural.shape)"
   ]
  },
  {
   "cell_type": "markdown",
   "id": "8288f0c6",
   "metadata": {},
   "source": [
    "- We've now separated the rural and nonrural data\n",
    "- We will using the x to predict values for y"
   ]
  },
  {
   "cell_type": "code",
   "execution_count": 37,
   "id": "b2da84a2",
   "metadata": {},
   "outputs": [],
   "source": [
    "imputer_rural = KNeighborsRegressor(n_neighbors=1)\n",
    "# Fitting on the training set\n",
    "imputer_rural.fit(x_rural[['latitude','longitude']], x_rural['landArea'])\n",
    "# Imputing on missing rural landArea \n",
    "predict_rural = imputer_rural.predict(y_rural)\n",
    "train.loc[y_rural.index,'landArea'] = predict_rural\n",
    "# Imputing on missing rural landArea on validation set using training data\n",
    "predict_test_rural = imputer_rural.predict(y_test_rural)\n",
    "test.loc[y_test_rural.index,'landArea'] = predict_test_rural"
   ]
  },
  {
   "cell_type": "code",
   "execution_count": 38,
   "id": "71dfc459",
   "metadata": {},
   "outputs": [],
   "source": [
    "imputer_nonrural = KNeighborsRegressor(n_neighbors=3)\n",
    "# Fitting on the training set\n",
    "imputer_nonrural.fit(x_nonrural[['latitude','longitude']], x_nonrural['landArea'])\n",
    "# Imputing on missing nonrural landArea \n",
    "predict_nonrural = imputer_nonrural.predict(y_nonrural)\n",
    "train.loc[y_nonrural.index, 'landArea'] = predict_nonrural\n",
    "# Imputing on missing nonrural landArea on validation set using training data\n",
    "predict_test_nonrural = imputer_nonrural.predict(y_test_nonrural)\n",
    "test.loc[y_test_nonrural.index,'landArea'] = predict_test_nonrural"
   ]
  },
  {
   "cell_type": "markdown",
   "id": "f10cef67",
   "metadata": {},
   "source": [
    "### School features\n",
    "We will be using a dataset found online which includes schools and their geospatial locations. \n",
    "https://asl.acara.edu.au/school-search\n",
    "The only filter I made on the search was selecting primary, secondary and combined on the type of school (leaving special unselected)"
   ]
  },
  {
   "cell_type": "code",
   "execution_count": 39,
   "id": "53fb9ba0",
   "metadata": {},
   "outputs": [],
   "source": [
    "school_path = '/Users/tristangarcia/desktop/hp-pred_data/school/'\n",
    "schools = pd.read_csv(f'{school_path}school_location.csv')"
   ]
  },
  {
   "cell_type": "code",
   "execution_count": 40,
   "id": "16fe77d1",
   "metadata": {
    "scrolled": true
   },
   "outputs": [
    {
     "data": {
      "text/html": [
       "<div>\n",
       "<style scoped>\n",
       "    .dataframe tbody tr th:only-of-type {\n",
       "        vertical-align: middle;\n",
       "    }\n",
       "\n",
       "    .dataframe tbody tr th {\n",
       "        vertical-align: top;\n",
       "    }\n",
       "\n",
       "    .dataframe thead th {\n",
       "        text-align: right;\n",
       "    }\n",
       "</style>\n",
       "<table border=\"1\" class=\"dataframe\">\n",
       "  <thead>\n",
       "    <tr style=\"text-align: right;\">\n",
       "      <th></th>\n",
       "      <th>School Name</th>\n",
       "      <th>Suburb</th>\n",
       "      <th>State</th>\n",
       "      <th>Postcode</th>\n",
       "      <th>School Sector</th>\n",
       "      <th>School Type</th>\n",
       "      <th>Latitude</th>\n",
       "      <th>Longitude</th>\n",
       "    </tr>\n",
       "  </thead>\n",
       "  <tbody>\n",
       "    <tr>\n",
       "      <th>0</th>\n",
       "      <td>Corpus Christi Catholic School</td>\n",
       "      <td>BELLERIVE</td>\n",
       "      <td>TAS</td>\n",
       "      <td>7018</td>\n",
       "      <td>Catholic</td>\n",
       "      <td>Primary</td>\n",
       "      <td>-42.871256</td>\n",
       "      <td>147.371473</td>\n",
       "    </tr>\n",
       "    <tr>\n",
       "      <th>1</th>\n",
       "      <td>Fahan School</td>\n",
       "      <td>SANDY BAY</td>\n",
       "      <td>TAS</td>\n",
       "      <td>7005</td>\n",
       "      <td>Independent</td>\n",
       "      <td>Combined</td>\n",
       "      <td>-42.916158</td>\n",
       "      <td>147.352764</td>\n",
       "    </tr>\n",
       "    <tr>\n",
       "      <th>2</th>\n",
       "      <td>Geneva Christian College</td>\n",
       "      <td>LATROBE</td>\n",
       "      <td>TAS</td>\n",
       "      <td>7307</td>\n",
       "      <td>Independent</td>\n",
       "      <td>Combined</td>\n",
       "      <td>-41.226741</td>\n",
       "      <td>146.438726</td>\n",
       "    </tr>\n",
       "    <tr>\n",
       "      <th>3</th>\n",
       "      <td>Holy Rosary Catholic School</td>\n",
       "      <td>CLAREMONT</td>\n",
       "      <td>TAS</td>\n",
       "      <td>7011</td>\n",
       "      <td>Catholic</td>\n",
       "      <td>Primary</td>\n",
       "      <td>-42.789375</td>\n",
       "      <td>147.248306</td>\n",
       "    </tr>\n",
       "    <tr>\n",
       "      <th>4</th>\n",
       "      <td>Immaculate Heart of Mary Catholic School</td>\n",
       "      <td>LENAH VALLEY</td>\n",
       "      <td>TAS</td>\n",
       "      <td>7008</td>\n",
       "      <td>Catholic</td>\n",
       "      <td>Primary</td>\n",
       "      <td>-42.865543</td>\n",
       "      <td>147.290159</td>\n",
       "    </tr>\n",
       "  </tbody>\n",
       "</table>\n",
       "</div>"
      ],
      "text/plain": [
       "                                School Name        Suburb State  Postcode  \\\n",
       "0            Corpus Christi Catholic School     BELLERIVE   TAS      7018   \n",
       "1                              Fahan School     SANDY BAY   TAS      7005   \n",
       "2                  Geneva Christian College       LATROBE   TAS      7307   \n",
       "3               Holy Rosary Catholic School     CLAREMONT   TAS      7011   \n",
       "4  Immaculate Heart of Mary Catholic School  LENAH VALLEY   TAS      7008   \n",
       "\n",
       "  School Sector School Type   Latitude   Longitude  \n",
       "0      Catholic     Primary -42.871256  147.371473  \n",
       "1   Independent    Combined -42.916158  147.352764  \n",
       "2   Independent    Combined -41.226741  146.438726  \n",
       "3      Catholic     Primary -42.789375  147.248306  \n",
       "4      Catholic     Primary -42.865543  147.290159  "
      ]
     },
     "execution_count": 40,
     "metadata": {},
     "output_type": "execute_result"
    }
   ],
   "source": [
    "schools.head()"
   ]
  },
  {
   "cell_type": "code",
   "execution_count": 41,
   "id": "01ae317d",
   "metadata": {},
   "outputs": [],
   "source": [
    "#### Preprocessing school data ####\n",
    "\n",
    "# Dropping missing values\n",
    "schools.dropna(inplace=True)\n",
    "# Subsetting columns\n",
    "schools = schools[['School Name', 'State','School Sector', 'School Type', 'Latitude', 'Longitude']]\n",
    "# Lowercasing all string values\n",
    "schools = schools.map(lambda x: x.lower() if isinstance(x,str) else x)\n",
    "# Changing 'Independent' sector to 'private'\n",
    "schools['School Sector'] = schools['School Sector'].map(lambda x: 'private' if x=='independent' else x)\n",
    "# Renaming columns\n",
    "schools.rename(columns={'School Name':'school','State':'state','School Sector':'sector',\n",
    "                        'School Type':'type','Latitude':'latitude','Longitude':'longitude'}, inplace=True)"
   ]
  },
  {
   "cell_type": "code",
   "execution_count": 42,
   "id": "4d74da72",
   "metadata": {},
   "outputs": [],
   "source": [
    "# Function to calculate distance in kilometers\n",
    "def degree_to_km(lat1, lon1, lat2, lon2):\n",
    "    return geodesic((lat1, lon1), (lat2, lon2)).kilometers"
   ]
  },
  {
   "cell_type": "code",
   "execution_count": 43,
   "id": "691c7d8a",
   "metadata": {},
   "outputs": [],
   "source": [
    "# Function to impute school data for a given dataset (train or test) and school type\n",
    "def impute_school_data(df, schools, school_type):\n",
    "    # Filter the schools based on the given school type\n",
    "    school_df = schools[(schools['state']=='wa')&\n",
    "                     ((schools['type']==school_type) | \n",
    "                      (schools['type']=='combined'))][['school','type','sector','latitude','longitude']]\n",
    "\n",
    "    # Initialize Nearest Neighbors model\n",
    "    nn = NearestNeighbors(n_neighbors=1, algorithm='ball_tree')\n",
    "    nn.fit(school_df[['latitude', 'longitude']])\n",
    "\n",
    "    # Identify rows with missing values in the given dataset for the specified school type\n",
    "    missing_df = df[df[f'{school_type}'].isna()]\n",
    "\n",
    "    # Impute missing data if there are any\n",
    "    if not missing_df.empty:\n",
    "        distances, indices = nn.kneighbors(missing_df[['latitude', 'longitude']])\n",
    "\n",
    "        # Calculate distances in kilometers\n",
    "        distances_km = [\n",
    "            degree_to_km(lat1, lon1, lat2, lon2)\n",
    "            for (lat1, lon1), (lat2, lon2) in zip(\n",
    "                missing_df[['latitude', 'longitude']].values,\n",
    "                school_df.iloc[indices.flatten()][['latitude', 'longitude']].values\n",
    "            )\n",
    "        ]\n",
    "\n",
    "        df.loc[missing_df.index, f'{school_type}'] = school_df.iloc[indices.flatten()]['school'].values\n",
    "        df.loc[missing_df.index, f'{school_type}Distance'] = distances_km\n",
    "        df.loc[missing_df.index, f'{school_type}Type'] = school_df.iloc[indices.flatten()]['sector'].values\n",
    "\n",
    "    return df"
   ]
  },
  {
   "cell_type": "code",
   "execution_count": 44,
   "id": "1c748c75",
   "metadata": {},
   "outputs": [],
   "source": [
    "# Imputing on training set\n",
    "train = impute_school_data(train, schools, 'primary')\n",
    "train = impute_school_data(train, schools, 'secondary')\n",
    "# Imputing on testing set\n",
    "test = impute_school_data(test, schools, 'primary')\n",
    "test = impute_school_data(test, schools, 'secondary')"
   ]
  },
  {
   "cell_type": "markdown",
   "id": "08f867ca",
   "metadata": {},
   "source": [
    "# Writing to file"
   ]
  },
  {
   "cell_type": "code",
   "execution_count": 47,
   "id": "d5e89a0f",
   "metadata": {},
   "outputs": [],
   "source": [
    "train.to_pickle(f'{path}wa_train_clean.pkl')\n",
    "test.to_pickle(f'{path}wa_validation_clean.pkl')"
   ]
  }
 ],
 "metadata": {
  "kernelspec": {
   "display_name": "Python 3 (ipykernel)",
   "language": "python",
   "name": "python3"
  },
  "language_info": {
   "codemirror_mode": {
    "name": "ipython",
    "version": 3
   },
   "file_extension": ".py",
   "mimetype": "text/x-python",
   "name": "python",
   "nbconvert_exporter": "python",
   "pygments_lexer": "ipython3",
   "version": "3.11.2"
  }
 },
 "nbformat": 4,
 "nbformat_minor": 5
}
