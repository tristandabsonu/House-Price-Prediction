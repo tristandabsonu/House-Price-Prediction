{
 "cells": [
  {
   "cell_type": "code",
   "execution_count": 1,
   "id": "0e55022f",
   "metadata": {},
   "outputs": [],
   "source": [
    "import pandas as pd\n",
    "pd.set_option(\"max_colwidth\", None)\n",
    "pd.set_option(\"max_seq_items\", None)\n",
    "\n",
    "import numpy as np"
   ]
  },
  {
   "cell_type": "code",
   "execution_count": 2,
   "id": "2f0b1882",
   "metadata": {},
   "outputs": [],
   "source": [
    "in_path = '/Users/tristangarcia/desktop/hp-pred_data/data/wa_data/'"
   ]
  },
  {
   "cell_type": "code",
   "execution_count": 3,
   "id": "6984e6c6",
   "metadata": {},
   "outputs": [],
   "source": [
    "train = pd.read_csv(f'{in_path}wa_train.csv')\n",
    "test = pd.read_csv(f'{in_path}wa_validation.csv')  # validation set"
   ]
  },
  {
   "cell_type": "code",
   "execution_count": 4,
   "id": "bf9ede96",
   "metadata": {},
   "outputs": [
    {
     "name": "stdout",
     "output_type": "stream",
     "text": [
      "(88064, 39)\n",
      "(18871, 39)\n"
     ]
    }
   ],
   "source": [
    "print(train.shape)\n",
    "print(test.shape)"
   ]
  },
  {
   "cell_type": "markdown",
   "id": "ed03bed5",
   "metadata": {},
   "source": [
    "# Reformatting "
   ]
  },
  {
   "cell_type": "markdown",
   "id": "4d3e24ba",
   "metadata": {},
   "source": [
    "### Property type"
   ]
  },
  {
   "cell_type": "code",
   "execution_count": 5,
   "id": "5a92fe88",
   "metadata": {},
   "outputs": [
    {
     "data": {
      "text/plain": [
       "propertyTypes\n",
       "House                                                             62055\n",
       "Apartment                                                         10604\n",
       "Land                                                               7870\n",
       "Townhouse/Villa                                                    4824\n",
       "Any                                                                1435\n",
       "Rural                                                               735\n",
       "House,Any                                                           171\n",
       "Any,Rural                                                            90\n",
       "New Developments,Apartment                                           56\n",
       "Any,House                                                            53\n",
       "New Developments                                                     23\n",
       "Townhouse/Villa,Townhouse/Villa                                      16\n",
       "Any,Land                                                             13\n",
       "Any,Any                                                              11\n",
       "Apartment,House,Townhouse/Villa,Townhouse/Villa                      11\n",
       "House,Townhouse/Villa                                                11\n",
       "House,House                                                          10\n",
       "Townhouse/Villa,New Developments                                     10\n",
       "House,Land                                                            9\n",
       "Apartment,House,Townhouse/Villa                                       7\n",
       "Apartment,House                                                       6\n",
       "Apartment,Townhouse/Villa                                             5\n",
       "Townhouse/Villa,House                                                 4\n",
       "Rural,Apartment                                                       4\n",
       "Rural,Land                                                            3\n",
       "New Developments,Townhouse/Villa                                      3\n",
       "Apartment,New Developments                                            3\n",
       "Rural,Any,House                                                       2\n",
       "Any,House,Any                                                         2\n",
       "Apartment,House,Apartment,Townhouse/Villa,Townhouse/Villa             2\n",
       "Apartment,Apartment                                                   2\n",
       "Apartment,House,Townhouse/Villa,Land,Townhouse/Villa                  2\n",
       "Apartment,Apartment,House,House,Townhouse/Villa                       1\n",
       "House,Townhouse/Villa,Townhouse/Villa                                 1\n",
       "Any,Any,Any                                                           1\n",
       "Any,Townhouse/Villa                                                   1\n",
       "Apartment,Townhouse/Villa,Townhouse/Villa                             1\n",
       "Apartment,Apartment,House,Townhouse/Villa,Townhouse/Villa             1\n",
       "Apartment,House,Apartment,Townhouse/Villa,Land,Townhouse/Villa        1\n",
       "Any,House,Land                                                        1\n",
       "Apartment,House,Any,Townhouse/Villa,Townhouse/Villa                   1\n",
       "Apartment,House,House,Townhouse/Villa                                 1\n",
       "Name: count, dtype: int64"
      ]
     },
     "execution_count": 5,
     "metadata": {},
     "output_type": "execute_result"
    }
   ],
   "source": [
    "train['propertyTypes'].value_counts()"
   ]
  },
  {
   "cell_type": "markdown",
   "id": "eb8e6a44",
   "metadata": {},
   "source": [
    "### Only possible entries:\n",
    "- House\n",
    "- Apartment\n",
    "- Land\n",
    "- Townhouse/Villa\n",
    "- Rural??\n",
    "- Any??"
   ]
  },
  {
   "cell_type": "code",
   "execution_count": 6,
   "id": "58e9b445",
   "metadata": {},
   "outputs": [],
   "source": [
    "train['propertyTypes'] = train['propertyTypes'].str.split(',')\n",
    "test['propertyTypes'] = test['propertyTypes'].str.split(',')\n",
    "\n",
    "def reformat_propertyTypes(row):\n",
    "    # Valid property types\n",
    "    types = ['House','Apartment','Land','Townhouse/Villa','Rural']\n",
    "    # This deals with NaN values\n",
    "    if not isinstance(row, list):\n",
    "        return 'Unknown'\n",
    "    # Go through all property types\n",
    "    for t in row:\n",
    "        if t in types:\n",
    "            # Return the first instance of a valid property type\n",
    "            return t\n",
    "    # Return 'Unkown' if no valid property types found\n",
    "    return 'Unknown'\n",
    "        \n",
    "# Applying the function\n",
    "train['propertyTypes'] = train['propertyTypes'].apply(reformat_propertyTypes)\n",
    "test['propertyTypes'] = test['propertyTypes'].apply(reformat_propertyTypes)"
   ]
  },
  {
   "cell_type": "code",
   "execution_count": 7,
   "id": "7397983c",
   "metadata": {
    "scrolled": true
   },
   "outputs": [
    {
     "data": {
      "text/plain": [
       "propertyTypes\n",
       "House              62313\n",
       "Apartment          10704\n",
       "Land                7883\n",
       "Townhouse/Villa     4858\n",
       "Unknown             1472\n",
       "Rural                834\n",
       "Name: count, dtype: int64"
      ]
     },
     "execution_count": 7,
     "metadata": {},
     "output_type": "execute_result"
    }
   ],
   "source": [
    "train['propertyTypes'].value_counts()"
   ]
  },
  {
   "cell_type": "markdown",
   "id": "ebdeba82",
   "metadata": {},
   "source": [
    "### Features"
   ]
  },
  {
   "cell_type": "code",
   "execution_count": 8,
   "id": "85a79775",
   "metadata": {},
   "outputs": [
    {
     "data": {
      "text/plain": [
       "features\n",
       "['Ensuite']                                                                                                                                                                                            6423\n",
       "['Air conditioning']                                                                                                                                                                                   1030\n",
       "['Secure Parking']                                                                                                                                                                                      689\n",
       "['Study']                                                                                                                                                                                               503\n",
       "['Air conditioning', 'Built in wardrobes']                                                                                                                                                              333\n",
       "                                                                                                                                                                                                       ... \n",
       "['Subdivision', 'Gas Heating', 'Kitchen', 'Patio', 'Built In Robes', 'High Ceilings', 'Air Conditioning', 'Dishwasher', 'Outdoor Entertaining Area', 'Shed', 'Fully Fenced', 'Workshop', 'Laundry']       1\n",
       "['Air conditioning', 'Balcony / Deck', 'Built in wardrobes', 'Garden / Courtyard', 'Dishwasher', 'Fully fenced', 'Secure Parking', 'Ensuite', 'City Views']                                               1\n",
       "['Air conditioning', 'Built in wardrobes', 'Fireplace(s)', 'Swimming Pool', 'Shed', 'Ensuite']                                                                                                            1\n",
       "['Air conditioning', 'Built in wardrobes', 'Secure Parking', 'Balcony / Deck', 'Swimming Pool', '3rd Bed / Study']                                                                                        1\n",
       "['Air conditioning', 'Built in wardrobes', 'Dishwasher', 'Fully fenced', 'High Ceilings', 'Swimming Pool', 'Rumpus Room', 'Ensuite']                                                                      1\n",
       "Name: count, Length: 19021, dtype: int64"
      ]
     },
     "execution_count": 8,
     "metadata": {},
     "output_type": "execute_result"
    }
   ],
   "source": [
    "train['features'].value_counts()"
   ]
  },
  {
   "cell_type": "code",
   "execution_count": 9,
   "id": "11a70e1e",
   "metadata": {},
   "outputs": [
    {
     "data": {
      "text/plain": [
       "'['"
      ]
     },
     "execution_count": 9,
     "metadata": {},
     "output_type": "execute_result"
    }
   ],
   "source": [
    "train['features'][0][0]"
   ]
  },
  {
   "cell_type": "markdown",
   "id": "fd420196",
   "metadata": {},
   "source": [
    "We can see that each instance of the variables 'features' looks like a list but is actually a string"
   ]
  },
  {
   "cell_type": "code",
   "execution_count": 10,
   "id": "e8c9edaa",
   "metadata": {},
   "outputs": [],
   "source": [
    "# Converting the 'string lists' into lists\n",
    "# https://stackoverflow.com/questions/1894269/how-to-convert-string-representation-of-list-to-a-list\n",
    "import ast\n",
    "\n",
    "train['features'] = train['features'].apply(lambda x: ast.literal_eval(x) if pd.notnull(x) else [])\n",
    "test['features'] = test['features'].apply(lambda x: ast.literal_eval(x) if pd.notnull(x) else [])"
   ]
  },
  {
   "cell_type": "markdown",
   "id": "838b4cb7",
   "metadata": {},
   "source": [
    "### Lowercasing categorical variables"
   ]
  },
  {
   "cell_type": "code",
   "execution_count": 11,
   "id": "45565701",
   "metadata": {},
   "outputs": [],
   "source": [
    "train = train.map(lambda x: x.lower() if isinstance(x, str) else x)\n",
    "test = test.map(lambda x: x.lower() if isinstance(x,str) else x)"
   ]
  },
  {
   "cell_type": "markdown",
   "id": "3765e6cc",
   "metadata": {},
   "source": [
    "# Irrelevant features"
   ]
  },
  {
   "cell_type": "code",
   "execution_count": 12,
   "id": "93555640",
   "metadata": {
    "scrolled": true
   },
   "outputs": [
    {
     "data": {
      "text/plain": [
       "Index(['listingId', 'unitNumber', 'streetNumber', 'street', 'suburb', 'state',\n",
       "       'postcode', 'bathrooms', 'bedrooms', 'parking', 'landArea', 'latitude',\n",
       "       'longitude', 'features', 'agency', 'propertyTypes', 'promoLevel',\n",
       "       'soldMonth', 'soldYear', 'daysListed', 'inspectionsCount', 'isRural',\n",
       "       'hasDescription', 'hasFloorplan', 'hasDisplayPrice', 'hasPhoto',\n",
       "       'photoCount', 'suburb_medianPrice', 'suburb_medianRentPrice',\n",
       "       'suburb_entryLevelPrice', 'suburb_luxuryLevelPrice', 'primary',\n",
       "       'primaryDistance', 'primaryType', 'secondary', 'secondaryDistance',\n",
       "       'secondaryType', 'listingUrl', 'soldPrice'],\n",
       "      dtype='object')"
      ]
     },
     "execution_count": 12,
     "metadata": {},
     "output_type": "execute_result"
    }
   ],
   "source": [
    "train.columns"
   ]
  },
  {
   "cell_type": "markdown",
   "id": "b910eb29",
   "metadata": {},
   "source": [
    "### Listing of irrelevant columns:\n",
    "listingId,unitNumber,streetNumber,listingUrl"
   ]
  },
  {
   "cell_type": "code",
   "execution_count": 13,
   "id": "92f823c6",
   "metadata": {},
   "outputs": [],
   "source": [
    "# Dropping the irrelevant columns\n",
    "train = train.drop(columns=['listingId','unitNumber','streetNumber','street','listingUrl'])\n",
    "test = test.drop(columns=['listingId','unitNumber','streetNumber','street','listingUrl'])"
   ]
  },
  {
   "cell_type": "markdown",
   "id": "e0985c42",
   "metadata": {},
   "source": [
    "# Missing values"
   ]
  },
  {
   "cell_type": "code",
   "execution_count": 14,
   "id": "73428bb4",
   "metadata": {},
   "outputs": [
    {
     "data": {
      "text/plain": [
       "suburb                        15\n",
       "state                         15\n",
       "postcode                      15\n",
       "bathrooms                      0\n",
       "bedrooms                       0\n",
       "parking                        0\n",
       "landArea                   16782\n",
       "latitude                     708\n",
       "longitude                    708\n",
       "features                       0\n",
       "agency                         0\n",
       "propertyTypes                  0\n",
       "promoLevel                     0\n",
       "soldMonth                      0\n",
       "soldYear                       0\n",
       "daysListed                     0\n",
       "inspectionsCount               0\n",
       "isRural                        0\n",
       "hasDescription                 0\n",
       "hasFloorplan                   0\n",
       "hasDisplayPrice                0\n",
       "hasPhoto                       0\n",
       "photoCount                     0\n",
       "suburb_medianPrice             7\n",
       "suburb_medianRentPrice         7\n",
       "suburb_entryLevelPrice         7\n",
       "suburb_luxuryLevelPrice        7\n",
       "primary                     6285\n",
       "primaryDistance             6285\n",
       "primaryType                 6285\n",
       "secondary                   9518\n",
       "secondaryDistance           9518\n",
       "secondaryType               9518\n",
       "soldPrice                      0\n",
       "dtype: int64"
      ]
     },
     "execution_count": 14,
     "metadata": {},
     "output_type": "execute_result"
    }
   ],
   "source": [
    "train.isnull().sum()"
   ]
  },
  {
   "cell_type": "markdown",
   "id": "e15cfc5b",
   "metadata": {},
   "source": [
    "### Sold price"
   ]
  },
  {
   "cell_type": "code",
   "execution_count": 15,
   "id": "d5a6b4a4",
   "metadata": {},
   "outputs": [],
   "source": [
    "na_cols = ['suburb','state','postcode','soldPrice']\n",
    "# Removing missing rows for soldPrice\n",
    "for col in na_cols:\n",
    "    train.dropna(subset=[col], inplace=True)\n",
    "    test.dropna(subset=[col], inplace=True)"
   ]
  },
  {
   "cell_type": "markdown",
   "id": "66b83b74",
   "metadata": {},
   "source": [
    "### Suburb insight features"
   ]
  },
  {
   "cell_type": "code",
   "execution_count": 16,
   "id": "1ebbd02e",
   "metadata": {
    "scrolled": false
   },
   "outputs": [
    {
     "data": {
      "text/html": [
       "<div>\n",
       "<style scoped>\n",
       "    .dataframe tbody tr th:only-of-type {\n",
       "        vertical-align: middle;\n",
       "    }\n",
       "\n",
       "    .dataframe tbody tr th {\n",
       "        vertical-align: top;\n",
       "    }\n",
       "\n",
       "    .dataframe thead th {\n",
       "        text-align: right;\n",
       "    }\n",
       "</style>\n",
       "<table border=\"1\" class=\"dataframe\">\n",
       "  <thead>\n",
       "    <tr style=\"text-align: right;\">\n",
       "      <th></th>\n",
       "      <th>suburb</th>\n",
       "      <th>soldYear</th>\n",
       "      <th>suburb_medianRentPrice</th>\n",
       "      <th>suburb_entryLevelPrice</th>\n",
       "      <th>suburb_luxuryLevelPrice</th>\n",
       "    </tr>\n",
       "  </thead>\n",
       "  <tbody>\n",
       "    <tr>\n",
       "      <th>3740</th>\n",
       "      <td>gnangara</td>\n",
       "      <td>2022.0</td>\n",
       "      <td>NaN</td>\n",
       "      <td>NaN</td>\n",
       "      <td>NaN</td>\n",
       "    </tr>\n",
       "    <tr>\n",
       "      <th>5587</th>\n",
       "      <td>green head</td>\n",
       "      <td>2024.0</td>\n",
       "      <td>NaN</td>\n",
       "      <td>NaN</td>\n",
       "      <td>NaN</td>\n",
       "    </tr>\n",
       "    <tr>\n",
       "      <th>24563</th>\n",
       "      <td>quinns rocks</td>\n",
       "      <td>2024.0</td>\n",
       "      <td>NaN</td>\n",
       "      <td>NaN</td>\n",
       "      <td>NaN</td>\n",
       "    </tr>\n",
       "    <tr>\n",
       "      <th>52450</th>\n",
       "      <td>wembley</td>\n",
       "      <td>2024.0</td>\n",
       "      <td>NaN</td>\n",
       "      <td>NaN</td>\n",
       "      <td>NaN</td>\n",
       "    </tr>\n",
       "    <tr>\n",
       "      <th>52719</th>\n",
       "      <td>jindalee</td>\n",
       "      <td>2023.0</td>\n",
       "      <td>NaN</td>\n",
       "      <td>NaN</td>\n",
       "      <td>NaN</td>\n",
       "    </tr>\n",
       "    <tr>\n",
       "      <th>63920</th>\n",
       "      <td>derby</td>\n",
       "      <td>2023.0</td>\n",
       "      <td>NaN</td>\n",
       "      <td>NaN</td>\n",
       "      <td>NaN</td>\n",
       "    </tr>\n",
       "    <tr>\n",
       "      <th>80297</th>\n",
       "      <td>lyalls mill</td>\n",
       "      <td>2022.0</td>\n",
       "      <td>NaN</td>\n",
       "      <td>NaN</td>\n",
       "      <td>NaN</td>\n",
       "    </tr>\n",
       "  </tbody>\n",
       "</table>\n",
       "</div>"
      ],
      "text/plain": [
       "             suburb  soldYear  suburb_medianRentPrice  suburb_entryLevelPrice  \\\n",
       "3740       gnangara    2022.0                     NaN                     NaN   \n",
       "5587     green head    2024.0                     NaN                     NaN   \n",
       "24563  quinns rocks    2024.0                     NaN                     NaN   \n",
       "52450       wembley    2024.0                     NaN                     NaN   \n",
       "52719      jindalee    2023.0                     NaN                     NaN   \n",
       "63920         derby    2023.0                     NaN                     NaN   \n",
       "80297   lyalls mill    2022.0                     NaN                     NaN   \n",
       "\n",
       "       suburb_luxuryLevelPrice  \n",
       "3740                       NaN  \n",
       "5587                       NaN  \n",
       "24563                      NaN  \n",
       "52450                      NaN  \n",
       "52719                      NaN  \n",
       "63920                      NaN  \n",
       "80297                      NaN  "
      ]
     },
     "execution_count": 16,
     "metadata": {},
     "output_type": "execute_result"
    }
   ],
   "source": [
    "# All rows missing rows for suburb_medianPrice,suburb_medianRentPrice,suburb_entryLevelPrice,suburb_luxuryLevelPrice\n",
    "# are from the same row\n",
    "train.loc[train['suburb_medianPrice'].isnull(), ['suburb','soldYear','suburb_medianRentPrice','suburb_entryLevelPrice',\n",
    "                                               'suburb_luxuryLevelPrice']]"
   ]
  },
  {
   "cell_type": "code",
   "execution_count": 17,
   "id": "015173e6",
   "metadata": {
    "scrolled": true
   },
   "outputs": [
    {
     "data": {
      "text/plain": [
       "suburb_medianPrice    795000.0\n",
       "dtype: float64"
      ]
     },
     "execution_count": 17,
     "metadata": {},
     "output_type": "execute_result"
    }
   ],
   "source": [
    "# Input price for the first instance \n",
    "train.loc[(train[\"soldYear\"] == 2024) & (train[\"suburb\"] == 'quinns rocks'),['suburb_medianPrice']].median()"
   ]
  },
  {
   "cell_type": "markdown",
   "id": "97294947",
   "metadata": {},
   "source": [
    "The median house price for Quinns Rocks in 2024 is 795,000\n",
    "We well check train.loc[(24563)] to ensure it has been imputed with the correct value"
   ]
  },
  {
   "cell_type": "code",
   "execution_count": 18,
   "id": "b6b2464b",
   "metadata": {},
   "outputs": [
    {
     "data": {
      "text/html": [
       "<div>\n",
       "<style scoped>\n",
       "    .dataframe tbody tr th:only-of-type {\n",
       "        vertical-align: middle;\n",
       "    }\n",
       "\n",
       "    .dataframe tbody tr th {\n",
       "        vertical-align: top;\n",
       "    }\n",
       "\n",
       "    .dataframe thead th {\n",
       "        text-align: right;\n",
       "    }\n",
       "</style>\n",
       "<table border=\"1\" class=\"dataframe\">\n",
       "  <thead>\n",
       "    <tr style=\"text-align: right;\">\n",
       "      <th></th>\n",
       "      <th>suburb</th>\n",
       "      <th>soldYear</th>\n",
       "      <th>suburb_medianRentPrice</th>\n",
       "      <th>suburb_entryLevelPrice</th>\n",
       "      <th>suburb_luxuryLevelPrice</th>\n",
       "    </tr>\n",
       "  </thead>\n",
       "  <tbody>\n",
       "    <tr>\n",
       "      <th>11432</th>\n",
       "      <td>julimar</td>\n",
       "      <td>2024.0</td>\n",
       "      <td>NaN</td>\n",
       "      <td>NaN</td>\n",
       "      <td>NaN</td>\n",
       "    </tr>\n",
       "    <tr>\n",
       "      <th>18783</th>\n",
       "      <td>cranbrook</td>\n",
       "      <td>2020.0</td>\n",
       "      <td>NaN</td>\n",
       "      <td>NaN</td>\n",
       "      <td>NaN</td>\n",
       "    </tr>\n",
       "  </tbody>\n",
       "</table>\n",
       "</div>"
      ],
      "text/plain": [
       "          suburb  soldYear  suburb_medianRentPrice  suburb_entryLevelPrice  \\\n",
       "11432    julimar    2024.0                     NaN                     NaN   \n",
       "18783  cranbrook    2020.0                     NaN                     NaN   \n",
       "\n",
       "       suburb_luxuryLevelPrice  \n",
       "11432                      NaN  \n",
       "18783                      NaN  "
      ]
     },
     "execution_count": 18,
     "metadata": {},
     "output_type": "execute_result"
    }
   ],
   "source": [
    "test.loc[test['suburb_medianPrice'].isnull(), ['suburb','soldYear','suburb_medianRentPrice','suburb_entryLevelPrice',\n",
    "                                               'suburb_luxuryLevelPrice']]"
   ]
  },
  {
   "cell_type": "code",
   "execution_count": 19,
   "id": "a7c6d023",
   "metadata": {},
   "outputs": [
    {
     "data": {
      "text/plain": [
       "suburb_medianPrice    0.0\n",
       "dtype: float64"
      ]
     },
     "execution_count": 19,
     "metadata": {},
     "output_type": "execute_result"
    }
   ],
   "source": [
    "# Input price for the first instance \n",
    "train.loc[(train[\"soldYear\"] == 2024) & (train[\"suburb\"] == 'julimar'),['suburb_medianPrice']].median()"
   ]
  },
  {
   "cell_type": "markdown",
   "id": "a367239e",
   "metadata": {},
   "source": [
    "The median house price for Julimar in 2024 is 0\n",
    "We well check test.loc[(11432)] to ensure it has been imputed with the correct value"
   ]
  },
  {
   "cell_type": "code",
   "execution_count": 20,
   "id": "138657f1",
   "metadata": {},
   "outputs": [],
   "source": [
    "# Function to impute median values\n",
    "def impute_median(row, median_table, feature):\n",
    "    if (row['suburb'], row['soldYear']) in median_table.index:\n",
    "        return median_table.loc[(row['suburb'], row['soldYear']), feature]\n",
    "    return None\n",
    "\n",
    "# Features to impute\n",
    "suburb_features = ['suburb_medianPrice', 'suburb_medianRentPrice',\n",
    "                   'suburb_entryLevelPrice', 'suburb_luxuryLevelPrice']\n",
    "\n",
    "# Loop through each feature\n",
    "for feature in suburb_features:\n",
    "    # Compute median table\n",
    "    median_table = train.groupby(['suburb', 'soldYear'])[feature].median()\n",
    "    median_table = median_table.reset_index().set_index(['suburb', 'soldYear'])\n",
    "    \n",
    "    # Impute missing values in train\n",
    "    train[feature] = train.apply(\n",
    "        lambda x: x[feature] if pd.notnull(x[feature]) else impute_median(x, median_table, feature), axis=1\n",
    "    )\n",
    "    \n",
    "    # Impute missing values in test (using medians from the training set)\n",
    "    test[feature] = test.apply(\n",
    "        lambda x: x[feature] if pd.notnull(x[feature]) else impute_median(x, median_table, feature), axis=1\n",
    "    )"
   ]
  },
  {
   "cell_type": "code",
   "execution_count": 21,
   "id": "f8f43237",
   "metadata": {},
   "outputs": [
    {
     "data": {
      "text/plain": [
       "795000.0"
      ]
     },
     "execution_count": 21,
     "metadata": {},
     "output_type": "execute_result"
    }
   ],
   "source": [
    "# Checking correct value has been imputed\n",
    "train.loc[(24563)]['suburb_medianPrice']"
   ]
  },
  {
   "cell_type": "code",
   "execution_count": 22,
   "id": "f5153c03",
   "metadata": {
    "scrolled": true
   },
   "outputs": [
    {
     "data": {
      "text/plain": [
       "0.0"
      ]
     },
     "execution_count": 22,
     "metadata": {},
     "output_type": "execute_result"
    }
   ],
   "source": [
    "# Checking correct value has been imputed\n",
    "test.loc[(11432)]['suburb_medianPrice']"
   ]
  },
  {
   "cell_type": "markdown",
   "id": "ce2cbe1c",
   "metadata": {},
   "source": [
    "### Spatial features\n",
    "\n",
    "Using the same imputation strategy as above, we will be imputing the missing values for latitude and longitude on the train and test sets based on the suburb of the training set"
   ]
  },
  {
   "cell_type": "code",
   "execution_count": 23,
   "id": "a8f8a326",
   "metadata": {
    "scrolled": true
   },
   "outputs": [
    {
     "data": {
      "text/html": [
       "<div>\n",
       "<style scoped>\n",
       "    .dataframe tbody tr th:only-of-type {\n",
       "        vertical-align: middle;\n",
       "    }\n",
       "\n",
       "    .dataframe tbody tr th {\n",
       "        vertical-align: top;\n",
       "    }\n",
       "\n",
       "    .dataframe thead th {\n",
       "        text-align: right;\n",
       "    }\n",
       "</style>\n",
       "<table border=\"1\" class=\"dataframe\">\n",
       "  <thead>\n",
       "    <tr style=\"text-align: right;\">\n",
       "      <th></th>\n",
       "      <th>suburb</th>\n",
       "      <th>latitude</th>\n",
       "      <th>longitude</th>\n",
       "    </tr>\n",
       "  </thead>\n",
       "  <tbody>\n",
       "    <tr>\n",
       "      <th>2</th>\n",
       "      <td>fremantle</td>\n",
       "      <td>NaN</td>\n",
       "      <td>NaN</td>\n",
       "    </tr>\n",
       "    <tr>\n",
       "      <th>197</th>\n",
       "      <td>bunbury</td>\n",
       "      <td>NaN</td>\n",
       "      <td>NaN</td>\n",
       "    </tr>\n",
       "    <tr>\n",
       "      <th>246</th>\n",
       "      <td>narrogin</td>\n",
       "      <td>NaN</td>\n",
       "      <td>NaN</td>\n",
       "    </tr>\n",
       "    <tr>\n",
       "      <th>305</th>\n",
       "      <td>esperance</td>\n",
       "      <td>NaN</td>\n",
       "      <td>NaN</td>\n",
       "    </tr>\n",
       "    <tr>\n",
       "      <th>420</th>\n",
       "      <td>crawley</td>\n",
       "      <td>NaN</td>\n",
       "      <td>NaN</td>\n",
       "    </tr>\n",
       "    <tr>\n",
       "      <th>...</th>\n",
       "      <td>...</td>\n",
       "      <td>...</td>\n",
       "      <td>...</td>\n",
       "    </tr>\n",
       "    <tr>\n",
       "      <th>87558</th>\n",
       "      <td>west leederville</td>\n",
       "      <td>NaN</td>\n",
       "      <td>NaN</td>\n",
       "    </tr>\n",
       "    <tr>\n",
       "      <th>87643</th>\n",
       "      <td>mosman park</td>\n",
       "      <td>NaN</td>\n",
       "      <td>NaN</td>\n",
       "    </tr>\n",
       "    <tr>\n",
       "      <th>87776</th>\n",
       "      <td>nedlands</td>\n",
       "      <td>NaN</td>\n",
       "      <td>NaN</td>\n",
       "    </tr>\n",
       "    <tr>\n",
       "      <th>87800</th>\n",
       "      <td>courtenay</td>\n",
       "      <td>NaN</td>\n",
       "      <td>NaN</td>\n",
       "    </tr>\n",
       "    <tr>\n",
       "      <th>87990</th>\n",
       "      <td>lower chittering</td>\n",
       "      <td>NaN</td>\n",
       "      <td>NaN</td>\n",
       "    </tr>\n",
       "  </tbody>\n",
       "</table>\n",
       "<p>693 rows × 3 columns</p>\n",
       "</div>"
      ],
      "text/plain": [
       "                 suburb  latitude  longitude\n",
       "2             fremantle       NaN        NaN\n",
       "197             bunbury       NaN        NaN\n",
       "246            narrogin       NaN        NaN\n",
       "305           esperance       NaN        NaN\n",
       "420             crawley       NaN        NaN\n",
       "...                 ...       ...        ...\n",
       "87558  west leederville       NaN        NaN\n",
       "87643       mosman park       NaN        NaN\n",
       "87776          nedlands       NaN        NaN\n",
       "87800         courtenay       NaN        NaN\n",
       "87990  lower chittering       NaN        NaN\n",
       "\n",
       "[693 rows x 3 columns]"
      ]
     },
     "execution_count": 23,
     "metadata": {},
     "output_type": "execute_result"
    }
   ],
   "source": [
    "train.loc[train['latitude'].isnull(), ['suburb','latitude','longitude']]"
   ]
  },
  {
   "cell_type": "code",
   "execution_count": 24,
   "id": "a14564c7",
   "metadata": {},
   "outputs": [
    {
     "name": "stdout",
     "output_type": "stream",
     "text": [
      "-32.0519239\n",
      "115.75531\n"
     ]
    }
   ],
   "source": [
    "print(train[train['suburb']=='fremantle']['latitude'].median())\n",
    "print(train[train['suburb']=='fremantle']['longitude'].median())"
   ]
  },
  {
   "cell_type": "code",
   "execution_count": 25,
   "id": "a00d22d7",
   "metadata": {
    "scrolled": true
   },
   "outputs": [
    {
     "data": {
      "text/html": [
       "<div>\n",
       "<style scoped>\n",
       "    .dataframe tbody tr th:only-of-type {\n",
       "        vertical-align: middle;\n",
       "    }\n",
       "\n",
       "    .dataframe tbody tr th {\n",
       "        vertical-align: top;\n",
       "    }\n",
       "\n",
       "    .dataframe thead th {\n",
       "        text-align: right;\n",
       "    }\n",
       "</style>\n",
       "<table border=\"1\" class=\"dataframe\">\n",
       "  <thead>\n",
       "    <tr style=\"text-align: right;\">\n",
       "      <th></th>\n",
       "      <th>suburb</th>\n",
       "      <th>latitude</th>\n",
       "      <th>longitude</th>\n",
       "    </tr>\n",
       "  </thead>\n",
       "  <tbody>\n",
       "    <tr>\n",
       "      <th>139</th>\n",
       "      <td>harvey</td>\n",
       "      <td>NaN</td>\n",
       "      <td>NaN</td>\n",
       "    </tr>\n",
       "    <tr>\n",
       "      <th>269</th>\n",
       "      <td>hamilton hill</td>\n",
       "      <td>NaN</td>\n",
       "      <td>NaN</td>\n",
       "    </tr>\n",
       "    <tr>\n",
       "      <th>459</th>\n",
       "      <td>dalkeith</td>\n",
       "      <td>NaN</td>\n",
       "      <td>NaN</td>\n",
       "    </tr>\n",
       "    <tr>\n",
       "      <th>464</th>\n",
       "      <td>mount lawley</td>\n",
       "      <td>NaN</td>\n",
       "      <td>NaN</td>\n",
       "    </tr>\n",
       "    <tr>\n",
       "      <th>633</th>\n",
       "      <td>inglewood</td>\n",
       "      <td>NaN</td>\n",
       "      <td>NaN</td>\n",
       "    </tr>\n",
       "    <tr>\n",
       "      <th>...</th>\n",
       "      <td>...</td>\n",
       "      <td>...</td>\n",
       "      <td>...</td>\n",
       "    </tr>\n",
       "    <tr>\n",
       "      <th>17800</th>\n",
       "      <td>changerup</td>\n",
       "      <td>NaN</td>\n",
       "      <td>NaN</td>\n",
       "    </tr>\n",
       "    <tr>\n",
       "      <th>18122</th>\n",
       "      <td>thornlie</td>\n",
       "      <td>NaN</td>\n",
       "      <td>NaN</td>\n",
       "    </tr>\n",
       "    <tr>\n",
       "      <th>18424</th>\n",
       "      <td>langford</td>\n",
       "      <td>NaN</td>\n",
       "      <td>NaN</td>\n",
       "    </tr>\n",
       "    <tr>\n",
       "      <th>18778</th>\n",
       "      <td>toodyay</td>\n",
       "      <td>NaN</td>\n",
       "      <td>NaN</td>\n",
       "    </tr>\n",
       "    <tr>\n",
       "      <th>18817</th>\n",
       "      <td>toodyay</td>\n",
       "      <td>NaN</td>\n",
       "      <td>NaN</td>\n",
       "    </tr>\n",
       "  </tbody>\n",
       "</table>\n",
       "<p>148 rows × 3 columns</p>\n",
       "</div>"
      ],
      "text/plain": [
       "              suburb  latitude  longitude\n",
       "139           harvey       NaN        NaN\n",
       "269    hamilton hill       NaN        NaN\n",
       "459         dalkeith       NaN        NaN\n",
       "464     mount lawley       NaN        NaN\n",
       "633        inglewood       NaN        NaN\n",
       "...              ...       ...        ...\n",
       "17800      changerup       NaN        NaN\n",
       "18122       thornlie       NaN        NaN\n",
       "18424       langford       NaN        NaN\n",
       "18778        toodyay       NaN        NaN\n",
       "18817        toodyay       NaN        NaN\n",
       "\n",
       "[148 rows x 3 columns]"
      ]
     },
     "execution_count": 25,
     "metadata": {},
     "output_type": "execute_result"
    }
   ],
   "source": [
    "test.loc[test['latitude'].isnull(), ['suburb','latitude','longitude']]"
   ]
  },
  {
   "cell_type": "code",
   "execution_count": 26,
   "id": "41a65deb",
   "metadata": {},
   "outputs": [
    {
     "name": "stdout",
     "output_type": "stream",
     "text": [
      "-33.0811946\n",
      "115.89696\n"
     ]
    }
   ],
   "source": [
    "print(train[train['suburb']=='harvey']['latitude'].median())\n",
    "print(train[train['suburb']=='harvey']['longitude'].median())"
   ]
  },
  {
   "cell_type": "code",
   "execution_count": 27,
   "id": "401f2a8f",
   "metadata": {},
   "outputs": [],
   "source": [
    "# Function to impute median values\n",
    "def impute_median(row, median_table, feature):\n",
    "    if (row['suburb']) in median_table.index:\n",
    "        return median_table.loc[(row['suburb']), feature]\n",
    "    return None\n",
    "\n",
    "# Features to impute\n",
    "spatial_features = ['latitude','longitude']\n",
    "\n",
    "# Loop through each feature\n",
    "for feature in spatial_features:\n",
    "    # Compute median table\n",
    "    median_table = train.groupby(['suburb'])[feature].median()\n",
    "    median_table = median_table.reset_index().set_index(['suburb'])\n",
    "    \n",
    "    # Impute missing values in train\n",
    "    train[feature] = train.apply(\n",
    "        lambda x: x[feature] if pd.notnull(x[feature]) else impute_median(x, median_table, feature), axis=1\n",
    "    )\n",
    "    \n",
    "    # Impute missing values in test (using medians from the training set)\n",
    "    test[feature] = test.apply(\n",
    "        lambda x: x[feature] if pd.notnull(x[feature]) else impute_median(x, median_table, feature), axis=1\n",
    "    )"
   ]
  },
  {
   "cell_type": "code",
   "execution_count": 28,
   "id": "0de68dba",
   "metadata": {},
   "outputs": [
    {
     "name": "stdout",
     "output_type": "stream",
     "text": [
      "-32.0519239\n",
      "115.75531\n"
     ]
    }
   ],
   "source": [
    "print(train.loc[(2)]['latitude'])\n",
    "print(train.loc[(2)]['longitude'])"
   ]
  },
  {
   "cell_type": "code",
   "execution_count": 29,
   "id": "bc24831c",
   "metadata": {},
   "outputs": [
    {
     "name": "stdout",
     "output_type": "stream",
     "text": [
      "-33.0811946\n",
      "115.89696\n"
     ]
    }
   ],
   "source": [
    "print(test.loc[(139)]['latitude'])\n",
    "print(test.loc[(139)]['longitude'])"
   ]
  },
  {
   "cell_type": "markdown",
   "id": "9667b71d",
   "metadata": {},
   "source": [
    "### School features"
   ]
  },
  {
   "cell_type": "code",
   "execution_count": 30,
   "id": "c8abbf6b",
   "metadata": {},
   "outputs": [],
   "source": [
    "def impute_mode(row,mode_table,feature):\n",
    "    if (row['suburb']) in mode_table.index:\n",
    "        return mode_table.loc[(row['suburb']), feature]\n",
    "    return None\n",
    "\n",
    "school_features = ['primary','secondary']\n",
    "    \n",
    "for feature in school_features:\n",
    "    mode_table = train.groupby(['suburb'])[feature].agg(lambda x: x.mode()[0] if not x.mode().empty else None)\n",
    "    mode_table = mode_table.reset_index().set_index(['suburb'])\n",
    "    \n",
    "    train[feature] = train.apply(\n",
    "        lambda x: x[feature] if pd.notnull(x[feature]) else impute_mode(x,mode_table,feature), axis=1\n",
    "    )\n",
    "    \n",
    "    test[feature] = test.apply(\n",
    "        lambda x: x[feature] if pd.notnull(x[feature]) else impute_mode(x,mode_table,feature), axis=1\n",
    "    )"
   ]
  },
  {
   "cell_type": "code",
   "execution_count": 31,
   "id": "f5ff2316",
   "metadata": {
    "scrolled": true
   },
   "outputs": [
    {
     "data": {
      "text/plain": [
       "primary\n",
       "highgate primary school                    1344\n",
       "st joseph's school                          843\n",
       "subiaco primary school                      836\n",
       "st brigid's school                          601\n",
       "maylands peninsula primary school           585\n",
       "                                           ... \n",
       "warlawurru catholic school                    1\n",
       "east kalgoorlie primary school                1\n",
       "meadow springs education support centre       1\n",
       "kalannie primary school                       1\n",
       "riverton education support centre             1\n",
       "Name: count, Length: 688, dtype: int64"
      ]
     },
     "execution_count": 31,
     "metadata": {},
     "output_type": "execute_result"
    }
   ],
   "source": [
    "train['primary'].value_counts()"
   ]
  },
  {
   "cell_type": "markdown",
   "id": "29754799",
   "metadata": {},
   "source": [
    "### Imputing schoolType\n",
    "Grouping by schools, the mode of the schoolType for each school will be imputed to missing values"
   ]
  },
  {
   "cell_type": "code",
   "execution_count": 32,
   "id": "05710f8e",
   "metadata": {},
   "outputs": [],
   "source": [
    "def impute_mode(row,mode_table):\n",
    "    if (row['primary']) in mode_table.index:\n",
    "        return mode_table.loc[(row['primary']),'primaryType']\n",
    "    return None\n",
    "\n",
    "mode_table = train.groupby(['primary'])['primaryType'].agg(lambda x: x.mode()[0] if not x.mode().empty else None)\n",
    "mode_table = mode_table.reset_index().set_index(['primary'])\n",
    "\n",
    "train['primaryType'] = train.apply(\n",
    "    lambda x: x['primaryType'] if pd.notnull(x['primaryType']) else impute_mode(x,mode_table), axis=1\n",
    ")\n",
    "\n",
    "test['primaryType'] = test.apply(\n",
    "    lambda x: x['primaryType'] if pd.notnull(x['primaryType']) else impute_mode(x,mode_table), axis=1\n",
    ")"
   ]
  },
  {
   "cell_type": "code",
   "execution_count": 33,
   "id": "97644908",
   "metadata": {},
   "outputs": [],
   "source": [
    "def impute_mode(row,mode_table):\n",
    "    if (row['secondary']) in mode_table.index:\n",
    "        return mode_table.loc[(row['secondary']),'secondaryType']\n",
    "    return None\n",
    "\n",
    "mode_table = train.groupby(['secondary'])['secondaryType'].agg(lambda x: x.mode()[0] if not x.mode().empty else None)\n",
    "mode_table = mode_table.reset_index().set_index(['secondary'])\n",
    "\n",
    "train['secondaryType'] = train.apply(\n",
    "    lambda x: x['secondaryType'] if pd.notnull(x['secondaryType']) else impute_mode(x,mode_table), axis=1\n",
    ")\n",
    "\n",
    "test['secondaryType'] = test.apply(\n",
    "    lambda x: x['secondaryType'] if pd.notnull(x['secondaryType']) else impute_mode(x,mode_table), axis=1\n",
    ")"
   ]
  },
  {
   "cell_type": "markdown",
   "id": "3009fc47",
   "metadata": {},
   "source": [
    "### Imputing schoolDistance\n",
    "Grouping by schools, the mode of the schoolDistance for each school will be imputed to missing values"
   ]
  },
  {
   "cell_type": "code",
   "execution_count": 34,
   "id": "497b4679",
   "metadata": {},
   "outputs": [],
   "source": [
    "def impute_median(row,mode_table):\n",
    "    if (row['primary']) in median_table.index:\n",
    "        return median_table.loc[(row['primary']),'primaryDistance']\n",
    "    return None\n",
    "\n",
    "median_table = train.groupby(['primary'])['primaryDistance'].median()\n",
    "median_table = median_table.reset_index().set_index(['primary'])\n",
    "\n",
    "train['primaryDistance'] = train.apply(\n",
    "    lambda x: x['primaryDistance'] if pd.notnull(x['primaryDistance']) else impute_median(x,median_table), axis=1\n",
    ")\n",
    "\n",
    "test['primaryDistance'] = test.apply(\n",
    "    lambda x: x['primaryDistance'] if pd.notnull(x['primaryDistance']) else impute_median(x,median_table), axis=1\n",
    ")"
   ]
  },
  {
   "cell_type": "code",
   "execution_count": 35,
   "id": "5cb5d64e",
   "metadata": {},
   "outputs": [],
   "source": [
    "def impute_median(row,mode_table):\n",
    "    if (row['secondary']) in median_table.index:\n",
    "        return median_table.loc[(row['secondary']),'secondaryDistance']\n",
    "    return None\n",
    "\n",
    "median_table = train.groupby(['secondary'])['secondaryDistance'].median()\n",
    "median_table = median_table.reset_index().set_index(['secondary'])\n",
    "\n",
    "train['secondaryDistance'] = train.apply(\n",
    "    lambda x: x['secondaryDistance'] if pd.notnull(x['secondaryDistance']) else impute_median(x,median_table), axis=1\n",
    ")\n",
    "\n",
    "test['secondaryDistance'] = test.apply(\n",
    "    lambda x: x['secondaryDistance'] if pd.notnull(x['secondaryDistance']) else impute_median(x,median_table), axis=1\n",
    ")"
   ]
  },
  {
   "cell_type": "markdown",
   "id": "622fb451",
   "metadata": {},
   "source": [
    "### kNN Imputation for landArea\n",
    "We will be using latitude and longitude to impute on landArea. We suspect that there is a difference in landArea for rural and non-rural areas. There also seems to be less recorded neighbours for rural areas. To account for this, the data will be split into rural and non-rural areas before imputation. "
   ]
  },
  {
   "cell_type": "code",
   "execution_count": 36,
   "id": "ec7cf596",
   "metadata": {},
   "outputs": [],
   "source": [
    "# Dropping the rows with missing latitude and longitude as these columns are needed for imputation\n",
    "train = train.dropna(subset=['latitude','longitude'])\n",
    "test = test.dropna(subset=['latitude','longitude'])\n",
    "train.reset_index(drop=True,inplace=True)\n",
    "test.reset_index(drop=True,inplace=True)\n",
    "# Seperating null and non-null \n",
    "x = train.loc[train['landArea'].notnull(), ['latitude','longitude','landArea','isRural']]\n",
    "y = train.loc[train['landArea'].isnull(), ['latitude','longitude','landArea','isRural']]\n",
    "y_test = test.loc[test['landArea'].isnull(), ['latitude','longitude','landArea','isRural']]"
   ]
  },
  {
   "cell_type": "code",
   "execution_count": 37,
   "id": "a9826a96",
   "metadata": {},
   "outputs": [
    {
     "name": "stdout",
     "output_type": "stream",
     "text": [
      "(71258, 4)\n",
      "(16778, 4)\n"
     ]
    }
   ],
   "source": [
    "print(x.shape)\n",
    "print(y.shape)"
   ]
  },
  {
   "cell_type": "markdown",
   "id": "63592042",
   "metadata": {},
   "source": [
    "- x has the non-null values\n",
    "- y has the null values"
   ]
  },
  {
   "cell_type": "code",
   "execution_count": 38,
   "id": "ea077fee",
   "metadata": {},
   "outputs": [],
   "source": [
    "# Rural instances\n",
    "x_rural = x.loc[x['isRural']==True, ['latitude','longitude','landArea']]\n",
    "y_rural = y.loc[y['isRural']==True, ['latitude','longitude']]\n",
    "y_test_rural = y_test.loc[y_test['isRural']==True, ['latitude','longitude']]\n",
    "# Non-rural instances\n",
    "x_nonrural = x.loc[x['isRural']==False, ['latitude','longitude','landArea']]\n",
    "y_nonrural = y.loc[y['isRural']==False, ['latitude','longitude']]\n",
    "y_test_nonrural = y_test.loc[y_test['isRural']==False, ['latitude','longitude']]"
   ]
  },
  {
   "cell_type": "code",
   "execution_count": 39,
   "id": "381e4bb9",
   "metadata": {
    "scrolled": true
   },
   "outputs": [
    {
     "name": "stdout",
     "output_type": "stream",
     "text": [
      "(4308, 3)\n",
      "(40, 2)\n",
      "(9, 2)\n",
      "\n",
      "(66950, 3)\n",
      "(16738, 2)\n",
      "(3506, 2)\n"
     ]
    }
   ],
   "source": [
    "print(x_rural.shape)\n",
    "print(y_rural.shape)\n",
    "print(y_test_rural.shape)\n",
    "print()\n",
    "print(x_nonrural.shape)\n",
    "print(y_nonrural.shape)\n",
    "print(y_test_nonrural.shape)"
   ]
  },
  {
   "cell_type": "markdown",
   "id": "8288f0c6",
   "metadata": {},
   "source": [
    "- We've now separated the rural and nonrural data\n",
    "- We will using the x to predict values for y"
   ]
  },
  {
   "cell_type": "code",
   "execution_count": 40,
   "id": "d660cf87",
   "metadata": {},
   "outputs": [],
   "source": [
    "from sklearn.neighbors import KNeighborsRegressor"
   ]
  },
  {
   "cell_type": "code",
   "execution_count": 41,
   "id": "b2da84a2",
   "metadata": {},
   "outputs": [],
   "source": [
    "imputer_rural = KNeighborsRegressor(n_neighbors=1)\n",
    "# Fitting on the training set\n",
    "imputer_rural.fit(x_rural[['latitude','longitude']], x_rural['landArea'])\n",
    "# Imputing on missing rural landArea \n",
    "predict_rural = imputer_rural.predict(y_rural)\n",
    "train.loc[y_rural.index,'landArea'] = predict_rural\n",
    "# Imputing on missing rural landArea on validation set using training data\n",
    "predict_test_rural = imputer_rural.predict(y_test_rural)\n",
    "test.loc[y_test_rural.index,'landArea'] = predict_test_rural"
   ]
  },
  {
   "cell_type": "code",
   "execution_count": 42,
   "id": "71dfc459",
   "metadata": {},
   "outputs": [],
   "source": [
    "imputer_nonrural = KNeighborsRegressor(n_neighbors=3)\n",
    "# Fitting on the training set\n",
    "imputer_nonrural.fit(x_nonrural[['latitude','longitude']], x_nonrural['landArea'])\n",
    "# Imputing on missing nonrural landArea \n",
    "predict_nonrural = imputer_nonrural.predict(y_nonrural)\n",
    "train.loc[y_nonrural.index, 'landArea'] = predict_nonrural\n",
    "# Imputing on missing nonrural landArea on validation set using training data\n",
    "predict_test_nonrural = imputer_nonrural.predict(y_test_nonrural)\n",
    "test.loc[y_test_nonrural.index,'landArea'] = predict_test_nonrural"
   ]
  },
  {
   "cell_type": "markdown",
   "id": "23f6f563",
   "metadata": {},
   "source": [
    "### Removing the rest of the missing values\n",
    "Some null values still remain even after imputation as there isn't enough information to impute on other values"
   ]
  },
  {
   "cell_type": "code",
   "execution_count": 43,
   "id": "007f84fd",
   "metadata": {},
   "outputs": [
    {
     "name": "stdout",
     "output_type": "stream",
     "text": [
      "(79455, 34)\n",
      "(17005, 34)\n"
     ]
    }
   ],
   "source": [
    "train.dropna(inplace=True)\n",
    "test.dropna(inplace=True)\n",
    "\n",
    "train.reset_index(drop=True, inplace=True)\n",
    "test.reset_index(drop=True, inplace=True)\n",
    "\n",
    "print(train.shape)\n",
    "print(test.shape)"
   ]
  },
  {
   "cell_type": "markdown",
   "id": "650650fa",
   "metadata": {},
   "source": [
    "# Duplicated values"
   ]
  },
  {
   "cell_type": "code",
   "execution_count": 44,
   "id": "d74b3672",
   "metadata": {
    "scrolled": true
   },
   "outputs": [
    {
     "name": "stdout",
     "output_type": "stream",
     "text": [
      "46\n",
      "3\n"
     ]
    }
   ],
   "source": [
    "# Number of duplicates in training set\n",
    "print(len(train) - len(train.loc[train.drop(columns=['features']).drop_duplicates().index]))\n",
    "train = train.loc[train.drop(columns=['features']).drop_duplicates().index]\n",
    "# Number of duplicates in validation set\n",
    "print(len(test) - len(test.loc[test.drop(columns=['features']).drop_duplicates().index]))\n",
    "test = test.loc[test.drop(columns=['features']).drop_duplicates().index]"
   ]
  },
  {
   "cell_type": "code",
   "execution_count": null,
   "id": "d8450068",
   "metadata": {},
   "outputs": [],
   "source": []
  }
 ],
 "metadata": {
  "kernelspec": {
   "display_name": "Python 3 (ipykernel)",
   "language": "python",
   "name": "python3"
  },
  "language_info": {
   "codemirror_mode": {
    "name": "ipython",
    "version": 3
   },
   "file_extension": ".py",
   "mimetype": "text/x-python",
   "name": "python",
   "nbconvert_exporter": "python",
   "pygments_lexer": "ipython3",
   "version": "3.11.2"
  }
 },
 "nbformat": 4,
 "nbformat_minor": 5
}
