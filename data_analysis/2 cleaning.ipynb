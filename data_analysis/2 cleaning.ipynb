{
 "cells": [
  {
   "cell_type": "code",
   "execution_count": 1,
   "id": "0e55022f",
   "metadata": {},
   "outputs": [],
   "source": [
    "import pandas as pd\n",
    "pd.set_option(\"max_colwidth\", None)\n",
    "pd.set_option(\"max_seq_items\", None)\n",
    "\n",
    "import numpy as np"
   ]
  },
  {
   "cell_type": "code",
   "execution_count": 2,
   "id": "2f0b1882",
   "metadata": {},
   "outputs": [],
   "source": [
    "path = '/Users/tristangarcia/desktop/hp-pred_data/data/wa_data/'"
   ]
  },
  {
   "cell_type": "code",
   "execution_count": 3,
   "id": "6984e6c6",
   "metadata": {},
   "outputs": [],
   "source": [
    "train = pd.read_csv(f'{path}wa_train.csv')\n",
    "test = pd.read_csv(f'{path}wa_validation.csv')  # validation set"
   ]
  },
  {
   "cell_type": "code",
   "execution_count": 4,
   "id": "bf9ede96",
   "metadata": {},
   "outputs": [
    {
     "name": "stdout",
     "output_type": "stream",
     "text": [
      "(81105, 39)\n",
      "(17380, 39)\n"
     ]
    }
   ],
   "source": [
    "print(train.shape)\n",
    "print(test.shape)"
   ]
  },
  {
   "cell_type": "markdown",
   "id": "02d81edc",
   "metadata": {},
   "source": [
    "# Helper function"
   ]
  },
  {
   "cell_type": "code",
   "execution_count": 5,
   "id": "7aa9baa9",
   "metadata": {},
   "outputs": [],
   "source": [
    "def get_group_stat(row, stat_table, groupby_col, impute_col):\n",
    "    key = row[groupby_col]\n",
    "    if key in stat_table.index:\n",
    "        return stat_table.loc[key, impute_col]\n",
    "    return None\n",
    "\n",
    "\n",
    "def impute_by_group(train, test, groupby_col, impute_col, method):\n",
    "    if method == 'median':\n",
    "        # Compute median table\n",
    "        stat_table = train.groupby(groupby_col)[impute_col].median()\n",
    "    elif method == 'mode':\n",
    "        # Compute mode table\n",
    "        stat_table = train.groupby(groupby_col)[impute_col].agg(lambda x: x.mode()[0] if not x.mode().empty else None)\n",
    "    elif method == 'mean':\n",
    "        stat_table = train.groupby(groupby_col)[impute_col].mean()\n",
    "    # Setting index as the groupby column\n",
    "    stat_table = stat_table.reset_index().set_index(groupby_col)\n",
    "    \n",
    "    # Impute missing values in train\n",
    "    train[impute_col] = train.apply(\n",
    "        lambda x: x[impute_col] if pd.notnull(x[impute_col]) and x[impute_col] != 0 \n",
    "        else get_group_stat(x, stat_table, groupby_col, impute_col), \n",
    "        axis=1\n",
    "    )\n",
    "    \n",
    "    # Impute missing values in test (using median/mode from the training set)\n",
    "    test[impute_col] = test.apply(\n",
    "        lambda x: x[impute_col] if pd.notnull(x[impute_col]) and x[impute_col] != 0 \n",
    "        else get_group_stat(x, stat_table, groupby_col, impute_col), \n",
    "        axis=1\n",
    "    )\n",
    "    \n",
    "    return train, test"
   ]
  },
  {
   "cell_type": "markdown",
   "id": "ed03bed5",
   "metadata": {},
   "source": [
    "# Reformatting "
   ]
  },
  {
   "cell_type": "markdown",
   "id": "4d3e24ba",
   "metadata": {},
   "source": [
    "### Property type"
   ]
  },
  {
   "cell_type": "code",
   "execution_count": 6,
   "id": "5a92fe88",
   "metadata": {},
   "outputs": [
    {
     "data": {
      "text/plain": [
       "propertyTypes\n",
       "House                                                             65920\n",
       "Apartment                                                         11165\n",
       "Townhouse/Villa                                                    2958\n",
       "Any                                                                 784\n",
       "House,Any                                                           184\n",
       "House,House                                                          13\n",
       "Apartment,House,Townhouse/Villa,Townhouse/Villa                      11\n",
       "House,Townhouse/Villa                                                11\n",
       "Apartment,House,Townhouse/Villa                                      10\n",
       "House,Land                                                            8\n",
       "Apartment,House                                                       7\n",
       "Any,Any                                                               7\n",
       "Apartment,Townhouse/Villa                                             5\n",
       "Townhouse/Villa,House                                                 3\n",
       "Apartment,New Developments                                            3\n",
       "Townhouse/Villa,New Developments                                      3\n",
       "Apartment,House,Apartment,Townhouse/Villa,Land,Townhouse/Villa        2\n",
       "Apartment,House,Any,Townhouse/Villa,Land,Townhouse/Villa              2\n",
       "Apartment,House,Townhouse/Villa,Land,Townhouse/Villa                  2\n",
       "Any,House,Any                                                         1\n",
       "Apartment,House,Any,Townhouse/Villa,Townhouse/Villa                   1\n",
       "Apartment,House,Apartment,Townhouse/Villa                             1\n",
       "Apartment,Apartment                                                   1\n",
       "Apartment,Townhouse/Villa,Townhouse/Villa                             1\n",
       "Apartment,Apartment,House,House,Townhouse/Villa                       1\n",
       "House,Townhouse/Villa,Townhouse/Villa                                 1\n",
       "Name: count, dtype: int64"
      ]
     },
     "execution_count": 6,
     "metadata": {},
     "output_type": "execute_result"
    }
   ],
   "source": [
    "train['propertyTypes'].value_counts()"
   ]
  },
  {
   "cell_type": "markdown",
   "id": "eb8e6a44",
   "metadata": {},
   "source": [
    "### Only possible entries:\n",
    "- House\n",
    "- Apartment\n",
    "- Land\n",
    "- Townhouse/Villa\n",
    "- Rural??\n",
    "- Any??"
   ]
  },
  {
   "cell_type": "code",
   "execution_count": 7,
   "id": "58e9b445",
   "metadata": {},
   "outputs": [],
   "source": [
    "train['propertyTypes'] = train['propertyTypes'].str.split(',')\n",
    "test['propertyTypes'] = test['propertyTypes'].str.split(',')\n",
    "\n",
    "def reformat_propertyTypes(row):\n",
    "    # Valid property types\n",
    "    types = ['House','Apartment','Townhouse/Villa']\n",
    "    # This deals with NaN values\n",
    "    if not isinstance(row, list):\n",
    "        return 'Unknown'\n",
    "    # Go through all property types\n",
    "    for t in row:\n",
    "        if t in types:\n",
    "            # Return the first instance of a valid property type\n",
    "            return t\n",
    "    # Return 'Unkown' if no valid property types found\n",
    "    return 'Unknown'\n",
    "        \n",
    "# Applying the function\n",
    "train['propertyTypes'] = train['propertyTypes'].apply(reformat_propertyTypes)\n",
    "test['propertyTypes'] = test['propertyTypes'].apply(reformat_propertyTypes)"
   ]
  },
  {
   "cell_type": "code",
   "execution_count": 8,
   "id": "9b2f6dff",
   "metadata": {},
   "outputs": [],
   "source": [
    "# Changing the rural values from propertyTypes to House\n",
    "train['propertyTypes'] = train['propertyTypes'].apply(lambda x: 'Townhouse' if x=='Townhouse/Villa' else x)\n",
    "train.rename(columns={'propertyTypes':'propertyType'}, inplace=True)\n",
    "test.rename(columns={'propertyTypes':'propertyType'}, inplace=True)"
   ]
  },
  {
   "cell_type": "markdown",
   "id": "ebdeba82",
   "metadata": {},
   "source": [
    "### Features"
   ]
  },
  {
   "cell_type": "code",
   "execution_count": 9,
   "id": "85a79775",
   "metadata": {},
   "outputs": [
    {
     "data": {
      "text/plain": [
       "features\n",
       "['Ensuite']                                                                                                                                                                                     6397\n",
       "['Air conditioning']                                                                                                                                                                            1083\n",
       "['Secure Parking']                                                                                                                                                                               720\n",
       "['Study']                                                                                                                                                                                        522\n",
       "['Air conditioning', 'Built in wardrobes']                                                                                                                                                       327\n",
       "                                                                                                                                                                                                ... \n",
       "['Close to Schools', 'Close to Shops', 'Close to Transport', 'Garden', 'Secure Parking', 'Terrace-Balcony']                                                                                        1\n",
       "['Built-In Wardrobes', 'Close to Transport', 'Close to Shops', 'Pool', 'Close to Schools']                                                                                                         1\n",
       "['Air conditioning', 'Ensuite', 'Open plan area', 'Theatre room', 'Sought after location', 'Modern interior']                                                                                      1\n",
       "['Air conditioning', 'Floorboards', 'Internal Laundry', 'Dishwasher', 'Study', 'Shed', 'Garden / Courtyard', 'Wall / ceiling insulation', 'Solar hot water', 'Solar panels']                       1\n",
       "['Air Conditioning', 'Heating', 'Area Views', 'Built-In Wardrobes', 'Close to Transport', 'Alarm System', 'Ensuite', 'Carpeted', 'Openable Windows', 'Security System', 'Window Treatments']       1\n",
       "Name: count, Length: 19086, dtype: int64"
      ]
     },
     "execution_count": 9,
     "metadata": {},
     "output_type": "execute_result"
    }
   ],
   "source": [
    "train['features'].value_counts()"
   ]
  },
  {
   "cell_type": "code",
   "execution_count": 10,
   "id": "11a70e1e",
   "metadata": {},
   "outputs": [
    {
     "data": {
      "text/plain": [
       "'['"
      ]
     },
     "execution_count": 10,
     "metadata": {},
     "output_type": "execute_result"
    }
   ],
   "source": [
    "train['features'][0][0]"
   ]
  },
  {
   "cell_type": "markdown",
   "id": "fd420196",
   "metadata": {},
   "source": [
    "We can see that each instance of the variables 'features' looks like a list but is actually a string"
   ]
  },
  {
   "cell_type": "code",
   "execution_count": 11,
   "id": "e8c9edaa",
   "metadata": {},
   "outputs": [],
   "source": [
    "# Converting the 'string lists' into lists\n",
    "# https://stackoverflow.com/questions/1894269/how-to-convert-string-representation-of-list-to-a-list\n",
    "import ast\n",
    "\n",
    "train['features'] = train['features'].apply(lambda x: ast.literal_eval(x) if pd.notnull(x) else [])\n",
    "test['features'] = test['features'].apply(lambda x: ast.literal_eval(x) if pd.notnull(x) else [])"
   ]
  },
  {
   "cell_type": "markdown",
   "id": "838b4cb7",
   "metadata": {},
   "source": [
    "### Lowercasing categorical variables"
   ]
  },
  {
   "cell_type": "code",
   "execution_count": 12,
   "id": "45565701",
   "metadata": {},
   "outputs": [],
   "source": [
    "train = train.map(lambda x: x.lower() if isinstance(x, str) else x)\n",
    "test = test.map(lambda x: x.lower() if isinstance(x,str) else x)"
   ]
  },
  {
   "cell_type": "code",
   "execution_count": 13,
   "id": "539ba53c",
   "metadata": {},
   "outputs": [],
   "source": [
    "# Lowercasing features variable\n",
    "def lower_features(feature_list):\n",
    "    f = []\n",
    "    if len(feature_list) == 0:\n",
    "        return feature_list\n",
    "    else:\n",
    "        for feature in feature_list:\n",
    "            f.append(feature.lower())\n",
    "    return f\n",
    "\n",
    "train['features'] = train['features'].apply(lambda x: lower_features(x))\n",
    "test['features'] = test['features'].apply(lambda x: lower_features(x))"
   ]
  },
  {
   "cell_type": "markdown",
   "id": "e0985c42",
   "metadata": {},
   "source": [
    "# Missing values"
   ]
  },
  {
   "cell_type": "code",
   "execution_count": 14,
   "id": "73428bb4",
   "metadata": {},
   "outputs": [
    {
     "data": {
      "text/plain": [
       "listingId                      0\n",
       "unitNumber                 66800\n",
       "streetNumber                 543\n",
       "street                       505\n",
       "suburb                        12\n",
       "state                         12\n",
       "postcode                      12\n",
       "bathrooms                      0\n",
       "bedrooms                       0\n",
       "parking                        0\n",
       "landArea                   15773\n",
       "latitude                     543\n",
       "longitude                    543\n",
       "features                       0\n",
       "agency                         0\n",
       "propertyType                   0\n",
       "promoLevel                     0\n",
       "soldMonth                      0\n",
       "soldYear                       0\n",
       "daysListed                     0\n",
       "inspectionsCount               0\n",
       "isRural                        0\n",
       "hasDescription                 0\n",
       "hasFloorplan                   0\n",
       "hasDisplayPrice                0\n",
       "hasPhoto                       0\n",
       "photoCount                     0\n",
       "suburb_medianPrice            38\n",
       "suburb_medianRentPrice        38\n",
       "suburb_entryLevelPrice        38\n",
       "suburb_luxuryLevelPrice       38\n",
       "primary                     1337\n",
       "primaryDistance             1337\n",
       "primaryType                 1337\n",
       "secondary                   2422\n",
       "secondaryDistance           2422\n",
       "secondaryType               2422\n",
       "listingUrl                     0\n",
       "soldPrice                      0\n",
       "dtype: int64"
      ]
     },
     "execution_count": 14,
     "metadata": {},
     "output_type": "execute_result"
    }
   ],
   "source": [
    "train.isnull().sum()"
   ]
  },
  {
   "cell_type": "markdown",
   "id": "e15cfc5b",
   "metadata": {},
   "source": [
    "### Sold price"
   ]
  },
  {
   "cell_type": "code",
   "execution_count": 15,
   "id": "d5a6b4a4",
   "metadata": {},
   "outputs": [],
   "source": [
    "na_cols = ['suburb','soldPrice']\n",
    "# Removing missing rows for soldPrice\n",
    "for col in na_cols:\n",
    "    train.dropna(subset=[col], inplace=True)\n",
    "    test.dropna(subset=[col], inplace=True)"
   ]
  },
  {
   "cell_type": "markdown",
   "id": "66b83b74",
   "metadata": {},
   "source": [
    "### Suburb insight features"
   ]
  },
  {
   "cell_type": "code",
   "execution_count": 16,
   "id": "1ebbd02e",
   "metadata": {
    "scrolled": true
   },
   "outputs": [
    {
     "data": {
      "text/html": [
       "<div>\n",
       "<style scoped>\n",
       "    .dataframe tbody tr th:only-of-type {\n",
       "        vertical-align: middle;\n",
       "    }\n",
       "\n",
       "    .dataframe tbody tr th {\n",
       "        vertical-align: top;\n",
       "    }\n",
       "\n",
       "    .dataframe thead th {\n",
       "        text-align: right;\n",
       "    }\n",
       "</style>\n",
       "<table border=\"1\" class=\"dataframe\">\n",
       "  <thead>\n",
       "    <tr style=\"text-align: right;\">\n",
       "      <th></th>\n",
       "      <th>suburb</th>\n",
       "      <th>suburb_medianRentPrice</th>\n",
       "      <th>suburb_entryLevelPrice</th>\n",
       "      <th>suburb_luxuryLevelPrice</th>\n",
       "    </tr>\n",
       "  </thead>\n",
       "  <tbody>\n",
       "    <tr>\n",
       "      <th>818</th>\n",
       "      <td>wandi</td>\n",
       "      <td>NaN</td>\n",
       "      <td>NaN</td>\n",
       "      <td>NaN</td>\n",
       "    </tr>\n",
       "    <tr>\n",
       "      <th>2457</th>\n",
       "      <td>morawa</td>\n",
       "      <td>NaN</td>\n",
       "      <td>NaN</td>\n",
       "      <td>NaN</td>\n",
       "    </tr>\n",
       "    <tr>\n",
       "      <th>5086</th>\n",
       "      <td>lockyer</td>\n",
       "      <td>NaN</td>\n",
       "      <td>NaN</td>\n",
       "      <td>NaN</td>\n",
       "    </tr>\n",
       "    <tr>\n",
       "      <th>8467</th>\n",
       "      <td>heathridge</td>\n",
       "      <td>NaN</td>\n",
       "      <td>NaN</td>\n",
       "      <td>NaN</td>\n",
       "    </tr>\n",
       "    <tr>\n",
       "      <th>10052</th>\n",
       "      <td>hillarys</td>\n",
       "      <td>NaN</td>\n",
       "      <td>NaN</td>\n",
       "      <td>NaN</td>\n",
       "    </tr>\n",
       "    <tr>\n",
       "      <th>10708</th>\n",
       "      <td>leeming</td>\n",
       "      <td>NaN</td>\n",
       "      <td>NaN</td>\n",
       "      <td>NaN</td>\n",
       "    </tr>\n",
       "    <tr>\n",
       "      <th>10756</th>\n",
       "      <td>castletown</td>\n",
       "      <td>NaN</td>\n",
       "      <td>NaN</td>\n",
       "      <td>NaN</td>\n",
       "    </tr>\n",
       "    <tr>\n",
       "      <th>14975</th>\n",
       "      <td>success</td>\n",
       "      <td>NaN</td>\n",
       "      <td>NaN</td>\n",
       "      <td>NaN</td>\n",
       "    </tr>\n",
       "    <tr>\n",
       "      <th>15456</th>\n",
       "      <td>ledge point</td>\n",
       "      <td>NaN</td>\n",
       "      <td>NaN</td>\n",
       "      <td>NaN</td>\n",
       "    </tr>\n",
       "    <tr>\n",
       "      <th>16730</th>\n",
       "      <td>broadwater</td>\n",
       "      <td>NaN</td>\n",
       "      <td>NaN</td>\n",
       "      <td>NaN</td>\n",
       "    </tr>\n",
       "    <tr>\n",
       "      <th>19870</th>\n",
       "      <td>kambalda east</td>\n",
       "      <td>NaN</td>\n",
       "      <td>NaN</td>\n",
       "      <td>NaN</td>\n",
       "    </tr>\n",
       "    <tr>\n",
       "      <th>19921</th>\n",
       "      <td>kellerberrin</td>\n",
       "      <td>NaN</td>\n",
       "      <td>NaN</td>\n",
       "      <td>NaN</td>\n",
       "    </tr>\n",
       "    <tr>\n",
       "      <th>21120</th>\n",
       "      <td>west beach</td>\n",
       "      <td>NaN</td>\n",
       "      <td>NaN</td>\n",
       "      <td>NaN</td>\n",
       "    </tr>\n",
       "    <tr>\n",
       "      <th>21533</th>\n",
       "      <td>rangeway</td>\n",
       "      <td>NaN</td>\n",
       "      <td>NaN</td>\n",
       "      <td>NaN</td>\n",
       "    </tr>\n",
       "    <tr>\n",
       "      <th>22124</th>\n",
       "      <td>calista</td>\n",
       "      <td>NaN</td>\n",
       "      <td>NaN</td>\n",
       "      <td>NaN</td>\n",
       "    </tr>\n",
       "    <tr>\n",
       "      <th>23410</th>\n",
       "      <td>alexander heights</td>\n",
       "      <td>NaN</td>\n",
       "      <td>NaN</td>\n",
       "      <td>NaN</td>\n",
       "    </tr>\n",
       "    <tr>\n",
       "      <th>26210</th>\n",
       "      <td>morangup</td>\n",
       "      <td>NaN</td>\n",
       "      <td>NaN</td>\n",
       "      <td>NaN</td>\n",
       "    </tr>\n",
       "    <tr>\n",
       "      <th>27136</th>\n",
       "      <td>hamilton hill</td>\n",
       "      <td>NaN</td>\n",
       "      <td>NaN</td>\n",
       "      <td>NaN</td>\n",
       "    </tr>\n",
       "    <tr>\n",
       "      <th>28504</th>\n",
       "      <td>midvale</td>\n",
       "      <td>NaN</td>\n",
       "      <td>NaN</td>\n",
       "      <td>NaN</td>\n",
       "    </tr>\n",
       "    <tr>\n",
       "      <th>28809</th>\n",
       "      <td>ravensthorpe</td>\n",
       "      <td>NaN</td>\n",
       "      <td>NaN</td>\n",
       "      <td>NaN</td>\n",
       "    </tr>\n",
       "    <tr>\n",
       "      <th>34315</th>\n",
       "      <td>carramar</td>\n",
       "      <td>NaN</td>\n",
       "      <td>NaN</td>\n",
       "      <td>NaN</td>\n",
       "    </tr>\n",
       "    <tr>\n",
       "      <th>35763</th>\n",
       "      <td>woorree</td>\n",
       "      <td>NaN</td>\n",
       "      <td>NaN</td>\n",
       "      <td>NaN</td>\n",
       "    </tr>\n",
       "    <tr>\n",
       "      <th>36077</th>\n",
       "      <td>lake clifton</td>\n",
       "      <td>NaN</td>\n",
       "      <td>NaN</td>\n",
       "      <td>NaN</td>\n",
       "    </tr>\n",
       "    <tr>\n",
       "      <th>47029</th>\n",
       "      <td>uduc</td>\n",
       "      <td>NaN</td>\n",
       "      <td>NaN</td>\n",
       "      <td>NaN</td>\n",
       "    </tr>\n",
       "    <tr>\n",
       "      <th>47655</th>\n",
       "      <td>furnissdale</td>\n",
       "      <td>NaN</td>\n",
       "      <td>NaN</td>\n",
       "      <td>NaN</td>\n",
       "    </tr>\n",
       "    <tr>\n",
       "      <th>49139</th>\n",
       "      <td>dayton</td>\n",
       "      <td>NaN</td>\n",
       "      <td>NaN</td>\n",
       "      <td>NaN</td>\n",
       "    </tr>\n",
       "    <tr>\n",
       "      <th>49371</th>\n",
       "      <td>koongamia</td>\n",
       "      <td>NaN</td>\n",
       "      <td>NaN</td>\n",
       "      <td>NaN</td>\n",
       "    </tr>\n",
       "    <tr>\n",
       "      <th>49860</th>\n",
       "      <td>wembley</td>\n",
       "      <td>NaN</td>\n",
       "      <td>NaN</td>\n",
       "      <td>NaN</td>\n",
       "    </tr>\n",
       "    <tr>\n",
       "      <th>50546</th>\n",
       "      <td>wandi</td>\n",
       "      <td>NaN</td>\n",
       "      <td>NaN</td>\n",
       "      <td>NaN</td>\n",
       "    </tr>\n",
       "    <tr>\n",
       "      <th>52775</th>\n",
       "      <td>mullingar</td>\n",
       "      <td>NaN</td>\n",
       "      <td>NaN</td>\n",
       "      <td>NaN</td>\n",
       "    </tr>\n",
       "    <tr>\n",
       "      <th>57266</th>\n",
       "      <td>west beach</td>\n",
       "      <td>NaN</td>\n",
       "      <td>NaN</td>\n",
       "      <td>NaN</td>\n",
       "    </tr>\n",
       "    <tr>\n",
       "      <th>62957</th>\n",
       "      <td>port denison</td>\n",
       "      <td>NaN</td>\n",
       "      <td>NaN</td>\n",
       "      <td>NaN</td>\n",
       "    </tr>\n",
       "    <tr>\n",
       "      <th>63831</th>\n",
       "      <td>south boulder</td>\n",
       "      <td>NaN</td>\n",
       "      <td>NaN</td>\n",
       "      <td>NaN</td>\n",
       "    </tr>\n",
       "    <tr>\n",
       "      <th>69891</th>\n",
       "      <td>nulsen</td>\n",
       "      <td>NaN</td>\n",
       "      <td>NaN</td>\n",
       "      <td>NaN</td>\n",
       "    </tr>\n",
       "    <tr>\n",
       "      <th>70320</th>\n",
       "      <td>bunbury</td>\n",
       "      <td>NaN</td>\n",
       "      <td>NaN</td>\n",
       "      <td>NaN</td>\n",
       "    </tr>\n",
       "    <tr>\n",
       "      <th>74371</th>\n",
       "      <td>meadow springs</td>\n",
       "      <td>NaN</td>\n",
       "      <td>NaN</td>\n",
       "      <td>NaN</td>\n",
       "    </tr>\n",
       "    <tr>\n",
       "      <th>75026</th>\n",
       "      <td>iluka</td>\n",
       "      <td>NaN</td>\n",
       "      <td>NaN</td>\n",
       "      <td>NaN</td>\n",
       "    </tr>\n",
       "    <tr>\n",
       "      <th>76934</th>\n",
       "      <td>menora</td>\n",
       "      <td>NaN</td>\n",
       "      <td>NaN</td>\n",
       "      <td>NaN</td>\n",
       "    </tr>\n",
       "  </tbody>\n",
       "</table>\n",
       "</div>"
      ],
      "text/plain": [
       "                  suburb  suburb_medianRentPrice  suburb_entryLevelPrice  \\\n",
       "818                wandi                     NaN                     NaN   \n",
       "2457              morawa                     NaN                     NaN   \n",
       "5086             lockyer                     NaN                     NaN   \n",
       "8467          heathridge                     NaN                     NaN   \n",
       "10052           hillarys                     NaN                     NaN   \n",
       "10708            leeming                     NaN                     NaN   \n",
       "10756         castletown                     NaN                     NaN   \n",
       "14975            success                     NaN                     NaN   \n",
       "15456        ledge point                     NaN                     NaN   \n",
       "16730         broadwater                     NaN                     NaN   \n",
       "19870      kambalda east                     NaN                     NaN   \n",
       "19921       kellerberrin                     NaN                     NaN   \n",
       "21120         west beach                     NaN                     NaN   \n",
       "21533           rangeway                     NaN                     NaN   \n",
       "22124            calista                     NaN                     NaN   \n",
       "23410  alexander heights                     NaN                     NaN   \n",
       "26210           morangup                     NaN                     NaN   \n",
       "27136      hamilton hill                     NaN                     NaN   \n",
       "28504            midvale                     NaN                     NaN   \n",
       "28809       ravensthorpe                     NaN                     NaN   \n",
       "34315           carramar                     NaN                     NaN   \n",
       "35763            woorree                     NaN                     NaN   \n",
       "36077       lake clifton                     NaN                     NaN   \n",
       "47029               uduc                     NaN                     NaN   \n",
       "47655        furnissdale                     NaN                     NaN   \n",
       "49139             dayton                     NaN                     NaN   \n",
       "49371          koongamia                     NaN                     NaN   \n",
       "49860            wembley                     NaN                     NaN   \n",
       "50546              wandi                     NaN                     NaN   \n",
       "52775          mullingar                     NaN                     NaN   \n",
       "57266         west beach                     NaN                     NaN   \n",
       "62957       port denison                     NaN                     NaN   \n",
       "63831      south boulder                     NaN                     NaN   \n",
       "69891             nulsen                     NaN                     NaN   \n",
       "70320            bunbury                     NaN                     NaN   \n",
       "74371     meadow springs                     NaN                     NaN   \n",
       "75026              iluka                     NaN                     NaN   \n",
       "76934             menora                     NaN                     NaN   \n",
       "\n",
       "       suburb_luxuryLevelPrice  \n",
       "818                        NaN  \n",
       "2457                       NaN  \n",
       "5086                       NaN  \n",
       "8467                       NaN  \n",
       "10052                      NaN  \n",
       "10708                      NaN  \n",
       "10756                      NaN  \n",
       "14975                      NaN  \n",
       "15456                      NaN  \n",
       "16730                      NaN  \n",
       "19870                      NaN  \n",
       "19921                      NaN  \n",
       "21120                      NaN  \n",
       "21533                      NaN  \n",
       "22124                      NaN  \n",
       "23410                      NaN  \n",
       "26210                      NaN  \n",
       "27136                      NaN  \n",
       "28504                      NaN  \n",
       "28809                      NaN  \n",
       "34315                      NaN  \n",
       "35763                      NaN  \n",
       "36077                      NaN  \n",
       "47029                      NaN  \n",
       "47655                      NaN  \n",
       "49139                      NaN  \n",
       "49371                      NaN  \n",
       "49860                      NaN  \n",
       "50546                      NaN  \n",
       "52775                      NaN  \n",
       "57266                      NaN  \n",
       "62957                      NaN  \n",
       "63831                      NaN  \n",
       "69891                      NaN  \n",
       "70320                      NaN  \n",
       "74371                      NaN  \n",
       "75026                      NaN  \n",
       "76934                      NaN  "
      ]
     },
     "execution_count": 16,
     "metadata": {},
     "output_type": "execute_result"
    }
   ],
   "source": [
    "# All rows missing rows for suburb_medianPrice,suburb_medianRentPrice,suburb_entryLevelPrice,suburb_luxuryLevelPrice\n",
    "# are from the same row\n",
    "train.loc[train['suburb_medianPrice'].isnull(), ['suburb','suburb_medianRentPrice','suburb_entryLevelPrice',\n",
    "                                               'suburb_luxuryLevelPrice']]"
   ]
  },
  {
   "cell_type": "code",
   "execution_count": 17,
   "id": "015173e6",
   "metadata": {
    "scrolled": true
   },
   "outputs": [
    {
     "data": {
      "text/plain": [
       "suburb_medianPrice    740000.0\n",
       "dtype: float64"
      ]
     },
     "execution_count": 17,
     "metadata": {},
     "output_type": "execute_result"
    }
   ],
   "source": [
    "# Input price for the first instance \n",
    "train.loc[train[\"suburb\"] == 'wandi',['suburb_medianPrice']].median()"
   ]
  },
  {
   "cell_type": "markdown",
   "id": "97294947",
   "metadata": {},
   "source": [
    "The median house price for Winthrop in 2024 is 1,373,000\n",
    "We well check train.loc[(24563)] to ensure it has been imputed with the correct value"
   ]
  },
  {
   "cell_type": "code",
   "execution_count": 18,
   "id": "b6b2464b",
   "metadata": {},
   "outputs": [
    {
     "data": {
      "text/html": [
       "<div>\n",
       "<style scoped>\n",
       "    .dataframe tbody tr th:only-of-type {\n",
       "        vertical-align: middle;\n",
       "    }\n",
       "\n",
       "    .dataframe tbody tr th {\n",
       "        vertical-align: top;\n",
       "    }\n",
       "\n",
       "    .dataframe thead th {\n",
       "        text-align: right;\n",
       "    }\n",
       "</style>\n",
       "<table border=\"1\" class=\"dataframe\">\n",
       "  <thead>\n",
       "    <tr style=\"text-align: right;\">\n",
       "      <th></th>\n",
       "      <th>suburb</th>\n",
       "      <th>suburb_medianRentPrice</th>\n",
       "      <th>suburb_entryLevelPrice</th>\n",
       "      <th>suburb_luxuryLevelPrice</th>\n",
       "    </tr>\n",
       "  </thead>\n",
       "  <tbody>\n",
       "    <tr>\n",
       "      <th>157</th>\n",
       "      <td>mundijong</td>\n",
       "      <td>NaN</td>\n",
       "      <td>NaN</td>\n",
       "      <td>NaN</td>\n",
       "    </tr>\n",
       "    <tr>\n",
       "      <th>5531</th>\n",
       "      <td>falcon</td>\n",
       "      <td>NaN</td>\n",
       "      <td>NaN</td>\n",
       "      <td>NaN</td>\n",
       "    </tr>\n",
       "    <tr>\n",
       "      <th>6030</th>\n",
       "      <td>mundijong</td>\n",
       "      <td>NaN</td>\n",
       "      <td>NaN</td>\n",
       "      <td>NaN</td>\n",
       "    </tr>\n",
       "    <tr>\n",
       "      <th>6119</th>\n",
       "      <td>glendalough</td>\n",
       "      <td>NaN</td>\n",
       "      <td>NaN</td>\n",
       "      <td>NaN</td>\n",
       "    </tr>\n",
       "    <tr>\n",
       "      <th>7887</th>\n",
       "      <td>meadow springs</td>\n",
       "      <td>NaN</td>\n",
       "      <td>NaN</td>\n",
       "      <td>NaN</td>\n",
       "    </tr>\n",
       "    <tr>\n",
       "      <th>9019</th>\n",
       "      <td>glendalough</td>\n",
       "      <td>NaN</td>\n",
       "      <td>NaN</td>\n",
       "      <td>NaN</td>\n",
       "    </tr>\n",
       "    <tr>\n",
       "      <th>10729</th>\n",
       "      <td>murdoch</td>\n",
       "      <td>NaN</td>\n",
       "      <td>NaN</td>\n",
       "      <td>NaN</td>\n",
       "    </tr>\n",
       "    <tr>\n",
       "      <th>11045</th>\n",
       "      <td>calista</td>\n",
       "      <td>NaN</td>\n",
       "      <td>NaN</td>\n",
       "      <td>NaN</td>\n",
       "    </tr>\n",
       "  </tbody>\n",
       "</table>\n",
       "</div>"
      ],
      "text/plain": [
       "               suburb  suburb_medianRentPrice  suburb_entryLevelPrice  \\\n",
       "157         mundijong                     NaN                     NaN   \n",
       "5531           falcon                     NaN                     NaN   \n",
       "6030        mundijong                     NaN                     NaN   \n",
       "6119      glendalough                     NaN                     NaN   \n",
       "7887   meadow springs                     NaN                     NaN   \n",
       "9019      glendalough                     NaN                     NaN   \n",
       "10729         murdoch                     NaN                     NaN   \n",
       "11045         calista                     NaN                     NaN   \n",
       "\n",
       "       suburb_luxuryLevelPrice  \n",
       "157                        NaN  \n",
       "5531                       NaN  \n",
       "6030                       NaN  \n",
       "6119                       NaN  \n",
       "7887                       NaN  \n",
       "9019                       NaN  \n",
       "10729                      NaN  \n",
       "11045                      NaN  "
      ]
     },
     "execution_count": 18,
     "metadata": {},
     "output_type": "execute_result"
    }
   ],
   "source": [
    "test.loc[test['suburb_medianPrice'].isnull(), ['suburb','suburb_medianRentPrice','suburb_entryLevelPrice',\n",
    "                                               'suburb_luxuryLevelPrice']]"
   ]
  },
  {
   "cell_type": "code",
   "execution_count": 19,
   "id": "a7c6d023",
   "metadata": {},
   "outputs": [
    {
     "data": {
      "text/plain": [
       "suburb_medianPrice    0.0\n",
       "dtype: float64"
      ]
     },
     "execution_count": 19,
     "metadata": {},
     "output_type": "execute_result"
    }
   ],
   "source": [
    "# Input price for the first instance \n",
    "train.loc[train[\"suburb\"] == 'mundijong',['suburb_medianPrice']].median()"
   ]
  },
  {
   "cell_type": "markdown",
   "id": "a367239e",
   "metadata": {},
   "source": [
    "The median house price for balcatta in 2024 is 681000\n",
    "We well check test.loc[(11432)] to ensure it has been imputed with the correct value"
   ]
  },
  {
   "cell_type": "code",
   "execution_count": 20,
   "id": "138657f1",
   "metadata": {},
   "outputs": [],
   "source": [
    "########################################################\n",
    "#                                                      # \n",
    "#  Imputing missing values for the suburb features     #\n",
    "#  using the median value of the corresponding suburb  #\n",
    "#                                                      #\n",
    "########################################################\n",
    "\n",
    "groupby_col = 'suburb'\n",
    "# Features to impute\n",
    "suburb_features = ['suburb_medianPrice', 'suburb_medianRentPrice',\n",
    "                   'suburb_entryLevelPrice', 'suburb_luxuryLevelPrice']\n",
    "\n",
    "# Loop through each feature\n",
    "for impute_col in suburb_features:\n",
    "    train,test = impute_by_group(train, test, groupby_col, impute_col, method='median')"
   ]
  },
  {
   "cell_type": "code",
   "execution_count": 21,
   "id": "f8f43237",
   "metadata": {},
   "outputs": [
    {
     "data": {
      "text/plain": [
       "740000.0"
      ]
     },
     "execution_count": 21,
     "metadata": {},
     "output_type": "execute_result"
    }
   ],
   "source": [
    "# Checking correct value has been imputed\n",
    "train.loc[(818)]['suburb_medianPrice']"
   ]
  },
  {
   "cell_type": "code",
   "execution_count": 22,
   "id": "f5153c03",
   "metadata": {
    "scrolled": true
   },
   "outputs": [
    {
     "data": {
      "text/plain": [
       "0.0"
      ]
     },
     "execution_count": 22,
     "metadata": {},
     "output_type": "execute_result"
    }
   ],
   "source": [
    "# Checking correct value has been imputed\n",
    "test.loc[(157)]['suburb_medianPrice']"
   ]
  },
  {
   "cell_type": "code",
   "execution_count": 23,
   "id": "5459c974",
   "metadata": {
    "scrolled": true
   },
   "outputs": [
    {
     "data": {
      "text/plain": [
       "(69355, 39)"
      ]
     },
     "execution_count": 23,
     "metadata": {},
     "output_type": "execute_result"
    }
   ],
   "source": [
    "# Removing instances where the suburb features are still 0\n",
    "for feature in suburb_features:\n",
    "    train = train[train[feature] > 0]\n",
    "    \n",
    "train.shape"
   ]
  },
  {
   "cell_type": "markdown",
   "id": "ce2cbe1c",
   "metadata": {},
   "source": [
    "### Spatial features\n",
    "\n",
    "Using the same imputation strategy as above, we will be imputing the missing values for latitude and longitude on the train and test sets based on the suburb of the training set"
   ]
  },
  {
   "cell_type": "code",
   "execution_count": 24,
   "id": "a8f8a326",
   "metadata": {
    "scrolled": true
   },
   "outputs": [
    {
     "data": {
      "text/html": [
       "<div>\n",
       "<style scoped>\n",
       "    .dataframe tbody tr th:only-of-type {\n",
       "        vertical-align: middle;\n",
       "    }\n",
       "\n",
       "    .dataframe tbody tr th {\n",
       "        vertical-align: top;\n",
       "    }\n",
       "\n",
       "    .dataframe thead th {\n",
       "        text-align: right;\n",
       "    }\n",
       "</style>\n",
       "<table border=\"1\" class=\"dataframe\">\n",
       "  <thead>\n",
       "    <tr style=\"text-align: right;\">\n",
       "      <th></th>\n",
       "      <th>suburb</th>\n",
       "      <th>latitude</th>\n",
       "      <th>longitude</th>\n",
       "    </tr>\n",
       "  </thead>\n",
       "  <tbody>\n",
       "    <tr>\n",
       "      <th>18</th>\n",
       "      <td>dalkeith</td>\n",
       "      <td>NaN</td>\n",
       "      <td>NaN</td>\n",
       "    </tr>\n",
       "    <tr>\n",
       "      <th>69</th>\n",
       "      <td>banksia grove</td>\n",
       "      <td>NaN</td>\n",
       "      <td>NaN</td>\n",
       "    </tr>\n",
       "    <tr>\n",
       "      <th>148</th>\n",
       "      <td>subiaco</td>\n",
       "      <td>NaN</td>\n",
       "      <td>NaN</td>\n",
       "    </tr>\n",
       "    <tr>\n",
       "      <th>555</th>\n",
       "      <td>yalyalup</td>\n",
       "      <td>NaN</td>\n",
       "      <td>NaN</td>\n",
       "    </tr>\n",
       "    <tr>\n",
       "      <th>743</th>\n",
       "      <td>maddington</td>\n",
       "      <td>NaN</td>\n",
       "      <td>NaN</td>\n",
       "    </tr>\n",
       "    <tr>\n",
       "      <th>...</th>\n",
       "      <td>...</td>\n",
       "      <td>...</td>\n",
       "      <td>...</td>\n",
       "    </tr>\n",
       "    <tr>\n",
       "      <th>80225</th>\n",
       "      <td>bayswater</td>\n",
       "      <td>NaN</td>\n",
       "      <td>NaN</td>\n",
       "    </tr>\n",
       "    <tr>\n",
       "      <th>80443</th>\n",
       "      <td>morley</td>\n",
       "      <td>NaN</td>\n",
       "      <td>NaN</td>\n",
       "    </tr>\n",
       "    <tr>\n",
       "      <th>80603</th>\n",
       "      <td>queens park</td>\n",
       "      <td>NaN</td>\n",
       "      <td>NaN</td>\n",
       "    </tr>\n",
       "    <tr>\n",
       "      <th>80608</th>\n",
       "      <td>north perth</td>\n",
       "      <td>NaN</td>\n",
       "      <td>NaN</td>\n",
       "    </tr>\n",
       "    <tr>\n",
       "      <th>80706</th>\n",
       "      <td>kallaroo</td>\n",
       "      <td>NaN</td>\n",
       "      <td>NaN</td>\n",
       "    </tr>\n",
       "  </tbody>\n",
       "</table>\n",
       "<p>419 rows × 3 columns</p>\n",
       "</div>"
      ],
      "text/plain": [
       "              suburb  latitude  longitude\n",
       "18          dalkeith       NaN        NaN\n",
       "69     banksia grove       NaN        NaN\n",
       "148          subiaco       NaN        NaN\n",
       "555         yalyalup       NaN        NaN\n",
       "743       maddington       NaN        NaN\n",
       "...              ...       ...        ...\n",
       "80225      bayswater       NaN        NaN\n",
       "80443         morley       NaN        NaN\n",
       "80603    queens park       NaN        NaN\n",
       "80608    north perth       NaN        NaN\n",
       "80706       kallaroo       NaN        NaN\n",
       "\n",
       "[419 rows x 3 columns]"
      ]
     },
     "execution_count": 24,
     "metadata": {},
     "output_type": "execute_result"
    }
   ],
   "source": [
    "train.loc[train['latitude'].isnull(), ['suburb','latitude','longitude']]"
   ]
  },
  {
   "cell_type": "code",
   "execution_count": 25,
   "id": "a14564c7",
   "metadata": {},
   "outputs": [
    {
     "name": "stdout",
     "output_type": "stream",
     "text": [
      "-31.995212007627117\n",
      "115.79775083305086\n"
     ]
    }
   ],
   "source": [
    "print(train[train['suburb']=='dalkeith']['latitude'].mean())\n",
    "print(train[train['suburb']=='dalkeith']['longitude'].mean())"
   ]
  },
  {
   "cell_type": "code",
   "execution_count": 26,
   "id": "a00d22d7",
   "metadata": {
    "scrolled": true
   },
   "outputs": [
    {
     "data": {
      "text/html": [
       "<div>\n",
       "<style scoped>\n",
       "    .dataframe tbody tr th:only-of-type {\n",
       "        vertical-align: middle;\n",
       "    }\n",
       "\n",
       "    .dataframe tbody tr th {\n",
       "        vertical-align: top;\n",
       "    }\n",
       "\n",
       "    .dataframe thead th {\n",
       "        text-align: right;\n",
       "    }\n",
       "</style>\n",
       "<table border=\"1\" class=\"dataframe\">\n",
       "  <thead>\n",
       "    <tr style=\"text-align: right;\">\n",
       "      <th></th>\n",
       "      <th>suburb</th>\n",
       "      <th>latitude</th>\n",
       "      <th>longitude</th>\n",
       "    </tr>\n",
       "  </thead>\n",
       "  <tbody>\n",
       "    <tr>\n",
       "      <th>586</th>\n",
       "      <td>maylands</td>\n",
       "      <td>NaN</td>\n",
       "      <td>NaN</td>\n",
       "    </tr>\n",
       "    <tr>\n",
       "      <th>600</th>\n",
       "      <td>bentley</td>\n",
       "      <td>NaN</td>\n",
       "      <td>NaN</td>\n",
       "    </tr>\n",
       "    <tr>\n",
       "      <th>804</th>\n",
       "      <td>booragoon</td>\n",
       "      <td>NaN</td>\n",
       "      <td>NaN</td>\n",
       "    </tr>\n",
       "    <tr>\n",
       "      <th>839</th>\n",
       "      <td>scarborough</td>\n",
       "      <td>NaN</td>\n",
       "      <td>NaN</td>\n",
       "    </tr>\n",
       "    <tr>\n",
       "      <th>1021</th>\n",
       "      <td>beaconsfield</td>\n",
       "      <td>NaN</td>\n",
       "      <td>NaN</td>\n",
       "    </tr>\n",
       "    <tr>\n",
       "      <th>...</th>\n",
       "      <td>...</td>\n",
       "      <td>...</td>\n",
       "      <td>...</td>\n",
       "    </tr>\n",
       "    <tr>\n",
       "      <th>16334</th>\n",
       "      <td>coodanup</td>\n",
       "      <td>NaN</td>\n",
       "      <td>NaN</td>\n",
       "    </tr>\n",
       "    <tr>\n",
       "      <th>16820</th>\n",
       "      <td>darkan</td>\n",
       "      <td>NaN</td>\n",
       "      <td>NaN</td>\n",
       "    </tr>\n",
       "    <tr>\n",
       "      <th>16952</th>\n",
       "      <td>walpole</td>\n",
       "      <td>NaN</td>\n",
       "      <td>NaN</td>\n",
       "    </tr>\n",
       "    <tr>\n",
       "      <th>17102</th>\n",
       "      <td>beckenham</td>\n",
       "      <td>NaN</td>\n",
       "      <td>NaN</td>\n",
       "    </tr>\n",
       "    <tr>\n",
       "      <th>17365</th>\n",
       "      <td>bateman</td>\n",
       "      <td>NaN</td>\n",
       "      <td>NaN</td>\n",
       "    </tr>\n",
       "  </tbody>\n",
       "</table>\n",
       "<p>110 rows × 3 columns</p>\n",
       "</div>"
      ],
      "text/plain": [
       "             suburb  latitude  longitude\n",
       "586        maylands       NaN        NaN\n",
       "600         bentley       NaN        NaN\n",
       "804       booragoon       NaN        NaN\n",
       "839     scarborough       NaN        NaN\n",
       "1021   beaconsfield       NaN        NaN\n",
       "...             ...       ...        ...\n",
       "16334      coodanup       NaN        NaN\n",
       "16820        darkan       NaN        NaN\n",
       "16952       walpole       NaN        NaN\n",
       "17102     beckenham       NaN        NaN\n",
       "17365       bateman       NaN        NaN\n",
       "\n",
       "[110 rows x 3 columns]"
      ]
     },
     "execution_count": 26,
     "metadata": {},
     "output_type": "execute_result"
    }
   ],
   "source": [
    "test.loc[test['latitude'].isnull(), ['suburb','latitude','longitude']]"
   ]
  },
  {
   "cell_type": "code",
   "execution_count": 27,
   "id": "41a65deb",
   "metadata": {},
   "outputs": [
    {
     "name": "stdout",
     "output_type": "stream",
     "text": [
      "-31.93234186501458\n",
      "115.89808489067055\n"
     ]
    }
   ],
   "source": [
    "print(train[train['suburb']=='maylands']['latitude'].mean())\n",
    "print(train[train['suburb']=='maylands']['longitude'].mean())"
   ]
  },
  {
   "cell_type": "code",
   "execution_count": 28,
   "id": "401f2a8f",
   "metadata": {},
   "outputs": [],
   "source": [
    "########################################################\n",
    "#                                                      # \n",
    "#  Imputing missing values for the spatial features    #\n",
    "#  using the median value of the corresponding suburb  #\n",
    "#                                                      #\n",
    "########################################################\n",
    "\n",
    "groupby_col = 'suburb'\n",
    "# Features to impute\n",
    "spatial_features = ['latitude','longitude']\n",
    "\n",
    "# Loop through each feature\n",
    "for impute_col in spatial_features:\n",
    "    train,test = impute_by_group(train, test, groupby_col, impute_col, method='mean')"
   ]
  },
  {
   "cell_type": "code",
   "execution_count": 29,
   "id": "0de68dba",
   "metadata": {},
   "outputs": [
    {
     "name": "stdout",
     "output_type": "stream",
     "text": [
      "-31.995212007627117\n",
      "115.79775083305084\n"
     ]
    }
   ],
   "source": [
    "print(train.loc[(18)]['latitude'])\n",
    "print(train.loc[(18)]['longitude'])"
   ]
  },
  {
   "cell_type": "code",
   "execution_count": 30,
   "id": "bc24831c",
   "metadata": {},
   "outputs": [
    {
     "name": "stdout",
     "output_type": "stream",
     "text": [
      "-31.93234186501458\n",
      "115.89808489067055\n"
     ]
    }
   ],
   "source": [
    "print(test.loc[(586)]['latitude'])\n",
    "print(test.loc[(586)]['longitude'])"
   ]
  },
  {
   "cell_type": "markdown",
   "id": "b10b4223",
   "metadata": {},
   "source": [
    "# KNN Imputation"
   ]
  },
  {
   "cell_type": "code",
   "execution_count": 31,
   "id": "7ca4f652",
   "metadata": {},
   "outputs": [],
   "source": [
    "from sklearn.neighbors import KNeighborsRegressor\n",
    "from sklearn.neighbors import NearestNeighbors\n",
    "from geopy.distance import geodesic"
   ]
  },
  {
   "cell_type": "markdown",
   "id": "622fb451",
   "metadata": {},
   "source": [
    "### Land area\n",
    "We will be using latitude and longitude to impute on landArea. We suspect that there is a difference in landArea for rural and non-rural areas. There also seems to be less recorded neighbours for rural areas. To account for this, the data will be split into rural and non-rural areas before imputation. "
   ]
  },
  {
   "cell_type": "code",
   "execution_count": 32,
   "id": "ec7cf596",
   "metadata": {},
   "outputs": [],
   "source": [
    "# Dropping the rows with missing latitude and longitude as these columns are needed for imputation\n",
    "train = train.dropna(subset=['latitude','longitude'])\n",
    "test = test.dropna(subset=['latitude','longitude'])\n",
    "train.reset_index(drop=True,inplace=True)\n",
    "test.reset_index(drop=True,inplace=True)\n",
    "# Seperating null and non-null \n",
    "x = train.loc[train['landArea'].notnull(), ['latitude','longitude','landArea','isRural']]\n",
    "y = train.loc[train['landArea'].isnull(), ['latitude','longitude','landArea','isRural']]\n",
    "y_test = test.loc[test['landArea'].isnull(), ['latitude','longitude','landArea','isRural']]"
   ]
  },
  {
   "cell_type": "code",
   "execution_count": 33,
   "id": "a9826a96",
   "metadata": {},
   "outputs": [
    {
     "name": "stdout",
     "output_type": "stream",
     "text": [
      "(55079, 4)\n",
      "(14276, 4)\n"
     ]
    }
   ],
   "source": [
    "print(x.shape)\n",
    "print(y.shape)"
   ]
  },
  {
   "cell_type": "markdown",
   "id": "63592042",
   "metadata": {},
   "source": [
    "- x has the non-null values\n",
    "- y has the null values"
   ]
  },
  {
   "cell_type": "code",
   "execution_count": 34,
   "id": "1bbf536d",
   "metadata": {},
   "outputs": [
    {
     "data": {
      "text/plain": [
       "(14276, 4)"
      ]
     },
     "execution_count": 34,
     "metadata": {},
     "output_type": "execute_result"
    }
   ],
   "source": [
    "y.shape"
   ]
  },
  {
   "cell_type": "code",
   "execution_count": 35,
   "id": "ea077fee",
   "metadata": {},
   "outputs": [],
   "source": [
    "# Rural instances\n",
    "x_rural = x.loc[x['isRural']==True, ['latitude','longitude','landArea']]\n",
    "y_rural = y.loc[y['isRural']==True, ['latitude','longitude']]\n",
    "y_test_rural = y_test.loc[y_test['isRural']==True, ['latitude','longitude']]\n",
    "# Non-rural instances\n",
    "x_nonrural = x.loc[x['isRural']==False, ['latitude','longitude','landArea']]\n",
    "y_nonrural = y.loc[y['isRural']==False, ['latitude','longitude']]\n",
    "y_test_nonrural = y_test.loc[y_test['isRural']==False, ['latitude','longitude']]"
   ]
  },
  {
   "cell_type": "code",
   "execution_count": 36,
   "id": "381e4bb9",
   "metadata": {
    "scrolled": true
   },
   "outputs": [
    {
     "name": "stdout",
     "output_type": "stream",
     "text": [
      "(392, 3)\n",
      "(0, 2)\n",
      "(0, 2)\n",
      "\n",
      "(54687, 3)\n",
      "(14276, 2)\n",
      "(3306, 2)\n"
     ]
    }
   ],
   "source": [
    "print(x_rural.shape)\n",
    "print(y_rural.shape)\n",
    "print(y_test_rural.shape)\n",
    "print()\n",
    "print(x_nonrural.shape)\n",
    "print(y_nonrural.shape)\n",
    "print(y_test_nonrural.shape)"
   ]
  },
  {
   "cell_type": "markdown",
   "id": "8288f0c6",
   "metadata": {},
   "source": [
    "- We've now separated the rural and nonrural data\n",
    "- We will using the x to predict values for y"
   ]
  },
  {
   "cell_type": "code",
   "execution_count": 37,
   "id": "b2da84a2",
   "metadata": {},
   "outputs": [
    {
     "data": {
      "text/plain": [
       "\"\\nimputer_rural = KNeighborsRegressor(n_neighbors=1)\\n# Fitting on the training set\\nimputer_rural.fit(x_rural[['latitude','longitude']], x_rural['landArea'])\\n# Imputing on missing rural landArea \\npredict_rural = imputer_rural.predict(y_rural)\\ntrain.loc[y_rural.index,'landArea'] = predict_rural\\n# Imputing on missing rural landArea on validation set using training data\\npredict_test_rural = imputer_rural.predict(y_test_rural)\\ntest.loc[y_test_rural.index,'landArea'] = predict_test_rural\\n\""
      ]
     },
     "execution_count": 37,
     "metadata": {},
     "output_type": "execute_result"
    }
   ],
   "source": [
    "# This cell is here because an older dataset version had null values for rural areas, but this new\n",
    "# data set doesn't have any (so there are no values that need imputation)\n",
    "'''\n",
    "imputer_rural = KNeighborsRegressor(n_neighbors=1)\n",
    "# Fitting on the training set\n",
    "imputer_rural.fit(x_rural[['latitude','longitude']], x_rural['landArea'])\n",
    "# Imputing on missing rural landArea \n",
    "predict_rural = imputer_rural.predict(y_rural)\n",
    "train.loc[y_rural.index,'landArea'] = predict_rural\n",
    "# Imputing on missing rural landArea on validation set using training data\n",
    "predict_test_rural = imputer_rural.predict(y_test_rural)\n",
    "test.loc[y_test_rural.index,'landArea'] = predict_test_rural\n",
    "'''"
   ]
  },
  {
   "cell_type": "code",
   "execution_count": 38,
   "id": "71dfc459",
   "metadata": {},
   "outputs": [],
   "source": [
    "imputer_nonrural = KNeighborsRegressor(n_neighbors=3)\n",
    "# Fitting on the training set\n",
    "imputer_nonrural.fit(x_nonrural[['latitude','longitude']], x_nonrural['landArea'])\n",
    "# Imputing on missing nonrural landArea \n",
    "predict_nonrural = imputer_nonrural.predict(y_nonrural)\n",
    "train.loc[y_nonrural.index, 'landArea'] = predict_nonrural\n",
    "# Imputing on missing nonrural landArea on validation set using training data\n",
    "predict_test_nonrural = imputer_nonrural.predict(y_test_nonrural)\n",
    "test.loc[y_test_nonrural.index,'landArea'] = predict_test_nonrural"
   ]
  },
  {
   "cell_type": "markdown",
   "id": "f10cef67",
   "metadata": {},
   "source": [
    "### School features\n",
    "We will be using a dataset found online which includes schools and their geospatial locations. \n",
    "https://asl.acara.edu.au/school-search\n",
    "The only filter I made on the search was selecting primary, secondary and combined on the type of school (leaving special unselected)"
   ]
  },
  {
   "cell_type": "code",
   "execution_count": 39,
   "id": "53fb9ba0",
   "metadata": {},
   "outputs": [],
   "source": [
    "school_path = '/Users/tristangarcia/desktop/hp-pred_data/school/'\n",
    "schools = pd.read_csv(f'{school_path}school_location.csv')"
   ]
  },
  {
   "cell_type": "code",
   "execution_count": 40,
   "id": "16fe77d1",
   "metadata": {
    "scrolled": true
   },
   "outputs": [
    {
     "data": {
      "text/html": [
       "<div>\n",
       "<style scoped>\n",
       "    .dataframe tbody tr th:only-of-type {\n",
       "        vertical-align: middle;\n",
       "    }\n",
       "\n",
       "    .dataframe tbody tr th {\n",
       "        vertical-align: top;\n",
       "    }\n",
       "\n",
       "    .dataframe thead th {\n",
       "        text-align: right;\n",
       "    }\n",
       "</style>\n",
       "<table border=\"1\" class=\"dataframe\">\n",
       "  <thead>\n",
       "    <tr style=\"text-align: right;\">\n",
       "      <th></th>\n",
       "      <th>School Name</th>\n",
       "      <th>Suburb</th>\n",
       "      <th>State</th>\n",
       "      <th>Postcode</th>\n",
       "      <th>School Sector</th>\n",
       "      <th>School Type</th>\n",
       "      <th>Latitude</th>\n",
       "      <th>Longitude</th>\n",
       "    </tr>\n",
       "  </thead>\n",
       "  <tbody>\n",
       "    <tr>\n",
       "      <th>0</th>\n",
       "      <td>Corpus Christi Catholic School</td>\n",
       "      <td>BELLERIVE</td>\n",
       "      <td>TAS</td>\n",
       "      <td>7018</td>\n",
       "      <td>Catholic</td>\n",
       "      <td>Primary</td>\n",
       "      <td>-42.871256</td>\n",
       "      <td>147.371473</td>\n",
       "    </tr>\n",
       "    <tr>\n",
       "      <th>1</th>\n",
       "      <td>Fahan School</td>\n",
       "      <td>SANDY BAY</td>\n",
       "      <td>TAS</td>\n",
       "      <td>7005</td>\n",
       "      <td>Independent</td>\n",
       "      <td>Combined</td>\n",
       "      <td>-42.916158</td>\n",
       "      <td>147.352764</td>\n",
       "    </tr>\n",
       "    <tr>\n",
       "      <th>2</th>\n",
       "      <td>Geneva Christian College</td>\n",
       "      <td>LATROBE</td>\n",
       "      <td>TAS</td>\n",
       "      <td>7307</td>\n",
       "      <td>Independent</td>\n",
       "      <td>Combined</td>\n",
       "      <td>-41.226741</td>\n",
       "      <td>146.438726</td>\n",
       "    </tr>\n",
       "    <tr>\n",
       "      <th>3</th>\n",
       "      <td>Holy Rosary Catholic School</td>\n",
       "      <td>CLAREMONT</td>\n",
       "      <td>TAS</td>\n",
       "      <td>7011</td>\n",
       "      <td>Catholic</td>\n",
       "      <td>Primary</td>\n",
       "      <td>-42.789375</td>\n",
       "      <td>147.248306</td>\n",
       "    </tr>\n",
       "    <tr>\n",
       "      <th>4</th>\n",
       "      <td>Immaculate Heart of Mary Catholic School</td>\n",
       "      <td>LENAH VALLEY</td>\n",
       "      <td>TAS</td>\n",
       "      <td>7008</td>\n",
       "      <td>Catholic</td>\n",
       "      <td>Primary</td>\n",
       "      <td>-42.865543</td>\n",
       "      <td>147.290159</td>\n",
       "    </tr>\n",
       "  </tbody>\n",
       "</table>\n",
       "</div>"
      ],
      "text/plain": [
       "                                School Name        Suburb State  Postcode  \\\n",
       "0            Corpus Christi Catholic School     BELLERIVE   TAS      7018   \n",
       "1                              Fahan School     SANDY BAY   TAS      7005   \n",
       "2                  Geneva Christian College       LATROBE   TAS      7307   \n",
       "3               Holy Rosary Catholic School     CLAREMONT   TAS      7011   \n",
       "4  Immaculate Heart of Mary Catholic School  LENAH VALLEY   TAS      7008   \n",
       "\n",
       "  School Sector School Type   Latitude   Longitude  \n",
       "0      Catholic     Primary -42.871256  147.371473  \n",
       "1   Independent    Combined -42.916158  147.352764  \n",
       "2   Independent    Combined -41.226741  146.438726  \n",
       "3      Catholic     Primary -42.789375  147.248306  \n",
       "4      Catholic     Primary -42.865543  147.290159  "
      ]
     },
     "execution_count": 40,
     "metadata": {},
     "output_type": "execute_result"
    }
   ],
   "source": [
    "schools.head()"
   ]
  },
  {
   "cell_type": "code",
   "execution_count": 41,
   "id": "01ae317d",
   "metadata": {},
   "outputs": [],
   "source": [
    "#### Preprocessing school data ####\n",
    "\n",
    "# Dropping missing values\n",
    "schools.dropna(inplace=True)\n",
    "# Subsetting columns\n",
    "schools = schools[['School Name', 'State','School Sector', 'School Type', 'Latitude', 'Longitude']]\n",
    "# Lowercasing all string values\n",
    "schools = schools.map(lambda x: x.lower() if isinstance(x,str) else x)\n",
    "# Changing 'Independent' sector to 'private'\n",
    "schools['School Sector'] = schools['School Sector'].map(lambda x: 'private' if x=='independent' else x)\n",
    "# Renaming columns\n",
    "schools.rename(columns={'School Name':'school','State':'state','School Sector':'sector',\n",
    "                        'School Type':'type','Latitude':'latitude','Longitude':'longitude'}, inplace=True)"
   ]
  },
  {
   "cell_type": "code",
   "execution_count": 42,
   "id": "4d74da72",
   "metadata": {},
   "outputs": [],
   "source": [
    "# Function to calculate distance in kilometers\n",
    "def degree_to_km(lat1, lon1, lat2, lon2):\n",
    "    return geodesic((lat1, lon1), (lat2, lon2)).kilometers"
   ]
  },
  {
   "cell_type": "code",
   "execution_count": 43,
   "id": "691c7d8a",
   "metadata": {},
   "outputs": [],
   "source": [
    "# Function to impute school data for a given dataset (train or test) and school type\n",
    "def impute_school_data(df, schools, school_type):\n",
    "    # Filter the schools based on the given school type\n",
    "    school_df = schools[(schools['state']=='wa')&\n",
    "                     ((schools['type']==school_type) | \n",
    "                      (schools['type']=='combined'))][['school','type','sector','latitude','longitude']]\n",
    "\n",
    "    # Initialize Nearest Neighbors model\n",
    "    nn = NearestNeighbors(n_neighbors=1, algorithm='ball_tree')\n",
    "    nn.fit(school_df[['latitude', 'longitude']])\n",
    "\n",
    "    # Identify rows with missing values in the given dataset for the specified school type\n",
    "    missing_df = df[df[f'{school_type}'].isna()]\n",
    "\n",
    "    # Impute missing data if there are any\n",
    "    if not missing_df.empty:\n",
    "        distances, indices = nn.kneighbors(missing_df[['latitude', 'longitude']])\n",
    "\n",
    "        # Calculate distances in kilometers\n",
    "        distances_km = [\n",
    "            degree_to_km(lat1, lon1, lat2, lon2)\n",
    "            for (lat1, lon1), (lat2, lon2) in zip(\n",
    "                missing_df[['latitude', 'longitude']].values,\n",
    "                school_df.iloc[indices.flatten()][['latitude', 'longitude']].values\n",
    "            )\n",
    "        ]\n",
    "\n",
    "        df.loc[missing_df.index, f'{school_type}'] = school_df.iloc[indices.flatten()]['school'].values\n",
    "        df.loc[missing_df.index, f'{school_type}Distance'] = distances_km\n",
    "        df.loc[missing_df.index, f'{school_type}Type'] = school_df.iloc[indices.flatten()]['sector'].values\n",
    "\n",
    "    return df"
   ]
  },
  {
   "cell_type": "code",
   "execution_count": 44,
   "id": "1c748c75",
   "metadata": {},
   "outputs": [],
   "source": [
    "# Imputing on training set\n",
    "train = impute_school_data(train, schools, 'primary')\n",
    "train = impute_school_data(train, schools, 'secondary')\n",
    "# Imputing on testing set\n",
    "test = impute_school_data(test, schools, 'primary')\n",
    "test = impute_school_data(test, schools, 'secondary')"
   ]
  },
  {
   "cell_type": "markdown",
   "id": "08f867ca",
   "metadata": {},
   "source": [
    "# Writing to file"
   ]
  },
  {
   "cell_type": "code",
   "execution_count": 45,
   "id": "d5e89a0f",
   "metadata": {},
   "outputs": [],
   "source": [
    "train.to_pickle(f'{path}wa_train_clean.pkl')\n",
    "test.to_pickle(f'{path}wa_validation_clean.pkl')"
   ]
  }
 ],
 "metadata": {
  "kernelspec": {
   "display_name": "Python 3 (ipykernel)",
   "language": "python",
   "name": "python3"
  },
  "language_info": {
   "codemirror_mode": {
    "name": "ipython",
    "version": 3
   },
   "file_extension": ".py",
   "mimetype": "text/x-python",
   "name": "python",
   "nbconvert_exporter": "python",
   "pygments_lexer": "ipython3",
   "version": "3.11.2"
  }
 },
 "nbformat": 4,
 "nbformat_minor": 5
}
