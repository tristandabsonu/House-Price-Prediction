{
 "cells": [
  {
   "cell_type": "code",
   "execution_count": 82,
   "id": "0e55022f",
   "metadata": {},
   "outputs": [],
   "source": [
    "import pandas as pd\n",
    "pd.set_option('display.max_columns', None)\n",
    "pd.set_option(\"max_colwidth\", None)\n",
    "pd.set_option(\"max_seq_items\", None)\n",
    "pd.set_option('display.float_format', '{:.2f}'.format)\n",
    "\n",
    "import certifi\n",
    "import geopy.geocoders\n",
    "from geopy.geocoders import Nominatim\n",
    "import ssl\n",
    "import time"
   ]
  },
  {
   "cell_type": "code",
   "execution_count": 83,
   "id": "2f0b1882",
   "metadata": {},
   "outputs": [],
   "source": [
    "path = '/Users/tristangarcia/desktop/hp-pred/data/wa/'"
   ]
  },
  {
   "cell_type": "code",
   "execution_count": 84,
   "id": "6984e6c6",
   "metadata": {},
   "outputs": [],
   "source": [
    "train = pd.read_csv(f'{path}wa_train.csv')\n",
    "test = pd.read_csv(f'{path}wa_validation.csv')  # validation set"
   ]
  },
  {
   "cell_type": "code",
   "execution_count": 85,
   "id": "bf9ede96",
   "metadata": {},
   "outputs": [
    {
     "name": "stdout",
     "output_type": "stream",
     "text": [
      "(132522, 14)\n",
      "(28398, 14)\n"
     ]
    }
   ],
   "source": [
    "print(train.shape)\n",
    "print(test.shape)"
   ]
  },
  {
   "cell_type": "markdown",
   "id": "157c2536",
   "metadata": {},
   "source": [
    "# Filter"
   ]
  },
  {
   "cell_type": "code",
   "execution_count": 86,
   "id": "9bcb53e5",
   "metadata": {},
   "outputs": [
    {
     "data": {
      "text/plain": [
       "soldYear\n",
       "2022.00    24192\n",
       "2023.00    23212\n",
       "2024.00    22053\n",
       "2021.00    20596\n",
       "2020.00    10934\n",
       "2019.00     7236\n",
       "2018.00     6060\n",
       "2017.00     5689\n",
       "2016.00     4636\n",
       "2015.00     3992\n",
       "2014.00     2383\n",
       "2013.00      847\n",
       "2012.00      259\n",
       "2010.00      160\n",
       "2009.00      132\n",
       "2011.00       99\n",
       "2008.00       25\n",
       "1901.00        5\n",
       "1970.00        2\n",
       "2002.00        1\n",
       "2005.00        1\n",
       "1910.00        1\n",
       "Name: count, dtype: int64"
      ]
     },
     "execution_count": 86,
     "metadata": {},
     "output_type": "execute_result"
    }
   ],
   "source": [
    "train['soldYear'].value_counts()"
   ]
  },
  {
   "cell_type": "code",
   "execution_count": 87,
   "id": "d4fe46e9",
   "metadata": {},
   "outputs": [],
   "source": [
    "# Not enough data for 2017 and earlier\n",
    "train = train[train['soldYear'] > 2017]\n",
    "test = test[test['soldYear'] > 2017]"
   ]
  },
  {
   "cell_type": "markdown",
   "id": "ecd5a17b",
   "metadata": {},
   "source": [
    "### Sold price"
   ]
  },
  {
   "cell_type": "code",
   "execution_count": 88,
   "id": "1277bb91",
   "metadata": {},
   "outputs": [],
   "source": [
    "# Removing unrealistic house prices\n",
    "train = train[(train['soldPrice'] > 100000)]\n",
    "train = train[train['soldPrice'] < 10000000]\n",
    "\n",
    "test = test[(test['soldPrice'] > 100000)]\n",
    "test = test[(test['soldPrice'] < 10000000)]"
   ]
  },
  {
   "cell_type": "code",
   "execution_count": 89,
   "id": "a9926796",
   "metadata": {},
   "outputs": [],
   "source": [
    "na_cols = ['suburb','bathrooms','bedrooms','parking',\n",
    "           'soldYear','soldPrice']\n",
    "# Removing missing rows for required variables soldPrice\n",
    "train.dropna(subset=na_cols, inplace=True)\n",
    "test.dropna(subset=na_cols, inplace=True)"
   ]
  },
  {
   "cell_type": "code",
   "execution_count": 90,
   "id": "b8e155d4",
   "metadata": {},
   "outputs": [
    {
     "name": "stdout",
     "output_type": "stream",
     "text": [
      "(113529, 14)\n",
      "(24227, 14)\n"
     ]
    }
   ],
   "source": [
    "print(train.shape)\n",
    "print(test.shape)"
   ]
  },
  {
   "cell_type": "markdown",
   "id": "ed03bed5",
   "metadata": {},
   "source": [
    "# Reformatting "
   ]
  },
  {
   "cell_type": "code",
   "execution_count": 91,
   "id": "73ec8e3a",
   "metadata": {},
   "outputs": [
    {
     "data": {
      "text/plain": [
       "(113529, 14)"
      ]
     },
     "execution_count": 91,
     "metadata": {},
     "output_type": "execute_result"
    }
   ],
   "source": [
    "train.shape"
   ]
  },
  {
   "cell_type": "markdown",
   "id": "4d3e24ba",
   "metadata": {},
   "source": [
    "### Property type"
   ]
  },
  {
   "cell_type": "code",
   "execution_count": 92,
   "id": "5a92fe88",
   "metadata": {},
   "outputs": [
    {
     "data": {
      "text/plain": [
       "propertyType\n",
       "House                                                             94513\n",
       "Apartment                                                         13187\n",
       "Townhouse/Villa                                                    4265\n",
       "Any                                                                1118\n",
       "House,Any                                                           216\n",
       "House,House                                                          43\n",
       "Apartment,House,Townhouse/Villa,Townhouse/Villa                      24\n",
       "House,Townhouse/Villa                                                23\n",
       "Apartment,House                                                      21\n",
       "Apartment,House,Townhouse/Villa                                      20\n",
       "Apartment,Townhouse/Villa                                            20\n",
       "Any,Any                                                              14\n",
       "House,Land                                                           10\n",
       "Apartment,House,Any,Townhouse/Villa,Land,Townhouse/Villa              6\n",
       "Apartment,Apartment,Townhouse/Villa                                   5\n",
       "Townhouse/Villa,House                                                 5\n",
       "Apartment,New Developments                                            4\n",
       "Townhouse/Villa,New Developments                                      4\n",
       "Any,House,Any                                                         3\n",
       "Apartment,Townhouse/Villa,Townhouse/Villa                             3\n",
       "Apartment,House,Townhouse/Villa,Land,Townhouse/Villa                  3\n",
       "Apartment,House,House                                                 3\n",
       "Apartment,House,Any,Townhouse/Villa,Townhouse/Villa                   2\n",
       "Apartment,House,Apartment,Townhouse/Villa,Land,Townhouse/Villa        2\n",
       "Apartment,Apartment                                                   2\n",
       "House,Townhouse/Villa,Townhouse/Villa                                 2\n",
       "Apartment,Apartment,House,House,Townhouse/Villa                       1\n",
       "Apartment,Any                                                         1\n",
       "House,Any,Townhouse/Villa,Land,Townhouse/Villa                        1\n",
       "Apartment,Any,Any,Townhouse/Villa                                     1\n",
       "Apartment,House,Apartment,Land,Townhouse/Villa                        1\n",
       "Any,Apartment                                                         1\n",
       "Apartment,House,House,Townhouse/Villa                                 1\n",
       "Apartment,House,Any,Townhouse/Villa                                   1\n",
       "House,Townhouse/Villa,Land                                            1\n",
       "House,Any,Townhouse/Villa,Townhouse/Villa                             1\n",
       "House,Apartment                                                       1\n",
       "Name: count, dtype: int64"
      ]
     },
     "execution_count": 92,
     "metadata": {},
     "output_type": "execute_result"
    }
   ],
   "source": [
    "train['propertyType'].value_counts()"
   ]
  },
  {
   "cell_type": "markdown",
   "id": "eb8e6a44",
   "metadata": {},
   "source": [
    "### Only possible entries:\n",
    "- House\n",
    "- Apartment\n",
    "- townhouse??\n"
   ]
  },
  {
   "cell_type": "code",
   "execution_count": 93,
   "id": "58e9b445",
   "metadata": {},
   "outputs": [],
   "source": [
    "train['propertyType'] = train['propertyType'].str.split(',')\n",
    "test['propertyType'] = test['propertyType'].str.split(',')\n",
    "\n",
    "def reformat_propertyTypes(row):\n",
    "    # Valid property types\n",
    "    types = ['House','Apartment']\n",
    "    # This deals with NaN values\n",
    "    if not isinstance(row, list):\n",
    "        return 'Unknown'\n",
    "    # Go through all property types\n",
    "    for t in row:\n",
    "        if t in types:\n",
    "            # Return the first instance of a valid property type\n",
    "            return t\n",
    "    # Return 'Unkown' if no valid property types found\n",
    "    return 'Unknown'\n",
    "        \n",
    "# Applying the function\n",
    "train['propertyType'] = train['propertyType'].apply(reformat_propertyTypes)\n",
    "test['propertyType'] = test['propertyType'].apply(reformat_propertyTypes)"
   ]
  },
  {
   "cell_type": "code",
   "execution_count": 94,
   "id": "9b2f6dff",
   "metadata": {},
   "outputs": [],
   "source": [
    "# Changing the rural values from propertyTypes to House\n",
    "train['propertyType'] = train['propertyType'].apply(lambda x: 'unit' if x.lower() =='apartment' else x)\n",
    "test['propertyType'] = test['propertyType'].apply(lambda x: 'unit' if x.lower() =='apartment' else x)\n",
    "\n",
    "# Removing unknown propertyTypes\n",
    "train = train[(train['propertyType'] != 'Unknown')]\n",
    "test = test[(test['propertyType'] != 'Unknown')]"
   ]
  },
  {
   "cell_type": "code",
   "execution_count": 95,
   "id": "03e57959",
   "metadata": {
    "scrolled": true
   },
   "outputs": [
    {
     "data": {
      "text/plain": [
       "propertyType\n",
       "House    94819\n",
       "unit     13309\n",
       "Name: count, dtype: int64"
      ]
     },
     "execution_count": 95,
     "metadata": {},
     "output_type": "execute_result"
    }
   ],
   "source": [
    "train['propertyType'].value_counts()"
   ]
  },
  {
   "cell_type": "code",
   "execution_count": 96,
   "id": "37db4cf7",
   "metadata": {},
   "outputs": [
    {
     "data": {
      "text/plain": [
       "(108128, 14)"
      ]
     },
     "execution_count": 96,
     "metadata": {},
     "output_type": "execute_result"
    }
   ],
   "source": [
    "train.shape"
   ]
  },
  {
   "cell_type": "markdown",
   "id": "ebdeba82",
   "metadata": {},
   "source": [
    "### Features"
   ]
  },
  {
   "cell_type": "code",
   "execution_count": 97,
   "id": "85a79775",
   "metadata": {},
   "outputs": [
    {
     "data": {
      "text/plain": [
       "features\n",
       "['Ensuite']                                                                                                                                                                                                9399\n",
       "['Air conditioning']                                                                                                                                                                                       1362\n",
       "['Secure Parking']                                                                                                                                                                                         1210\n",
       "['Study']                                                                                                                                                                                                   834\n",
       "['Air conditioning', 'Built in wardrobes']                                                                                                                                                                  445\n",
       "                                                                                                                                                                                                           ... \n",
       "['Air conditioning', 'Ensuite', 'Pets allowed', 'Internal Laundry', 'Close to transport']                                                                                                                     1\n",
       "['Air Conditioning', 'Heating', 'Built-In Wardrobes', 'Close to Transport', 'Close to Shops', 'Intercom', 'Ensuite', 'City Views', 'Penthouse', 'Car Parking - Basement', 'Window Treatments', 'Study']       1\n",
       "['Air Conditioning', 'Fireplace(s)', 'Formal Lounge', 'Separate Dining', 'Pool', 'Pizza oven', 'Outdoor kitchen']                                                                                             1\n",
       "['Close to Schools', 'Close to Shops', 'Close to Transport', 'Fireplace']                                                                                                                                     1\n",
       "['Fully Fenced', 'Secure Parking', 'Alarm System', 'Built-in Wardrobes', 'Dishwasher', 'Air Conditioning']                                                                                                    1\n",
       "Name: count, Length: 23702, dtype: int64"
      ]
     },
     "execution_count": 97,
     "metadata": {},
     "output_type": "execute_result"
    }
   ],
   "source": [
    "train['features'].value_counts()"
   ]
  },
  {
   "cell_type": "code",
   "execution_count": 98,
   "id": "11a70e1e",
   "metadata": {
    "scrolled": true
   },
   "outputs": [
    {
     "data": {
      "text/plain": [
       "'['"
      ]
     },
     "execution_count": 98,
     "metadata": {},
     "output_type": "execute_result"
    }
   ],
   "source": [
    "train['features'][3][0]"
   ]
  },
  {
   "cell_type": "markdown",
   "id": "fd420196",
   "metadata": {},
   "source": [
    "We can see that each instance of the variables 'features' looks like a list but is actually a string"
   ]
  },
  {
   "cell_type": "code",
   "execution_count": 99,
   "id": "e8c9edaa",
   "metadata": {},
   "outputs": [],
   "source": [
    "# Converting the 'string lists' into lists\n",
    "# https://stackoverflow.com/questions/1894269/how-to-convert-string-representation-of-list-to-a-list\n",
    "import ast\n",
    "\n",
    "train['features'] = train['features'].apply(lambda x: ast.literal_eval(x) if pd.notnull(x) else [])\n",
    "test['features'] = test['features'].apply(lambda x: ast.literal_eval(x) if pd.notnull(x) else [])"
   ]
  },
  {
   "cell_type": "markdown",
   "id": "838b4cb7",
   "metadata": {},
   "source": [
    "### Lowercasing categorical variables"
   ]
  },
  {
   "cell_type": "code",
   "execution_count": 100,
   "id": "45565701",
   "metadata": {},
   "outputs": [],
   "source": [
    "train = train.map(lambda x: x.lower() if isinstance(x, str) else x)\n",
    "test = test.map(lambda x: x.lower() if isinstance(x,str) else x)"
   ]
  },
  {
   "cell_type": "code",
   "execution_count": 101,
   "id": "539ba53c",
   "metadata": {},
   "outputs": [],
   "source": [
    "# Lowercasing features variable\n",
    "def lower_features(feature_list):\n",
    "    f = []\n",
    "    if len(feature_list) == 0:\n",
    "        return feature_list\n",
    "    else:\n",
    "        for feature in feature_list:\n",
    "            f.append(feature.lower())\n",
    "    return f\n",
    "\n",
    "train['features'] = train['features'].apply(lambda x: lower_features(x))\n",
    "test['features'] = test['features'].apply(lambda x: lower_features(x))"
   ]
  },
  {
   "cell_type": "markdown",
   "id": "e0985c42",
   "metadata": {},
   "source": [
    "# Missing values"
   ]
  },
  {
   "cell_type": "code",
   "execution_count": 102,
   "id": "73428bb4",
   "metadata": {},
   "outputs": [
    {
     "data": {
      "text/plain": [
       "streetNumber      527\n",
       "street            490\n",
       "suburb              0\n",
       "postcode            0\n",
       "bathrooms           0\n",
       "bedrooms            0\n",
       "parking             0\n",
       "landArea        17324\n",
       "latitude            2\n",
       "longitude           2\n",
       "features            0\n",
       "propertyType        0\n",
       "soldYear            0\n",
       "soldPrice           0\n",
       "dtype: int64"
      ]
     },
     "execution_count": 102,
     "metadata": {},
     "output_type": "execute_result"
    }
   ],
   "source": [
    "train.isnull().sum()"
   ]
  },
  {
   "cell_type": "markdown",
   "id": "baca6a0d",
   "metadata": {},
   "source": [
    "### Latitude and Longitude"
   ]
  },
  {
   "cell_type": "markdown",
   "id": "9b2df41e",
   "metadata": {},
   "source": [
    "We will be applying two methods in order to fill latitude and longitude\n",
    "- Method 1 will be to use Nominatim to search for the address\n",
    "- Method 2 will be to use a csv we made to merge and fill using the latitude and longitude of the suburb"
   ]
  },
  {
   "cell_type": "code",
   "execution_count": 103,
   "id": "c95bf350",
   "metadata": {},
   "outputs": [],
   "source": [
    "# Initialise nominatim\n",
    "ctx = ssl.create_default_context(cafile=certifi.where())\n",
    "geopy.geocoders.options.default_ssl_context = ctx\n",
    "nom = Nominatim(user_agent=\"tristan_scrape\")\n"
   ]
  },
  {
   "cell_type": "code",
   "execution_count": 104,
   "id": "ebd5750f",
   "metadata": {},
   "outputs": [],
   "source": [
    "def format_address(house):\n",
    "    parts = []\n",
    "    # Check for street and street number, append if both are present\n",
    "    if pd.notnull(house['street']) and pd.notnull(house['streetNumber']):\n",
    "        parts.append(f'{house[\"streetNumber\"]} {house[\"street\"]}')\n",
    "    elif pd.notnull(house['street']):\n",
    "        parts.append(house['street'])\n",
    "    \n",
    "    # Check and append if suburb and postcode are present\n",
    "    if pd.notnull(house['suburb']):\n",
    "        parts.append(house['suburb'])\n",
    "    if pd.notnull(house['postcode']):\n",
    "        parts.append(f'{house[\"postcode\"].astype(int)}')\n",
    "    if parts:  # if there's at least one part present, append the state\n",
    "        parts.append('Western Australia')\n",
    "    # Join the parts with a comma and return the result\n",
    "    print(parts)\n",
    "    return ', '.join(parts) if parts else 'None'"
   ]
  },
  {
   "cell_type": "code",
   "execution_count": 105,
   "id": "c3e656d5",
   "metadata": {},
   "outputs": [],
   "source": [
    "def get_coords(address):\n",
    "    # Searches Nominatim of the address\n",
    "    location = nom.geocode(address)\n",
    "    time.sleep(1)\n",
    "    if location:\n",
    "        return location.latitude, location.longitude\n",
    "    return None, None"
   ]
  },
  {
   "cell_type": "code",
   "execution_count": 106,
   "id": "7412e6dc",
   "metadata": {},
   "outputs": [],
   "source": [
    "\n",
    "def coords_fill(df):\n",
    "    # Getting index of data to fill\n",
    "    index = df.loc[(df['latitude'].isnull()) & (df['suburb'].notnull())].index\n",
    "    for idx in index:\n",
    "        house = df.loc[idx]\n",
    "        address = format_address(house)\n",
    "        latitude, longitude = get_coords(address)\n",
    "        # Assigning new latitude and longitude\n",
    "        df.loc[idx, 'latitude'] = latitude\n",
    "        df.loc[idx, 'longitude'] = longitude\n",
    "    return df"
   ]
  },
  {
   "cell_type": "code",
   "execution_count": 107,
   "id": "33a682b7",
   "metadata": {},
   "outputs": [
    {
     "name": "stdout",
     "output_type": "stream",
     "text": [
      "['tooma close', 'lakelands', '6180', 'Western Australia']\n",
      "['wintergreen crs', 'treeby', '6164', 'Western Australia']\n"
     ]
    }
   ],
   "source": [
    "train = coords_fill(train)\n",
    "test = coords_fill(test)"
   ]
  },
  {
   "cell_type": "code",
   "execution_count": 108,
   "id": "a7fd3421",
   "metadata": {},
   "outputs": [
    {
     "data": {
      "text/html": [
       "<div>\n",
       "<style scoped>\n",
       "    .dataframe tbody tr th:only-of-type {\n",
       "        vertical-align: middle;\n",
       "    }\n",
       "\n",
       "    .dataframe tbody tr th {\n",
       "        vertical-align: top;\n",
       "    }\n",
       "\n",
       "    .dataframe thead th {\n",
       "        text-align: right;\n",
       "    }\n",
       "</style>\n",
       "<table border=\"1\" class=\"dataframe\">\n",
       "  <thead>\n",
       "    <tr style=\"text-align: right;\">\n",
       "      <th></th>\n",
       "      <th>suburb</th>\n",
       "      <th>state</th>\n",
       "      <th>postcode</th>\n",
       "      <th>latitude</th>\n",
       "      <th>longitude</th>\n",
       "      <th>marriedPercentage</th>\n",
       "      <th>ownerOccupierPercentage</th>\n",
       "      <th>population</th>\n",
       "      <th>renterPercentage</th>\n",
       "      <th>singlePercentage</th>\n",
       "      <th>mostCommonAgeBracket</th>\n",
       "    </tr>\n",
       "  </thead>\n",
       "  <tbody>\n",
       "    <tr>\n",
       "      <th>0</th>\n",
       "      <td>gibson desert north</td>\n",
       "      <td>wa</td>\n",
       "      <td>872</td>\n",
       "      <td>-21.95</td>\n",
       "      <td>131.30</td>\n",
       "      <td>NaN</td>\n",
       "      <td>NaN</td>\n",
       "      <td>NaN</td>\n",
       "      <td>NaN</td>\n",
       "      <td>NaN</td>\n",
       "      <td>NaN</td>\n",
       "    </tr>\n",
       "    <tr>\n",
       "      <th>1</th>\n",
       "      <td>gibson desert south</td>\n",
       "      <td>wa</td>\n",
       "      <td>872</td>\n",
       "      <td>-24.95</td>\n",
       "      <td>125.98</td>\n",
       "      <td>NaN</td>\n",
       "      <td>NaN</td>\n",
       "      <td>NaN</td>\n",
       "      <td>NaN</td>\n",
       "      <td>NaN</td>\n",
       "      <td>NaN</td>\n",
       "    </tr>\n",
       "    <tr>\n",
       "      <th>2</th>\n",
       "      <td>irrunytju</td>\n",
       "      <td>wa</td>\n",
       "      <td>872</td>\n",
       "      <td>-26.06</td>\n",
       "      <td>128.93</td>\n",
       "      <td>NaN</td>\n",
       "      <td>NaN</td>\n",
       "      <td>NaN</td>\n",
       "      <td>NaN</td>\n",
       "      <td>NaN</td>\n",
       "      <td>NaN</td>\n",
       "    </tr>\n",
       "    <tr>\n",
       "      <th>3</th>\n",
       "      <td>kanpa</td>\n",
       "      <td>wa</td>\n",
       "      <td>872</td>\n",
       "      <td>-26.53</td>\n",
       "      <td>125.62</td>\n",
       "      <td>NaN</td>\n",
       "      <td>NaN</td>\n",
       "      <td>NaN</td>\n",
       "      <td>NaN</td>\n",
       "      <td>NaN</td>\n",
       "      <td>NaN</td>\n",
       "    </tr>\n",
       "    <tr>\n",
       "      <th>4</th>\n",
       "      <td>kiwirrkurra</td>\n",
       "      <td>wa</td>\n",
       "      <td>872</td>\n",
       "      <td>-23.28</td>\n",
       "      <td>126.95</td>\n",
       "      <td>NaN</td>\n",
       "      <td>NaN</td>\n",
       "      <td>NaN</td>\n",
       "      <td>NaN</td>\n",
       "      <td>NaN</td>\n",
       "      <td>NaN</td>\n",
       "    </tr>\n",
       "  </tbody>\n",
       "</table>\n",
       "</div>"
      ],
      "text/plain": [
       "                suburb state  postcode  latitude  longitude  \\\n",
       "0  gibson desert north    wa       872    -21.95     131.30   \n",
       "1  gibson desert south    wa       872    -24.95     125.98   \n",
       "2            irrunytju    wa       872    -26.06     128.93   \n",
       "3                kanpa    wa       872    -26.53     125.62   \n",
       "4          kiwirrkurra    wa       872    -23.28     126.95   \n",
       "\n",
       "   marriedPercentage  ownerOccupierPercentage  population  renterPercentage  \\\n",
       "0                NaN                      NaN         NaN               NaN   \n",
       "1                NaN                      NaN         NaN               NaN   \n",
       "2                NaN                      NaN         NaN               NaN   \n",
       "3                NaN                      NaN         NaN               NaN   \n",
       "4                NaN                      NaN         NaN               NaN   \n",
       "\n",
       "   singlePercentage mostCommonAgeBracket  \n",
       "0               NaN                  NaN  \n",
       "1               NaN                  NaN  \n",
       "2               NaN                  NaN  \n",
       "3               NaN                  NaN  \n",
       "4               NaN                  NaN  "
      ]
     },
     "execution_count": 108,
     "metadata": {},
     "output_type": "execute_result"
    }
   ],
   "source": [
    "suburbs_path = '/Users/tristangarcia/desktop/hp-pred/data/'\n",
    "suburb_statistics = pd.read_csv(f'{suburbs_path}wa_suburb_statistics.csv')\n",
    "\n",
    "suburb_statistics.head()"
   ]
  },
  {
   "cell_type": "code",
   "execution_count": 109,
   "id": "a5bb3b2f",
   "metadata": {},
   "outputs": [
    {
     "name": "stdout",
     "output_type": "stream",
     "text": [
      "(1815, 3)\n"
     ]
    },
    {
     "data": {
      "text/html": [
       "<div>\n",
       "<style scoped>\n",
       "    .dataframe tbody tr th:only-of-type {\n",
       "        vertical-align: middle;\n",
       "    }\n",
       "\n",
       "    .dataframe tbody tr th {\n",
       "        vertical-align: top;\n",
       "    }\n",
       "\n",
       "    .dataframe thead th {\n",
       "        text-align: right;\n",
       "    }\n",
       "</style>\n",
       "<table border=\"1\" class=\"dataframe\">\n",
       "  <thead>\n",
       "    <tr style=\"text-align: right;\">\n",
       "      <th></th>\n",
       "      <th>suburb</th>\n",
       "      <th>latitude</th>\n",
       "      <th>longitude</th>\n",
       "    </tr>\n",
       "  </thead>\n",
       "  <tbody>\n",
       "    <tr>\n",
       "      <th>0</th>\n",
       "      <td>gibson desert north</td>\n",
       "      <td>-21.95</td>\n",
       "      <td>131.30</td>\n",
       "    </tr>\n",
       "    <tr>\n",
       "      <th>1</th>\n",
       "      <td>gibson desert south</td>\n",
       "      <td>-24.95</td>\n",
       "      <td>125.98</td>\n",
       "    </tr>\n",
       "    <tr>\n",
       "      <th>2</th>\n",
       "      <td>irrunytju</td>\n",
       "      <td>-26.06</td>\n",
       "      <td>128.93</td>\n",
       "    </tr>\n",
       "    <tr>\n",
       "      <th>3</th>\n",
       "      <td>kanpa</td>\n",
       "      <td>-26.53</td>\n",
       "      <td>125.62</td>\n",
       "    </tr>\n",
       "    <tr>\n",
       "      <th>4</th>\n",
       "      <td>kiwirrkurra</td>\n",
       "      <td>-23.28</td>\n",
       "      <td>126.95</td>\n",
       "    </tr>\n",
       "  </tbody>\n",
       "</table>\n",
       "</div>"
      ],
      "text/plain": [
       "                suburb  latitude  longitude\n",
       "0  gibson desert north    -21.95     131.30\n",
       "1  gibson desert south    -24.95     125.98\n",
       "2            irrunytju    -26.06     128.93\n",
       "3                kanpa    -26.53     125.62\n",
       "4          kiwirrkurra    -23.28     126.95"
      ]
     },
     "execution_count": 109,
     "metadata": {},
     "output_type": "execute_result"
    }
   ],
   "source": [
    "coord_df = suburb_statistics[['suburb','latitude','longitude']]\n",
    "print(coord_df.shape)\n",
    "coord_df.head()"
   ]
  },
  {
   "cell_type": "code",
   "execution_count": 110,
   "id": "9b50429c",
   "metadata": {},
   "outputs": [
    {
     "data": {
      "text/plain": [
       "streetNumber      527\n",
       "street            490\n",
       "suburb              0\n",
       "postcode            0\n",
       "bathrooms           0\n",
       "bedrooms            0\n",
       "parking             0\n",
       "landArea        17324\n",
       "latitude            0\n",
       "longitude           0\n",
       "features            0\n",
       "propertyType        0\n",
       "soldYear            0\n",
       "soldPrice           0\n",
       "dtype: int64"
      ]
     },
     "execution_count": 110,
     "metadata": {},
     "output_type": "execute_result"
    }
   ],
   "source": [
    "# Merging train with coord_df\n",
    "train = pd.merge(train, coord_df, on=['suburb'], how='left', suffixes=('', '_from_coord'))\n",
    "test = pd.merge(test, coord_df, on=['suburb'], how='left', suffixes=('', '_from_coord'))\n",
    "\n",
    "# Filling missing Latitude and Longitude\n",
    "train['latitude'] = train['latitude'].fillna(train['latitude_from_coord'])\n",
    "train['longitude'] = train['longitude'].fillna(train['longitude_from_coord'])\n",
    "test['latitude'] = test['latitude'].fillna(test['latitude_from_coord'])\n",
    "test['longitude'] = test['longitude'].fillna(test['longitude_from_coord'])\n",
    "\n",
    "# Dropping the extra columns from coord_df\n",
    "train.drop(['latitude_from_coord', 'longitude_from_coord'], axis=1, inplace=True)\n",
    "test.drop(['latitude_from_coord', 'longitude_from_coord'], axis=1, inplace=True)\n",
    "\n",
    "train.isnull().sum()"
   ]
  },
  {
   "cell_type": "markdown",
   "id": "b10b4223",
   "metadata": {},
   "source": [
    "# KNN Imputation"
   ]
  },
  {
   "cell_type": "code",
   "execution_count": 111,
   "id": "7ca4f652",
   "metadata": {},
   "outputs": [],
   "source": [
    "from sklearn.neighbors import KNeighborsRegressor"
   ]
  },
  {
   "cell_type": "markdown",
   "id": "622fb451",
   "metadata": {},
   "source": [
    "### Land area\n",
    "We will be using latitude and longitude to impute on landArea. We suspect that there is a difference in landArea for rural and non-rural areas. There also seems to be less recorded neighbours for rural areas. To account for this, the data will be split into rural and non-rural areas before imputation. Additionally, rural areas will find only 1 nearest neighbour will non-rural will find 3 nearest neighbours"
   ]
  },
  {
   "cell_type": "code",
   "execution_count": 112,
   "id": "ec7cf596",
   "metadata": {},
   "outputs": [],
   "source": [
    "train.reset_index(drop=True,inplace=True)\n",
    "test.reset_index(drop=True,inplace=True)\n",
    "# Seperating null and non-null \n",
    "x = train.loc[train['landArea'].notnull(), ['latitude','longitude','landArea']]\n",
    "y = train.loc[train['landArea'].isnull(), ['latitude','longitude','landArea']]\n",
    "y_test = test.loc[test['landArea'].isnull(), ['latitude','longitude','landArea']]"
   ]
  },
  {
   "cell_type": "code",
   "execution_count": 113,
   "id": "a9826a96",
   "metadata": {},
   "outputs": [
    {
     "name": "stdout",
     "output_type": "stream",
     "text": [
      "(90804, 3)\n",
      "(17324, 3)\n"
     ]
    }
   ],
   "source": [
    "print(x.shape)\n",
    "print(y.shape)"
   ]
  },
  {
   "cell_type": "code",
   "execution_count": 114,
   "id": "b2da84a2",
   "metadata": {},
   "outputs": [],
   "source": [
    "imputer = KNeighborsRegressor(n_neighbors=1)\n",
    "# Fitting on the training set\n",
    "imputer.fit(x[['latitude','longitude']], x['landArea'])\n",
    "# Imputing on missing landArea \n",
    "predict = imputer.predict(y[['latitude', 'longitude']])\n",
    "train.loc[y.index,'landArea'] = predict\n",
    "# Imputing on missing landArea on validation set using training data\n",
    "predict_test = imputer.predict(y_test[['latitude', 'longitude']])\n",
    "test.loc[y_test.index,'landArea'] = predict_test"
   ]
  },
  {
   "cell_type": "markdown",
   "id": "08f867ca",
   "metadata": {},
   "source": [
    "# Writing to file"
   ]
  },
  {
   "cell_type": "code",
   "execution_count": 115,
   "id": "9f4b19d9",
   "metadata": {},
   "outputs": [
    {
     "name": "stdout",
     "output_type": "stream",
     "text": [
      "(108128, 14)\n",
      "(23079, 14)\n"
     ]
    }
   ],
   "source": [
    "print(train.shape)\n",
    "print(test.shape)"
   ]
  },
  {
   "cell_type": "code",
   "execution_count": 116,
   "id": "d5e89a0f",
   "metadata": {},
   "outputs": [],
   "source": [
    "train.to_pickle(f'{path}wa_train_clean.pkl')\n",
    "test.to_pickle(f'{path}wa_validation_clean.pkl')"
   ]
  },
  {
   "cell_type": "code",
   "execution_count": 117,
   "id": "112080ac",
   "metadata": {},
   "outputs": [
    {
     "data": {
      "text/html": [
       "<div>\n",
       "<style scoped>\n",
       "    .dataframe tbody tr th:only-of-type {\n",
       "        vertical-align: middle;\n",
       "    }\n",
       "\n",
       "    .dataframe tbody tr th {\n",
       "        vertical-align: top;\n",
       "    }\n",
       "\n",
       "    .dataframe thead th {\n",
       "        text-align: right;\n",
       "    }\n",
       "</style>\n",
       "<table border=\"1\" class=\"dataframe\">\n",
       "  <thead>\n",
       "    <tr style=\"text-align: right;\">\n",
       "      <th></th>\n",
       "      <th>streetNumber</th>\n",
       "      <th>street</th>\n",
       "      <th>suburb</th>\n",
       "      <th>postcode</th>\n",
       "      <th>bathrooms</th>\n",
       "      <th>bedrooms</th>\n",
       "      <th>parking</th>\n",
       "      <th>landArea</th>\n",
       "      <th>latitude</th>\n",
       "      <th>longitude</th>\n",
       "      <th>features</th>\n",
       "      <th>propertyType</th>\n",
       "      <th>soldYear</th>\n",
       "      <th>soldPrice</th>\n",
       "    </tr>\n",
       "  </thead>\n",
       "  <tbody>\n",
       "    <tr>\n",
       "      <th>0</th>\n",
       "      <td>18</td>\n",
       "      <td>townsend road</td>\n",
       "      <td>rockingham</td>\n",
       "      <td>6168.00</td>\n",
       "      <td>2</td>\n",
       "      <td>4</td>\n",
       "      <td>3</td>\n",
       "      <td>684.00</td>\n",
       "      <td>-32.29</td>\n",
       "      <td>115.73</td>\n",
       "      <td>[]</td>\n",
       "      <td>house</td>\n",
       "      <td>2022.00</td>\n",
       "      <td>537500.00</td>\n",
       "    </tr>\n",
       "    <tr>\n",
       "      <th>1</th>\n",
       "      <td>1</td>\n",
       "      <td>mckivett crescent</td>\n",
       "      <td>leeming</td>\n",
       "      <td>6149.00</td>\n",
       "      <td>2</td>\n",
       "      <td>4</td>\n",
       "      <td>2</td>\n",
       "      <td>739.00</td>\n",
       "      <td>-32.08</td>\n",
       "      <td>115.85</td>\n",
       "      <td>[]</td>\n",
       "      <td>house</td>\n",
       "      <td>2019.00</td>\n",
       "      <td>635000.00</td>\n",
       "    </tr>\n",
       "    <tr>\n",
       "      <th>2</th>\n",
       "      <td>72</td>\n",
       "      <td>oceanside promenade</td>\n",
       "      <td>mullaloo</td>\n",
       "      <td>6027.00</td>\n",
       "      <td>2</td>\n",
       "      <td>6</td>\n",
       "      <td>2</td>\n",
       "      <td>719.00</td>\n",
       "      <td>-31.78</td>\n",
       "      <td>115.73</td>\n",
       "      <td>[air conditioning, balcony / deck, built in wardrobes, close to schools, close to shops, close to transport, garden, swimming pool, secure parking]</td>\n",
       "      <td>house</td>\n",
       "      <td>2023.00</td>\n",
       "      <td>2025000.00</td>\n",
       "    </tr>\n",
       "    <tr>\n",
       "      <th>3</th>\n",
       "      <td>19</td>\n",
       "      <td>raymond street</td>\n",
       "      <td>yokine</td>\n",
       "      <td>6060.00</td>\n",
       "      <td>1</td>\n",
       "      <td>2</td>\n",
       "      <td>1</td>\n",
       "      <td>62.00</td>\n",
       "      <td>-31.90</td>\n",
       "      <td>115.84</td>\n",
       "      <td>[]</td>\n",
       "      <td>unit</td>\n",
       "      <td>2022.00</td>\n",
       "      <td>220000.00</td>\n",
       "    </tr>\n",
       "    <tr>\n",
       "      <th>4</th>\n",
       "      <td>1</td>\n",
       "      <td>eucumbene crescent</td>\n",
       "      <td>joondalup</td>\n",
       "      <td>6027.00</td>\n",
       "      <td>1</td>\n",
       "      <td>3</td>\n",
       "      <td>1</td>\n",
       "      <td>651.00</td>\n",
       "      <td>-31.72</td>\n",
       "      <td>115.77</td>\n",
       "      <td>[life style, value]</td>\n",
       "      <td>house</td>\n",
       "      <td>2021.00</td>\n",
       "      <td>421000.00</td>\n",
       "    </tr>\n",
       "    <tr>\n",
       "      <th>5</th>\n",
       "      <td>165b</td>\n",
       "      <td>bateman road</td>\n",
       "      <td>mount pleasant</td>\n",
       "      <td>6153.00</td>\n",
       "      <td>3</td>\n",
       "      <td>4</td>\n",
       "      <td>2</td>\n",
       "      <td>506.00</td>\n",
       "      <td>-32.04</td>\n",
       "      <td>115.85</td>\n",
       "      <td>[]</td>\n",
       "      <td>house</td>\n",
       "      <td>2024.00</td>\n",
       "      <td>2125000.00</td>\n",
       "    </tr>\n",
       "    <tr>\n",
       "      <th>6</th>\n",
       "      <td>46</td>\n",
       "      <td>thorburn avenue</td>\n",
       "      <td>beechboro</td>\n",
       "      <td>6063.00</td>\n",
       "      <td>1</td>\n",
       "      <td>3</td>\n",
       "      <td>1</td>\n",
       "      <td>696.00</td>\n",
       "      <td>-31.86</td>\n",
       "      <td>115.95</td>\n",
       "      <td>[]</td>\n",
       "      <td>house</td>\n",
       "      <td>2023.00</td>\n",
       "      <td>525000.00</td>\n",
       "    </tr>\n",
       "    <tr>\n",
       "      <th>7</th>\n",
       "      <td>135</td>\n",
       "      <td>challis road</td>\n",
       "      <td>seville grove</td>\n",
       "      <td>6112.00</td>\n",
       "      <td>2</td>\n",
       "      <td>3</td>\n",
       "      <td>1</td>\n",
       "      <td>263.00</td>\n",
       "      <td>-32.13</td>\n",
       "      <td>116.00</td>\n",
       "      <td>[air conditioning, ensuite, alarm system, pets allowed, internal laundry, close to shops, close to transport]</td>\n",
       "      <td>house</td>\n",
       "      <td>2023.00</td>\n",
       "      <td>330000.00</td>\n",
       "    </tr>\n",
       "    <tr>\n",
       "      <th>8</th>\n",
       "      <td>25</td>\n",
       "      <td>craike way</td>\n",
       "      <td>green head</td>\n",
       "      <td>6514.00</td>\n",
       "      <td>2</td>\n",
       "      <td>3</td>\n",
       "      <td>7</td>\n",
       "      <td>765.00</td>\n",
       "      <td>-30.07</td>\n",
       "      <td>114.97</td>\n",
       "      <td>[secure parking, ensuite]</td>\n",
       "      <td>house</td>\n",
       "      <td>2022.00</td>\n",
       "      <td>430000.00</td>\n",
       "    </tr>\n",
       "    <tr>\n",
       "      <th>9</th>\n",
       "      <td>10a</td>\n",
       "      <td>simeon close</td>\n",
       "      <td>kalamunda</td>\n",
       "      <td>6076.00</td>\n",
       "      <td>2</td>\n",
       "      <td>4</td>\n",
       "      <td>3</td>\n",
       "      <td>4373.00</td>\n",
       "      <td>-31.96</td>\n",
       "      <td>116.03</td>\n",
       "      <td>[air conditioning, internal laundry, separate dining room, dishwasher, garden / courtyard]</td>\n",
       "      <td>house</td>\n",
       "      <td>2020.00</td>\n",
       "      <td>1050000.00</td>\n",
       "    </tr>\n",
       "    <tr>\n",
       "      <th>10</th>\n",
       "      <td>10</td>\n",
       "      <td>marigold place</td>\n",
       "      <td>yangebup</td>\n",
       "      <td>6164.00</td>\n",
       "      <td>2</td>\n",
       "      <td>5</td>\n",
       "      <td>2</td>\n",
       "      <td>712.00</td>\n",
       "      <td>-32.12</td>\n",
       "      <td>115.81</td>\n",
       "      <td>[]</td>\n",
       "      <td>house</td>\n",
       "      <td>2023.00</td>\n",
       "      <td>655000.00</td>\n",
       "    </tr>\n",
       "    <tr>\n",
       "      <th>11</th>\n",
       "      <td>42</td>\n",
       "      <td>terrace road</td>\n",
       "      <td>east perth</td>\n",
       "      <td>6004.00</td>\n",
       "      <td>2</td>\n",
       "      <td>2</td>\n",
       "      <td>2</td>\n",
       "      <td>198.00</td>\n",
       "      <td>-31.96</td>\n",
       "      <td>115.87</td>\n",
       "      <td>[air conditioning, alarm system, balcony / deck, broadband internet access, built in wardrobes, close to schools, close to shops, close to transport, dishwasher, gym, intercom, outdoor entertaining, swimming pool, secure parking, study, city views, water views]</td>\n",
       "      <td>unit</td>\n",
       "      <td>2023.00</td>\n",
       "      <td>950000.00</td>\n",
       "    </tr>\n",
       "    <tr>\n",
       "      <th>12</th>\n",
       "      <td>19</td>\n",
       "      <td>investigator drive</td>\n",
       "      <td>waikiki</td>\n",
       "      <td>6169.00</td>\n",
       "      <td>2</td>\n",
       "      <td>4</td>\n",
       "      <td>2</td>\n",
       "      <td>682.00</td>\n",
       "      <td>-32.31</td>\n",
       "      <td>115.75</td>\n",
       "      <td>[]</td>\n",
       "      <td>house</td>\n",
       "      <td>2024.00</td>\n",
       "      <td>660000.00</td>\n",
       "    </tr>\n",
       "    <tr>\n",
       "      <th>13</th>\n",
       "      <td>86</td>\n",
       "      <td>broadbeach boulevard</td>\n",
       "      <td>hillarys</td>\n",
       "      <td>6025.00</td>\n",
       "      <td>2</td>\n",
       "      <td>4</td>\n",
       "      <td>2</td>\n",
       "      <td>931.00</td>\n",
       "      <td>-31.80</td>\n",
       "      <td>115.73</td>\n",
       "      <td>[secure parking]</td>\n",
       "      <td>house</td>\n",
       "      <td>2018.00</td>\n",
       "      <td>880000.00</td>\n",
       "    </tr>\n",
       "    <tr>\n",
       "      <th>14</th>\n",
       "      <td>14</td>\n",
       "      <td>vivian crescent</td>\n",
       "      <td>lockyer</td>\n",
       "      <td>6330.00</td>\n",
       "      <td>1</td>\n",
       "      <td>3</td>\n",
       "      <td>2</td>\n",
       "      <td>450.00</td>\n",
       "      <td>-35.01</td>\n",
       "      <td>117.86</td>\n",
       "      <td>[]</td>\n",
       "      <td>house</td>\n",
       "      <td>2022.00</td>\n",
       "      <td>315000.00</td>\n",
       "    </tr>\n",
       "    <tr>\n",
       "      <th>15</th>\n",
       "      <td>3</td>\n",
       "      <td>forge lane</td>\n",
       "      <td>henley brook</td>\n",
       "      <td>6055.00</td>\n",
       "      <td>2</td>\n",
       "      <td>4</td>\n",
       "      <td>4</td>\n",
       "      <td>608.00</td>\n",
       "      <td>-31.80</td>\n",
       "      <td>115.98</td>\n",
       "      <td>[]</td>\n",
       "      <td>house</td>\n",
       "      <td>2022.00</td>\n",
       "      <td>560000.00</td>\n",
       "    </tr>\n",
       "    <tr>\n",
       "      <th>16</th>\n",
       "      <td>7</td>\n",
       "      <td>menner way</td>\n",
       "      <td>piara waters</td>\n",
       "      <td>6112.00</td>\n",
       "      <td>2</td>\n",
       "      <td>4</td>\n",
       "      <td>2</td>\n",
       "      <td>640.00</td>\n",
       "      <td>-32.14</td>\n",
       "      <td>115.92</td>\n",
       "      <td>[]</td>\n",
       "      <td>house</td>\n",
       "      <td>2021.00</td>\n",
       "      <td>775000.00</td>\n",
       "    </tr>\n",
       "    <tr>\n",
       "      <th>17</th>\n",
       "      <td>121</td>\n",
       "      <td>hardey road</td>\n",
       "      <td>belmont</td>\n",
       "      <td>6104.00</td>\n",
       "      <td>1</td>\n",
       "      <td>3</td>\n",
       "      <td>1</td>\n",
       "      <td>931.00</td>\n",
       "      <td>-31.95</td>\n",
       "      <td>115.93</td>\n",
       "      <td>[]</td>\n",
       "      <td>house</td>\n",
       "      <td>2021.00</td>\n",
       "      <td>587000.00</td>\n",
       "    </tr>\n",
       "    <tr>\n",
       "      <th>18</th>\n",
       "      <td>3</td>\n",
       "      <td>donald way</td>\n",
       "      <td>geographe</td>\n",
       "      <td>6280.00</td>\n",
       "      <td>1</td>\n",
       "      <td>2</td>\n",
       "      <td>1</td>\n",
       "      <td>726.00</td>\n",
       "      <td>-33.64</td>\n",
       "      <td>115.38</td>\n",
       "      <td>[internal laundry, north facing, separate dining room, shed, fully fenced]</td>\n",
       "      <td>house</td>\n",
       "      <td>2021.00</td>\n",
       "      <td>414000.00</td>\n",
       "    </tr>\n",
       "    <tr>\n",
       "      <th>19</th>\n",
       "      <td>10</td>\n",
       "      <td>nawa rise</td>\n",
       "      <td>coogee</td>\n",
       "      <td>6166.00</td>\n",
       "      <td>2</td>\n",
       "      <td>3</td>\n",
       "      <td>2</td>\n",
       "      <td>312.00</td>\n",
       "      <td>-32.13</td>\n",
       "      <td>115.77</td>\n",
       "      <td>[]</td>\n",
       "      <td>house</td>\n",
       "      <td>2023.00</td>\n",
       "      <td>854000.00</td>\n",
       "    </tr>\n",
       "  </tbody>\n",
       "</table>\n",
       "</div>"
      ],
      "text/plain": [
       "   streetNumber                street          suburb  postcode  bathrooms  \\\n",
       "0            18         townsend road      rockingham   6168.00          2   \n",
       "1             1     mckivett crescent         leeming   6149.00          2   \n",
       "2            72   oceanside promenade        mullaloo   6027.00          2   \n",
       "3            19        raymond street          yokine   6060.00          1   \n",
       "4             1    eucumbene crescent       joondalup   6027.00          1   \n",
       "5          165b          bateman road  mount pleasant   6153.00          3   \n",
       "6            46       thorburn avenue       beechboro   6063.00          1   \n",
       "7           135          challis road   seville grove   6112.00          2   \n",
       "8            25            craike way      green head   6514.00          2   \n",
       "9           10a          simeon close       kalamunda   6076.00          2   \n",
       "10           10        marigold place        yangebup   6164.00          2   \n",
       "11           42          terrace road      east perth   6004.00          2   \n",
       "12           19    investigator drive         waikiki   6169.00          2   \n",
       "13           86  broadbeach boulevard        hillarys   6025.00          2   \n",
       "14           14       vivian crescent         lockyer   6330.00          1   \n",
       "15            3            forge lane    henley brook   6055.00          2   \n",
       "16            7            menner way    piara waters   6112.00          2   \n",
       "17          121           hardey road         belmont   6104.00          1   \n",
       "18            3            donald way       geographe   6280.00          1   \n",
       "19           10             nawa rise          coogee   6166.00          2   \n",
       "\n",
       "    bedrooms  parking  landArea  latitude  longitude  \\\n",
       "0          4        3    684.00    -32.29     115.73   \n",
       "1          4        2    739.00    -32.08     115.85   \n",
       "2          6        2    719.00    -31.78     115.73   \n",
       "3          2        1     62.00    -31.90     115.84   \n",
       "4          3        1    651.00    -31.72     115.77   \n",
       "5          4        2    506.00    -32.04     115.85   \n",
       "6          3        1    696.00    -31.86     115.95   \n",
       "7          3        1    263.00    -32.13     116.00   \n",
       "8          3        7    765.00    -30.07     114.97   \n",
       "9          4        3   4373.00    -31.96     116.03   \n",
       "10         5        2    712.00    -32.12     115.81   \n",
       "11         2        2    198.00    -31.96     115.87   \n",
       "12         4        2    682.00    -32.31     115.75   \n",
       "13         4        2    931.00    -31.80     115.73   \n",
       "14         3        2    450.00    -35.01     117.86   \n",
       "15         4        4    608.00    -31.80     115.98   \n",
       "16         4        2    640.00    -32.14     115.92   \n",
       "17         3        1    931.00    -31.95     115.93   \n",
       "18         2        1    726.00    -33.64     115.38   \n",
       "19         3        2    312.00    -32.13     115.77   \n",
       "\n",
       "                                                                                                                                                                                                                                                                 features  \\\n",
       "0                                                                                                                                                                                                                                                                      []   \n",
       "1                                                                                                                                                                                                                                                                      []   \n",
       "2                                                                                                                     [air conditioning, balcony / deck, built in wardrobes, close to schools, close to shops, close to transport, garden, swimming pool, secure parking]   \n",
       "3                                                                                                                                                                                                                                                                      []   \n",
       "4                                                                                                                                                                                                                                                     [life style, value]   \n",
       "5                                                                                                                                                                                                                                                                      []   \n",
       "6                                                                                                                                                                                                                                                                      []   \n",
       "7                                                                                                                                                           [air conditioning, ensuite, alarm system, pets allowed, internal laundry, close to shops, close to transport]   \n",
       "8                                                                                                                                                                                                                                               [secure parking, ensuite]   \n",
       "9                                                                                                                                                                              [air conditioning, internal laundry, separate dining room, dishwasher, garden / courtyard]   \n",
       "10                                                                                                                                                                                                                                                                     []   \n",
       "11  [air conditioning, alarm system, balcony / deck, broadband internet access, built in wardrobes, close to schools, close to shops, close to transport, dishwasher, gym, intercom, outdoor entertaining, swimming pool, secure parking, study, city views, water views]   \n",
       "12                                                                                                                                                                                                                                                                     []   \n",
       "13                                                                                                                                                                                                                                                       [secure parking]   \n",
       "14                                                                                                                                                                                                                                                                     []   \n",
       "15                                                                                                                                                                                                                                                                     []   \n",
       "16                                                                                                                                                                                                                                                                     []   \n",
       "17                                                                                                                                                                                                                                                                     []   \n",
       "18                                                                                                                                                                                             [internal laundry, north facing, separate dining room, shed, fully fenced]   \n",
       "19                                                                                                                                                                                                                                                                     []   \n",
       "\n",
       "   propertyType  soldYear  soldPrice  \n",
       "0         house   2022.00  537500.00  \n",
       "1         house   2019.00  635000.00  \n",
       "2         house   2023.00 2025000.00  \n",
       "3          unit   2022.00  220000.00  \n",
       "4         house   2021.00  421000.00  \n",
       "5         house   2024.00 2125000.00  \n",
       "6         house   2023.00  525000.00  \n",
       "7         house   2023.00  330000.00  \n",
       "8         house   2022.00  430000.00  \n",
       "9         house   2020.00 1050000.00  \n",
       "10        house   2023.00  655000.00  \n",
       "11         unit   2023.00  950000.00  \n",
       "12        house   2024.00  660000.00  \n",
       "13        house   2018.00  880000.00  \n",
       "14        house   2022.00  315000.00  \n",
       "15        house   2022.00  560000.00  \n",
       "16        house   2021.00  775000.00  \n",
       "17        house   2021.00  587000.00  \n",
       "18        house   2021.00  414000.00  \n",
       "19        house   2023.00  854000.00  "
      ]
     },
     "execution_count": 117,
     "metadata": {},
     "output_type": "execute_result"
    }
   ],
   "source": [
    "train.head(20)"
   ]
  },
  {
   "cell_type": "code",
   "execution_count": 118,
   "id": "733d2c22",
   "metadata": {},
   "outputs": [
    {
     "data": {
      "text/plain": [
       "streetNumber    527\n",
       "street          490\n",
       "suburb            0\n",
       "postcode          0\n",
       "bathrooms         0\n",
       "bedrooms          0\n",
       "parking           0\n",
       "landArea          0\n",
       "latitude          0\n",
       "longitude         0\n",
       "features          0\n",
       "propertyType      0\n",
       "soldYear          0\n",
       "soldPrice         0\n",
       "dtype: int64"
      ]
     },
     "execution_count": 118,
     "metadata": {},
     "output_type": "execute_result"
    }
   ],
   "source": [
    "train.isnull().sum()"
   ]
  }
 ],
 "metadata": {
  "kernelspec": {
   "display_name": "Python 3",
   "language": "python",
   "name": "python3"
  },
  "language_info": {
   "codemirror_mode": {
    "name": "ipython",
    "version": 3
   },
   "file_extension": ".py",
   "mimetype": "text/x-python",
   "name": "python",
   "nbconvert_exporter": "python",
   "pygments_lexer": "ipython3",
   "version": "3.11.2"
  }
 },
 "nbformat": 4,
 "nbformat_minor": 5
}
