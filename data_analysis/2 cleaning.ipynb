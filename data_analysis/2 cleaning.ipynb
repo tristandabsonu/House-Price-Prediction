{
 "cells": [
  {
   "cell_type": "code",
   "execution_count": 1,
   "id": "0e55022f",
   "metadata": {},
   "outputs": [],
   "source": [
    "import pandas as pd\n",
    "pd.set_option('display.max_columns', None)\n",
    "pd.set_option(\"max_colwidth\", None)\n",
    "pd.set_option(\"max_seq_items\", None)\n",
    "pd.set_option('display.float_format', '{:.2f}'.format)\n",
    "\n",
    "import numpy as np"
   ]
  },
  {
   "cell_type": "code",
   "execution_count": 2,
   "id": "2f0b1882",
   "metadata": {},
   "outputs": [],
   "source": [
    "path = '/Users/tristangarcia/desktop/hp-pred_data/data/wa_data/'"
   ]
  },
  {
   "cell_type": "code",
   "execution_count": 3,
   "id": "6984e6c6",
   "metadata": {},
   "outputs": [],
   "source": [
    "train = pd.read_csv(f'{path}wa_train.csv')\n",
    "test = pd.read_csv(f'{path}wa_validation.csv')  # validation set"
   ]
  },
  {
   "cell_type": "code",
   "execution_count": 4,
   "id": "bf9ede96",
   "metadata": {},
   "outputs": [
    {
     "name": "stdout",
     "output_type": "stream",
     "text": [
      "(81106, 11)\n",
      "(17380, 11)\n"
     ]
    }
   ],
   "source": [
    "print(train.shape)\n",
    "print(test.shape)"
   ]
  },
  {
   "cell_type": "markdown",
   "id": "157c2536",
   "metadata": {},
   "source": [
    "# Filter"
   ]
  },
  {
   "cell_type": "code",
   "execution_count": 5,
   "id": "9bcb53e5",
   "metadata": {},
   "outputs": [
    {
     "data": {
      "text/plain": [
       "soldYear\n",
       "2024.00    21088\n",
       "2023.00    19325\n",
       "2022.00    14597\n",
       "2021.00    10301\n",
       "2020.00     5136\n",
       "2019.00     2984\n",
       "2018.00     2321\n",
       "2017.00     1897\n",
       "2016.00     1422\n",
       "2015.00     1108\n",
       "2014.00      586\n",
       "2013.00      197\n",
       "2010.00       44\n",
       "2012.00       43\n",
       "2009.00       31\n",
       "2011.00       20\n",
       "2008.00        5\n",
       "Name: count, dtype: int64"
      ]
     },
     "execution_count": 5,
     "metadata": {},
     "output_type": "execute_result"
    }
   ],
   "source": [
    "train['soldYear'].value_counts()"
   ]
  },
  {
   "cell_type": "code",
   "execution_count": 6,
   "id": "d4fe46e9",
   "metadata": {},
   "outputs": [],
   "source": [
    "# Not enough data for 2017 and earlier\n",
    "train = train[train['soldYear'] > 2017]\n",
    "test = test[test['soldYear'] > 2017]"
   ]
  },
  {
   "cell_type": "markdown",
   "id": "ecd5a17b",
   "metadata": {},
   "source": [
    "### Sold price"
   ]
  },
  {
   "cell_type": "code",
   "execution_count": 7,
   "id": "1277bb91",
   "metadata": {},
   "outputs": [],
   "source": [
    "# Removing unrealistic house prices\n",
    "train = train[(train['soldPrice'] > 100000)]\n",
    "train = train[train['soldPrice'] < 10000000]\n",
    "\n",
    "test = test[(test['soldPrice'] > 100000)]\n",
    "test = test[(test['soldPrice'] < 10000000)]"
   ]
  },
  {
   "cell_type": "code",
   "execution_count": 8,
   "id": "a9926796",
   "metadata": {},
   "outputs": [],
   "source": [
    "na_cols = ['suburb','bathrooms','bedrooms','parking',\n",
    "           'soldYear','soldPrice']\n",
    "# Removing missing rows for soldPrice\n",
    "train.dropna(subset=na_cols, inplace=True)\n",
    "test.dropna(subset=na_cols, inplace=True)"
   ]
  },
  {
   "cell_type": "code",
   "execution_count": 9,
   "id": "b8e155d4",
   "metadata": {},
   "outputs": [
    {
     "name": "stdout",
     "output_type": "stream",
     "text": [
      "(75191, 11)\n",
      "(16103, 11)\n"
     ]
    }
   ],
   "source": [
    "print(train.shape)\n",
    "print(test.shape)"
   ]
  },
  {
   "cell_type": "markdown",
   "id": "ed03bed5",
   "metadata": {},
   "source": [
    "# Reformatting "
   ]
  },
  {
   "cell_type": "code",
   "execution_count": 10,
   "id": "73ec8e3a",
   "metadata": {},
   "outputs": [
    {
     "data": {
      "text/plain": [
       "(75191, 11)"
      ]
     },
     "execution_count": 10,
     "metadata": {},
     "output_type": "execute_result"
    }
   ],
   "source": [
    "train.shape"
   ]
  },
  {
   "cell_type": "markdown",
   "id": "4d3e24ba",
   "metadata": {},
   "source": [
    "### Property type"
   ]
  },
  {
   "cell_type": "code",
   "execution_count": 11,
   "id": "5a92fe88",
   "metadata": {},
   "outputs": [
    {
     "data": {
      "text/plain": [
       "propertyType\n",
       "House                                                       60693\n",
       "Apartment                                                   10598\n",
       "Townhouse/Villa                                              2884\n",
       "Any                                                           775\n",
       "House,Any                                                     167\n",
       "House,House                                                    14\n",
       "Apartment,House,Townhouse/Villa,Townhouse/Villa                10\n",
       "Apartment,House,Townhouse/Villa                                 8\n",
       "House,Townhouse/Villa                                           8\n",
       "Apartment,House                                                 6\n",
       "Apartment,Townhouse/Villa                                       5\n",
       "House,Land                                                      4\n",
       "Townhouse/Villa,House                                           3\n",
       "Apartment,New Developments                                      3\n",
       "Townhouse/Villa,New Developments                                3\n",
       "Apartment,Townhouse/Villa,Townhouse/Villa                       2\n",
       "Any,House,Any                                                   2\n",
       "Apartment,Apartment,House,House,Townhouse/Villa                 1\n",
       "Apartment,House,Any,Townhouse/Villa,Land,Townhouse/Villa        1\n",
       "Apartment,Apartment                                             1\n",
       "Apartment,House,House,Townhouse/Villa                           1\n",
       "Any,Any                                                         1\n",
       "House,Townhouse/Villa,Townhouse/Villa                           1\n",
       "Name: count, dtype: int64"
      ]
     },
     "execution_count": 11,
     "metadata": {},
     "output_type": "execute_result"
    }
   ],
   "source": [
    "train['propertyType'].value_counts()"
   ]
  },
  {
   "cell_type": "markdown",
   "id": "eb8e6a44",
   "metadata": {},
   "source": [
    "### Only possible entries:\n",
    "- House\n",
    "- Apartment\n",
    "- Land\n",
    "- Townhouse/Villa\n",
    "- Rural??\n",
    "- Any??"
   ]
  },
  {
   "cell_type": "code",
   "execution_count": 12,
   "id": "58e9b445",
   "metadata": {},
   "outputs": [],
   "source": [
    "train['propertyType'] = train['propertyType'].str.split(',')\n",
    "test['propertyType'] = test['propertyType'].str.split(',')\n",
    "\n",
    "def reformat_propertyTypes(row):\n",
    "    # Valid property types\n",
    "    types = ['House','Apartment']\n",
    "    # This deals with NaN values\n",
    "    if not isinstance(row, list):\n",
    "        return 'Unknown'\n",
    "    # Go through all property types\n",
    "    for t in row:\n",
    "        if t in types:\n",
    "            # Return the first instance of a valid property type\n",
    "            return t\n",
    "    # Return 'Unkown' if no valid property types found\n",
    "    return 'Unknown'\n",
    "        \n",
    "# Applying the function\n",
    "train['propertyType'] = train['propertyType'].apply(reformat_propertyTypes)\n",
    "test['propertyType'] = test['propertyType'].apply(reformat_propertyTypes)"
   ]
  },
  {
   "cell_type": "code",
   "execution_count": 13,
   "id": "9b2f6dff",
   "metadata": {},
   "outputs": [],
   "source": [
    "# Changing the rural values from propertyTypes to House\n",
    "train['propertyType'] = train['propertyType'].apply(lambda x: 'unit' if x.lower() =='apartment' else x)\n",
    "test['propertyType'] = test['propertyType'].apply(lambda x: 'unit' if x.lower() =='apartment' else x)\n",
    "\n",
    "# Removing unknown propertyTypes\n",
    "train = train[(train['propertyType'] != 'Unknown')]\n",
    "test = test[(test['propertyType'] != 'Unknown')]"
   ]
  },
  {
   "cell_type": "code",
   "execution_count": 14,
   "id": "03e57959",
   "metadata": {
    "scrolled": true
   },
   "outputs": [
    {
     "data": {
      "text/plain": [
       "propertyType\n",
       "House    60892\n",
       "unit     10636\n",
       "Name: count, dtype: int64"
      ]
     },
     "execution_count": 14,
     "metadata": {},
     "output_type": "execute_result"
    }
   ],
   "source": [
    "train['propertyType'].value_counts()"
   ]
  },
  {
   "cell_type": "code",
   "execution_count": 15,
   "id": "37db4cf7",
   "metadata": {},
   "outputs": [
    {
     "data": {
      "text/plain": [
       "(71528, 11)"
      ]
     },
     "execution_count": 15,
     "metadata": {},
     "output_type": "execute_result"
    }
   ],
   "source": [
    "train.shape"
   ]
  },
  {
   "cell_type": "markdown",
   "id": "ebdeba82",
   "metadata": {},
   "source": [
    "### Features"
   ]
  },
  {
   "cell_type": "code",
   "execution_count": 16,
   "id": "85a79775",
   "metadata": {},
   "outputs": [
    {
     "data": {
      "text/plain": [
       "features\n",
       "['Ensuite']                                                                                                                                                    6333\n",
       "['Air conditioning']                                                                                                                                            932\n",
       "['Secure Parking']                                                                                                                                              509\n",
       "['Study']                                                                                                                                                       420\n",
       "['Air conditioning', 'Built in wardrobes']                                                                                                                      271\n",
       "                                                                                                                                                               ... \n",
       "['Fireplace(s)', 'Entertainment Area', 'Alarm System', 'Swimming/Lap Pool', 'Broadband', 'Dishwasher', 'Secure Parking']                                          1\n",
       "['Built in wardrobes', 'Dishwasher', 'Outdoor Entertaining', 'Remote Garage', 'Air conditioning', 'Secure Parking', 'Solar panels', 'Ensuite']                    1\n",
       "['Air conditioning', 'Built in wardrobes', 'Pets allowed', 'Dishwasher', 'Secure Parking', 'Solar panels']                                                        1\n",
       "['Balcony', 'Built-in Wardrobes', 'Dishwasher', 'Floorboards', 'Gym', 'Intercom', 'Air Conditioning']                                                             1\n",
       "['Air conditioning', 'Floorboards', 'Built in wardrobes', 'Pets allowed', 'Separate Dining Room', 'Secure Parking', 'Balcony / Deck', 'Garden / Courtyard']       1\n",
       "Name: count, Length: 16939, dtype: int64"
      ]
     },
     "execution_count": 16,
     "metadata": {},
     "output_type": "execute_result"
    }
   ],
   "source": [
    "train['features'].value_counts()"
   ]
  },
  {
   "cell_type": "code",
   "execution_count": 17,
   "id": "11a70e1e",
   "metadata": {
    "scrolled": true
   },
   "outputs": [
    {
     "data": {
      "text/plain": [
       "'['"
      ]
     },
     "execution_count": 17,
     "metadata": {},
     "output_type": "execute_result"
    }
   ],
   "source": [
    "train['features'][4][0]"
   ]
  },
  {
   "cell_type": "markdown",
   "id": "fd420196",
   "metadata": {},
   "source": [
    "We can see that each instance of the variables 'features' looks like a list but is actually a string"
   ]
  },
  {
   "cell_type": "code",
   "execution_count": 18,
   "id": "e8c9edaa",
   "metadata": {},
   "outputs": [],
   "source": [
    "# Converting the 'string lists' into lists\n",
    "# https://stackoverflow.com/questions/1894269/how-to-convert-string-representation-of-list-to-a-list\n",
    "import ast\n",
    "\n",
    "train['features'] = train['features'].apply(lambda x: ast.literal_eval(x) if pd.notnull(x) else [])\n",
    "test['features'] = test['features'].apply(lambda x: ast.literal_eval(x) if pd.notnull(x) else [])"
   ]
  },
  {
   "cell_type": "markdown",
   "id": "838b4cb7",
   "metadata": {},
   "source": [
    "### Lowercasing categorical variables"
   ]
  },
  {
   "cell_type": "code",
   "execution_count": 19,
   "id": "45565701",
   "metadata": {},
   "outputs": [],
   "source": [
    "train = train.map(lambda x: x.lower() if isinstance(x, str) else x)\n",
    "test = test.map(lambda x: x.lower() if isinstance(x,str) else x)"
   ]
  },
  {
   "cell_type": "code",
   "execution_count": 20,
   "id": "539ba53c",
   "metadata": {},
   "outputs": [],
   "source": [
    "# Lowercasing features variable\n",
    "def lower_features(feature_list):\n",
    "    f = []\n",
    "    if len(feature_list) == 0:\n",
    "        return feature_list\n",
    "    else:\n",
    "        for feature in feature_list:\n",
    "            f.append(feature.lower())\n",
    "    return f\n",
    "\n",
    "train['features'] = train['features'].apply(lambda x: lower_features(x))\n",
    "test['features'] = test['features'].apply(lambda x: lower_features(x))"
   ]
  },
  {
   "cell_type": "markdown",
   "id": "e0985c42",
   "metadata": {},
   "source": [
    "# Missing values"
   ]
  },
  {
   "cell_type": "code",
   "execution_count": 21,
   "id": "73428bb4",
   "metadata": {},
   "outputs": [
    {
     "data": {
      "text/plain": [
       "suburb              0\n",
       "bathrooms           0\n",
       "bedrooms            0\n",
       "parking             0\n",
       "landArea        12499\n",
       "latitude          420\n",
       "longitude         420\n",
       "features            0\n",
       "propertyType        0\n",
       "soldYear            0\n",
       "soldPrice           0\n",
       "dtype: int64"
      ]
     },
     "execution_count": 21,
     "metadata": {},
     "output_type": "execute_result"
    }
   ],
   "source": [
    "train.isnull().sum()"
   ]
  },
  {
   "cell_type": "markdown",
   "id": "baca6a0d",
   "metadata": {},
   "source": [
    "### Latitude and Longitude"
   ]
  },
  {
   "cell_type": "code",
   "execution_count": 22,
   "id": "a7fd3421",
   "metadata": {},
   "outputs": [
    {
     "data": {
      "text/html": [
       "<div>\n",
       "<style scoped>\n",
       "    .dataframe tbody tr th:only-of-type {\n",
       "        vertical-align: middle;\n",
       "    }\n",
       "\n",
       "    .dataframe tbody tr th {\n",
       "        vertical-align: top;\n",
       "    }\n",
       "\n",
       "    .dataframe thead th {\n",
       "        text-align: right;\n",
       "    }\n",
       "</style>\n",
       "<table border=\"1\" class=\"dataframe\">\n",
       "  <thead>\n",
       "    <tr style=\"text-align: right;\">\n",
       "      <th></th>\n",
       "      <th>suburb</th>\n",
       "      <th>state</th>\n",
       "      <th>postcode</th>\n",
       "      <th>latitude</th>\n",
       "      <th>longitude</th>\n",
       "      <th>marriedPercentage</th>\n",
       "      <th>ownerOccupierPercentage</th>\n",
       "      <th>population</th>\n",
       "      <th>renterPercentage</th>\n",
       "      <th>singlePercentage</th>\n",
       "      <th>mostCommonAgeBracket</th>\n",
       "    </tr>\n",
       "  </thead>\n",
       "  <tbody>\n",
       "    <tr>\n",
       "      <th>0</th>\n",
       "      <td>gibson desert north</td>\n",
       "      <td>wa</td>\n",
       "      <td>872</td>\n",
       "      <td>-21.95</td>\n",
       "      <td>131.30</td>\n",
       "      <td>NaN</td>\n",
       "      <td>NaN</td>\n",
       "      <td>NaN</td>\n",
       "      <td>NaN</td>\n",
       "      <td>NaN</td>\n",
       "      <td>NaN</td>\n",
       "    </tr>\n",
       "    <tr>\n",
       "      <th>1</th>\n",
       "      <td>gibson desert south</td>\n",
       "      <td>wa</td>\n",
       "      <td>872</td>\n",
       "      <td>-24.95</td>\n",
       "      <td>125.98</td>\n",
       "      <td>NaN</td>\n",
       "      <td>NaN</td>\n",
       "      <td>NaN</td>\n",
       "      <td>NaN</td>\n",
       "      <td>NaN</td>\n",
       "      <td>NaN</td>\n",
       "    </tr>\n",
       "    <tr>\n",
       "      <th>2</th>\n",
       "      <td>irrunytju</td>\n",
       "      <td>wa</td>\n",
       "      <td>872</td>\n",
       "      <td>-26.06</td>\n",
       "      <td>128.93</td>\n",
       "      <td>NaN</td>\n",
       "      <td>NaN</td>\n",
       "      <td>NaN</td>\n",
       "      <td>NaN</td>\n",
       "      <td>NaN</td>\n",
       "      <td>NaN</td>\n",
       "    </tr>\n",
       "    <tr>\n",
       "      <th>3</th>\n",
       "      <td>kanpa</td>\n",
       "      <td>wa</td>\n",
       "      <td>872</td>\n",
       "      <td>-26.53</td>\n",
       "      <td>125.62</td>\n",
       "      <td>NaN</td>\n",
       "      <td>NaN</td>\n",
       "      <td>NaN</td>\n",
       "      <td>NaN</td>\n",
       "      <td>NaN</td>\n",
       "      <td>NaN</td>\n",
       "    </tr>\n",
       "    <tr>\n",
       "      <th>4</th>\n",
       "      <td>kiwirrkurra</td>\n",
       "      <td>wa</td>\n",
       "      <td>872</td>\n",
       "      <td>-23.28</td>\n",
       "      <td>126.95</td>\n",
       "      <td>NaN</td>\n",
       "      <td>NaN</td>\n",
       "      <td>NaN</td>\n",
       "      <td>NaN</td>\n",
       "      <td>NaN</td>\n",
       "      <td>NaN</td>\n",
       "    </tr>\n",
       "  </tbody>\n",
       "</table>\n",
       "</div>"
      ],
      "text/plain": [
       "                suburb state  postcode  latitude  longitude  \\\n",
       "0  gibson desert north    wa       872    -21.95     131.30   \n",
       "1  gibson desert south    wa       872    -24.95     125.98   \n",
       "2            irrunytju    wa       872    -26.06     128.93   \n",
       "3                kanpa    wa       872    -26.53     125.62   \n",
       "4          kiwirrkurra    wa       872    -23.28     126.95   \n",
       "\n",
       "   marriedPercentage  ownerOccupierPercentage  population  renterPercentage  \\\n",
       "0                NaN                      NaN         NaN               NaN   \n",
       "1                NaN                      NaN         NaN               NaN   \n",
       "2                NaN                      NaN         NaN               NaN   \n",
       "3                NaN                      NaN         NaN               NaN   \n",
       "4                NaN                      NaN         NaN               NaN   \n",
       "\n",
       "   singlePercentage mostCommonAgeBracket  \n",
       "0               NaN                  NaN  \n",
       "1               NaN                  NaN  \n",
       "2               NaN                  NaN  \n",
       "3               NaN                  NaN  \n",
       "4               NaN                  NaN  "
      ]
     },
     "execution_count": 22,
     "metadata": {},
     "output_type": "execute_result"
    }
   ],
   "source": [
    "suburbs_path = '/Users/tristangarcia/desktop/hp-pred_data/suburbs/'\n",
    "suburb_statistics = pd.read_csv(f'{suburbs_path}statistics/wa_statistics.csv')\n",
    "\n",
    "suburb_statistics.head()"
   ]
  },
  {
   "cell_type": "code",
   "execution_count": 23,
   "id": "a5bb3b2f",
   "metadata": {},
   "outputs": [
    {
     "name": "stdout",
     "output_type": "stream",
     "text": [
      "(1815, 3)\n"
     ]
    },
    {
     "data": {
      "text/html": [
       "<div>\n",
       "<style scoped>\n",
       "    .dataframe tbody tr th:only-of-type {\n",
       "        vertical-align: middle;\n",
       "    }\n",
       "\n",
       "    .dataframe tbody tr th {\n",
       "        vertical-align: top;\n",
       "    }\n",
       "\n",
       "    .dataframe thead th {\n",
       "        text-align: right;\n",
       "    }\n",
       "</style>\n",
       "<table border=\"1\" class=\"dataframe\">\n",
       "  <thead>\n",
       "    <tr style=\"text-align: right;\">\n",
       "      <th></th>\n",
       "      <th>suburb</th>\n",
       "      <th>latitude</th>\n",
       "      <th>longitude</th>\n",
       "    </tr>\n",
       "  </thead>\n",
       "  <tbody>\n",
       "    <tr>\n",
       "      <th>0</th>\n",
       "      <td>gibson desert north</td>\n",
       "      <td>-21.95</td>\n",
       "      <td>131.30</td>\n",
       "    </tr>\n",
       "    <tr>\n",
       "      <th>1</th>\n",
       "      <td>gibson desert south</td>\n",
       "      <td>-24.95</td>\n",
       "      <td>125.98</td>\n",
       "    </tr>\n",
       "    <tr>\n",
       "      <th>2</th>\n",
       "      <td>irrunytju</td>\n",
       "      <td>-26.06</td>\n",
       "      <td>128.93</td>\n",
       "    </tr>\n",
       "    <tr>\n",
       "      <th>3</th>\n",
       "      <td>kanpa</td>\n",
       "      <td>-26.53</td>\n",
       "      <td>125.62</td>\n",
       "    </tr>\n",
       "    <tr>\n",
       "      <th>4</th>\n",
       "      <td>kiwirrkurra</td>\n",
       "      <td>-23.28</td>\n",
       "      <td>126.95</td>\n",
       "    </tr>\n",
       "  </tbody>\n",
       "</table>\n",
       "</div>"
      ],
      "text/plain": [
       "                suburb  latitude  longitude\n",
       "0  gibson desert north    -21.95     131.30\n",
       "1  gibson desert south    -24.95     125.98\n",
       "2            irrunytju    -26.06     128.93\n",
       "3                kanpa    -26.53     125.62\n",
       "4          kiwirrkurra    -23.28     126.95"
      ]
     },
     "execution_count": 23,
     "metadata": {},
     "output_type": "execute_result"
    }
   ],
   "source": [
    "coord_df = suburb_statistics[['suburb','latitude','longitude']]\n",
    "print(coord_df.shape)\n",
    "coord_df.head()"
   ]
  },
  {
   "cell_type": "code",
   "execution_count": 24,
   "id": "9b50429c",
   "metadata": {},
   "outputs": [
    {
     "data": {
      "text/plain": [
       "suburb              0\n",
       "bathrooms           0\n",
       "bedrooms            0\n",
       "parking             0\n",
       "landArea        12499\n",
       "latitude            0\n",
       "longitude           0\n",
       "features            0\n",
       "propertyType        0\n",
       "soldYear            0\n",
       "soldPrice           0\n",
       "dtype: int64"
      ]
     },
     "execution_count": 24,
     "metadata": {},
     "output_type": "execute_result"
    }
   ],
   "source": [
    "# Merging train with coord_df\n",
    "train = pd.merge(train, coord_df, on=['suburb'], how='left', suffixes=('', '_from_coord'))\n",
    "test = pd.merge(test, coord_df, on=['suburb'], how='left', suffixes=('', '_from_coord'))\n",
    "\n",
    "# Filling missing Latitude and Longitude\n",
    "train['latitude'] = train['latitude'].fillna(train['latitude_from_coord'])\n",
    "train['longitude'] = train['longitude'].fillna(train['longitude_from_coord'])\n",
    "test['latitude'] = test['latitude'].fillna(test['latitude_from_coord'])\n",
    "test['longitude'] = test['longitude'].fillna(test['longitude_from_coord'])\n",
    "\n",
    "# Dropping the extra columns from coord_df\n",
    "train.drop(['latitude_from_coord', 'longitude_from_coord'], axis=1, inplace=True)\n",
    "test.drop(['latitude_from_coord', 'longitude_from_coord'], axis=1, inplace=True)\n",
    "\n",
    "train.isnull().sum()"
   ]
  },
  {
   "cell_type": "markdown",
   "id": "b10b4223",
   "metadata": {},
   "source": [
    "# KNN Imputation"
   ]
  },
  {
   "cell_type": "code",
   "execution_count": 25,
   "id": "7ca4f652",
   "metadata": {},
   "outputs": [],
   "source": [
    "from sklearn.neighbors import KNeighborsRegressor\n",
    "from sklearn.neighbors import NearestNeighbors\n",
    "from geopy.distance import geodesic"
   ]
  },
  {
   "cell_type": "markdown",
   "id": "622fb451",
   "metadata": {},
   "source": [
    "### Land area\n",
    "We will be using latitude and longitude to impute on landArea. We suspect that there is a difference in landArea for rural and non-rural areas. There also seems to be less recorded neighbours for rural areas. To account for this, the data will be split into rural and non-rural areas before imputation. Additionally, rural areas will find only 1 nearest neighbour will non-rural will find 3 nearest neighbours"
   ]
  },
  {
   "cell_type": "code",
   "execution_count": 26,
   "id": "ec7cf596",
   "metadata": {},
   "outputs": [],
   "source": [
    "train.reset_index(drop=True,inplace=True)\n",
    "test.reset_index(drop=True,inplace=True)\n",
    "# Seperating null and non-null \n",
    "x = train.loc[train['landArea'].notnull(), ['latitude','longitude','landArea']]\n",
    "y = train.loc[train['landArea'].isnull(), ['latitude','longitude','landArea']]\n",
    "y_test = test.loc[test['landArea'].isnull(), ['latitude','longitude','landArea']]"
   ]
  },
  {
   "cell_type": "code",
   "execution_count": 27,
   "id": "a9826a96",
   "metadata": {},
   "outputs": [
    {
     "name": "stdout",
     "output_type": "stream",
     "text": [
      "(59029, 3)\n",
      "(12499, 3)\n"
     ]
    }
   ],
   "source": [
    "print(x.shape)\n",
    "print(y.shape)"
   ]
  },
  {
   "cell_type": "code",
   "execution_count": 28,
   "id": "b2da84a2",
   "metadata": {},
   "outputs": [],
   "source": [
    "imputer = KNeighborsRegressor(n_neighbors=1)\n",
    "# Fitting on the training set\n",
    "imputer.fit(x[['latitude','longitude']], x['landArea'])\n",
    "# Imputing on missing landArea \n",
    "predict = imputer.predict(y[['latitude', 'longitude']])\n",
    "train.loc[y.index,'landArea'] = predict\n",
    "# Imputing on missing landArea on validation set using training data\n",
    "predict_test = imputer.predict(y_test[['latitude', 'longitude']])\n",
    "test.loc[y_test.index,'landArea'] = predict_test"
   ]
  },
  {
   "cell_type": "markdown",
   "id": "08f867ca",
   "metadata": {},
   "source": [
    "# Writing to file"
   ]
  },
  {
   "cell_type": "code",
   "execution_count": 29,
   "id": "9f4b19d9",
   "metadata": {},
   "outputs": [
    {
     "name": "stdout",
     "output_type": "stream",
     "text": [
      "(71528, 11)\n",
      "(15309, 11)\n"
     ]
    }
   ],
   "source": [
    "print(train.shape)\n",
    "print(test.shape)"
   ]
  },
  {
   "cell_type": "code",
   "execution_count": 30,
   "id": "d5e89a0f",
   "metadata": {},
   "outputs": [],
   "source": [
    "train.to_pickle(f'{path}wa_train_clean.pkl')\n",
    "test.to_pickle(f'{path}wa_validation_clean.pkl')"
   ]
  },
  {
   "cell_type": "code",
   "execution_count": 31,
   "id": "112080ac",
   "metadata": {},
   "outputs": [
    {
     "data": {
      "text/html": [
       "<div>\n",
       "<style scoped>\n",
       "    .dataframe tbody tr th:only-of-type {\n",
       "        vertical-align: middle;\n",
       "    }\n",
       "\n",
       "    .dataframe tbody tr th {\n",
       "        vertical-align: top;\n",
       "    }\n",
       "\n",
       "    .dataframe thead th {\n",
       "        text-align: right;\n",
       "    }\n",
       "</style>\n",
       "<table border=\"1\" class=\"dataframe\">\n",
       "  <thead>\n",
       "    <tr style=\"text-align: right;\">\n",
       "      <th></th>\n",
       "      <th>suburb</th>\n",
       "      <th>bathrooms</th>\n",
       "      <th>bedrooms</th>\n",
       "      <th>parking</th>\n",
       "      <th>landArea</th>\n",
       "      <th>latitude</th>\n",
       "      <th>longitude</th>\n",
       "      <th>features</th>\n",
       "      <th>propertyType</th>\n",
       "      <th>soldYear</th>\n",
       "      <th>soldPrice</th>\n",
       "    </tr>\n",
       "  </thead>\n",
       "  <tbody>\n",
       "    <tr>\n",
       "      <th>0</th>\n",
       "      <td>carine</td>\n",
       "      <td>2</td>\n",
       "      <td>4</td>\n",
       "      <td>2</td>\n",
       "      <td>708.00</td>\n",
       "      <td>-31.85</td>\n",
       "      <td>115.80</td>\n",
       "      <td>[]</td>\n",
       "      <td>house</td>\n",
       "      <td>2023.00</td>\n",
       "      <td>885000.00</td>\n",
       "    </tr>\n",
       "    <tr>\n",
       "      <th>1</th>\n",
       "      <td>port kennedy</td>\n",
       "      <td>1</td>\n",
       "      <td>3</td>\n",
       "      <td>1</td>\n",
       "      <td>267.00</td>\n",
       "      <td>-32.35</td>\n",
       "      <td>115.75</td>\n",
       "      <td>[air conditioning, built in wardrobes, separate dining room, secure parking, outdoor c/bond patio entertaining area and lock up store room]</td>\n",
       "      <td>house</td>\n",
       "      <td>2021.00</td>\n",
       "      <td>335000.00</td>\n",
       "    </tr>\n",
       "    <tr>\n",
       "      <th>2</th>\n",
       "      <td>glenfield</td>\n",
       "      <td>2</td>\n",
       "      <td>4</td>\n",
       "      <td>2</td>\n",
       "      <td>580.00</td>\n",
       "      <td>-28.68</td>\n",
       "      <td>114.61</td>\n",
       "      <td>[]</td>\n",
       "      <td>house</td>\n",
       "      <td>2021.00</td>\n",
       "      <td>407500.00</td>\n",
       "    </tr>\n",
       "    <tr>\n",
       "      <th>3</th>\n",
       "      <td>canning vale</td>\n",
       "      <td>2</td>\n",
       "      <td>3</td>\n",
       "      <td>2</td>\n",
       "      <td>177.00</td>\n",
       "      <td>-32.08</td>\n",
       "      <td>115.92</td>\n",
       "      <td>[secure parking]</td>\n",
       "      <td>house</td>\n",
       "      <td>2022.00</td>\n",
       "      <td>500000.00</td>\n",
       "    </tr>\n",
       "    <tr>\n",
       "      <th>4</th>\n",
       "      <td>east perth</td>\n",
       "      <td>1</td>\n",
       "      <td>1</td>\n",
       "      <td>1</td>\n",
       "      <td>91.00</td>\n",
       "      <td>-31.96</td>\n",
       "      <td>115.87</td>\n",
       "      <td>[balcony]</td>\n",
       "      <td>unit</td>\n",
       "      <td>2023.00</td>\n",
       "      <td>312000.00</td>\n",
       "    </tr>\n",
       "    <tr>\n",
       "      <th>5</th>\n",
       "      <td>dianella</td>\n",
       "      <td>2</td>\n",
       "      <td>4</td>\n",
       "      <td>2</td>\n",
       "      <td>387.00</td>\n",
       "      <td>-31.90</td>\n",
       "      <td>115.87</td>\n",
       "      <td>[]</td>\n",
       "      <td>house</td>\n",
       "      <td>2024.00</td>\n",
       "      <td>1135000.00</td>\n",
       "    </tr>\n",
       "    <tr>\n",
       "      <th>6</th>\n",
       "      <td>burswood</td>\n",
       "      <td>2</td>\n",
       "      <td>3</td>\n",
       "      <td>2</td>\n",
       "      <td>166.00</td>\n",
       "      <td>-31.97</td>\n",
       "      <td>115.90</td>\n",
       "      <td>[]</td>\n",
       "      <td>house</td>\n",
       "      <td>2021.00</td>\n",
       "      <td>466000.00</td>\n",
       "    </tr>\n",
       "    <tr>\n",
       "      <th>7</th>\n",
       "      <td>edgewater</td>\n",
       "      <td>1</td>\n",
       "      <td>4</td>\n",
       "      <td>2</td>\n",
       "      <td>711.00</td>\n",
       "      <td>-31.76</td>\n",
       "      <td>115.79</td>\n",
       "      <td>[air conditioning, area views, built-in wardrobes, pool]</td>\n",
       "      <td>house</td>\n",
       "      <td>2023.00</td>\n",
       "      <td>835300.00</td>\n",
       "    </tr>\n",
       "    <tr>\n",
       "      <th>8</th>\n",
       "      <td>watermans bay</td>\n",
       "      <td>1</td>\n",
       "      <td>1</td>\n",
       "      <td>1</td>\n",
       "      <td>1141.00</td>\n",
       "      <td>-31.85</td>\n",
       "      <td>115.75</td>\n",
       "      <td>[]</td>\n",
       "      <td>unit</td>\n",
       "      <td>2024.00</td>\n",
       "      <td>408000.00</td>\n",
       "    </tr>\n",
       "    <tr>\n",
       "      <th>9</th>\n",
       "      <td>ballajura</td>\n",
       "      <td>1</td>\n",
       "      <td>3</td>\n",
       "      <td>2</td>\n",
       "      <td>544.00</td>\n",
       "      <td>-31.84</td>\n",
       "      <td>115.91</td>\n",
       "      <td>[]</td>\n",
       "      <td>house</td>\n",
       "      <td>2020.00</td>\n",
       "      <td>350000.00</td>\n",
       "    </tr>\n",
       "    <tr>\n",
       "      <th>10</th>\n",
       "      <td>bilingurr</td>\n",
       "      <td>1</td>\n",
       "      <td>2</td>\n",
       "      <td>2</td>\n",
       "      <td>99.00</td>\n",
       "      <td>-17.93</td>\n",
       "      <td>122.23</td>\n",
       "      <td>[air conditioning, built in wardrobes, balcony / deck]</td>\n",
       "      <td>unit</td>\n",
       "      <td>2024.00</td>\n",
       "      <td>397500.00</td>\n",
       "    </tr>\n",
       "    <tr>\n",
       "      <th>11</th>\n",
       "      <td>morley</td>\n",
       "      <td>2</td>\n",
       "      <td>3</td>\n",
       "      <td>2</td>\n",
       "      <td>295.00</td>\n",
       "      <td>-31.89</td>\n",
       "      <td>115.89</td>\n",
       "      <td>[]</td>\n",
       "      <td>house</td>\n",
       "      <td>2024.00</td>\n",
       "      <td>690000.00</td>\n",
       "    </tr>\n",
       "    <tr>\n",
       "      <th>12</th>\n",
       "      <td>fremantle</td>\n",
       "      <td>1</td>\n",
       "      <td>2</td>\n",
       "      <td>1</td>\n",
       "      <td>121.00</td>\n",
       "      <td>-32.06</td>\n",
       "      <td>115.75</td>\n",
       "      <td>[]</td>\n",
       "      <td>house</td>\n",
       "      <td>2022.00</td>\n",
       "      <td>750000.00</td>\n",
       "    </tr>\n",
       "    <tr>\n",
       "      <th>13</th>\n",
       "      <td>yokine</td>\n",
       "      <td>1</td>\n",
       "      <td>2</td>\n",
       "      <td>1</td>\n",
       "      <td>432.00</td>\n",
       "      <td>-31.91</td>\n",
       "      <td>115.86</td>\n",
       "      <td>[]</td>\n",
       "      <td>house</td>\n",
       "      <td>2024.00</td>\n",
       "      <td>715000.00</td>\n",
       "    </tr>\n",
       "    <tr>\n",
       "      <th>14</th>\n",
       "      <td>thornlie</td>\n",
       "      <td>1</td>\n",
       "      <td>3</td>\n",
       "      <td>2</td>\n",
       "      <td>363.00</td>\n",
       "      <td>-32.05</td>\n",
       "      <td>115.96</td>\n",
       "      <td>[courtyard, split system ac]</td>\n",
       "      <td>house</td>\n",
       "      <td>2021.00</td>\n",
       "      <td>330000.00</td>\n",
       "    </tr>\n",
       "    <tr>\n",
       "      <th>15</th>\n",
       "      <td>banksia grove</td>\n",
       "      <td>2</td>\n",
       "      <td>4</td>\n",
       "      <td>2</td>\n",
       "      <td>507.00</td>\n",
       "      <td>-31.70</td>\n",
       "      <td>115.80</td>\n",
       "      <td>[ensuite]</td>\n",
       "      <td>house</td>\n",
       "      <td>2024.00</td>\n",
       "      <td>730000.00</td>\n",
       "    </tr>\n",
       "    <tr>\n",
       "      <th>16</th>\n",
       "      <td>yanchep</td>\n",
       "      <td>2</td>\n",
       "      <td>3</td>\n",
       "      <td>2</td>\n",
       "      <td>375.00</td>\n",
       "      <td>-31.55</td>\n",
       "      <td>115.65</td>\n",
       "      <td>[]</td>\n",
       "      <td>house</td>\n",
       "      <td>2023.00</td>\n",
       "      <td>460000.00</td>\n",
       "    </tr>\n",
       "    <tr>\n",
       "      <th>17</th>\n",
       "      <td>trigg</td>\n",
       "      <td>2</td>\n",
       "      <td>4</td>\n",
       "      <td>3</td>\n",
       "      <td>728.00</td>\n",
       "      <td>-31.87</td>\n",
       "      <td>115.76</td>\n",
       "      <td>[]</td>\n",
       "      <td>house</td>\n",
       "      <td>2022.00</td>\n",
       "      <td>2100000.00</td>\n",
       "    </tr>\n",
       "    <tr>\n",
       "      <th>18</th>\n",
       "      <td>baldivis</td>\n",
       "      <td>2</td>\n",
       "      <td>3</td>\n",
       "      <td>2</td>\n",
       "      <td>388.00</td>\n",
       "      <td>-32.35</td>\n",
       "      <td>115.81</td>\n",
       "      <td>[ensuite]</td>\n",
       "      <td>house</td>\n",
       "      <td>2024.00</td>\n",
       "      <td>676000.00</td>\n",
       "    </tr>\n",
       "    <tr>\n",
       "      <th>19</th>\n",
       "      <td>maddington</td>\n",
       "      <td>1</td>\n",
       "      <td>5</td>\n",
       "      <td>1</td>\n",
       "      <td>1808.00</td>\n",
       "      <td>-32.05</td>\n",
       "      <td>115.99</td>\n",
       "      <td>[]</td>\n",
       "      <td>house</td>\n",
       "      <td>2024.00</td>\n",
       "      <td>875000.00</td>\n",
       "    </tr>\n",
       "  </tbody>\n",
       "</table>\n",
       "</div>"
      ],
      "text/plain": [
       "           suburb  bathrooms  bedrooms  parking  landArea  latitude  \\\n",
       "0          carine          2         4        2    708.00    -31.85   \n",
       "1    port kennedy          1         3        1    267.00    -32.35   \n",
       "2       glenfield          2         4        2    580.00    -28.68   \n",
       "3    canning vale          2         3        2    177.00    -32.08   \n",
       "4      east perth          1         1        1     91.00    -31.96   \n",
       "5        dianella          2         4        2    387.00    -31.90   \n",
       "6        burswood          2         3        2    166.00    -31.97   \n",
       "7       edgewater          1         4        2    711.00    -31.76   \n",
       "8   watermans bay          1         1        1   1141.00    -31.85   \n",
       "9       ballajura          1         3        2    544.00    -31.84   \n",
       "10      bilingurr          1         2        2     99.00    -17.93   \n",
       "11         morley          2         3        2    295.00    -31.89   \n",
       "12      fremantle          1         2        1    121.00    -32.06   \n",
       "13         yokine          1         2        1    432.00    -31.91   \n",
       "14       thornlie          1         3        2    363.00    -32.05   \n",
       "15  banksia grove          2         4        2    507.00    -31.70   \n",
       "16        yanchep          2         3        2    375.00    -31.55   \n",
       "17          trigg          2         4        3    728.00    -31.87   \n",
       "18       baldivis          2         3        2    388.00    -32.35   \n",
       "19     maddington          1         5        1   1808.00    -32.05   \n",
       "\n",
       "    longitude  \\\n",
       "0      115.80   \n",
       "1      115.75   \n",
       "2      114.61   \n",
       "3      115.92   \n",
       "4      115.87   \n",
       "5      115.87   \n",
       "6      115.90   \n",
       "7      115.79   \n",
       "8      115.75   \n",
       "9      115.91   \n",
       "10     122.23   \n",
       "11     115.89   \n",
       "12     115.75   \n",
       "13     115.86   \n",
       "14     115.96   \n",
       "15     115.80   \n",
       "16     115.65   \n",
       "17     115.76   \n",
       "18     115.81   \n",
       "19     115.99   \n",
       "\n",
       "                                                                                                                                       features  \\\n",
       "0                                                                                                                                            []   \n",
       "1   [air conditioning, built in wardrobes, separate dining room, secure parking, outdoor c/bond patio entertaining area and lock up store room]   \n",
       "2                                                                                                                                            []   \n",
       "3                                                                                                                              [secure parking]   \n",
       "4                                                                                                                                     [balcony]   \n",
       "5                                                                                                                                            []   \n",
       "6                                                                                                                                            []   \n",
       "7                                                                                      [air conditioning, area views, built-in wardrobes, pool]   \n",
       "8                                                                                                                                            []   \n",
       "9                                                                                                                                            []   \n",
       "10                                                                                       [air conditioning, built in wardrobes, balcony / deck]   \n",
       "11                                                                                                                                           []   \n",
       "12                                                                                                                                           []   \n",
       "13                                                                                                                                           []   \n",
       "14                                                                                                                 [courtyard, split system ac]   \n",
       "15                                                                                                                                    [ensuite]   \n",
       "16                                                                                                                                           []   \n",
       "17                                                                                                                                           []   \n",
       "18                                                                                                                                    [ensuite]   \n",
       "19                                                                                                                                           []   \n",
       "\n",
       "   propertyType  soldYear  soldPrice  \n",
       "0         house   2023.00  885000.00  \n",
       "1         house   2021.00  335000.00  \n",
       "2         house   2021.00  407500.00  \n",
       "3         house   2022.00  500000.00  \n",
       "4          unit   2023.00  312000.00  \n",
       "5         house   2024.00 1135000.00  \n",
       "6         house   2021.00  466000.00  \n",
       "7         house   2023.00  835300.00  \n",
       "8          unit   2024.00  408000.00  \n",
       "9         house   2020.00  350000.00  \n",
       "10         unit   2024.00  397500.00  \n",
       "11        house   2024.00  690000.00  \n",
       "12        house   2022.00  750000.00  \n",
       "13        house   2024.00  715000.00  \n",
       "14        house   2021.00  330000.00  \n",
       "15        house   2024.00  730000.00  \n",
       "16        house   2023.00  460000.00  \n",
       "17        house   2022.00 2100000.00  \n",
       "18        house   2024.00  676000.00  \n",
       "19        house   2024.00  875000.00  "
      ]
     },
     "execution_count": 31,
     "metadata": {},
     "output_type": "execute_result"
    }
   ],
   "source": [
    "test.head(20)"
   ]
  },
  {
   "cell_type": "code",
   "execution_count": null,
   "id": "733d2c22",
   "metadata": {},
   "outputs": [],
   "source": []
  }
 ],
 "metadata": {
  "kernelspec": {
   "display_name": "Python 3 (ipykernel)",
   "language": "python",
   "name": "python3"
  },
  "language_info": {
   "codemirror_mode": {
    "name": "ipython",
    "version": 3
   },
   "file_extension": ".py",
   "mimetype": "text/x-python",
   "name": "python",
   "nbconvert_exporter": "python",
   "pygments_lexer": "ipython3",
   "version": "3.11.2"
  }
 },
 "nbformat": 4,
 "nbformat_minor": 5
}
