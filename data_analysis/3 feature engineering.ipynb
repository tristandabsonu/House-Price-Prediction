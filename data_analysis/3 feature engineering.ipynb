{
 "cells": [
  {
   "cell_type": "markdown",
   "id": "eb86bf6a",
   "metadata": {},
   "source": [
    "Task list:\n",
    "1. cbdDistance - new column to find distance from cbd\n",
    "2. beachDistance - new column to find distance from nearest beach\n",
    "3. find school ratings - new columns to replace primary and secondary\n",
    "4. categorical -> to numerical\n",
    "5. soldMonth, soldYear\n",
    "6. latitude and longitude\n",
    "7. variable selection\n",
    "- oulier detection"
   ]
  },
  {
   "cell_type": "code",
   "execution_count": 1,
   "id": "1e7257e8",
   "metadata": {},
   "outputs": [],
   "source": [
    "import pandas as pd\n",
    "pd.set_option(\"max_colwidth\", None)\n",
    "pd.set_option(\"max_seq_items\", None)\n",
    "import numpy as np\n",
    "import matplotlib.pyplot as plt\n",
    "import seaborn as sns\n",
    "\n",
    "import geopandas as gpd\n",
    "from shapely.geometry import Point\n",
    "from sklearn.cluster import KMeans\n",
    "\n",
    "from sklearn.neighbors import NearestNeighbors\n",
    "from sklearn.feature_selection import VarianceThreshold\n",
    "from sklearn.compose import make_column_transformer\n",
    "from sklearn.preprocessing import OneHotEncoder, StandardScaler\n"
   ]
  },
  {
   "cell_type": "code",
   "execution_count": 2,
   "id": "8bbce60c",
   "metadata": {},
   "outputs": [],
   "source": [
    "path = '/Users/tristangarcia/desktop/hp-pred_data/data/wa_data/'"
   ]
  },
  {
   "cell_type": "code",
   "execution_count": 3,
   "id": "379ca3b7",
   "metadata": {},
   "outputs": [],
   "source": [
    "train = pd.read_pickle(f'{path}wa_train_clean.pkl')\n",
    "test = pd.read_pickle(f'{path}wa_validation_clean.pkl')    # validation set"
   ]
  },
  {
   "cell_type": "code",
   "execution_count": 4,
   "id": "f60d2ecd",
   "metadata": {},
   "outputs": [
    {
     "data": {
      "text/plain": [
       "(69355, 39)"
      ]
     },
     "execution_count": 4,
     "metadata": {},
     "output_type": "execute_result"
    }
   ],
   "source": [
    "train.shape"
   ]
  },
  {
   "cell_type": "code",
   "execution_count": 5,
   "id": "d4fe323c",
   "metadata": {
    "scrolled": true
   },
   "outputs": [
    {
     "data": {
      "text/html": [
       "<div>\n",
       "<style scoped>\n",
       "    .dataframe tbody tr th:only-of-type {\n",
       "        vertical-align: middle;\n",
       "    }\n",
       "\n",
       "    .dataframe tbody tr th {\n",
       "        vertical-align: top;\n",
       "    }\n",
       "\n",
       "    .dataframe thead th {\n",
       "        text-align: right;\n",
       "    }\n",
       "</style>\n",
       "<table border=\"1\" class=\"dataframe\">\n",
       "  <thead>\n",
       "    <tr style=\"text-align: right;\">\n",
       "      <th></th>\n",
       "      <th>listingId</th>\n",
       "      <th>unitNumber</th>\n",
       "      <th>streetNumber</th>\n",
       "      <th>street</th>\n",
       "      <th>suburb</th>\n",
       "      <th>state</th>\n",
       "      <th>postcode</th>\n",
       "      <th>bathrooms</th>\n",
       "      <th>bedrooms</th>\n",
       "      <th>parking</th>\n",
       "      <th>...</th>\n",
       "      <th>suburb_entryLevelPrice</th>\n",
       "      <th>suburb_luxuryLevelPrice</th>\n",
       "      <th>primary</th>\n",
       "      <th>primaryDistance</th>\n",
       "      <th>primaryType</th>\n",
       "      <th>secondary</th>\n",
       "      <th>secondaryDistance</th>\n",
       "      <th>secondaryType</th>\n",
       "      <th>listingUrl</th>\n",
       "      <th>soldPrice</th>\n",
       "    </tr>\n",
       "  </thead>\n",
       "  <tbody>\n",
       "    <tr>\n",
       "      <th>0</th>\n",
       "      <td>2.013763e+09</td>\n",
       "      <td>NaN</td>\n",
       "      <td>7</td>\n",
       "      <td>jubata court</td>\n",
       "      <td>maida vale</td>\n",
       "      <td>wa</td>\n",
       "      <td>6057.0</td>\n",
       "      <td>2</td>\n",
       "      <td>4</td>\n",
       "      <td>2</td>\n",
       "      <td>...</td>\n",
       "      <td>590000.0</td>\n",
       "      <td>1850000.0</td>\n",
       "      <td>maida vale primary school</td>\n",
       "      <td>1016.420520</td>\n",
       "      <td>government</td>\n",
       "      <td>darling range sports college</td>\n",
       "      <td>2218.034622</td>\n",
       "      <td>government</td>\n",
       "      <td>https://www.domain.com.au/7-jubata-court-maida-vale-wa-6057-2013763410</td>\n",
       "      <td>512500.0</td>\n",
       "    </tr>\n",
       "    <tr>\n",
       "      <th>1</th>\n",
       "      <td>2.019337e+09</td>\n",
       "      <td>NaN</td>\n",
       "      <td>9</td>\n",
       "      <td>syndicate link</td>\n",
       "      <td>lake coogee</td>\n",
       "      <td>wa</td>\n",
       "      <td>6166.0</td>\n",
       "      <td>2</td>\n",
       "      <td>3</td>\n",
       "      <td>2</td>\n",
       "      <td>...</td>\n",
       "      <td>485000.0</td>\n",
       "      <td>914000.0</td>\n",
       "      <td>coogee primary school</td>\n",
       "      <td>1540.964325</td>\n",
       "      <td>government</td>\n",
       "      <td>divine mercy college</td>\n",
       "      <td>4120.780071</td>\n",
       "      <td>private</td>\n",
       "      <td>https://www.domain.com.au/9-syndicate-link-lake-coogee-wa-6166-2019337055</td>\n",
       "      <td>914000.0</td>\n",
       "    </tr>\n",
       "    <tr>\n",
       "      <th>2</th>\n",
       "      <td>2.014115e+09</td>\n",
       "      <td>NaN</td>\n",
       "      <td>107</td>\n",
       "      <td>bulong avenue</td>\n",
       "      <td>redcliffe</td>\n",
       "      <td>wa</td>\n",
       "      <td>6104.0</td>\n",
       "      <td>1</td>\n",
       "      <td>3</td>\n",
       "      <td>1</td>\n",
       "      <td>...</td>\n",
       "      <td>410000.0</td>\n",
       "      <td>830000.0</td>\n",
       "      <td>redcliffe primary school</td>\n",
       "      <td>509.498088</td>\n",
       "      <td>government</td>\n",
       "      <td>alta-1 college - belmont campus</td>\n",
       "      <td>1972.597513</td>\n",
       "      <td>private</td>\n",
       "      <td>https://www.domain.com.au/107-bulong-avenue-redcliffe-wa-6104-2014115350</td>\n",
       "      <td>452000.0</td>\n",
       "    </tr>\n",
       "    <tr>\n",
       "      <th>3</th>\n",
       "      <td>2.018923e+09</td>\n",
       "      <td>NaN</td>\n",
       "      <td>24</td>\n",
       "      <td>ferryside road</td>\n",
       "      <td>butler</td>\n",
       "      <td>wa</td>\n",
       "      <td>6036.0</td>\n",
       "      <td>2</td>\n",
       "      <td>4</td>\n",
       "      <td>2</td>\n",
       "      <td>...</td>\n",
       "      <td>510000.0</td>\n",
       "      <td>845000.0</td>\n",
       "      <td>butler primary school</td>\n",
       "      <td>808.852983</td>\n",
       "      <td>government</td>\n",
       "      <td>butler college</td>\n",
       "      <td>1707.715594</td>\n",
       "      <td>government</td>\n",
       "      <td>https://www.domain.com.au/24-ferryside-road-butler-wa-6036-2018923325</td>\n",
       "      <td>600000.0</td>\n",
       "    </tr>\n",
       "    <tr>\n",
       "      <th>4</th>\n",
       "      <td>2.019303e+09</td>\n",
       "      <td>NaN</td>\n",
       "      <td>31</td>\n",
       "      <td>lady douglas way</td>\n",
       "      <td>pegs creek</td>\n",
       "      <td>wa</td>\n",
       "      <td>6714.0</td>\n",
       "      <td>1</td>\n",
       "      <td>3</td>\n",
       "      <td>4</td>\n",
       "      <td>...</td>\n",
       "      <td>400000.0</td>\n",
       "      <td>640000.0</td>\n",
       "      <td>pegs creek primary school</td>\n",
       "      <td>779.732155</td>\n",
       "      <td>government</td>\n",
       "      <td>karratha senior high school</td>\n",
       "      <td>1856.050617</td>\n",
       "      <td>government</td>\n",
       "      <td>https://www.domain.com.au/31-lady-douglas-way-pegs-creek-wa-6714-2019302960</td>\n",
       "      <td>525000.0</td>\n",
       "    </tr>\n",
       "  </tbody>\n",
       "</table>\n",
       "<p>5 rows × 39 columns</p>\n",
       "</div>"
      ],
      "text/plain": [
       "      listingId unitNumber streetNumber            street       suburb state  \\\n",
       "0  2.013763e+09        NaN            7      jubata court   maida vale    wa   \n",
       "1  2.019337e+09        NaN            9    syndicate link  lake coogee    wa   \n",
       "2  2.014115e+09        NaN          107     bulong avenue    redcliffe    wa   \n",
       "3  2.018923e+09        NaN           24    ferryside road       butler    wa   \n",
       "4  2.019303e+09        NaN           31  lady douglas way   pegs creek    wa   \n",
       "\n",
       "   postcode  bathrooms  bedrooms  parking  ...  suburb_entryLevelPrice  \\\n",
       "0    6057.0          2         4        2  ...                590000.0   \n",
       "1    6166.0          2         3        2  ...                485000.0   \n",
       "2    6104.0          1         3        1  ...                410000.0   \n",
       "3    6036.0          2         4        2  ...                510000.0   \n",
       "4    6714.0          1         3        4  ...                400000.0   \n",
       "\n",
       "   suburb_luxuryLevelPrice                    primary primaryDistance  \\\n",
       "0                1850000.0  maida vale primary school     1016.420520   \n",
       "1                 914000.0      coogee primary school     1540.964325   \n",
       "2                 830000.0   redcliffe primary school      509.498088   \n",
       "3                 845000.0      butler primary school      808.852983   \n",
       "4                 640000.0  pegs creek primary school      779.732155   \n",
       "\n",
       "  primaryType                        secondary secondaryDistance  \\\n",
       "0  government     darling range sports college       2218.034622   \n",
       "1  government             divine mercy college       4120.780071   \n",
       "2  government  alta-1 college - belmont campus       1972.597513   \n",
       "3  government                   butler college       1707.715594   \n",
       "4  government      karratha senior high school       1856.050617   \n",
       "\n",
       "   secondaryType  \\\n",
       "0     government   \n",
       "1        private   \n",
       "2        private   \n",
       "3     government   \n",
       "4     government   \n",
       "\n",
       "                                                                    listingUrl  \\\n",
       "0       https://www.domain.com.au/7-jubata-court-maida-vale-wa-6057-2013763410   \n",
       "1    https://www.domain.com.au/9-syndicate-link-lake-coogee-wa-6166-2019337055   \n",
       "2     https://www.domain.com.au/107-bulong-avenue-redcliffe-wa-6104-2014115350   \n",
       "3        https://www.domain.com.au/24-ferryside-road-butler-wa-6036-2018923325   \n",
       "4  https://www.domain.com.au/31-lady-douglas-way-pegs-creek-wa-6714-2019302960   \n",
       "\n",
       "   soldPrice  \n",
       "0   512500.0  \n",
       "1   914000.0  \n",
       "2   452000.0  \n",
       "3   600000.0  \n",
       "4   525000.0  \n",
       "\n",
       "[5 rows x 39 columns]"
      ]
     },
     "execution_count": 5,
     "metadata": {},
     "output_type": "execute_result"
    }
   ],
   "source": [
    "train.head()"
   ]
  },
  {
   "cell_type": "code",
   "execution_count": 6,
   "id": "12ac2a8d",
   "metadata": {
    "scrolled": true
   },
   "outputs": [
    {
     "data": {
      "text/plain": [
       "Index(['listingId', 'unitNumber', 'streetNumber', 'street', 'suburb', 'state',\n",
       "       'postcode', 'bathrooms', 'bedrooms', 'parking', 'landArea', 'latitude',\n",
       "       'longitude', 'features', 'agency', 'propertyType', 'promoLevel',\n",
       "       'soldMonth', 'soldYear', 'daysListed', 'inspectionsCount', 'isRural',\n",
       "       'hasDescription', 'hasFloorplan', 'hasDisplayPrice', 'hasPhoto',\n",
       "       'photoCount', 'suburb_medianPrice', 'suburb_medianRentPrice',\n",
       "       'suburb_entryLevelPrice', 'suburb_luxuryLevelPrice', 'primary',\n",
       "       'primaryDistance', 'primaryType', 'secondary', 'secondaryDistance',\n",
       "       'secondaryType', 'listingUrl', 'soldPrice'],\n",
       "      dtype='object')"
      ]
     },
     "execution_count": 6,
     "metadata": {},
     "output_type": "execute_result"
    }
   ],
   "source": [
    "train.columns"
   ]
  },
  {
   "cell_type": "markdown",
   "id": "aae88a42",
   "metadata": {},
   "source": [
    "# Feature transformation"
   ]
  },
  {
   "cell_type": "code",
   "execution_count": 7,
   "id": "fe68524f",
   "metadata": {
    "scrolled": true
   },
   "outputs": [
    {
     "name": "stderr",
     "output_type": "stream",
     "text": [
      "/Library/Frameworks/Python.framework/Versions/3.11/lib/python3.11/site-packages/pandas/core/arraylike.py:399: RuntimeWarning: divide by zero encountered in log10\n",
      "  result = getattr(ufunc, method)(*inputs, **kwargs)\n"
     ]
    },
    {
     "data": {
      "text/plain": [
       "<Axes: ylabel='landArea'>"
      ]
     },
     "execution_count": 7,
     "metadata": {},
     "output_type": "execute_result"
    },
    {
     "data": {
      "image/png": "[encoded data removed]",
      "text/plain": [
       "<Figure size 640x480 with 1 Axes>"
      ]
     },
     "metadata": {},
     "output_type": "display_data"
    }
   ],
   "source": [
    "sns.boxplot(np.log10((train['landArea'])))"
   ]
  },
  {
   "cell_type": "code",
   "execution_count": 8,
   "id": "727a345d",
   "metadata": {},
   "outputs": [],
   "source": [
    "train['landArea'] = train['landArea'].apply(lambda x: x if x == 0 else np.log10(x))"
   ]
  },
  {
   "cell_type": "code",
   "execution_count": 9,
   "id": "72a810bd",
   "metadata": {
    "scrolled": true
   },
   "outputs": [
    {
     "data": {
      "text/plain": [
       "<Axes: xlabel='landArea', ylabel='Count'>"
      ]
     },
     "execution_count": 9,
     "metadata": {},
     "output_type": "execute_result"
    },
    {
     "data": {
      "image/png": "[encoded data removed]",
      "text/plain": [
       "<Figure size 640x480 with 1 Axes>"
      ]
     },
     "metadata": {},
     "output_type": "display_data"
    }
   ],
   "source": [
    "sns.histplot(train['landArea'])"
   ]
  },
  {
   "cell_type": "code",
   "execution_count": 10,
   "id": "20bd27d0",
   "metadata": {
    "scrolled": true
   },
   "outputs": [
    {
     "data": {
      "text/plain": [
       "<Axes: xlabel='suburb_medianPrice', ylabel='Count'>"
      ]
     },
     "execution_count": 10,
     "metadata": {},
     "output_type": "execute_result"
    },
    {
     "data": {
      "image/png": "[encoded data removed]",
      "text/plain": [
       "<Figure size 640x480 with 1 Axes>"
      ]
     },
     "metadata": {},
     "output_type": "display_data"
    }
   ],
   "source": [
    "sns.histplot(np.log10(train['suburb_medianPrice']))"
   ]
  },
  {
   "cell_type": "code",
   "execution_count": 11,
   "id": "406bd2ef",
   "metadata": {
    "scrolled": true
   },
   "outputs": [
    {
     "data": {
      "text/plain": [
       "<Axes: xlabel='suburb_medianRentPrice', ylabel='Count'>"
      ]
     },
     "execution_count": 11,
     "metadata": {},
     "output_type": "execute_result"
    },
    {
     "data": {
      "image/png": "[encoded data removed]",
      "text/plain": [
       "<Figure size 640x480 with 1 Axes>"
      ]
     },
     "metadata": {},
     "output_type": "display_data"
    }
   ],
   "source": [
    "sns.histplot(np.log10(train['suburb_medianRentPrice']))"
   ]
  },
  {
   "cell_type": "code",
   "execution_count": 12,
   "id": "80b2cf8e",
   "metadata": {},
   "outputs": [
    {
     "data": {
      "text/plain": [
       "<Axes: xlabel='suburb_entryLevelPrice', ylabel='Count'>"
      ]
     },
     "execution_count": 12,
     "metadata": {},
     "output_type": "execute_result"
    },
    {
     "data": {
      "image/png": "[encoded data removed]",
      "text/plain": [
       "<Figure size 640x480 with 1 Axes>"
      ]
     },
     "metadata": {},
     "output_type": "display_data"
    }
   ],
   "source": [
    "sns.histplot(np.log10(train['suburb_entryLevelPrice']))"
   ]
  },
  {
   "cell_type": "code",
   "execution_count": 13,
   "id": "a5c65f59",
   "metadata": {
    "scrolled": false
   },
   "outputs": [
    {
     "data": {
      "text/plain": [
       "<Axes: xlabel='suburb_luxuryLevelPrice', ylabel='Count'>"
      ]
     },
     "execution_count": 13,
     "metadata": {},
     "output_type": "execute_result"
    },
    {
     "data": {
      "image/png": "[encoded data removed]",
      "text/plain": [
       "<Figure size 640x480 with 1 Axes>"
      ]
     },
     "metadata": {},
     "output_type": "display_data"
    }
   ],
   "source": [
    "sns.histplot(np.log10(train['suburb_luxuryLevelPrice']))"
   ]
  },
  {
   "cell_type": "markdown",
   "id": "d8783b50",
   "metadata": {},
   "source": [
    "Applying log10 transformation to the suburb features decreases the shape of the distribution"
   ]
  },
  {
   "cell_type": "code",
   "execution_count": 14,
   "id": "c0e379ca",
   "metadata": {},
   "outputs": [],
   "source": [
    "suburb_features = ['suburb_medianPrice', 'suburb_medianRentPrice',\n",
    "                   'suburb_entryLevelPrice', 'suburb_luxuryLevelPrice']\n",
    "\n",
    "for feature in suburb_features:\n",
    "    train[feature] = train[feature].apply(np.log10)"
   ]
  },
  {
   "cell_type": "code",
   "execution_count": 15,
   "id": "0287d90d",
   "metadata": {},
   "outputs": [
    {
     "data": {
      "text/plain": [
       "<Axes: xlabel='primaryDistance', ylabel='Count'>"
      ]
     },
     "execution_count": 15,
     "metadata": {},
     "output_type": "execute_result"
    },
    {
     "data": {
      "image/png": "[encoded data removed]",
      "text/plain": [
       "<Figure size 640x480 with 1 Axes>"
      ]
     },
     "metadata": {},
     "output_type": "display_data"
    }
   ],
   "source": [
    "sns.histplot(np.log10(train['primaryDistance']))"
   ]
  },
  {
   "cell_type": "code",
   "execution_count": 16,
   "id": "6cee1d9f",
   "metadata": {
    "scrolled": true
   },
   "outputs": [
    {
     "data": {
      "text/plain": [
       "<Axes: xlabel='secondaryDistance', ylabel='Count'>"
      ]
     },
     "execution_count": 16,
     "metadata": {},
     "output_type": "execute_result"
    },
    {
     "data": {
      "image/png": "[encoded data removed]",
      "text/plain": [
       "<Figure size 640x480 with 1 Axes>"
      ]
     },
     "metadata": {},
     "output_type": "display_data"
    }
   ],
   "source": [
    "sns.histplot(np.log10(train['secondaryDistance']))"
   ]
  },
  {
   "cell_type": "code",
   "execution_count": 17,
   "id": "56807420",
   "metadata": {},
   "outputs": [],
   "source": [
    "train['primaryDistance'] = train['primaryDistance'].apply(np.log10)\n",
    "train['secondaryDistance'] = train['secondaryDistance'].apply(np.log10)"
   ]
  },
  {
   "cell_type": "markdown",
   "id": "daf60c4a",
   "metadata": {},
   "source": [
    "# Outlier removal"
   ]
  },
  {
   "cell_type": "code",
   "execution_count": 18,
   "id": "e93e507c",
   "metadata": {
    "scrolled": true
   },
   "outputs": [
    {
     "data": {
      "text/plain": [
       "bathrooms\n",
       "2     40112\n",
       "1     25481\n",
       "3      3228\n",
       "4       391\n",
       "5        59\n",
       "0        50\n",
       "6        22\n",
       "8         6\n",
       "7         4\n",
       "16        1\n",
       "17        1\n",
       "Name: count, dtype: int64"
      ]
     },
     "execution_count": 18,
     "metadata": {},
     "output_type": "execute_result"
    }
   ],
   "source": [
    "train['bathrooms'].value_counts()"
   ]
  },
  {
   "cell_type": "code",
   "execution_count": 19,
   "id": "45526a0f",
   "metadata": {},
   "outputs": [],
   "source": [
    "train = train[train['bathrooms'] <= 4]"
   ]
  },
  {
   "cell_type": "code",
   "execution_count": 20,
   "id": "5f881795",
   "metadata": {},
   "outputs": [
    {
     "data": {
      "text/plain": [
       "bedrooms\n",
       "3     27662\n",
       "4     25250\n",
       "2      9864\n",
       "5      3085\n",
       "1      2796\n",
       "6       414\n",
       "0       107\n",
       "7        57\n",
       "8        21\n",
       "9         3\n",
       "10        3\n",
       "Name: count, dtype: int64"
      ]
     },
     "execution_count": 20,
     "metadata": {},
     "output_type": "execute_result"
    }
   ],
   "source": [
    "train['bedrooms'].value_counts()"
   ]
  },
  {
   "cell_type": "code",
   "execution_count": 21,
   "id": "3a0b269b",
   "metadata": {},
   "outputs": [],
   "source": [
    "train = train[train['bedrooms'] <= 6]"
   ]
  },
  {
   "cell_type": "code",
   "execution_count": 22,
   "id": "833bb575",
   "metadata": {},
   "outputs": [
    {
     "data": {
      "text/plain": [
       "parking\n",
       "2     38433\n",
       "1     18885\n",
       "3      3721\n",
       "4      3441\n",
       "0      2982\n",
       "5       661\n",
       "6       626\n",
       "8       160\n",
       "7       132\n",
       "10       53\n",
       "9        34\n",
       "12       22\n",
       "11       13\n",
       "14        6\n",
       "22        2\n",
       "21        1\n",
       "31        1\n",
       "74        1\n",
       "20        1\n",
       "15        1\n",
       "19        1\n",
       "16        1\n",
       "Name: count, dtype: int64"
      ]
     },
     "execution_count": 22,
     "metadata": {},
     "output_type": "execute_result"
    }
   ],
   "source": [
    "train['parking'].value_counts()"
   ]
  },
  {
   "cell_type": "code",
   "execution_count": 23,
   "id": "d0c46eb9",
   "metadata": {},
   "outputs": [],
   "source": [
    "train = train[train['parking'] <= 10]"
   ]
  },
  {
   "cell_type": "code",
   "execution_count": 24,
   "id": "898841d0",
   "metadata": {
    "scrolled": false
   },
   "outputs": [
    {
     "data": {
      "text/plain": [
       "<Axes: xlabel='landArea', ylabel='Count'>"
      ]
     },
     "execution_count": 24,
     "metadata": {},
     "output_type": "execute_result"
    },
    {
     "data": {
      "image/png": "[encoded data removed]",
      "text/plain": [
       "<Figure size 640x480 with 1 Axes>"
      ]
     },
     "metadata": {},
     "output_type": "display_data"
    }
   ],
   "source": [
    "sns.histplot(train['landArea'])"
   ]
  },
  {
   "cell_type": "code",
   "execution_count": 25,
   "id": "37fdc2df",
   "metadata": {},
   "outputs": [],
   "source": [
    "train = train[((train['landArea']>1) & (train['landArea']<4))]"
   ]
  },
  {
   "cell_type": "code",
   "execution_count": 26,
   "id": "b1ec9f3b",
   "metadata": {
    "scrolled": false
   },
   "outputs": [
    {
     "data": {
      "text/plain": [
       "<Axes: xlabel='landArea', ylabel='Count'>"
      ]
     },
     "execution_count": 26,
     "metadata": {},
     "output_type": "execute_result"
    },
    {
     "data": {
      "image/png": "[encoded data removed]",
      "text/plain": [
       "<Figure size 640x480 with 1 Axes>"
      ]
     },
     "metadata": {},
     "output_type": "display_data"
    }
   ],
   "source": [
    "sns.histplot(train['landArea'])"
   ]
  },
  {
   "cell_type": "markdown",
   "id": "1b7fa693",
   "metadata": {},
   "source": [
    "# School ICSEA ratings"
   ]
  },
  {
   "cell_type": "code",
   "execution_count": 27,
   "id": "15e6541f",
   "metadata": {},
   "outputs": [],
   "source": [
    "school_path = '/Users/tristangarcia/desktop/hp-pred_data/school/'\n",
    "school_icsea = pd.read_csv(f'{school_path}school_icsea.csv')\n",
    "school_loc = pd.read_csv(f'{school_path}school_location.csv')"
   ]
  },
  {
   "cell_type": "code",
   "execution_count": 28,
   "id": "1055a002",
   "metadata": {},
   "outputs": [],
   "source": [
    "#### Preprocessing school_icsea data ####\n",
    "\n",
    "# Dropping missing values\n",
    "school_icsea.dropna(inplace=True)\n",
    "# Subsetting columns\n",
    "school_icsea = school_icsea[['School Name', 'Suburb', 'State','School Sector', 'School Type', 'ICSEA']]\n",
    "# Lowercasing all string values\n",
    "school_icsea = school_icsea.map(lambda x: x.lower() if isinstance(x,str) else x)\n",
    "# Changing 'Independent' sector to 'private'\n",
    "school_icsea['School Sector'] = school_icsea['School Sector'].map(lambda x: 'private' if x=='independent' else x)\n",
    "# Renaming columns\n",
    "school_icsea.rename(columns={'School Name':'school','Suburb':'suburb','State':'state',\n",
    "                        'School Sector':'sector','School Type':'type','ICSEA':'icsea'}, inplace=True)"
   ]
  },
  {
   "cell_type": "code",
   "execution_count": 29,
   "id": "4636e967",
   "metadata": {},
   "outputs": [],
   "source": [
    "#### Preprocessing school_loc data ####\n",
    "\n",
    "# Dropping missing values\n",
    "school_loc.dropna(inplace=True)\n",
    "# Subsetting columns\n",
    "school_loc = school_loc[['School Name', 'Suburb', 'State','School Sector', 'School Type', 'Latitude', 'Longitude']]\n",
    "# Lowercasing all string values\n",
    "school_loc = school_loc.map(lambda x: x.lower() if isinstance(x,str) else x)\n",
    "# Changing 'Independent' sector to 'private'\n",
    "school_loc['School Sector'] = school_loc['School Sector'].map(lambda x: 'private' if x=='independent' else x)\n",
    "# Renaming columns\n",
    "school_loc.rename(columns={'School Name':'school','Suburb':'suburb','State':'state','School Sector':'sector',\n",
    "                           'School Type':'type','Latitude':'latitude','Longitude':'longitude'}, inplace=True)"
   ]
  },
  {
   "cell_type": "code",
   "execution_count": 30,
   "id": "0a17c5c5",
   "metadata": {},
   "outputs": [
    {
     "data": {
      "text/plain": [
       "(10926, 7)"
      ]
     },
     "execution_count": 30,
     "metadata": {},
     "output_type": "execute_result"
    }
   ],
   "source": [
    "school_loc.shape"
   ]
  },
  {
   "cell_type": "code",
   "execution_count": 31,
   "id": "ffcc12b6",
   "metadata": {},
   "outputs": [
    {
     "data": {
      "text/plain": [
       "(9565, 6)"
      ]
     },
     "execution_count": 31,
     "metadata": {},
     "output_type": "execute_result"
    }
   ],
   "source": [
    "school_icsea.shape"
   ]
  },
  {
   "cell_type": "code",
   "execution_count": 32,
   "id": "274967c0",
   "metadata": {},
   "outputs": [],
   "source": [
    "# Merging the two dataframes with a left join\n",
    "school = pd.merge(\n",
    "    school_loc,  \n",
    "    school_icsea, \n",
    "    on=['school', 'suburb', 'state', 'sector', 'type'], \n",
    "    how='left'\n",
    ")"
   ]
  },
  {
   "cell_type": "code",
   "execution_count": 33,
   "id": "991b7f38",
   "metadata": {},
   "outputs": [],
   "source": [
    "# Function to find the nearest school and add ICSEA columns\n",
    "def add_nearest_school_icsea(df, schools, school_type):\n",
    "    # Filter the schools based on the given school type\n",
    "    school_df = schools[\n",
    "        (schools['state'] == 'wa') & \n",
    "        ((schools['type'] == school_type) | (schools['type'] == 'combined'))\n",
    "    ][['school', 'type', 'sector', 'latitude', 'longitude', 'icsea']]\n",
    "    \n",
    "    # Initialize Nearest Neighbors model\n",
    "    nn = NearestNeighbors(n_neighbors=1, algorithm='ball_tree')\n",
    "    nn.fit(school_df[['latitude', 'longitude']])\n",
    "    \n",
    "    # Find the nearest school for each house listing\n",
    "    distances, indices = nn.kneighbors(df[['latitude', 'longitude']])\n",
    "    \n",
    "    # Get the ICSEA scores of the nearest schools\n",
    "    nearest_icsea = school_df.iloc[indices.flatten()]['icsea'].values\n",
    "    \n",
    "    # Replace missing ICSEA values with None\n",
    "    nearest_icsea = [val if not pd.isna(val) else 0 for val in nearest_icsea]\n",
    "    \n",
    "    # Add the new ICSEA column to the DataFrame\n",
    "    df[f'{school_type}ICSEA'] = nearest_icsea\n",
    "    \n",
    "    return df"
   ]
  },
  {
   "cell_type": "code",
   "execution_count": 34,
   "id": "dcee14c5",
   "metadata": {},
   "outputs": [],
   "source": [
    "# Adding primaryICSEA and secondaryICSEA to the train dataset\n",
    "train = add_nearest_school_icsea(train, school, 'primary')\n",
    "train = add_nearest_school_icsea(train, school, 'secondary')\n",
    "test = add_nearest_school_icsea(test, school, 'primary')\n",
    "test = add_nearest_school_icsea(test, school, 'secondary')"
   ]
  },
  {
   "cell_type": "code",
   "execution_count": 35,
   "id": "52544a8c",
   "metadata": {
    "scrolled": false
   },
   "outputs": [
    {
     "data": {
      "text/html": [
       "<div>\n",
       "<style scoped>\n",
       "    .dataframe tbody tr th:only-of-type {\n",
       "        vertical-align: middle;\n",
       "    }\n",
       "\n",
       "    .dataframe tbody tr th {\n",
       "        vertical-align: top;\n",
       "    }\n",
       "\n",
       "    .dataframe thead th {\n",
       "        text-align: right;\n",
       "    }\n",
       "</style>\n",
       "<table border=\"1\" class=\"dataframe\">\n",
       "  <thead>\n",
       "    <tr style=\"text-align: right;\">\n",
       "      <th></th>\n",
       "      <th>primary</th>\n",
       "      <th>primaryICSEA</th>\n",
       "      <th>secondary</th>\n",
       "      <th>secondaryICSEA</th>\n",
       "    </tr>\n",
       "  </thead>\n",
       "  <tbody>\n",
       "    <tr>\n",
       "      <th>0</th>\n",
       "      <td>maida vale primary school</td>\n",
       "      <td>1021.0</td>\n",
       "      <td>darling range sports college</td>\n",
       "      <td>971.0</td>\n",
       "    </tr>\n",
       "    <tr>\n",
       "      <th>1</th>\n",
       "      <td>coogee primary school</td>\n",
       "      <td>1051.0</td>\n",
       "      <td>divine mercy college</td>\n",
       "      <td>1054.0</td>\n",
       "    </tr>\n",
       "    <tr>\n",
       "      <th>2</th>\n",
       "      <td>redcliffe primary school</td>\n",
       "      <td>994.0</td>\n",
       "      <td>alta-1 college - belmont campus</td>\n",
       "      <td>0.0</td>\n",
       "    </tr>\n",
       "    <tr>\n",
       "      <th>3</th>\n",
       "      <td>butler primary school</td>\n",
       "      <td>976.0</td>\n",
       "      <td>butler college</td>\n",
       "      <td>1014.0</td>\n",
       "    </tr>\n",
       "    <tr>\n",
       "      <th>4</th>\n",
       "      <td>pegs creek primary school</td>\n",
       "      <td>870.0</td>\n",
       "      <td>karratha senior high school</td>\n",
       "      <td>916.0</td>\n",
       "    </tr>\n",
       "  </tbody>\n",
       "</table>\n",
       "</div>"
      ],
      "text/plain": [
       "                     primary  primaryICSEA                        secondary  \\\n",
       "0  maida vale primary school        1021.0     darling range sports college   \n",
       "1      coogee primary school        1051.0             divine mercy college   \n",
       "2   redcliffe primary school         994.0  alta-1 college - belmont campus   \n",
       "3      butler primary school         976.0                   butler college   \n",
       "4  pegs creek primary school         870.0      karratha senior high school   \n",
       "\n",
       "   secondaryICSEA  \n",
       "0           971.0  \n",
       "1          1054.0  \n",
       "2             0.0  \n",
       "3          1014.0  \n",
       "4           916.0  "
      ]
     },
     "execution_count": 35,
     "metadata": {},
     "output_type": "execute_result"
    }
   ],
   "source": [
    "train[['primary', 'primaryICSEA','secondary','secondaryICSEA']].head()"
   ]
  },
  {
   "cell_type": "markdown",
   "id": "0919e9d8",
   "metadata": {},
   "source": [
    "# One Hot Encoding"
   ]
  },
  {
   "cell_type": "code",
   "execution_count": 36,
   "id": "6232ef4c",
   "metadata": {},
   "outputs": [],
   "source": [
    "def ohe_transform(df, transformer, cat_cols):\n",
    "    '''\n",
    "    - Performs one hot encoding on selected categorical variables on a df\n",
    "    - Encoder must be made prior to running this function\n",
    "    '''\n",
    "    # Encoding\n",
    "    transformed = transformer.transform(df)\n",
    "    # Reformatting OHE column names\n",
    "    transformer_names = transformer.get_feature_names_out()\n",
    "    ohe_names = [name.split('__', 1)[-1] for name in transformer_names]\n",
    "    # Converting back to dataframe\n",
    "    transformed_df = pd.DataFrame(transformed.toarray(), columns=ohe_names)\n",
    "    transformed_df.index = df.index\n",
    "    # Joining OHE df with other numerical features\n",
    "    df = pd.concat([df, transformed_df], axis=1)\n",
    "    df = df.drop(columns=cat_cols)\n",
    "    \n",
    "    return df"
   ]
  },
  {
   "cell_type": "markdown",
   "id": "57342087",
   "metadata": {},
   "source": [
    "### features"
   ]
  },
  {
   "cell_type": "code",
   "execution_count": 37,
   "id": "bd87fb16",
   "metadata": {},
   "outputs": [],
   "source": [
    "feature_dict = {}\n",
    "\n",
    "for listing in train['features']:\n",
    "    for feature in listing:\n",
    "        if feature in feature_dict.keys():\n",
    "            feature_dict[feature] += 1\n",
    "        else:\n",
    "            feature_dict[feature] = 1\n",
    "\n",
    "feature_dict = {key: value for key, value in feature_dict.items() if value >= 1500}\n"
   ]
  },
  {
   "cell_type": "code",
   "execution_count": 38,
   "id": "b5a360e9",
   "metadata": {},
   "outputs": [
    {
     "data": {
      "text/plain": [
       "{'air conditioning': 16550,\n",
       " 'ensuite': 11582,\n",
       " 'secure parking': 10023,\n",
       " 'built in wardrobes': 8694,\n",
       " 'dishwasher': 6355,\n",
       " 'fully fenced': 6121,\n",
       " 'close to shops': 5089,\n",
       " 'close to schools': 4980,\n",
       " 'close to transport': 4889,\n",
       " 'built-in wardrobes': 4692,\n",
       " 'shed': 3827,\n",
       " 'garden / courtyard': 3673,\n",
       " 'study': 3312,\n",
       " 'internal laundry': 2949,\n",
       " 'balcony / deck': 2843,\n",
       " 'floorboards': 2779,\n",
       " 'bath': 2753,\n",
       " 'garden': 2725,\n",
       " 'swimming pool': 2674,\n",
       " 'remote garage': 2397,\n",
       " 'gas': 2304,\n",
       " 'solar panels': 2301,\n",
       " 'alarm system': 2240,\n",
       " 'heating': 2131,\n",
       " 'outdoor entertaining': 1817,\n",
       " 'pets allowed': 1659}"
      ]
     },
     "execution_count": 38,
     "metadata": {},
     "output_type": "execute_result"
    }
   ],
   "source": [
    "dict(sorted(feature_dict.items(), key=lambda item: item[1], reverse=True))"
   ]
  },
  {
   "cell_type": "code",
   "execution_count": 39,
   "id": "e0e5d1c6",
   "metadata": {},
   "outputs": [],
   "source": [
    "# Filter the features we want to encode based on feature_dict keys\n",
    "selected_features = list(feature_dict.keys())\n",
    "\n",
    "# Perform one-hot encoding\n",
    "for feature in selected_features:\n",
    "    train[feature] = train['features'].apply(lambda x: 1 if feature in x else 0)\n",
    "    test[feature] = test['features'].apply(lambda x: 1 if feature in x else 0)"
   ]
  },
  {
   "cell_type": "code",
   "execution_count": 40,
   "id": "f57be645",
   "metadata": {},
   "outputs": [
    {
     "data": {
      "text/plain": [
       "Index(['listingId', 'unitNumber', 'streetNumber', 'street', 'suburb', 'state',\n",
       "       'postcode', 'bathrooms', 'bedrooms', 'parking', 'landArea', 'latitude',\n",
       "       'longitude', 'features', 'agency', 'propertyType', 'promoLevel',\n",
       "       'soldMonth', 'soldYear', 'daysListed', 'inspectionsCount', 'isRural',\n",
       "       'hasDescription', 'hasFloorplan', 'hasDisplayPrice', 'hasPhoto',\n",
       "       'photoCount', 'suburb_medianPrice', 'suburb_medianRentPrice',\n",
       "       'suburb_entryLevelPrice', 'suburb_luxuryLevelPrice', 'primary',\n",
       "       'primaryDistance', 'primaryType', 'secondary', 'secondaryDistance',\n",
       "       'secondaryType', 'listingUrl', 'soldPrice', 'primaryICSEA',\n",
       "       'secondaryICSEA', 'air conditioning', 'built-in wardrobes',\n",
       "       'close to schools', 'close to shops', 'garden', 'secure parking',\n",
       "       'ensuite', 'built in wardrobes', 'pets allowed', 'bath', 'dishwasher',\n",
       "       'garden / courtyard', 'close to transport', 'fully fenced', 'shed',\n",
       "       'floorboards', 'internal laundry', 'heating', 'study', 'alarm system',\n",
       "       'solar panels', 'outdoor entertaining', 'swimming pool',\n",
       "       'balcony / deck', 'remote garage', 'gas'],\n",
       "      dtype='object')"
      ]
     },
     "execution_count": 40,
     "metadata": {},
     "output_type": "execute_result"
    }
   ],
   "source": [
    "train.columns"
   ]
  },
  {
   "cell_type": "code",
   "execution_count": 41,
   "id": "aefd60b2",
   "metadata": {},
   "outputs": [],
   "source": [
    "# Renaming the encoded columns\n",
    "column_mapping = {\n",
    "    'fully fenced': 'feature_fully_fenced',\n",
    "    'secure parking': 'feature_secure_parking',\n",
    "    'air conditioning': 'feature_air_conditioning',\n",
    "    'close to shops': 'feature_close_to_shops',\n",
    "    'close to schools': 'feature_close_to_schools',\n",
    "    'built in wardrobes': 'feature_built_in_wardrobes',\n",
    "    'outdoor entertaining': 'feature_outdoor_entertaining',\n",
    "    'remote garage': 'feature_remote_garage',\n",
    "    'heating': 'feature_heating',\n",
    "    'study': 'feature_study',\n",
    "    'shed': 'feature_shed',\n",
    "    'built-in wardrobes': 'feature_built_in_wardrobes',\n",
    "    'dishwasher': 'feature_dishwasher',\n",
    "    'floorboards': 'feature_floorboards',\n",
    "    'internal laundry': 'feature_internal_laundry',\n",
    "    'pets allowed': 'feature_pets_allowed',\n",
    "    'bath': 'feature_bath',\n",
    "    'fireplace(s)': 'feature_fireplace',\n",
    "    'alarm system': 'feature_alarm_system',\n",
    "    'balcony / deck': 'feature_balcony',\n",
    "    'ensuite': 'feature_ensuite',\n",
    "    'close to transport': 'feature_close_to_transport',\n",
    "    'formal lounge': 'feature_formal_lounge',\n",
    "    'garden': 'feature_garden',\n",
    "    'solar panels': 'feature_solar_panels',\n",
    "    'gas': 'feature_gas',\n",
    "    'garden / courtyard': 'feature_courtyard',\n",
    "    'broadband internet access': 'feature_broadband_internet',\n",
    "    'swimming pool': 'feature_swimming_pool'\n",
    "}\n",
    "\n",
    "# Apply the renaming\n",
    "train.rename(columns=column_mapping, inplace=True)\n",
    "test.rename(columns=column_mapping, inplace=True)"
   ]
  },
  {
   "cell_type": "code",
   "execution_count": 42,
   "id": "220d4bac",
   "metadata": {
    "scrolled": true
   },
   "outputs": [
    {
     "data": {
      "text/plain": [
       "Index(['listingId', 'unitNumber', 'streetNumber', 'street', 'suburb', 'state',\n",
       "       'postcode', 'bathrooms', 'bedrooms', 'parking', 'landArea', 'latitude',\n",
       "       'longitude', 'features', 'agency', 'propertyType', 'promoLevel',\n",
       "       'soldMonth', 'soldYear', 'daysListed', 'inspectionsCount', 'isRural',\n",
       "       'hasDescription', 'hasFloorplan', 'hasDisplayPrice', 'hasPhoto',\n",
       "       'photoCount', 'suburb_medianPrice', 'suburb_medianRentPrice',\n",
       "       'suburb_entryLevelPrice', 'suburb_luxuryLevelPrice', 'primary',\n",
       "       'primaryDistance', 'primaryType', 'secondary', 'secondaryDistance',\n",
       "       'secondaryType', 'listingUrl', 'soldPrice', 'primaryICSEA',\n",
       "       'secondaryICSEA', 'feature_air_conditioning',\n",
       "       'feature_built_in_wardrobes', 'feature_close_to_schools',\n",
       "       'feature_close_to_shops', 'feature_garden', 'feature_secure_parking',\n",
       "       'feature_ensuite', 'feature_built_in_wardrobes', 'feature_pets_allowed',\n",
       "       'feature_bath', 'feature_dishwasher', 'feature_courtyard',\n",
       "       'feature_close_to_transport', 'feature_fully_fenced', 'feature_shed',\n",
       "       'feature_floorboards', 'feature_internal_laundry', 'feature_heating',\n",
       "       'feature_study', 'feature_alarm_system', 'feature_solar_panels',\n",
       "       'feature_outdoor_entertaining', 'feature_swimming_pool',\n",
       "       'feature_balcony', 'feature_remote_garage', 'feature_gas'],\n",
       "      dtype='object')"
      ]
     },
     "execution_count": 42,
     "metadata": {},
     "output_type": "execute_result"
    }
   ],
   "source": [
    "train.columns"
   ]
  },
  {
   "cell_type": "markdown",
   "id": "ff5f6cad",
   "metadata": {},
   "source": [
    "### propertyType, promoLevel"
   ]
  },
  {
   "cell_type": "code",
   "execution_count": 43,
   "id": "6f0a48ab",
   "metadata": {
    "scrolled": true
   },
   "outputs": [
    {
     "data": {
      "text/html": [
       "<style>#sk-container-id-1 {\n",
       "  /* Definition of color scheme common for light and dark mode */\n",
       "  --sklearn-color-text: black;\n",
       "  --sklearn-color-line: gray;\n",
       "  /* Definition of color scheme for unfitted estimators */\n",
       "  --sklearn-color-unfitted-level-0: #fff5e6;\n",
       "  --sklearn-color-unfitted-level-1: #f6e4d2;\n",
       "  --sklearn-color-unfitted-level-2: #ffe0b3;\n",
       "  --sklearn-color-unfitted-level-3: chocolate;\n",
       "  /* Definition of color scheme for fitted estimators */\n",
       "  --sklearn-color-fitted-level-0: #f0f8ff;\n",
       "  --sklearn-color-fitted-level-1: #d4ebff;\n",
       "  --sklearn-color-fitted-level-2: #b3dbfd;\n",
       "  --sklearn-color-fitted-level-3: cornflowerblue;\n",
       "\n",
       "  /* Specific color for light theme */\n",
       "  --sklearn-color-text-on-default-background: var(--sg-text-color, var(--theme-code-foreground, var(--jp-content-font-color1, black)));\n",
       "  --sklearn-color-background: var(--sg-background-color, var(--theme-background, var(--jp-layout-color0, white)));\n",
       "  --sklearn-color-border-box: var(--sg-text-color, var(--theme-code-foreground, var(--jp-content-font-color1, black)));\n",
       "  --sklearn-color-icon: #696969;\n",
       "\n",
       "  @media (prefers-color-scheme: dark) {\n",
       "    /* Redefinition of color scheme for dark theme */\n",
       "    --sklearn-color-text-on-default-background: var(--sg-text-color, var(--theme-code-foreground, var(--jp-content-font-color1, white)));\n",
       "    --sklearn-color-background: var(--sg-background-color, var(--theme-background, var(--jp-layout-color0, #111)));\n",
       "    --sklearn-color-border-box: var(--sg-text-color, var(--theme-code-foreground, var(--jp-content-font-color1, white)));\n",
       "    --sklearn-color-icon: #878787;\n",
       "  }\n",
       "}\n",
       "\n",
       "#sk-container-id-1 {\n",
       "  color: var(--sklearn-color-text);\n",
       "}\n",
       "\n",
       "#sk-container-id-1 pre {\n",
       "  padding: 0;\n",
       "}\n",
       "\n",
       "#sk-container-id-1 input.sk-hidden--visually {\n",
       "  border: 0;\n",
       "  clip: rect(1px 1px 1px 1px);\n",
       "  clip: rect(1px, 1px, 1px, 1px);\n",
       "  height: 1px;\n",
       "  margin: -1px;\n",
       "  overflow: hidden;\n",
       "  padding: 0;\n",
       "  position: absolute;\n",
       "  width: 1px;\n",
       "}\n",
       "\n",
       "#sk-container-id-1 div.sk-dashed-wrapped {\n",
       "  border: 1px dashed var(--sklearn-color-line);\n",
       "  margin: 0 0.4em 0.5em 0.4em;\n",
       "  box-sizing: border-box;\n",
       "  padding-bottom: 0.4em;\n",
       "  background-color: var(--sklearn-color-background);\n",
       "}\n",
       "\n",
       "#sk-container-id-1 div.sk-container {\n",
       "  /* jupyter's `normalize.less` sets `[hidden] { display: none; }`\n",
       "     but bootstrap.min.css set `[hidden] { display: none !important; }`\n",
       "     so we also need the `!important` here to be able to override the\n",
       "     default hidden behavior on the sphinx rendered scikit-learn.org.\n",
       "     See: https://github.com/scikit-learn/scikit-learn/issues/21755 */\n",
       "  display: inline-block !important;\n",
       "  position: relative;\n",
       "}\n",
       "\n",
       "#sk-container-id-1 div.sk-text-repr-fallback {\n",
       "  display: none;\n",
       "}\n",
       "\n",
       "div.sk-parallel-item,\n",
       "div.sk-serial,\n",
       "div.sk-item {\n",
       "  /* draw centered vertical line to link estimators */\n",
       "  background-image: linear-gradient(var(--sklearn-color-text-on-default-background), var(--sklearn-color-text-on-default-background));\n",
       "  background-size: 2px 100%;\n",
       "  background-repeat: no-repeat;\n",
       "  background-position: center center;\n",
       "}\n",
       "\n",
       "/* Parallel-specific style estimator block */\n",
       "\n",
       "#sk-container-id-1 div.sk-parallel-item::after {\n",
       "  content: \"\";\n",
       "  width: 100%;\n",
       "  border-bottom: 2px solid var(--sklearn-color-text-on-default-background);\n",
       "  flex-grow: 1;\n",
       "}\n",
       "\n",
       "#sk-container-id-1 div.sk-parallel {\n",
       "  display: flex;\n",
       "  align-items: stretch;\n",
       "  justify-content: center;\n",
       "  background-color: var(--sklearn-color-background);\n",
       "  position: relative;\n",
       "}\n",
       "\n",
       "#sk-container-id-1 div.sk-parallel-item {\n",
       "  display: flex;\n",
       "  flex-direction: column;\n",
       "}\n",
       "\n",
       "#sk-container-id-1 div.sk-parallel-item:first-child::after {\n",
       "  align-self: flex-end;\n",
       "  width: 50%;\n",
       "}\n",
       "\n",
       "#sk-container-id-1 div.sk-parallel-item:last-child::after {\n",
       "  align-self: flex-start;\n",
       "  width: 50%;\n",
       "}\n",
       "\n",
       "#sk-container-id-1 div.sk-parallel-item:only-child::after {\n",
       "  width: 0;\n",
       "}\n",
       "\n",
       "/* Serial-specific style estimator block */\n",
       "\n",
       "#sk-container-id-1 div.sk-serial {\n",
       "  display: flex;\n",
       "  flex-direction: column;\n",
       "  align-items: center;\n",
       "  background-color: var(--sklearn-color-background);\n",
       "  padding-right: 1em;\n",
       "  padding-left: 1em;\n",
       "}\n",
       "\n",
       "\n",
       "/* Toggleable style: style used for estimator/Pipeline/ColumnTransformer box that is\n",
       "clickable and can be expanded/collapsed.\n",
       "- Pipeline and ColumnTransformer use this feature and define the default style\n",
       "- Estimators will overwrite some part of the style using the `sk-estimator` class\n",
       "*/\n",
       "\n",
       "/* Pipeline and ColumnTransformer style (default) */\n",
       "\n",
       "#sk-container-id-1 div.sk-toggleable {\n",
       "  /* Default theme specific background. It is overwritten whether we have a\n",
       "  specific estimator or a Pipeline/ColumnTransformer */\n",
       "  background-color: var(--sklearn-color-background);\n",
       "}\n",
       "\n",
       "/* Toggleable label */\n",
       "#sk-container-id-1 label.sk-toggleable__label {\n",
       "  cursor: pointer;\n",
       "  display: block;\n",
       "  width: 100%;\n",
       "  margin-bottom: 0;\n",
       "  padding: 0.5em;\n",
       "  box-sizing: border-box;\n",
       "  text-align: center;\n",
       "}\n",
       "\n",
       "#sk-container-id-1 label.sk-toggleable__label-arrow:before {\n",
       "  /* Arrow on the left of the label */\n",
       "  content: \"▸\";\n",
       "  float: left;\n",
       "  margin-right: 0.25em;\n",
       "  color: var(--sklearn-color-icon);\n",
       "}\n",
       "\n",
       "#sk-container-id-1 label.sk-toggleable__label-arrow:hover:before {\n",
       "  color: var(--sklearn-color-text);\n",
       "}\n",
       "\n",
       "/* Toggleable content - dropdown */\n",
       "\n",
       "#sk-container-id-1 div.sk-toggleable__content {\n",
       "  max-height: 0;\n",
       "  max-width: 0;\n",
       "  overflow: hidden;\n",
       "  text-align: left;\n",
       "  /* unfitted */\n",
       "  background-color: var(--sklearn-color-unfitted-level-0);\n",
       "}\n",
       "\n",
       "#sk-container-id-1 div.sk-toggleable__content.fitted {\n",
       "  /* fitted */\n",
       "  background-color: var(--sklearn-color-fitted-level-0);\n",
       "}\n",
       "\n",
       "#sk-container-id-1 div.sk-toggleable__content pre {\n",
       "  margin: 0.2em;\n",
       "  border-radius: 0.25em;\n",
       "  color: var(--sklearn-color-text);\n",
       "  /* unfitted */\n",
       "  background-color: var(--sklearn-color-unfitted-level-0);\n",
       "}\n",
       "\n",
       "#sk-container-id-1 div.sk-toggleable__content.fitted pre {\n",
       "  /* unfitted */\n",
       "  background-color: var(--sklearn-color-fitted-level-0);\n",
       "}\n",
       "\n",
       "#sk-container-id-1 input.sk-toggleable__control:checked~div.sk-toggleable__content {\n",
       "  /* Expand drop-down */\n",
       "  max-height: 200px;\n",
       "  max-width: 100%;\n",
       "  overflow: auto;\n",
       "}\n",
       "\n",
       "#sk-container-id-1 input.sk-toggleable__control:checked~label.sk-toggleable__label-arrow:before {\n",
       "  content: \"▾\";\n",
       "}\n",
       "\n",
       "/* Pipeline/ColumnTransformer-specific style */\n",
       "\n",
       "#sk-container-id-1 div.sk-label input.sk-toggleable__control:checked~label.sk-toggleable__label {\n",
       "  color: var(--sklearn-color-text);\n",
       "  background-color: var(--sklearn-color-unfitted-level-2);\n",
       "}\n",
       "\n",
       "#sk-container-id-1 div.sk-label.fitted input.sk-toggleable__control:checked~label.sk-toggleable__label {\n",
       "  background-color: var(--sklearn-color-fitted-level-2);\n",
       "}\n",
       "\n",
       "/* Estimator-specific style */\n",
       "\n",
       "/* Colorize estimator box */\n",
       "#sk-container-id-1 div.sk-estimator input.sk-toggleable__control:checked~label.sk-toggleable__label {\n",
       "  /* unfitted */\n",
       "  background-color: var(--sklearn-color-unfitted-level-2);\n",
       "}\n",
       "\n",
       "#sk-container-id-1 div.sk-estimator.fitted input.sk-toggleable__control:checked~label.sk-toggleable__label {\n",
       "  /* fitted */\n",
       "  background-color: var(--sklearn-color-fitted-level-2);\n",
       "}\n",
       "\n",
       "#sk-container-id-1 div.sk-label label.sk-toggleable__label,\n",
       "#sk-container-id-1 div.sk-label label {\n",
       "  /* The background is the default theme color */\n",
       "  color: var(--sklearn-color-text-on-default-background);\n",
       "}\n",
       "\n",
       "/* On hover, darken the color of the background */\n",
       "#sk-container-id-1 div.sk-label:hover label.sk-toggleable__label {\n",
       "  color: var(--sklearn-color-text);\n",
       "  background-color: var(--sklearn-color-unfitted-level-2);\n",
       "}\n",
       "\n",
       "/* Label box, darken color on hover, fitted */\n",
       "#sk-container-id-1 div.sk-label.fitted:hover label.sk-toggleable__label.fitted {\n",
       "  color: var(--sklearn-color-text);\n",
       "  background-color: var(--sklearn-color-fitted-level-2);\n",
       "}\n",
       "\n",
       "/* Estimator label */\n",
       "\n",
       "#sk-container-id-1 div.sk-label label {\n",
       "  font-family: monospace;\n",
       "  font-weight: bold;\n",
       "  display: inline-block;\n",
       "  line-height: 1.2em;\n",
       "}\n",
       "\n",
       "#sk-container-id-1 div.sk-label-container {\n",
       "  text-align: center;\n",
       "}\n",
       "\n",
       "/* Estimator-specific */\n",
       "#sk-container-id-1 div.sk-estimator {\n",
       "  font-family: monospace;\n",
       "  border: 1px dotted var(--sklearn-color-border-box);\n",
       "  border-radius: 0.25em;\n",
       "  box-sizing: border-box;\n",
       "  margin-bottom: 0.5em;\n",
       "  /* unfitted */\n",
       "  background-color: var(--sklearn-color-unfitted-level-0);\n",
       "}\n",
       "\n",
       "#sk-container-id-1 div.sk-estimator.fitted {\n",
       "  /* fitted */\n",
       "  background-color: var(--sklearn-color-fitted-level-0);\n",
       "}\n",
       "\n",
       "/* on hover */\n",
       "#sk-container-id-1 div.sk-estimator:hover {\n",
       "  /* unfitted */\n",
       "  background-color: var(--sklearn-color-unfitted-level-2);\n",
       "}\n",
       "\n",
       "#sk-container-id-1 div.sk-estimator.fitted:hover {\n",
       "  /* fitted */\n",
       "  background-color: var(--sklearn-color-fitted-level-2);\n",
       "}\n",
       "\n",
       "/* Specification for estimator info (e.g. \"i\" and \"?\") */\n",
       "\n",
       "/* Common style for \"i\" and \"?\" */\n",
       "\n",
       ".sk-estimator-doc-link,\n",
       "a:link.sk-estimator-doc-link,\n",
       "a:visited.sk-estimator-doc-link {\n",
       "  float: right;\n",
       "  font-size: smaller;\n",
       "  line-height: 1em;\n",
       "  font-family: monospace;\n",
       "  background-color: var(--sklearn-color-background);\n",
       "  border-radius: 1em;\n",
       "  height: 1em;\n",
       "  width: 1em;\n",
       "  text-decoration: none !important;\n",
       "  margin-left: 1ex;\n",
       "  /* unfitted */\n",
       "  border: var(--sklearn-color-unfitted-level-1) 1pt solid;\n",
       "  color: var(--sklearn-color-unfitted-level-1);\n",
       "}\n",
       "\n",
       ".sk-estimator-doc-link.fitted,\n",
       "a:link.sk-estimator-doc-link.fitted,\n",
       "a:visited.sk-estimator-doc-link.fitted {\n",
       "  /* fitted */\n",
       "  border: var(--sklearn-color-fitted-level-1) 1pt solid;\n",
       "  color: var(--sklearn-color-fitted-level-1);\n",
       "}\n",
       "\n",
       "/* On hover */\n",
       "div.sk-estimator:hover .sk-estimator-doc-link:hover,\n",
       ".sk-estimator-doc-link:hover,\n",
       "div.sk-label-container:hover .sk-estimator-doc-link:hover,\n",
       ".sk-estimator-doc-link:hover {\n",
       "  /* unfitted */\n",
       "  background-color: var(--sklearn-color-unfitted-level-3);\n",
       "  color: var(--sklearn-color-background);\n",
       "  text-decoration: none;\n",
       "}\n",
       "\n",
       "div.sk-estimator.fitted:hover .sk-estimator-doc-link.fitted:hover,\n",
       ".sk-estimator-doc-link.fitted:hover,\n",
       "div.sk-label-container:hover .sk-estimator-doc-link.fitted:hover,\n",
       ".sk-estimator-doc-link.fitted:hover {\n",
       "  /* fitted */\n",
       "  background-color: var(--sklearn-color-fitted-level-3);\n",
       "  color: var(--sklearn-color-background);\n",
       "  text-decoration: none;\n",
       "}\n",
       "\n",
       "/* Span, style for the box shown on hovering the info icon */\n",
       ".sk-estimator-doc-link span {\n",
       "  display: none;\n",
       "  z-index: 9999;\n",
       "  position: relative;\n",
       "  font-weight: normal;\n",
       "  right: .2ex;\n",
       "  padding: .5ex;\n",
       "  margin: .5ex;\n",
       "  width: min-content;\n",
       "  min-width: 20ex;\n",
       "  max-width: 50ex;\n",
       "  color: var(--sklearn-color-text);\n",
       "  box-shadow: 2pt 2pt 4pt #999;\n",
       "  /* unfitted */\n",
       "  background: var(--sklearn-color-unfitted-level-0);\n",
       "  border: .5pt solid var(--sklearn-color-unfitted-level-3);\n",
       "}\n",
       "\n",
       ".sk-estimator-doc-link.fitted span {\n",
       "  /* fitted */\n",
       "  background: var(--sklearn-color-fitted-level-0);\n",
       "  border: var(--sklearn-color-fitted-level-3);\n",
       "}\n",
       "\n",
       ".sk-estimator-doc-link:hover span {\n",
       "  display: block;\n",
       "}\n",
       "\n",
       "/* \"?\"-specific style due to the `<a>` HTML tag */\n",
       "\n",
       "#sk-container-id-1 a.estimator_doc_link {\n",
       "  float: right;\n",
       "  font-size: 1rem;\n",
       "  line-height: 1em;\n",
       "  font-family: monospace;\n",
       "  background-color: var(--sklearn-color-background);\n",
       "  border-radius: 1rem;\n",
       "  height: 1rem;\n",
       "  width: 1rem;\n",
       "  text-decoration: none;\n",
       "  /* unfitted */\n",
       "  color: var(--sklearn-color-unfitted-level-1);\n",
       "  border: var(--sklearn-color-unfitted-level-1) 1pt solid;\n",
       "}\n",
       "\n",
       "#sk-container-id-1 a.estimator_doc_link.fitted {\n",
       "  /* fitted */\n",
       "  border: var(--sklearn-color-fitted-level-1) 1pt solid;\n",
       "  color: var(--sklearn-color-fitted-level-1);\n",
       "}\n",
       "\n",
       "/* On hover */\n",
       "#sk-container-id-1 a.estimator_doc_link:hover {\n",
       "  /* unfitted */\n",
       "  background-color: var(--sklearn-color-unfitted-level-3);\n",
       "  color: var(--sklearn-color-background);\n",
       "  text-decoration: none;\n",
       "}\n",
       "\n",
       "#sk-container-id-1 a.estimator_doc_link.fitted:hover {\n",
       "  /* fitted */\n",
       "  background-color: var(--sklearn-color-fitted-level-3);\n",
       "}\n",
       "</style><div id=\"sk-container-id-1\" class=\"sk-top-container\"><div class=\"sk-text-repr-fallback\"><pre>ColumnTransformer(transformers=[(&#x27;onehotencoder&#x27;,\n",
       "                                 OneHotEncoder(handle_unknown=&#x27;ignore&#x27;),\n",
       "                                 [&#x27;propertyType&#x27;, &#x27;promoLevel&#x27;, &#x27;primaryType&#x27;,\n",
       "                                  &#x27;secondaryType&#x27;])])</pre><b>In a Jupyter environment, please rerun this cell to show the HTML representation or trust the notebook. <br />On GitHub, the HTML representation is unable to render, please try loading this page with nbviewer.org.</b></div><div class=\"sk-container\" hidden><div class=\"sk-item sk-dashed-wrapped\"><div class=\"sk-label-container\"><div class=\"sk-label fitted sk-toggleable\"><input class=\"sk-toggleable__control sk-hidden--visually\" id=\"sk-estimator-id-1\" type=\"checkbox\" ><label for=\"sk-estimator-id-1\" class=\"sk-toggleable__label fitted sk-toggleable__label-arrow fitted\">&nbsp;&nbsp;ColumnTransformer<a class=\"sk-estimator-doc-link fitted\" rel=\"noreferrer\" target=\"_blank\" href=\"https://scikit-learn.org/1.5/modules/generated/sklearn.compose.ColumnTransformer.html\">?<span>Documentation for ColumnTransformer</span></a><span class=\"sk-estimator-doc-link fitted\">i<span>Fitted</span></span></label><div class=\"sk-toggleable__content fitted\"><pre>ColumnTransformer(transformers=[(&#x27;onehotencoder&#x27;,\n",
       "                                 OneHotEncoder(handle_unknown=&#x27;ignore&#x27;),\n",
       "                                 [&#x27;propertyType&#x27;, &#x27;promoLevel&#x27;, &#x27;primaryType&#x27;,\n",
       "                                  &#x27;secondaryType&#x27;])])</pre></div> </div></div><div class=\"sk-parallel\"><div class=\"sk-parallel-item\"><div class=\"sk-item\"><div class=\"sk-label-container\"><div class=\"sk-label fitted sk-toggleable\"><input class=\"sk-toggleable__control sk-hidden--visually\" id=\"sk-estimator-id-2\" type=\"checkbox\" ><label for=\"sk-estimator-id-2\" class=\"sk-toggleable__label fitted sk-toggleable__label-arrow fitted\">onehotencoder</label><div class=\"sk-toggleable__content fitted\"><pre>[&#x27;propertyType&#x27;, &#x27;promoLevel&#x27;, &#x27;primaryType&#x27;, &#x27;secondaryType&#x27;]</pre></div> </div></div><div class=\"sk-serial\"><div class=\"sk-item\"><div class=\"sk-estimator fitted sk-toggleable\"><input class=\"sk-toggleable__control sk-hidden--visually\" id=\"sk-estimator-id-3\" type=\"checkbox\" ><label for=\"sk-estimator-id-3\" class=\"sk-toggleable__label fitted sk-toggleable__label-arrow fitted\">&nbsp;OneHotEncoder<a class=\"sk-estimator-doc-link fitted\" rel=\"noreferrer\" target=\"_blank\" href=\"https://scikit-learn.org/1.5/modules/generated/sklearn.preprocessing.OneHotEncoder.html\">?<span>Documentation for OneHotEncoder</span></a></label><div class=\"sk-toggleable__content fitted\"><pre>OneHotEncoder(handle_unknown=&#x27;ignore&#x27;)</pre></div> </div></div></div></div></div></div></div></div></div>"
      ],
      "text/plain": [
       "ColumnTransformer(transformers=[('onehotencoder',\n",
       "                                 OneHotEncoder(handle_unknown='ignore'),\n",
       "                                 ['propertyType', 'promoLevel', 'primaryType',\n",
       "                                  'secondaryType'])])"
      ]
     },
     "execution_count": 43,
     "metadata": {},
     "output_type": "execute_result"
    }
   ],
   "source": [
    "cat_cols = ['propertyType','promoLevel']\n",
    "# Create encoder handle_unknown ensures that unseen values in the test set are ignored\n",
    "t = make_column_transformer((OneHotEncoder(handle_unknown='ignore'), \n",
    "                                      ['propertyType','promoLevel','primaryType','secondaryType']))\n",
    "t.fit(train)"
   ]
  },
  {
   "cell_type": "code",
   "execution_count": 44,
   "id": "6d55f9e9",
   "metadata": {},
   "outputs": [
    {
     "data": {
      "text/plain": [
       "Index(['listingId', 'unitNumber', 'streetNumber', 'street', 'suburb', 'state',\n",
       "       'postcode', 'bathrooms', 'bedrooms', 'parking', 'landArea', 'latitude',\n",
       "       'longitude', 'features', 'agency', 'propertyType', 'promoLevel',\n",
       "       'soldMonth', 'soldYear', 'daysListed', 'inspectionsCount', 'isRural',\n",
       "       'hasDescription', 'hasFloorplan', 'hasDisplayPrice', 'hasPhoto',\n",
       "       'photoCount', 'suburb_medianPrice', 'suburb_medianRentPrice',\n",
       "       'suburb_entryLevelPrice', 'suburb_luxuryLevelPrice', 'primary',\n",
       "       'primaryDistance', 'primaryType', 'secondary', 'secondaryDistance',\n",
       "       'secondaryType', 'listingUrl', 'soldPrice', 'primaryICSEA',\n",
       "       'secondaryICSEA', 'feature_air_conditioning',\n",
       "       'feature_built_in_wardrobes', 'feature_close_to_schools',\n",
       "       'feature_close_to_shops', 'feature_garden', 'feature_secure_parking',\n",
       "       'feature_ensuite', 'feature_built_in_wardrobes', 'feature_pets_allowed',\n",
       "       'feature_bath', 'feature_dishwasher', 'feature_courtyard',\n",
       "       'feature_close_to_transport', 'feature_fully_fenced', 'feature_shed',\n",
       "       'feature_floorboards', 'feature_internal_laundry', 'feature_heating',\n",
       "       'feature_study', 'feature_alarm_system', 'feature_solar_panels',\n",
       "       'feature_outdoor_entertaining', 'feature_swimming_pool',\n",
       "       'feature_balcony', 'feature_remote_garage', 'feature_gas'],\n",
       "      dtype='object')"
      ]
     },
     "execution_count": 44,
     "metadata": {},
     "output_type": "execute_result"
    }
   ],
   "source": [
    "test.columns"
   ]
  },
  {
   "cell_type": "code",
   "execution_count": 45,
   "id": "797033db",
   "metadata": {
    "scrolled": true
   },
   "outputs": [],
   "source": [
    "train = ohe_transform(train,t,cat_cols)\n",
    "test = ohe_transform(test,t,cat_cols)"
   ]
  },
  {
   "cell_type": "code",
   "execution_count": 46,
   "id": "5a6ed58a",
   "metadata": {},
   "outputs": [
    {
     "data": {
      "text/plain": [
       "Index(['listingId', 'unitNumber', 'streetNumber', 'street', 'suburb', 'state',\n",
       "       'postcode', 'bathrooms', 'bedrooms', 'parking', 'landArea', 'latitude',\n",
       "       'longitude', 'features', 'agency', 'soldMonth', 'soldYear',\n",
       "       'daysListed', 'inspectionsCount', 'isRural', 'hasDescription',\n",
       "       'hasFloorplan', 'hasDisplayPrice', 'hasPhoto', 'photoCount',\n",
       "       'suburb_medianPrice', 'suburb_medianRentPrice',\n",
       "       'suburb_entryLevelPrice', 'suburb_luxuryLevelPrice', 'primary',\n",
       "       'primaryDistance', 'primaryType', 'secondary', 'secondaryDistance',\n",
       "       'secondaryType', 'listingUrl', 'soldPrice', 'primaryICSEA',\n",
       "       'secondaryICSEA', 'feature_air_conditioning',\n",
       "       'feature_built_in_wardrobes', 'feature_close_to_schools',\n",
       "       'feature_close_to_shops', 'feature_garden', 'feature_secure_parking',\n",
       "       'feature_ensuite', 'feature_built_in_wardrobes', 'feature_pets_allowed',\n",
       "       'feature_bath', 'feature_dishwasher', 'feature_courtyard',\n",
       "       'feature_close_to_transport', 'feature_fully_fenced', 'feature_shed',\n",
       "       'feature_floorboards', 'feature_internal_laundry', 'feature_heating',\n",
       "       'feature_study', 'feature_alarm_system', 'feature_solar_panels',\n",
       "       'feature_outdoor_entertaining', 'feature_swimming_pool',\n",
       "       'feature_balcony', 'feature_remote_garage', 'feature_gas',\n",
       "       'propertyType_apartment', 'propertyType_house',\n",
       "       'propertyType_townhouse', 'propertyType_unknown', 'promoLevel_elite',\n",
       "       'promoLevel_elite_pp', 'promoLevel_premium_plus', 'promoLevel_standard',\n",
       "       'promoLevel_standard_pp', 'primaryType_catholic',\n",
       "       'primaryType_government', 'primaryType_private',\n",
       "       'secondaryType_catholic', 'secondaryType_government',\n",
       "       'secondaryType_private'],\n",
       "      dtype='object')"
      ]
     },
     "execution_count": 46,
     "metadata": {},
     "output_type": "execute_result"
    }
   ],
   "source": [
    "train.columns"
   ]
  },
  {
   "cell_type": "markdown",
   "id": "567771d6",
   "metadata": {},
   "source": [
    "# Binarization"
   ]
  },
  {
   "cell_type": "code",
   "execution_count": 47,
   "id": "a4911170",
   "metadata": {},
   "outputs": [],
   "source": [
    "binary_cols = ['isRural','hasDescription', 'hasFloorplan', 'hasDisplayPrice', 'hasPhoto']\n",
    "\n",
    "# Binarizing all columns\n",
    "for col in binary_cols:\n",
    "    train[col] = train[col].astype(int)\n",
    "    test[col] = test[col].astype(int)"
   ]
  },
  {
   "cell_type": "markdown",
   "id": "85aef082",
   "metadata": {},
   "source": [
    "# Constant features\n",
    "Removing features with vary small variance. These features don't provide any additional advantage to machine learning models"
   ]
  },
  {
   "cell_type": "code",
   "execution_count": 48,
   "id": "4687712f",
   "metadata": {},
   "outputs": [],
   "source": [
    "# Select only numeric columns\n",
    "numeric_train = train.select_dtypes(include=[\"number\"])\n",
    "numeric_test = test.select_dtypes(include=[\"number\"])"
   ]
  },
  {
   "cell_type": "code",
   "execution_count": 49,
   "id": "d22ee36c",
   "metadata": {},
   "outputs": [],
   "source": [
    "# Apply VarianceThreshold to numeric columns\n",
    "sel = VarianceThreshold(threshold=0.01)  # 0.1 indicates 99% of observations approximately\n",
    "sel.fit(numeric_train)  # Fit only on numeric columns\n",
    "\n",
    "# Get the remaining features\n",
    "features_to_keep = numeric_train.columns[sel.get_support()]\n",
    "features_removed = numeric_train.columns[~sel.get_support()]  # Features not selected"
   ]
  },
  {
   "cell_type": "code",
   "execution_count": 50,
   "id": "b428866e",
   "metadata": {},
   "outputs": [],
   "source": [
    "# Transform the numeric data\n",
    "numeric_train = sel.transform(numeric_train)\n",
    "numeric_test = sel.transform(numeric_test)"
   ]
  },
  {
   "cell_type": "code",
   "execution_count": 51,
   "id": "7eb246ff",
   "metadata": {},
   "outputs": [],
   "source": [
    "# Transform the arrays back to DataFrames\n",
    "numeric_train = pd.DataFrame(numeric_train, columns=features_to_keep)\n",
    "numeric_test = pd.DataFrame(numeric_test, columns=features_to_keep)"
   ]
  },
  {
   "cell_type": "code",
   "execution_count": 52,
   "id": "b7782ffc",
   "metadata": {},
   "outputs": [
    {
     "data": {
      "text/plain": [
       "((69346, 73), (17358, 73))"
      ]
     },
     "execution_count": 52,
     "metadata": {},
     "output_type": "execute_result"
    }
   ],
   "source": [
    "# Combine back with non-numeric columns\n",
    "train = pd.concat([train.select_dtypes(exclude=[\"number\"]), numeric_train], axis=1)\n",
    "test = pd.concat([test.select_dtypes(exclude=[\"number\"]), numeric_test], axis=1)\n",
    "\n",
    "train.shape, test.shape"
   ]
  },
  {
   "cell_type": "code",
   "execution_count": 53,
   "id": "4d113d4d",
   "metadata": {},
   "outputs": [
    {
     "data": {
      "text/plain": [
       "Index(['inspectionsCount', 'isRural', 'hasDescription', 'hasDisplayPrice',\n",
       "       'hasPhoto', 'suburb_medianRentPrice', 'promoLevel_elite_pp'],\n",
       "      dtype='object')"
      ]
     },
     "execution_count": 53,
     "metadata": {},
     "output_type": "execute_result"
    }
   ],
   "source": [
    "features_removed"
   ]
  },
  {
   "cell_type": "markdown",
   "id": "74acd572",
   "metadata": {},
   "source": [
    "# Irrelevant features"
   ]
  },
  {
   "cell_type": "code",
   "execution_count": 54,
   "id": "76ea039e",
   "metadata": {},
   "outputs": [],
   "source": [
    "# Dropping the irrelevant columns\n",
    "train = train.drop(columns=['listingId', 'unitNumber', 'streetNumber', 'street', 'state',\n",
    "                          'postcode', 'agency', 'suburb','features', 'propertyType', 'promoLevel', \n",
    "                          'primary', 'secondary', 'listingUrl'], errors='ignore')\n",
    "\n",
    "test = test.drop(columns=['listingId', 'unitNumber', 'streetNumber', 'street', 'state',\n",
    "                          'postcode', 'agency', 'suburb','features', 'propertyType', 'promoLevel', \n",
    "                          'primary', 'secondary', 'listingUrl'], errors='ignore')\n",
    "\n"
   ]
  },
  {
   "cell_type": "markdown",
   "id": "9e67c927",
   "metadata": {},
   "source": [
    "# Removing the rest of the missing values\n",
    "Some null values still remain even after imputation as there isn't enough information to impute on other values"
   ]
  },
  {
   "cell_type": "code",
   "execution_count": 55,
   "id": "8b5441bc",
   "metadata": {},
   "outputs": [
    {
     "name": "stdout",
     "output_type": "stream",
     "text": [
      "(67636, 61)\n",
      "(17340, 61)\n"
     ]
    }
   ],
   "source": [
    "train.dropna(inplace=True)\n",
    "test.dropna(inplace=True)\n",
    "\n",
    "train.reset_index(drop=True, inplace=True)\n",
    "test.reset_index(drop=True, inplace=True)\n",
    "\n",
    "print(train.shape)\n",
    "print(test.shape)"
   ]
  },
  {
   "cell_type": "markdown",
   "id": "9ffb3248",
   "metadata": {},
   "source": [
    "# Geospatial features"
   ]
  },
  {
   "cell_type": "markdown",
   "id": "924aa026",
   "metadata": {},
   "source": [
    "### coastDistance \n",
    "For each property listing, find the distance to the nearest coastline"
   ]
  },
  {
   "cell_type": "code",
   "execution_count": 56,
   "id": "d0a342a4",
   "metadata": {},
   "outputs": [],
   "source": [
    "# https://www.naturalearthdata.com/downloads/10m-physical-vectors/\n",
    "# Load coastline data \n",
    "coastline = gpd.read_file(\"/Users/tristangarcia/desktop/hp-pred_data/ne_50m_coastline/ne_50m_coastline.shp\")\n",
    "# Reproject coastline to EPSG:3395 (meters)\n",
    "coastline = coastline.to_crs(epsg=3395)"
   ]
  },
  {
   "cell_type": "code",
   "execution_count": 57,
   "id": "9c541d42",
   "metadata": {},
   "outputs": [],
   "source": [
    "def convert_to_gdf(df):\n",
    "    # Convert df to GeoDataFrame\n",
    "    df['geometry'] = df.apply(lambda row: Point(row['longitude'], row['latitude']), axis=1)\n",
    "    gdf = gpd.GeoDataFrame(df, geometry='geometry', crs=\"EPSG:4326\")\n",
    "    # Reproject train data to EPSG:3395 (meters)\n",
    "    gdf = gdf.to_crs(epsg=3395)\n",
    "    \n",
    "    return df"
   ]
  },
  {
   "cell_type": "code",
   "execution_count": 58,
   "id": "d951b2b6",
   "metadata": {},
   "outputs": [],
   "source": [
    "def get_coastDistance(gdf,df):\n",
    "    # Calculate distances to the nearest coastline\n",
    "    gdf['coastDistance'] = gdf.geometry.apply(\n",
    "        lambda point: coastline.distance(point).min()\n",
    "    )\n",
    "\n",
    "    # Assigning a new variable to the original df\n",
    "    df['coastDistance'] = gdf['coastDistance']\n",
    "    # Removing helper column\n",
    "    df.drop(columns=['geometry'], inplace=True)\n",
    "    \n",
    "    return df"
   ]
  },
  {
   "cell_type": "code",
   "execution_count": 59,
   "id": "477ed741",
   "metadata": {},
   "outputs": [],
   "source": [
    "# Converting train and test sets to geodataframes\n",
    "train_gdf = convert_to_gdf(train)\n",
    "test_gdf = convert_to_gdf(test)"
   ]
  },
  {
   "cell_type": "code",
   "execution_count": 60,
   "id": "242efe8d",
   "metadata": {},
   "outputs": [],
   "source": [
    "# Creating new coastDistance variable\n",
    "train = get_coastDistance(train_gdf,train)\n",
    "test = get_coastDistance(test_gdf,test)"
   ]
  },
  {
   "cell_type": "code",
   "execution_count": 61,
   "id": "13976390",
   "metadata": {
    "scrolled": true
   },
   "outputs": [
    {
     "name": "stdout",
     "output_type": "stream",
     "text": [
      "    latitude   longitude  coastDistance\n",
      "0 -31.957170  116.018388  572456.668046\n",
      "1 -32.136424  115.783409  572456.741625\n",
      "2 -31.930981  115.947431  572456.616289\n",
      "3 -31.641348  115.695776  572456.251512\n",
      "4 -20.734956  116.838286  572446.651362\n"
     ]
    }
   ],
   "source": [
    "# Check results\n",
    "print(train[['latitude', 'longitude', 'coastDistance']].head())"
   ]
  },
  {
   "cell_type": "markdown",
   "id": "2f7f27d1",
   "metadata": {},
   "source": [
    "### cbdDistance\n",
    "For each property listing, find the distance to Perth CBD"
   ]
  },
  {
   "cell_type": "code",
   "execution_count": 62,
   "id": "35e19ea4",
   "metadata": {},
   "outputs": [],
   "source": [
    "# CBD coordinates\n",
    "perth_cbd_lat = 31.9514\n",
    "perth_cbd_lon = 115.8617  \n",
    "\n",
    "# Create a GeoDataFrame for the CBD point\n",
    "perth_cbd = gpd.GeoDataFrame(\n",
    "    geometry=[Point(perth_cbd_lon, perth_cbd_lat)],\n",
    "    crs=\"EPSG:4326\"\n",
    ").to_crs(epsg=3395)  # Reproject to EPSG:3395 (meters)"
   ]
  },
  {
   "cell_type": "code",
   "execution_count": 63,
   "id": "c765ac2d",
   "metadata": {},
   "outputs": [],
   "source": [
    "def get_cbdDistance(gdf,df):\n",
    "    # Calculate distance to Perth CBD in meters\n",
    "    gdf['cbdDistance'] = gdf.geometry.apply(\n",
    "        lambda point: perth_cbd.distance(point).min()\n",
    "    )\n",
    "\n",
    "    # Assigning a new variable to the original df\n",
    "    df['cbdDistance'] = gdf['cbdDistance']\n",
    "    # Removing helper column\n",
    "    df.drop(columns=['geometry'], inplace=True)\n",
    "    \n",
    "    return df"
   ]
  },
  {
   "cell_type": "code",
   "execution_count": 64,
   "id": "6275a855",
   "metadata": {},
   "outputs": [],
   "source": [
    "# Converting train and test sets to geodataframes\n",
    "train_gdf = convert_to_gdf(train)\n",
    "test_gdf = convert_to_gdf(test)"
   ]
  },
  {
   "cell_type": "code",
   "execution_count": 65,
   "id": "c9d1648b",
   "metadata": {},
   "outputs": [],
   "source": [
    "# Creating new cbdDistance variable\n",
    "train = get_cbdDistance(train_gdf,train)\n",
    "test = get_cbdDistance(test_gdf,test)"
   ]
  },
  {
   "cell_type": "code",
   "execution_count": 66,
   "id": "d2a5e54e",
   "metadata": {
    "scrolled": true
   },
   "outputs": [
    {
     "name": "stdout",
     "output_type": "stream",
     "text": [
      "    latitude   longitude   cbdDistance\n",
      "0 -31.957170  116.018388  1.342729e+07\n",
      "1 -32.136424  115.783409  1.342729e+07\n",
      "2 -31.930981  115.947431  1.342729e+07\n",
      "3 -31.641348  115.695776  1.342729e+07\n",
      "4 -20.734956  116.838286  1.342729e+07\n"
     ]
    }
   ],
   "source": [
    "# Check results\n",
    "print(train[['latitude', 'longitude', 'cbdDistance']].head())"
   ]
  },
  {
   "cell_type": "markdown",
   "id": "38f1be8d",
   "metadata": {},
   "source": [
    "### Spatial region clustering"
   ]
  },
  {
   "cell_type": "code",
   "execution_count": 67,
   "id": "72d02c7e",
   "metadata": {},
   "outputs": [
    {
     "data": {
      "image/png": "[encoded data removed]",
      "text/plain": [
       "<Figure size 1200x1000 with 2 Axes>"
      ]
     },
     "metadata": {},
     "output_type": "display_data"
    }
   ],
   "source": [
    "# Create geometry column with shapely Points\n",
    "train['geometry'] = train.apply(lambda row: Point(row['longitude'], row['latitude']), axis=1)\n",
    "\n",
    "# Convert to GeoDataFrame\n",
    "gdf = gpd.GeoDataFrame(train, geometry='geometry', crs=\"EPSG:4326\")  # WGS84 CRS\n",
    "\n",
    "# Extract latitude and longitude as input for clustering\n",
    "coords = train[['latitude', 'longitude']]\n",
    "# Fit K-Means\n",
    "km = KMeans(n_clusters=20)\n",
    "km.fit(coords)\n",
    "train['cluster_id'] = km.predict(coords)\n",
    "test['cluster_id'] = km.predict(test[['latitude','longitude']])\n",
    "\n",
    "# Add cluster_id to GeoDataFrame\n",
    "gdf['cluster_id'] = train['cluster_id']\n",
    "\n",
    "# Visualize clusters using GeoPandas\n",
    "# Plot clusters with a unique color for each cluster\n",
    "fig, ax = plt.subplots(figsize=(12, 10))\n",
    "gdf.plot(column='cluster_id', cmap='viridis', legend=True, ax=ax, markersize=5)\n",
    "plt.title('K-Means Clustering of Houses (Latitude and Longitude)')\n",
    "plt.xlabel('Longitude')\n",
    "plt.ylabel('Latitude')\n",
    "plt.grid(True)\n",
    "plt.show()"
   ]
  },
  {
   "cell_type": "code",
   "execution_count": 68,
   "id": "9e473745",
   "metadata": {},
   "outputs": [
    {
     "data": {
      "text/plain": [
       "cluster_id\n",
       "13    23241\n",
       "18     9862\n",
       "0      9066\n",
       "10     7248\n",
       "12     5088\n",
       "19     2513\n",
       "11     2150\n",
       "4      1677\n",
       "3      1208\n",
       "2      1121\n",
       "1       958\n",
       "15      879\n",
       "7       710\n",
       "5       689\n",
       "8       516\n",
       "14      278\n",
       "9       204\n",
       "6       101\n",
       "16       65\n",
       "17       62\n",
       "Name: count, dtype: int64"
      ]
     },
     "execution_count": 68,
     "metadata": {},
     "output_type": "execute_result"
    }
   ],
   "source": [
    "train['cluster_id'].value_counts()"
   ]
  },
  {
   "cell_type": "markdown",
   "id": "7a03c314",
   "metadata": {},
   "source": [
    "# Standardisation"
   ]
  },
  {
   "cell_type": "code",
   "execution_count": 69,
   "id": "eb248d44",
   "metadata": {
    "scrolled": false
   },
   "outputs": [
    {
     "data": {
      "text/html": [
       "<style>#sk-container-id-2 {\n",
       "  /* Definition of color scheme common for light and dark mode */\n",
       "  --sklearn-color-text: black;\n",
       "  --sklearn-color-line: gray;\n",
       "  /* Definition of color scheme for unfitted estimators */\n",
       "  --sklearn-color-unfitted-level-0: #fff5e6;\n",
       "  --sklearn-color-unfitted-level-1: #f6e4d2;\n",
       "  --sklearn-color-unfitted-level-2: #ffe0b3;\n",
       "  --sklearn-color-unfitted-level-3: chocolate;\n",
       "  /* Definition of color scheme for fitted estimators */\n",
       "  --sklearn-color-fitted-level-0: #f0f8ff;\n",
       "  --sklearn-color-fitted-level-1: #d4ebff;\n",
       "  --sklearn-color-fitted-level-2: #b3dbfd;\n",
       "  --sklearn-color-fitted-level-3: cornflowerblue;\n",
       "\n",
       "  /* Specific color for light theme */\n",
       "  --sklearn-color-text-on-default-background: var(--sg-text-color, var(--theme-code-foreground, var(--jp-content-font-color1, black)));\n",
       "  --sklearn-color-background: var(--sg-background-color, var(--theme-background, var(--jp-layout-color0, white)));\n",
       "  --sklearn-color-border-box: var(--sg-text-color, var(--theme-code-foreground, var(--jp-content-font-color1, black)));\n",
       "  --sklearn-color-icon: #696969;\n",
       "\n",
       "  @media (prefers-color-scheme: dark) {\n",
       "    /* Redefinition of color scheme for dark theme */\n",
       "    --sklearn-color-text-on-default-background: var(--sg-text-color, var(--theme-code-foreground, var(--jp-content-font-color1, white)));\n",
       "    --sklearn-color-background: var(--sg-background-color, var(--theme-background, var(--jp-layout-color0, #111)));\n",
       "    --sklearn-color-border-box: var(--sg-text-color, var(--theme-code-foreground, var(--jp-content-font-color1, white)));\n",
       "    --sklearn-color-icon: #878787;\n",
       "  }\n",
       "}\n",
       "\n",
       "#sk-container-id-2 {\n",
       "  color: var(--sklearn-color-text);\n",
       "}\n",
       "\n",
       "#sk-container-id-2 pre {\n",
       "  padding: 0;\n",
       "}\n",
       "\n",
       "#sk-container-id-2 input.sk-hidden--visually {\n",
       "  border: 0;\n",
       "  clip: rect(1px 1px 1px 1px);\n",
       "  clip: rect(1px, 1px, 1px, 1px);\n",
       "  height: 1px;\n",
       "  margin: -1px;\n",
       "  overflow: hidden;\n",
       "  padding: 0;\n",
       "  position: absolute;\n",
       "  width: 1px;\n",
       "}\n",
       "\n",
       "#sk-container-id-2 div.sk-dashed-wrapped {\n",
       "  border: 1px dashed var(--sklearn-color-line);\n",
       "  margin: 0 0.4em 0.5em 0.4em;\n",
       "  box-sizing: border-box;\n",
       "  padding-bottom: 0.4em;\n",
       "  background-color: var(--sklearn-color-background);\n",
       "}\n",
       "\n",
       "#sk-container-id-2 div.sk-container {\n",
       "  /* jupyter's `normalize.less` sets `[hidden] { display: none; }`\n",
       "     but bootstrap.min.css set `[hidden] { display: none !important; }`\n",
       "     so we also need the `!important` here to be able to override the\n",
       "     default hidden behavior on the sphinx rendered scikit-learn.org.\n",
       "     See: https://github.com/scikit-learn/scikit-learn/issues/21755 */\n",
       "  display: inline-block !important;\n",
       "  position: relative;\n",
       "}\n",
       "\n",
       "#sk-container-id-2 div.sk-text-repr-fallback {\n",
       "  display: none;\n",
       "}\n",
       "\n",
       "div.sk-parallel-item,\n",
       "div.sk-serial,\n",
       "div.sk-item {\n",
       "  /* draw centered vertical line to link estimators */\n",
       "  background-image: linear-gradient(var(--sklearn-color-text-on-default-background), var(--sklearn-color-text-on-default-background));\n",
       "  background-size: 2px 100%;\n",
       "  background-repeat: no-repeat;\n",
       "  background-position: center center;\n",
       "}\n",
       "\n",
       "/* Parallel-specific style estimator block */\n",
       "\n",
       "#sk-container-id-2 div.sk-parallel-item::after {\n",
       "  content: \"\";\n",
       "  width: 100%;\n",
       "  border-bottom: 2px solid var(--sklearn-color-text-on-default-background);\n",
       "  flex-grow: 1;\n",
       "}\n",
       "\n",
       "#sk-container-id-2 div.sk-parallel {\n",
       "  display: flex;\n",
       "  align-items: stretch;\n",
       "  justify-content: center;\n",
       "  background-color: var(--sklearn-color-background);\n",
       "  position: relative;\n",
       "}\n",
       "\n",
       "#sk-container-id-2 div.sk-parallel-item {\n",
       "  display: flex;\n",
       "  flex-direction: column;\n",
       "}\n",
       "\n",
       "#sk-container-id-2 div.sk-parallel-item:first-child::after {\n",
       "  align-self: flex-end;\n",
       "  width: 50%;\n",
       "}\n",
       "\n",
       "#sk-container-id-2 div.sk-parallel-item:last-child::after {\n",
       "  align-self: flex-start;\n",
       "  width: 50%;\n",
       "}\n",
       "\n",
       "#sk-container-id-2 div.sk-parallel-item:only-child::after {\n",
       "  width: 0;\n",
       "}\n",
       "\n",
       "/* Serial-specific style estimator block */\n",
       "\n",
       "#sk-container-id-2 div.sk-serial {\n",
       "  display: flex;\n",
       "  flex-direction: column;\n",
       "  align-items: center;\n",
       "  background-color: var(--sklearn-color-background);\n",
       "  padding-right: 1em;\n",
       "  padding-left: 1em;\n",
       "}\n",
       "\n",
       "\n",
       "/* Toggleable style: style used for estimator/Pipeline/ColumnTransformer box that is\n",
       "clickable and can be expanded/collapsed.\n",
       "- Pipeline and ColumnTransformer use this feature and define the default style\n",
       "- Estimators will overwrite some part of the style using the `sk-estimator` class\n",
       "*/\n",
       "\n",
       "/* Pipeline and ColumnTransformer style (default) */\n",
       "\n",
       "#sk-container-id-2 div.sk-toggleable {\n",
       "  /* Default theme specific background. It is overwritten whether we have a\n",
       "  specific estimator or a Pipeline/ColumnTransformer */\n",
       "  background-color: var(--sklearn-color-background);\n",
       "}\n",
       "\n",
       "/* Toggleable label */\n",
       "#sk-container-id-2 label.sk-toggleable__label {\n",
       "  cursor: pointer;\n",
       "  display: block;\n",
       "  width: 100%;\n",
       "  margin-bottom: 0;\n",
       "  padding: 0.5em;\n",
       "  box-sizing: border-box;\n",
       "  text-align: center;\n",
       "}\n",
       "\n",
       "#sk-container-id-2 label.sk-toggleable__label-arrow:before {\n",
       "  /* Arrow on the left of the label */\n",
       "  content: \"▸\";\n",
       "  float: left;\n",
       "  margin-right: 0.25em;\n",
       "  color: var(--sklearn-color-icon);\n",
       "}\n",
       "\n",
       "#sk-container-id-2 label.sk-toggleable__label-arrow:hover:before {\n",
       "  color: var(--sklearn-color-text);\n",
       "}\n",
       "\n",
       "/* Toggleable content - dropdown */\n",
       "\n",
       "#sk-container-id-2 div.sk-toggleable__content {\n",
       "  max-height: 0;\n",
       "  max-width: 0;\n",
       "  overflow: hidden;\n",
       "  text-align: left;\n",
       "  /* unfitted */\n",
       "  background-color: var(--sklearn-color-unfitted-level-0);\n",
       "}\n",
       "\n",
       "#sk-container-id-2 div.sk-toggleable__content.fitted {\n",
       "  /* fitted */\n",
       "  background-color: var(--sklearn-color-fitted-level-0);\n",
       "}\n",
       "\n",
       "#sk-container-id-2 div.sk-toggleable__content pre {\n",
       "  margin: 0.2em;\n",
       "  border-radius: 0.25em;\n",
       "  color: var(--sklearn-color-text);\n",
       "  /* unfitted */\n",
       "  background-color: var(--sklearn-color-unfitted-level-0);\n",
       "}\n",
       "\n",
       "#sk-container-id-2 div.sk-toggleable__content.fitted pre {\n",
       "  /* unfitted */\n",
       "  background-color: var(--sklearn-color-fitted-level-0);\n",
       "}\n",
       "\n",
       "#sk-container-id-2 input.sk-toggleable__control:checked~div.sk-toggleable__content {\n",
       "  /* Expand drop-down */\n",
       "  max-height: 200px;\n",
       "  max-width: 100%;\n",
       "  overflow: auto;\n",
       "}\n",
       "\n",
       "#sk-container-id-2 input.sk-toggleable__control:checked~label.sk-toggleable__label-arrow:before {\n",
       "  content: \"▾\";\n",
       "}\n",
       "\n",
       "/* Pipeline/ColumnTransformer-specific style */\n",
       "\n",
       "#sk-container-id-2 div.sk-label input.sk-toggleable__control:checked~label.sk-toggleable__label {\n",
       "  color: var(--sklearn-color-text);\n",
       "  background-color: var(--sklearn-color-unfitted-level-2);\n",
       "}\n",
       "\n",
       "#sk-container-id-2 div.sk-label.fitted input.sk-toggleable__control:checked~label.sk-toggleable__label {\n",
       "  background-color: var(--sklearn-color-fitted-level-2);\n",
       "}\n",
       "\n",
       "/* Estimator-specific style */\n",
       "\n",
       "/* Colorize estimator box */\n",
       "#sk-container-id-2 div.sk-estimator input.sk-toggleable__control:checked~label.sk-toggleable__label {\n",
       "  /* unfitted */\n",
       "  background-color: var(--sklearn-color-unfitted-level-2);\n",
       "}\n",
       "\n",
       "#sk-container-id-2 div.sk-estimator.fitted input.sk-toggleable__control:checked~label.sk-toggleable__label {\n",
       "  /* fitted */\n",
       "  background-color: var(--sklearn-color-fitted-level-2);\n",
       "}\n",
       "\n",
       "#sk-container-id-2 div.sk-label label.sk-toggleable__label,\n",
       "#sk-container-id-2 div.sk-label label {\n",
       "  /* The background is the default theme color */\n",
       "  color: var(--sklearn-color-text-on-default-background);\n",
       "}\n",
       "\n",
       "/* On hover, darken the color of the background */\n",
       "#sk-container-id-2 div.sk-label:hover label.sk-toggleable__label {\n",
       "  color: var(--sklearn-color-text);\n",
       "  background-color: var(--sklearn-color-unfitted-level-2);\n",
       "}\n",
       "\n",
       "/* Label box, darken color on hover, fitted */\n",
       "#sk-container-id-2 div.sk-label.fitted:hover label.sk-toggleable__label.fitted {\n",
       "  color: var(--sklearn-color-text);\n",
       "  background-color: var(--sklearn-color-fitted-level-2);\n",
       "}\n",
       "\n",
       "/* Estimator label */\n",
       "\n",
       "#sk-container-id-2 div.sk-label label {\n",
       "  font-family: monospace;\n",
       "  font-weight: bold;\n",
       "  display: inline-block;\n",
       "  line-height: 1.2em;\n",
       "}\n",
       "\n",
       "#sk-container-id-2 div.sk-label-container {\n",
       "  text-align: center;\n",
       "}\n",
       "\n",
       "/* Estimator-specific */\n",
       "#sk-container-id-2 div.sk-estimator {\n",
       "  font-family: monospace;\n",
       "  border: 1px dotted var(--sklearn-color-border-box);\n",
       "  border-radius: 0.25em;\n",
       "  box-sizing: border-box;\n",
       "  margin-bottom: 0.5em;\n",
       "  /* unfitted */\n",
       "  background-color: var(--sklearn-color-unfitted-level-0);\n",
       "}\n",
       "\n",
       "#sk-container-id-2 div.sk-estimator.fitted {\n",
       "  /* fitted */\n",
       "  background-color: var(--sklearn-color-fitted-level-0);\n",
       "}\n",
       "\n",
       "/* on hover */\n",
       "#sk-container-id-2 div.sk-estimator:hover {\n",
       "  /* unfitted */\n",
       "  background-color: var(--sklearn-color-unfitted-level-2);\n",
       "}\n",
       "\n",
       "#sk-container-id-2 div.sk-estimator.fitted:hover {\n",
       "  /* fitted */\n",
       "  background-color: var(--sklearn-color-fitted-level-2);\n",
       "}\n",
       "\n",
       "/* Specification for estimator info (e.g. \"i\" and \"?\") */\n",
       "\n",
       "/* Common style for \"i\" and \"?\" */\n",
       "\n",
       ".sk-estimator-doc-link,\n",
       "a:link.sk-estimator-doc-link,\n",
       "a:visited.sk-estimator-doc-link {\n",
       "  float: right;\n",
       "  font-size: smaller;\n",
       "  line-height: 1em;\n",
       "  font-family: monospace;\n",
       "  background-color: var(--sklearn-color-background);\n",
       "  border-radius: 1em;\n",
       "  height: 1em;\n",
       "  width: 1em;\n",
       "  text-decoration: none !important;\n",
       "  margin-left: 1ex;\n",
       "  /* unfitted */\n",
       "  border: var(--sklearn-color-unfitted-level-1) 1pt solid;\n",
       "  color: var(--sklearn-color-unfitted-level-1);\n",
       "}\n",
       "\n",
       ".sk-estimator-doc-link.fitted,\n",
       "a:link.sk-estimator-doc-link.fitted,\n",
       "a:visited.sk-estimator-doc-link.fitted {\n",
       "  /* fitted */\n",
       "  border: var(--sklearn-color-fitted-level-1) 1pt solid;\n",
       "  color: var(--sklearn-color-fitted-level-1);\n",
       "}\n",
       "\n",
       "/* On hover */\n",
       "div.sk-estimator:hover .sk-estimator-doc-link:hover,\n",
       ".sk-estimator-doc-link:hover,\n",
       "div.sk-label-container:hover .sk-estimator-doc-link:hover,\n",
       ".sk-estimator-doc-link:hover {\n",
       "  /* unfitted */\n",
       "  background-color: var(--sklearn-color-unfitted-level-3);\n",
       "  color: var(--sklearn-color-background);\n",
       "  text-decoration: none;\n",
       "}\n",
       "\n",
       "div.sk-estimator.fitted:hover .sk-estimator-doc-link.fitted:hover,\n",
       ".sk-estimator-doc-link.fitted:hover,\n",
       "div.sk-label-container:hover .sk-estimator-doc-link.fitted:hover,\n",
       ".sk-estimator-doc-link.fitted:hover {\n",
       "  /* fitted */\n",
       "  background-color: var(--sklearn-color-fitted-level-3);\n",
       "  color: var(--sklearn-color-background);\n",
       "  text-decoration: none;\n",
       "}\n",
       "\n",
       "/* Span, style for the box shown on hovering the info icon */\n",
       ".sk-estimator-doc-link span {\n",
       "  display: none;\n",
       "  z-index: 9999;\n",
       "  position: relative;\n",
       "  font-weight: normal;\n",
       "  right: .2ex;\n",
       "  padding: .5ex;\n",
       "  margin: .5ex;\n",
       "  width: min-content;\n",
       "  min-width: 20ex;\n",
       "  max-width: 50ex;\n",
       "  color: var(--sklearn-color-text);\n",
       "  box-shadow: 2pt 2pt 4pt #999;\n",
       "  /* unfitted */\n",
       "  background: var(--sklearn-color-unfitted-level-0);\n",
       "  border: .5pt solid var(--sklearn-color-unfitted-level-3);\n",
       "}\n",
       "\n",
       ".sk-estimator-doc-link.fitted span {\n",
       "  /* fitted */\n",
       "  background: var(--sklearn-color-fitted-level-0);\n",
       "  border: var(--sklearn-color-fitted-level-3);\n",
       "}\n",
       "\n",
       ".sk-estimator-doc-link:hover span {\n",
       "  display: block;\n",
       "}\n",
       "\n",
       "/* \"?\"-specific style due to the `<a>` HTML tag */\n",
       "\n",
       "#sk-container-id-2 a.estimator_doc_link {\n",
       "  float: right;\n",
       "  font-size: 1rem;\n",
       "  line-height: 1em;\n",
       "  font-family: monospace;\n",
       "  background-color: var(--sklearn-color-background);\n",
       "  border-radius: 1rem;\n",
       "  height: 1rem;\n",
       "  width: 1rem;\n",
       "  text-decoration: none;\n",
       "  /* unfitted */\n",
       "  color: var(--sklearn-color-unfitted-level-1);\n",
       "  border: var(--sklearn-color-unfitted-level-1) 1pt solid;\n",
       "}\n",
       "\n",
       "#sk-container-id-2 a.estimator_doc_link.fitted {\n",
       "  /* fitted */\n",
       "  border: var(--sklearn-color-fitted-level-1) 1pt solid;\n",
       "  color: var(--sklearn-color-fitted-level-1);\n",
       "}\n",
       "\n",
       "/* On hover */\n",
       "#sk-container-id-2 a.estimator_doc_link:hover {\n",
       "  /* unfitted */\n",
       "  background-color: var(--sklearn-color-unfitted-level-3);\n",
       "  color: var(--sklearn-color-background);\n",
       "  text-decoration: none;\n",
       "}\n",
       "\n",
       "#sk-container-id-2 a.estimator_doc_link.fitted:hover {\n",
       "  /* fitted */\n",
       "  background-color: var(--sklearn-color-fitted-level-3);\n",
       "}\n",
       "</style><div id=\"sk-container-id-2\" class=\"sk-top-container\"><div class=\"sk-text-repr-fallback\"><pre>StandardScaler()</pre><b>In a Jupyter environment, please rerun this cell to show the HTML representation or trust the notebook. <br />On GitHub, the HTML representation is unable to render, please try loading this page with nbviewer.org.</b></div><div class=\"sk-container\" hidden><div class=\"sk-item\"><div class=\"sk-estimator fitted sk-toggleable\"><input class=\"sk-toggleable__control sk-hidden--visually\" id=\"sk-estimator-id-4\" type=\"checkbox\" checked><label for=\"sk-estimator-id-4\" class=\"sk-toggleable__label fitted sk-toggleable__label-arrow fitted\">&nbsp;&nbsp;StandardScaler<a class=\"sk-estimator-doc-link fitted\" rel=\"noreferrer\" target=\"_blank\" href=\"https://scikit-learn.org/1.5/modules/generated/sklearn.preprocessing.StandardScaler.html\">?<span>Documentation for StandardScaler</span></a><span class=\"sk-estimator-doc-link fitted\">i<span>Fitted</span></span></label><div class=\"sk-toggleable__content fitted\"><pre>StandardScaler()</pre></div> </div></div></div></div>"
      ],
      "text/plain": [
       "StandardScaler()"
      ]
     },
     "execution_count": 69,
     "metadata": {},
     "output_type": "execute_result"
    }
   ],
   "source": [
    "std_features = ['bathrooms', 'bedrooms', 'parking', 'landArea','daysListed','photoCount', 'suburb_medianPrice',\n",
    "                'suburb_entryLevelPrice','suburb_luxuryLevelPrice','primaryDistance','secondaryDistance',\n",
    "                'coastDistance', 'cbdDistance', 'primaryICSEA','secondaryICSEA']\n",
    "scaler = StandardScaler()\n",
    "scaler.fit(train[std_features])"
   ]
  },
  {
   "cell_type": "code",
   "execution_count": 70,
   "id": "3376215e",
   "metadata": {},
   "outputs": [],
   "source": [
    "train[std_features] = scaler.transform(train[std_features])\n",
    "test[std_features] = scaler.transform(test[std_features])"
   ]
  },
  {
   "cell_type": "markdown",
   "id": "6c198e73",
   "metadata": {},
   "source": [
    "# Duplicates removal"
   ]
  },
  {
   "cell_type": "code",
   "execution_count": 71,
   "id": "796705fa",
   "metadata": {},
   "outputs": [
    {
     "name": "stdout",
     "output_type": "stream",
     "text": [
      "6\n",
      "0\n"
     ]
    }
   ],
   "source": [
    "# Number of duplicates in training set\n",
    "print(len(train) - len(train.loc[train.drop_duplicates().index]))\n",
    "train = train.drop_duplicates()\n",
    "# Number of duplicates in validation set\n",
    "print(len(test) - len(test.loc[test.drop_duplicates().index]))\n",
    "test = test.drop_duplicates()"
   ]
  },
  {
   "cell_type": "code",
   "execution_count": 72,
   "id": "20c83f39",
   "metadata": {},
   "outputs": [
    {
     "data": {
      "text/plain": [
       "(67630, 65)"
      ]
     },
     "execution_count": 72,
     "metadata": {},
     "output_type": "execute_result"
    }
   ],
   "source": [
    "train.shape"
   ]
  },
  {
   "cell_type": "code",
   "execution_count": 73,
   "id": "3db14bff",
   "metadata": {},
   "outputs": [
    {
     "data": {
      "text/plain": [
       "(17340, 64)"
      ]
     },
     "execution_count": 73,
     "metadata": {},
     "output_type": "execute_result"
    }
   ],
   "source": [
    "test.shape"
   ]
  },
  {
   "cell_type": "code",
   "execution_count": 74,
   "id": "b2f729d2",
   "metadata": {},
   "outputs": [
    {
     "data": {
      "text/plain": [
       "0.7959279745792632"
      ]
     },
     "execution_count": 74,
     "metadata": {},
     "output_type": "execute_result"
    }
   ],
   "source": [
    "len(train)/(len(train)+len(test))"
   ]
  },
  {
   "cell_type": "code",
   "execution_count": null,
   "id": "078a1f95",
   "metadata": {},
   "outputs": [],
   "source": []
  }
 ],
 "metadata": {
  "kernelspec": {
   "display_name": "Python 3 (ipykernel)",
   "language": "python",
   "name": "python3"
  },
  "language_info": {
   "codemirror_mode": {
    "name": "ipython",
    "version": 3
   },
   "file_extension": ".py",
   "mimetype": "text/x-python",
   "name": "python",
   "nbconvert_exporter": "python",
   "pygments_lexer": "ipython3",
   "version": "3.11.2"
  }
 },
 "nbformat": 4,
 "nbformat_minor": 5
}
